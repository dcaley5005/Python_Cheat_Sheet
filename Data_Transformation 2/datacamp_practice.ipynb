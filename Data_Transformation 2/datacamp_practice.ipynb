{
 "cells": [
  {
   "cell_type": "code",
   "execution_count": 1,
   "metadata": {
    "collapsed": true
   },
   "outputs": [],
   "source": [
    "import pandas as pd"
   ]
  },
  {
   "cell_type": "markdown",
   "source": [
    "The churn dataset contains customers' information and whether or not they exited the company."
   ],
   "metadata": {
    "collapsed": false
   }
  },
  {
   "cell_type": "code",
   "execution_count": 40,
   "outputs": [
    {
     "data": {
      "text/plain": "    surname geography  credit_score  age exited\n0   Andrews     Spain           497   24     No\n1  Bartlett    France           822   50     No\n2    Bearce    France           528   31     No\n3      Boni    France           699   39     No\n4      Chin    France           549   25     No",
      "text/html": "<div>\n<style scoped>\n    .dataframe tbody tr th:only-of-type {\n        vertical-align: middle;\n    }\n\n    .dataframe tbody tr th {\n        vertical-align: top;\n    }\n\n    .dataframe thead th {\n        text-align: right;\n    }\n</style>\n<table border=\"1\" class=\"dataframe\">\n  <thead>\n    <tr style=\"text-align: right;\">\n      <th></th>\n      <th>surname</th>\n      <th>geography</th>\n      <th>credit_score</th>\n      <th>age</th>\n      <th>exited</th>\n    </tr>\n  </thead>\n  <tbody>\n    <tr>\n      <th>0</th>\n      <td>Andrews</td>\n      <td>Spain</td>\n      <td>497</td>\n      <td>24</td>\n      <td>No</td>\n    </tr>\n    <tr>\n      <th>1</th>\n      <td>Bartlett</td>\n      <td>France</td>\n      <td>822</td>\n      <td>50</td>\n      <td>No</td>\n    </tr>\n    <tr>\n      <th>2</th>\n      <td>Bearce</td>\n      <td>France</td>\n      <td>528</td>\n      <td>31</td>\n      <td>No</td>\n    </tr>\n    <tr>\n      <th>3</th>\n      <td>Boni</td>\n      <td>France</td>\n      <td>699</td>\n      <td>39</td>\n      <td>No</td>\n    </tr>\n    <tr>\n      <th>4</th>\n      <td>Chin</td>\n      <td>France</td>\n      <td>549</td>\n      <td>25</td>\n      <td>No</td>\n    </tr>\n  </tbody>\n</table>\n</div>"
     },
     "execution_count": 40,
     "metadata": {},
     "output_type": "execute_result"
    }
   ],
   "source": [
    "churn_ind = pd.DataFrame(data={'surname': ['Andrews','Bartlett','Bearce','Boni','Chin'],\n",
    "                           'geography': ['Spain','France','France','France','France'],\n",
    "                           'credit_score': [497,822,528,699,549],\n",
    "                           'age': [24,50,31,39,25],\n",
    "                           'exited':['No','No','No','No','No']\n",
    "                           }\n",
    "                     )\n",
    "churn_ind"
   ],
   "metadata": {
    "collapsed": false,
    "pycharm": {
     "name": "#%%\n"
    }
   }
  },
  {
   "cell_type": "code",
   "execution_count": 41,
   "outputs": [
    {
     "data": {
      "text/plain": "                    credit_score  age exited\nsurname  geography                          \nBartlett France              822   50     No\nBearce   France              528   31     No\nBoni     France              699   39     No\nChin     France              549   25     No",
      "text/html": "<div>\n<style scoped>\n    .dataframe tbody tr th:only-of-type {\n        vertical-align: middle;\n    }\n\n    .dataframe tbody tr th {\n        vertical-align: top;\n    }\n\n    .dataframe thead th {\n        text-align: right;\n    }\n</style>\n<table border=\"1\" class=\"dataframe\">\n  <thead>\n    <tr style=\"text-align: right;\">\n      <th></th>\n      <th></th>\n      <th>credit_score</th>\n      <th>age</th>\n      <th>exited</th>\n    </tr>\n    <tr>\n      <th>surname</th>\n      <th>geography</th>\n      <th></th>\n      <th></th>\n      <th></th>\n    </tr>\n  </thead>\n  <tbody>\n    <tr>\n      <th>Bartlett</th>\n      <th>France</th>\n      <td>822</td>\n      <td>50</td>\n      <td>No</td>\n    </tr>\n    <tr>\n      <th>Bearce</th>\n      <th>France</th>\n      <td>528</td>\n      <td>31</td>\n      <td>No</td>\n    </tr>\n    <tr>\n      <th>Boni</th>\n      <th>France</th>\n      <td>699</td>\n      <td>39</td>\n      <td>No</td>\n    </tr>\n    <tr>\n      <th>Chin</th>\n      <th>France</th>\n      <td>549</td>\n      <td>25</td>\n      <td>No</td>\n    </tr>\n  </tbody>\n</table>\n</div>"
     },
     "execution_count": 41,
     "metadata": {},
     "output_type": "execute_result"
    }
   ],
   "source": [
    "churn_ind.set_index(['surname','geography']).sort_index().loc['Bartlett':'chin']"
   ],
   "metadata": {
    "collapsed": false,
    "pycharm": {
     "name": "#%%\n"
    }
   }
  },
  {
   "cell_type": "markdown",
   "source": [
    "The sales dataset contains information about daily store purchases. What is the correct way to return unique entries for each product?"
   ],
   "metadata": {
    "collapsed": false
   }
  },
  {
   "cell_type": "code",
   "execution_count": 42,
   "outputs": [
    {
     "data": {
      "text/plain": "         date            product_line     product  unit_price  quantity\n0  2018-01-15       Health and beauty     Shampoo        6.99         7\n1  2018-01-15  Electronic accessories  Headphones       25.38         5\n2  2018-01-16      Home and lifestyle        Lamp       46.33         3\n3  2018-01-16                  Sports    Yoga mat       39.99         5\n4  2018-01-17      Food and beverages        Milk        5.99         8",
      "text/html": "<div>\n<style scoped>\n    .dataframe tbody tr th:only-of-type {\n        vertical-align: middle;\n    }\n\n    .dataframe tbody tr th {\n        vertical-align: top;\n    }\n\n    .dataframe thead th {\n        text-align: right;\n    }\n</style>\n<table border=\"1\" class=\"dataframe\">\n  <thead>\n    <tr style=\"text-align: right;\">\n      <th></th>\n      <th>date</th>\n      <th>product_line</th>\n      <th>product</th>\n      <th>unit_price</th>\n      <th>quantity</th>\n    </tr>\n  </thead>\n  <tbody>\n    <tr>\n      <th>0</th>\n      <td>2018-01-15</td>\n      <td>Health and beauty</td>\n      <td>Shampoo</td>\n      <td>6.99</td>\n      <td>7</td>\n    </tr>\n    <tr>\n      <th>1</th>\n      <td>2018-01-15</td>\n      <td>Electronic accessories</td>\n      <td>Headphones</td>\n      <td>25.38</td>\n      <td>5</td>\n    </tr>\n    <tr>\n      <th>2</th>\n      <td>2018-01-16</td>\n      <td>Home and lifestyle</td>\n      <td>Lamp</td>\n      <td>46.33</td>\n      <td>3</td>\n    </tr>\n    <tr>\n      <th>3</th>\n      <td>2018-01-16</td>\n      <td>Sports</td>\n      <td>Yoga mat</td>\n      <td>39.99</td>\n      <td>5</td>\n    </tr>\n    <tr>\n      <th>4</th>\n      <td>2018-01-17</td>\n      <td>Food and beverages</td>\n      <td>Milk</td>\n      <td>5.99</td>\n      <td>8</td>\n    </tr>\n  </tbody>\n</table>\n</div>"
     },
     "execution_count": 42,
     "metadata": {},
     "output_type": "execute_result"
    }
   ],
   "source": [
    "sales = pd.DataFrame(data={'date':['2018-01-15','2018-01-15','2018-01-16','2018-01-16','2018-01-17'],\n",
    "                           'product_line':['Health and beauty', 'Electronic accessories', 'Home and lifestyle', 'Sports', 'Food and beverages'],\n",
    "                           'product': ['Shampoo', 'Headphones', 'Lamp', 'Yoga mat', 'Milk'],\n",
    "                           'unit_price': [6.99,25.38,46.33,39.99,5.99],\n",
    "                           'quantity': [7,5,3,5,8]\n",
    "                           })\n",
    "sales"
   ],
   "metadata": {
    "collapsed": false,
    "pycharm": {
     "name": "#%%\n"
    }
   }
  },
  {
   "cell_type": "code",
   "execution_count": 39,
   "outputs": [
    {
     "data": {
      "text/plain": "         date            product_line     product  unit_price  quantity\n0  2018-01-15       Health and beauty     Shampoo        6.99         7\n1  2018-01-15  Electronic accessories  Headphones       25.38         5\n2  2018-01-16      Home and lifestyle        Lamp       46.33         3\n3  2018-01-16                  Sports    Yoga mat       39.99         5\n4  2018-01-17      Food and beverages        Milk        5.99         8",
      "text/html": "<div>\n<style scoped>\n    .dataframe tbody tr th:only-of-type {\n        vertical-align: middle;\n    }\n\n    .dataframe tbody tr th {\n        vertical-align: top;\n    }\n\n    .dataframe thead th {\n        text-align: right;\n    }\n</style>\n<table border=\"1\" class=\"dataframe\">\n  <thead>\n    <tr style=\"text-align: right;\">\n      <th></th>\n      <th>date</th>\n      <th>product_line</th>\n      <th>product</th>\n      <th>unit_price</th>\n      <th>quantity</th>\n    </tr>\n  </thead>\n  <tbody>\n    <tr>\n      <th>0</th>\n      <td>2018-01-15</td>\n      <td>Health and beauty</td>\n      <td>Shampoo</td>\n      <td>6.99</td>\n      <td>7</td>\n    </tr>\n    <tr>\n      <th>1</th>\n      <td>2018-01-15</td>\n      <td>Electronic accessories</td>\n      <td>Headphones</td>\n      <td>25.38</td>\n      <td>5</td>\n    </tr>\n    <tr>\n      <th>2</th>\n      <td>2018-01-16</td>\n      <td>Home and lifestyle</td>\n      <td>Lamp</td>\n      <td>46.33</td>\n      <td>3</td>\n    </tr>\n    <tr>\n      <th>3</th>\n      <td>2018-01-16</td>\n      <td>Sports</td>\n      <td>Yoga mat</td>\n      <td>39.99</td>\n      <td>5</td>\n    </tr>\n    <tr>\n      <th>4</th>\n      <td>2018-01-17</td>\n      <td>Food and beverages</td>\n      <td>Milk</td>\n      <td>5.99</td>\n      <td>8</td>\n    </tr>\n  </tbody>\n</table>\n</div>"
     },
     "execution_count": 39,
     "metadata": {},
     "output_type": "execute_result"
    }
   ],
   "source": [
    "sales.drop_duplicates(subset = 'product')"
   ],
   "metadata": {
    "collapsed": false,
    "pycharm": {
     "name": "#%%\n"
    }
   }
  },
  {
   "cell_type": "code",
   "execution_count": 48,
   "outputs": [
    {
     "data": {
      "text/plain": "            surname  credit_score  age exited\ngeography                                    \nSpain       Andrews           497   24     No\nFrance     Bartlett           822   50     No\nFrance       Bearce           528   31     No\nFrance         Boni           699   39     No\nFrance         Chin           549   25     No",
      "text/html": "<div>\n<style scoped>\n    .dataframe tbody tr th:only-of-type {\n        vertical-align: middle;\n    }\n\n    .dataframe tbody tr th {\n        vertical-align: top;\n    }\n\n    .dataframe thead th {\n        text-align: right;\n    }\n</style>\n<table border=\"1\" class=\"dataframe\">\n  <thead>\n    <tr style=\"text-align: right;\">\n      <th></th>\n      <th>surname</th>\n      <th>credit_score</th>\n      <th>age</th>\n      <th>exited</th>\n    </tr>\n    <tr>\n      <th>geography</th>\n      <th></th>\n      <th></th>\n      <th></th>\n      <th></th>\n    </tr>\n  </thead>\n  <tbody>\n    <tr>\n      <th>Spain</th>\n      <td>Andrews</td>\n      <td>497</td>\n      <td>24</td>\n      <td>No</td>\n    </tr>\n    <tr>\n      <th>France</th>\n      <td>Bartlett</td>\n      <td>822</td>\n      <td>50</td>\n      <td>No</td>\n    </tr>\n    <tr>\n      <th>France</th>\n      <td>Bearce</td>\n      <td>528</td>\n      <td>31</td>\n      <td>No</td>\n    </tr>\n    <tr>\n      <th>France</th>\n      <td>Boni</td>\n      <td>699</td>\n      <td>39</td>\n      <td>No</td>\n    </tr>\n    <tr>\n      <th>France</th>\n      <td>Chin</td>\n      <td>549</td>\n      <td>25</td>\n      <td>No</td>\n    </tr>\n  </tbody>\n</table>\n</div>"
     },
     "execution_count": 48,
     "metadata": {},
     "output_type": "execute_result"
    }
   ],
   "source": [
    "churn_spain = churn_ind.set_index('geography')\n",
    "churn_spain"
   ],
   "metadata": {
    "collapsed": false,
    "pycharm": {
     "name": "#%%\n"
    }
   }
  },
  {
   "cell_type": "markdown",
   "source": [
    "The churn dataset contains customers' information and whether or not they exited the company."
   ],
   "metadata": {
    "collapsed": false
   }
  },
  {
   "cell_type": "code",
   "execution_count": 58,
   "outputs": [
    {
     "data": {
      "text/plain": "            surname  credit_score  age exited\ngeography                                    \nFrance     Bartlett           822   50     No\nFrance       Bearce           528   31     No\nFrance         Boni           699   39     No\nFrance         Chin           549   25     No",
      "text/html": "<div>\n<style scoped>\n    .dataframe tbody tr th:only-of-type {\n        vertical-align: middle;\n    }\n\n    .dataframe tbody tr th {\n        vertical-align: top;\n    }\n\n    .dataframe thead th {\n        text-align: right;\n    }\n</style>\n<table border=\"1\" class=\"dataframe\">\n  <thead>\n    <tr style=\"text-align: right;\">\n      <th></th>\n      <th>surname</th>\n      <th>credit_score</th>\n      <th>age</th>\n      <th>exited</th>\n    </tr>\n    <tr>\n      <th>geography</th>\n      <th></th>\n      <th></th>\n      <th></th>\n      <th></th>\n    </tr>\n  </thead>\n  <tbody>\n    <tr>\n      <th>France</th>\n      <td>Bartlett</td>\n      <td>822</td>\n      <td>50</td>\n      <td>No</td>\n    </tr>\n    <tr>\n      <th>France</th>\n      <td>Bearce</td>\n      <td>528</td>\n      <td>31</td>\n      <td>No</td>\n    </tr>\n    <tr>\n      <th>France</th>\n      <td>Boni</td>\n      <td>699</td>\n      <td>39</td>\n      <td>No</td>\n    </tr>\n    <tr>\n      <th>France</th>\n      <td>Chin</td>\n      <td>549</td>\n      <td>25</td>\n      <td>No</td>\n    </tr>\n  </tbody>\n</table>\n</div>"
     },
     "execution_count": 58,
     "metadata": {},
     "output_type": "execute_result"
    }
   ],
   "source": [
    "churn_france = churn_ind.set_index('geography')\n",
    "churn_france.loc['France']"
   ],
   "metadata": {
    "collapsed": false,
    "pycharm": {
     "name": "#%%\n"
    }
   }
  },
  {
   "cell_type": "code",
   "execution_count": 56,
   "outputs": [
    {
     "data": {
      "text/plain": "24.936"
     },
     "execution_count": 56,
     "metadata": {},
     "output_type": "execute_result"
    }
   ],
   "source": [
    "sales['unit_price'].mean()"
   ],
   "metadata": {
    "collapsed": false,
    "pycharm": {
     "name": "#%%\n"
    }
   }
  },
  {
   "cell_type": "code",
   "execution_count": 74,
   "outputs": [
    {
     "data": {
      "text/plain": "    surname geography  credit_score  age exited\n0  Hargrave    France           619   42    Yes\n1      Hill     Spain           608   41     No\n2      Onio    France           502   42    Yes\n3      Boni    France           699   39     No\n4  Mitchell     Spain           850   43     No",
      "text/html": "<div>\n<style scoped>\n    .dataframe tbody tr th:only-of-type {\n        vertical-align: middle;\n    }\n\n    .dataframe tbody tr th {\n        vertical-align: top;\n    }\n\n    .dataframe thead th {\n        text-align: right;\n    }\n</style>\n<table border=\"1\" class=\"dataframe\">\n  <thead>\n    <tr style=\"text-align: right;\">\n      <th></th>\n      <th>surname</th>\n      <th>geography</th>\n      <th>credit_score</th>\n      <th>age</th>\n      <th>exited</th>\n    </tr>\n  </thead>\n  <tbody>\n    <tr>\n      <th>0</th>\n      <td>Hargrave</td>\n      <td>France</td>\n      <td>619</td>\n      <td>42</td>\n      <td>Yes</td>\n    </tr>\n    <tr>\n      <th>1</th>\n      <td>Hill</td>\n      <td>Spain</td>\n      <td>608</td>\n      <td>41</td>\n      <td>No</td>\n    </tr>\n    <tr>\n      <th>2</th>\n      <td>Onio</td>\n      <td>France</td>\n      <td>502</td>\n      <td>42</td>\n      <td>Yes</td>\n    </tr>\n    <tr>\n      <th>3</th>\n      <td>Boni</td>\n      <td>France</td>\n      <td>699</td>\n      <td>39</td>\n      <td>No</td>\n    </tr>\n    <tr>\n      <th>4</th>\n      <td>Mitchell</td>\n      <td>Spain</td>\n      <td>850</td>\n      <td>43</td>\n      <td>No</td>\n    </tr>\n  </tbody>\n</table>\n</div>"
     },
     "execution_count": 74,
     "metadata": {},
     "output_type": "execute_result"
    }
   ],
   "source": [
    "churn_ind = pd.DataFrame(data={'surname': ['Hargrave','Hill','Onio','Boni','Mitchell'],\n",
    "                               'geography': ['France','Spain','France','France','Spain'],\n",
    "                               'credit_score': [619,608,502,699,850],\n",
    "                               'age': [42,41,42,39,43],\n",
    "                               'exited':['Yes','No','Yes','No','No']\n",
    "                               }\n",
    "                         )\n",
    "churn_ind"
   ],
   "metadata": {
    "collapsed": false,
    "pycharm": {
     "name": "#%%\n"
    }
   }
  },
  {
   "cell_type": "code",
   "execution_count": 81,
   "outputs": [
    {
     "ename": "KeyError",
     "evalue": "\"Passing list-likes to .loc or [] with any missing labels is no longer supported. The following labels were missing: MultiIndex([('Obinna', 'Germany')],\\n           names=['surname', 'geography']). See https://pandas.pydata.org/pandas-docs/stable/user_guide/indexing.html#deprecate-loc-reindex-listlike\"",
     "output_type": "error",
     "traceback": [
      "\u001B[0;31m---------------------------------------------------------------------------\u001B[0m",
      "\u001B[0;31mKeyError\u001B[0m                                  Traceback (most recent call last)",
      "\u001B[0;32m<ipython-input-81-96842a574367>\u001B[0m in \u001B[0;36m<module>\u001B[0;34m\u001B[0m\n\u001B[1;32m      1\u001B[0m \u001B[0mchurn_misc\u001B[0m \u001B[0;34m=\u001B[0m \u001B[0mchurn_ind\u001B[0m\u001B[0;34m.\u001B[0m\u001B[0mset_index\u001B[0m\u001B[0;34m(\u001B[0m\u001B[0;34m[\u001B[0m\u001B[0;34m'surname'\u001B[0m\u001B[0;34m,\u001B[0m\u001B[0;34m'geography'\u001B[0m\u001B[0;34m]\u001B[0m\u001B[0;34m)\u001B[0m\u001B[0;34m\u001B[0m\u001B[0;34m\u001B[0m\u001B[0m\n\u001B[0;32m----> 2\u001B[0;31m \u001B[0mchurn_misc\u001B[0m\u001B[0;34m.\u001B[0m\u001B[0mloc\u001B[0m\u001B[0;34m[\u001B[0m\u001B[0;34m[\u001B[0m\u001B[0;34m(\u001B[0m\u001B[0;34m'Boni'\u001B[0m\u001B[0;34m,\u001B[0m\u001B[0;34m'France'\u001B[0m\u001B[0;34m)\u001B[0m\u001B[0;34m,\u001B[0m\u001B[0;34m(\u001B[0m\u001B[0;34m'Obinna'\u001B[0m\u001B[0;34m,\u001B[0m\u001B[0;34m'Germany'\u001B[0m\u001B[0;34m)\u001B[0m\u001B[0;34m]\u001B[0m\u001B[0;34m]\u001B[0m\u001B[0;34m\u001B[0m\u001B[0;34m\u001B[0m\u001B[0m\n\u001B[0m",
      "\u001B[0;32m/Applications/anaconda3/lib/python3.8/site-packages/pandas/core/indexing.py\u001B[0m in \u001B[0;36m__getitem__\u001B[0;34m(self, key)\u001B[0m\n\u001B[1;32m    893\u001B[0m \u001B[0;34m\u001B[0m\u001B[0m\n\u001B[1;32m    894\u001B[0m             \u001B[0mmaybe_callable\u001B[0m \u001B[0;34m=\u001B[0m \u001B[0mcom\u001B[0m\u001B[0;34m.\u001B[0m\u001B[0mapply_if_callable\u001B[0m\u001B[0;34m(\u001B[0m\u001B[0mkey\u001B[0m\u001B[0;34m,\u001B[0m \u001B[0mself\u001B[0m\u001B[0;34m.\u001B[0m\u001B[0mobj\u001B[0m\u001B[0;34m)\u001B[0m\u001B[0;34m\u001B[0m\u001B[0;34m\u001B[0m\u001B[0m\n\u001B[0;32m--> 895\u001B[0;31m             \u001B[0;32mreturn\u001B[0m \u001B[0mself\u001B[0m\u001B[0;34m.\u001B[0m\u001B[0m_getitem_axis\u001B[0m\u001B[0;34m(\u001B[0m\u001B[0mmaybe_callable\u001B[0m\u001B[0;34m,\u001B[0m \u001B[0maxis\u001B[0m\u001B[0;34m=\u001B[0m\u001B[0maxis\u001B[0m\u001B[0;34m)\u001B[0m\u001B[0;34m\u001B[0m\u001B[0;34m\u001B[0m\u001B[0m\n\u001B[0m\u001B[1;32m    896\u001B[0m \u001B[0;34m\u001B[0m\u001B[0m\n\u001B[1;32m    897\u001B[0m     \u001B[0;32mdef\u001B[0m \u001B[0m_is_scalar_access\u001B[0m\u001B[0;34m(\u001B[0m\u001B[0mself\u001B[0m\u001B[0;34m,\u001B[0m \u001B[0mkey\u001B[0m\u001B[0;34m:\u001B[0m \u001B[0mTuple\u001B[0m\u001B[0;34m)\u001B[0m\u001B[0;34m:\u001B[0m\u001B[0;34m\u001B[0m\u001B[0;34m\u001B[0m\u001B[0m\n",
      "\u001B[0;32m/Applications/anaconda3/lib/python3.8/site-packages/pandas/core/indexing.py\u001B[0m in \u001B[0;36m_getitem_axis\u001B[0;34m(self, key, axis)\u001B[0m\n\u001B[1;32m   1111\u001B[0m                     \u001B[0;32mraise\u001B[0m \u001B[0mValueError\u001B[0m\u001B[0;34m(\u001B[0m\u001B[0;34m\"Cannot index with multidimensional key\"\u001B[0m\u001B[0;34m)\u001B[0m\u001B[0;34m\u001B[0m\u001B[0;34m\u001B[0m\u001B[0m\n\u001B[1;32m   1112\u001B[0m \u001B[0;34m\u001B[0m\u001B[0m\n\u001B[0;32m-> 1113\u001B[0;31m                 \u001B[0;32mreturn\u001B[0m \u001B[0mself\u001B[0m\u001B[0;34m.\u001B[0m\u001B[0m_getitem_iterable\u001B[0m\u001B[0;34m(\u001B[0m\u001B[0mkey\u001B[0m\u001B[0;34m,\u001B[0m \u001B[0maxis\u001B[0m\u001B[0;34m=\u001B[0m\u001B[0maxis\u001B[0m\u001B[0;34m)\u001B[0m\u001B[0;34m\u001B[0m\u001B[0;34m\u001B[0m\u001B[0m\n\u001B[0m\u001B[1;32m   1114\u001B[0m \u001B[0;34m\u001B[0m\u001B[0m\n\u001B[1;32m   1115\u001B[0m             \u001B[0;31m# nested tuple slicing\u001B[0m\u001B[0;34m\u001B[0m\u001B[0;34m\u001B[0m\u001B[0;34m\u001B[0m\u001B[0m\n",
      "\u001B[0;32m/Applications/anaconda3/lib/python3.8/site-packages/pandas/core/indexing.py\u001B[0m in \u001B[0;36m_getitem_iterable\u001B[0;34m(self, key, axis)\u001B[0m\n\u001B[1;32m   1051\u001B[0m \u001B[0;34m\u001B[0m\u001B[0m\n\u001B[1;32m   1052\u001B[0m         \u001B[0;31m# A collection of keys\u001B[0m\u001B[0;34m\u001B[0m\u001B[0;34m\u001B[0m\u001B[0;34m\u001B[0m\u001B[0m\n\u001B[0;32m-> 1053\u001B[0;31m         \u001B[0mkeyarr\u001B[0m\u001B[0;34m,\u001B[0m \u001B[0mindexer\u001B[0m \u001B[0;34m=\u001B[0m \u001B[0mself\u001B[0m\u001B[0;34m.\u001B[0m\u001B[0m_get_listlike_indexer\u001B[0m\u001B[0;34m(\u001B[0m\u001B[0mkey\u001B[0m\u001B[0;34m,\u001B[0m \u001B[0maxis\u001B[0m\u001B[0;34m,\u001B[0m \u001B[0mraise_missing\u001B[0m\u001B[0;34m=\u001B[0m\u001B[0;32mFalse\u001B[0m\u001B[0;34m)\u001B[0m\u001B[0;34m\u001B[0m\u001B[0;34m\u001B[0m\u001B[0m\n\u001B[0m\u001B[1;32m   1054\u001B[0m         return self.obj._reindex_with_indexers(\n\u001B[1;32m   1055\u001B[0m             \u001B[0;34m{\u001B[0m\u001B[0maxis\u001B[0m\u001B[0;34m:\u001B[0m \u001B[0;34m[\u001B[0m\u001B[0mkeyarr\u001B[0m\u001B[0;34m,\u001B[0m \u001B[0mindexer\u001B[0m\u001B[0;34m]\u001B[0m\u001B[0;34m}\u001B[0m\u001B[0;34m,\u001B[0m \u001B[0mcopy\u001B[0m\u001B[0;34m=\u001B[0m\u001B[0;32mTrue\u001B[0m\u001B[0;34m,\u001B[0m \u001B[0mallow_dups\u001B[0m\u001B[0;34m=\u001B[0m\u001B[0;32mTrue\u001B[0m\u001B[0;34m\u001B[0m\u001B[0;34m\u001B[0m\u001B[0m\n",
      "\u001B[0;32m/Applications/anaconda3/lib/python3.8/site-packages/pandas/core/indexing.py\u001B[0m in \u001B[0;36m_get_listlike_indexer\u001B[0;34m(self, key, axis, raise_missing)\u001B[0m\n\u001B[1;32m   1264\u001B[0m             \u001B[0mkeyarr\u001B[0m\u001B[0;34m,\u001B[0m \u001B[0mindexer\u001B[0m\u001B[0;34m,\u001B[0m \u001B[0mnew_indexer\u001B[0m \u001B[0;34m=\u001B[0m \u001B[0max\u001B[0m\u001B[0;34m.\u001B[0m\u001B[0m_reindex_non_unique\u001B[0m\u001B[0;34m(\u001B[0m\u001B[0mkeyarr\u001B[0m\u001B[0;34m)\u001B[0m\u001B[0;34m\u001B[0m\u001B[0;34m\u001B[0m\u001B[0m\n\u001B[1;32m   1265\u001B[0m \u001B[0;34m\u001B[0m\u001B[0m\n\u001B[0;32m-> 1266\u001B[0;31m         \u001B[0mself\u001B[0m\u001B[0;34m.\u001B[0m\u001B[0m_validate_read_indexer\u001B[0m\u001B[0;34m(\u001B[0m\u001B[0mkeyarr\u001B[0m\u001B[0;34m,\u001B[0m \u001B[0mindexer\u001B[0m\u001B[0;34m,\u001B[0m \u001B[0maxis\u001B[0m\u001B[0;34m,\u001B[0m \u001B[0mraise_missing\u001B[0m\u001B[0;34m=\u001B[0m\u001B[0mraise_missing\u001B[0m\u001B[0;34m)\u001B[0m\u001B[0;34m\u001B[0m\u001B[0;34m\u001B[0m\u001B[0m\n\u001B[0m\u001B[1;32m   1267\u001B[0m         \u001B[0;32mreturn\u001B[0m \u001B[0mkeyarr\u001B[0m\u001B[0;34m,\u001B[0m \u001B[0mindexer\u001B[0m\u001B[0;34m\u001B[0m\u001B[0;34m\u001B[0m\u001B[0m\n\u001B[1;32m   1268\u001B[0m \u001B[0;34m\u001B[0m\u001B[0m\n",
      "\u001B[0;32m/Applications/anaconda3/lib/python3.8/site-packages/pandas/core/indexing.py\u001B[0m in \u001B[0;36m_validate_read_indexer\u001B[0;34m(self, key, indexer, axis, raise_missing)\u001B[0m\n\u001B[1;32m   1319\u001B[0m \u001B[0;34m\u001B[0m\u001B[0m\n\u001B[1;32m   1320\u001B[0m             \u001B[0;32mwith\u001B[0m \u001B[0moption_context\u001B[0m\u001B[0;34m(\u001B[0m\u001B[0;34m\"display.max_seq_items\"\u001B[0m\u001B[0;34m,\u001B[0m \u001B[0;36m10\u001B[0m\u001B[0;34m,\u001B[0m \u001B[0;34m\"display.width\"\u001B[0m\u001B[0;34m,\u001B[0m \u001B[0;36m80\u001B[0m\u001B[0;34m)\u001B[0m\u001B[0;34m:\u001B[0m\u001B[0;34m\u001B[0m\u001B[0;34m\u001B[0m\u001B[0m\n\u001B[0;32m-> 1321\u001B[0;31m                 raise KeyError(\n\u001B[0m\u001B[1;32m   1322\u001B[0m                     \u001B[0;34m\"Passing list-likes to .loc or [] with any missing labels \"\u001B[0m\u001B[0;34m\u001B[0m\u001B[0;34m\u001B[0m\u001B[0m\n\u001B[1;32m   1323\u001B[0m                     \u001B[0;34m\"is no longer supported. \"\u001B[0m\u001B[0;34m\u001B[0m\u001B[0;34m\u001B[0m\u001B[0m\n",
      "\u001B[0;31mKeyError\u001B[0m: \"Passing list-likes to .loc or [] with any missing labels is no longer supported. The following labels were missing: MultiIndex([('Obinna', 'Germany')],\\n           names=['surname', 'geography']). See https://pandas.pydata.org/pandas-docs/stable/user_guide/indexing.html#deprecate-loc-reindex-listlike\""
     ]
    }
   ],
   "source": [
    "churn_misc = churn_ind.set_index(['surname','geography'])\n",
    "churn_misc.loc[[('Boni','France'),('Obinna','Germany')]]"
   ],
   "metadata": {
    "collapsed": false,
    "pycharm": {
     "name": "#%%\n"
    }
   }
  },
  {
   "cell_type": "code",
   "execution_count": 86,
   "outputs": [],
   "source": [
    "import numpy as np\n"
   ],
   "metadata": {
    "collapsed": false,
    "pycharm": {
     "name": "#%%\n"
    }
   }
  },
  {
   "cell_type": "code",
   "execution_count": 90,
   "outputs": [
    {
     "data": {
      "text/plain": "RangeIndex(start=0, stop=5, step=1)"
     },
     "execution_count": 90,
     "metadata": {},
     "output_type": "execute_result"
    }
   ],
   "source": [
    "churn_ind.index"
   ],
   "metadata": {
    "collapsed": false,
    "pycharm": {
     "name": "#%%\n"
    }
   }
  },
  {
   "cell_type": "markdown",
   "source": [
    "## The sales dataset contains information about daily store purchases. The `filtered_sales` dataset contains products that belong to `Health and beauty` and `Sports`."
   ],
   "metadata": {
    "collapsed": false
   }
  },
  {
   "cell_type": "code",
   "execution_count": 92,
   "outputs": [
    {
     "data": {
      "text/plain": "         date       product_line   product  unit_price  quantity\n0  2018-01-15  Health and beauty   Shampoo        6.99         7\n3  2018-01-16             Sports  Yoga mat       39.99         5",
      "text/html": "<div>\n<style scoped>\n    .dataframe tbody tr th:only-of-type {\n        vertical-align: middle;\n    }\n\n    .dataframe tbody tr th {\n        vertical-align: top;\n    }\n\n    .dataframe thead th {\n        text-align: right;\n    }\n</style>\n<table border=\"1\" class=\"dataframe\">\n  <thead>\n    <tr style=\"text-align: right;\">\n      <th></th>\n      <th>date</th>\n      <th>product_line</th>\n      <th>product</th>\n      <th>unit_price</th>\n      <th>quantity</th>\n    </tr>\n  </thead>\n  <tbody>\n    <tr>\n      <th>0</th>\n      <td>2018-01-15</td>\n      <td>Health and beauty</td>\n      <td>Shampoo</td>\n      <td>6.99</td>\n      <td>7</td>\n    </tr>\n    <tr>\n      <th>3</th>\n      <td>2018-01-16</td>\n      <td>Sports</td>\n      <td>Yoga mat</td>\n      <td>39.99</td>\n      <td>5</td>\n    </tr>\n  </tbody>\n</table>\n</div>"
     },
     "execution_count": 92,
     "metadata": {},
     "output_type": "execute_result"
    }
   ],
   "source": [
    "filtered_sales = sales[sales['product_line'].isin(['Health and beauty','Sports'])]\n",
    "filtered_sales"
   ],
   "metadata": {
    "collapsed": false,
    "pycharm": {
     "name": "#%%\n"
    }
   }
  },
  {
   "cell_type": "code",
   "execution_count": 93,
   "outputs": [
    {
     "data": {
      "text/plain": "                            unit_price  quantity\nproduct_line      product                       \nHealth and beauty Shampoo         6.99         7\nSports            Yoga mat       39.99         5",
      "text/html": "<div>\n<style scoped>\n    .dataframe tbody tr th:only-of-type {\n        vertical-align: middle;\n    }\n\n    .dataframe tbody tr th {\n        vertical-align: top;\n    }\n\n    .dataframe thead th {\n        text-align: right;\n    }\n</style>\n<table border=\"1\" class=\"dataframe\">\n  <thead>\n    <tr style=\"text-align: right;\">\n      <th></th>\n      <th></th>\n      <th>unit_price</th>\n      <th>quantity</th>\n    </tr>\n    <tr>\n      <th>product_line</th>\n      <th>product</th>\n      <th></th>\n      <th></th>\n    </tr>\n  </thead>\n  <tbody>\n    <tr>\n      <th>Health and beauty</th>\n      <th>Shampoo</th>\n      <td>6.99</td>\n      <td>7</td>\n    </tr>\n    <tr>\n      <th>Sports</th>\n      <th>Yoga mat</th>\n      <td>39.99</td>\n      <td>5</td>\n    </tr>\n  </tbody>\n</table>\n</div>"
     },
     "execution_count": 93,
     "metadata": {},
     "output_type": "execute_result"
    }
   ],
   "source": [
    "filtered_sales.groupby(['product_line','product'])[['unit_price','quantity']].min()"
   ],
   "metadata": {
    "collapsed": false,
    "pycharm": {
     "name": "#%%\n"
    }
   }
  },
  {
   "cell_type": "markdown",
   "source": [
    "### The `churn` dataset contains customers' information and whether or not they exited the company."
   ],
   "metadata": {
    "collapsed": false
   }
  },
  {
   "cell_type": "code",
   "execution_count": 104,
   "outputs": [
    {
     "data": {
      "text/plain": "    surname geography  credit_score  age exited\n0  Hargrave    France           619   42    Yes\n1      Hill     Spain           608   41     No\n2      Onio    France           502   42    Yes\n3      Boni    France           699   39     No\n4  Mitchell     Spain           850   43     No",
      "text/html": "<div>\n<style scoped>\n    .dataframe tbody tr th:only-of-type {\n        vertical-align: middle;\n    }\n\n    .dataframe tbody tr th {\n        vertical-align: top;\n    }\n\n    .dataframe thead th {\n        text-align: right;\n    }\n</style>\n<table border=\"1\" class=\"dataframe\">\n  <thead>\n    <tr style=\"text-align: right;\">\n      <th></th>\n      <th>surname</th>\n      <th>geography</th>\n      <th>credit_score</th>\n      <th>age</th>\n      <th>exited</th>\n    </tr>\n  </thead>\n  <tbody>\n    <tr>\n      <th>0</th>\n      <td>Hargrave</td>\n      <td>France</td>\n      <td>619</td>\n      <td>42</td>\n      <td>Yes</td>\n    </tr>\n    <tr>\n      <th>1</th>\n      <td>Hill</td>\n      <td>Spain</td>\n      <td>608</td>\n      <td>41</td>\n      <td>No</td>\n    </tr>\n    <tr>\n      <th>2</th>\n      <td>Onio</td>\n      <td>France</td>\n      <td>502</td>\n      <td>42</td>\n      <td>Yes</td>\n    </tr>\n    <tr>\n      <th>3</th>\n      <td>Boni</td>\n      <td>France</td>\n      <td>699</td>\n      <td>39</td>\n      <td>No</td>\n    </tr>\n    <tr>\n      <th>4</th>\n      <td>Mitchell</td>\n      <td>Spain</td>\n      <td>850</td>\n      <td>43</td>\n      <td>No</td>\n    </tr>\n  </tbody>\n</table>\n</div>"
     },
     "execution_count": 104,
     "metadata": {},
     "output_type": "execute_result"
    }
   ],
   "source": [
    "churn_ind[churn_ind['geography'].isin(['France','Spain'])]"
   ],
   "metadata": {
    "collapsed": false,
    "pycharm": {
     "name": "#%%\n"
    }
   }
  },
  {
   "cell_type": "markdown",
   "source": [
    "### Rewrite the following code as a lambda function:"
   ],
   "metadata": {
    "collapsed": false
   }
  },
  {
   "cell_type": "code",
   "execution_count": 106,
   "outputs": [
    {
     "data": {
      "text/plain": "15"
     },
     "execution_count": 106,
     "metadata": {},
     "output_type": "execute_result"
    }
   ],
   "source": [
    "def plus_5(number):\n",
    "    \"\"\"Adds 5 to a given number and returns the result.\"\"\"\n",
    "    new_number = number + 5\n",
    "    return new_number\n",
    "\n",
    "plus_5(10)"
   ],
   "metadata": {
    "collapsed": false,
    "pycharm": {
     "name": "#%%\n"
    }
   }
  },
  {
   "cell_type": "code",
   "execution_count": 111,
   "outputs": [
    {
     "data": {
      "text/plain": "15"
     },
     "execution_count": 111,
     "metadata": {},
     "output_type": "execute_result"
    }
   ],
   "source": [
    "plus_5_new = lambda number: number + 5\n",
    "plus_5_new(10)"
   ],
   "metadata": {
    "collapsed": false,
    "pycharm": {
     "name": "#%%\n"
    }
   }
  },
  {
   "cell_type": "markdown",
   "source": [
    "### Complete the code to return the output"
   ],
   "metadata": {
    "collapsed": false
   }
  },
  {
   "cell_type": "code",
   "execution_count": 112,
   "outputs": [
    {
     "data": {
      "text/plain": "[3, 2, 7]"
     },
     "execution_count": 112,
     "metadata": {},
     "output_type": "execute_result"
    }
   ],
   "source": [
    "x = [3, -1, -10, 2, 7]\n",
    "filter_positive = filter(lambda n: n > 0, x)\n",
    "list(filter_positive)"
   ],
   "metadata": {
    "collapsed": false,
    "pycharm": {
     "name": "#%%\n"
    }
   }
  },
  {
   "cell_type": "code",
   "execution_count": 128,
   "outputs": [
    {
     "data": {
      "text/plain": "object     3\nint64      1\nfloat64    1\ndtype: int64"
     },
     "execution_count": 128,
     "metadata": {},
     "output_type": "execute_result"
    }
   ],
   "source": [
    "sales.dtypes.value_counts()"
   ],
   "metadata": {
    "collapsed": false,
    "pycharm": {
     "name": "#%%\n"
    }
   }
  }
 ],
 "metadata": {
  "kernelspec": {
   "display_name": "Python 3",
   "language": "python",
   "name": "python3"
  },
  "language_info": {
   "codemirror_mode": {
    "name": "ipython",
    "version": 2
   },
   "file_extension": ".py",
   "mimetype": "text/x-python",
   "name": "python",
   "nbconvert_exporter": "python",
   "pygments_lexer": "ipython2",
   "version": "2.7.6"
  }
 },
 "nbformat": 4,
 "nbformat_minor": 0
}
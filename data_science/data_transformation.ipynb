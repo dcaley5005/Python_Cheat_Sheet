{
  "cells": [
    {
      "cell_type": "raw",
      "metadata": {},
      "source": [
        "---\n",
        "title: \"Data Transformation\"\n",
        "\n",
        "---"
      ],
      "id": "80fbda4f"
    },
    {
      "cell_type": "markdown",
      "metadata": {},
      "source": [
        "# About\n",
        "This is a Data Transformation cheat sheet meant to be a second brain\n",
        "when performing data science functions.\n",
        "\n",
        "\n",
        "# Ingesting Data\n",
        "\n",
        "Please see the Data Ingestion Cheat sheet to learn how to load data\n"
      ],
      "id": "cd553ace"
    },
    {
      "cell_type": "code",
      "metadata": {},
      "source": [
        "import pandas as pd\n",
        "import numpy as np\n",
        "import plotly.express as px"
      ],
      "id": "d5bd2c1f",
      "execution_count": null,
      "outputs": []
    },
    {
      "cell_type": "code",
      "metadata": {},
      "source": [
        "pd.read_csv?"
      ],
      "id": "11bf825e",
      "execution_count": null,
      "outputs": []
    },
    {
      "cell_type": "markdown",
      "metadata": {},
      "source": [
        "## Reading CSV"
      ],
      "id": "164d8c1f"
    },
    {
      "cell_type": "code",
      "metadata": {},
      "source": [
        "sales = pd.read_csv(\n",
        "    'data/sales_data.csv',\n",
        "    parse_dates=['Date']\n",
        ")\n",
        "\n",
        "sales = sales.sort_values(by=['Date'], ascending = True)\n"
      ],
      "id": "6ca76d63",
      "execution_count": null,
      "outputs": []
    },
    {
      "cell_type": "markdown",
      "metadata": {},
      "source": [
        "## Adding Column Names\n"
      ],
      "id": "bdcf9a3a"
    },
    {
      "cell_type": "code",
      "metadata": {},
      "source": [
        "marvel_data = [\n",
        "    ['Spider-Man', 'male', 1962],\n",
        "    ['Captain America', 'male', 1941],\n",
        "    ['Wolverine', 'male', 1974],\n",
        "    ['Iron Man', 'male', 1963],\n",
        "    ['Thor', 'male', 1963],\n",
        "    ['Thing', 'male', 1961],\n",
        "    ['Mister Fantastic', 'male', 1961],\n",
        "    ['Hulk', 'male', 1962],\n",
        "    ['Beast', 'male', 1963],\n",
        "    ['Invisible Woman', 'female', 1961],\n",
        "    ['Storm', 'female', 1975],\n",
        "    ['Namor', 'male', 1939],\n",
        "    ['Hawkeye', 'male', 1964],\n",
        "    ['Daredevil', 'male', 1964],\n",
        "    ['Doctor Strange', 'male', 1963],\n",
        "    ['Hank Pym', 'male', 1962],\n",
        "    ['Scarlet Witch', 'female', 1964],\n",
        "    ['Wasp', 'female', 1963],\n",
        "    ['Black Widow', 'female', 1964],\n",
        "    ['Vision', 'male', 1968]\n",
        "]\n",
        "\n",
        "marvel_df = pd.DataFrame(data=marvel_data,\n",
        "                         columns=['name', 'sex', 'first_appearance'])\n",
        "marvel_df"
      ],
      "id": "bf300da9",
      "execution_count": null,
      "outputs": []
    },
    {
      "cell_type": "markdown",
      "metadata": {},
      "source": [
        "## Adding Column Names When Reading CSV\n"
      ],
      "id": "ec785106"
    },
    {
      "cell_type": "code",
      "metadata": {},
      "source": [
        "btc_price = pd.read_csv(\n",
        "    'data/btc-market-price.csv',\n",
        "    header=None,\n",
        "    names=['Timestamp', 'Price'],\n",
        "    index_col=0, # this sets the column in this instance its the first column 1\n",
        "    # index_col='Timestamp',  # You can also add the column name\n",
        "    parse_dates=True\n",
        ")\n",
        "\n",
        "btc_price.head()"
      ],
      "id": "52f84617",
      "execution_count": null,
      "outputs": []
    },
    {
      "cell_type": "markdown",
      "metadata": {},
      "source": [
        "# Creating a Pandas Dataframe\n"
      ],
      "id": "2c837d2e"
    },
    {
      "cell_type": "code",
      "metadata": {},
      "source": [
        "country_stat = pd.DataFrame({\n",
        "    'Population': [35.467, 63.951, 80.94 , 60.665, 127.061, 64.511, 318.523],\n",
        "    'GDP': [\n",
        "        1785387,\n",
        "        2833687,\n",
        "        3874437,\n",
        "        2167744,\n",
        "        4602367,\n",
        "        2950039,\n",
        "        17348075\n",
        "    ],\n",
        "    'Surface Area': [\n",
        "        9984670,\n",
        "        640679,\n",
        "        357114,\n",
        "        301336,\n",
        "        377930,\n",
        "        242495,\n",
        "        9525067\n",
        "    ],\n",
        "    'HDI': [\n",
        "        0.913,\n",
        "        0.888,\n",
        "        0.916,\n",
        "        0.873,\n",
        "        0.891,\n",
        "        0.907,\n",
        "        0.915\n",
        "    ],\n",
        "    'Continent': [\n",
        "        'America',\n",
        "        'Europe',\n",
        "        'Europe',\n",
        "        'Europe',\n",
        "        'Asia',\n",
        "        'Europe',\n",
        "        'America'\n",
        "    ]\n",
        "}, columns=['Population', 'GDP', 'Surface Area', 'HDI', 'Continent'])\n",
        "\n",
        "country_stat"
      ],
      "id": "57d8d668",
      "execution_count": null,
      "outputs": []
    },
    {
      "cell_type": "markdown",
      "metadata": {},
      "source": [
        "## Setting the Index\n"
      ],
      "id": "2778a9e6"
    },
    {
      "cell_type": "code",
      "metadata": {},
      "source": [
        "country_stat.index = [\n",
        "    'Canada',\n",
        "    'France',\n",
        "    'Germany',\n",
        "    'Italy',\n",
        "    'Japan',\n",
        "    'United Kingdom',\n",
        "    'United States',\n",
        "]\n",
        "\n",
        "country_stat.sort_values(by=['Continent','Population','HDI'], ascending=False)\n"
      ],
      "id": "20ef210b",
      "execution_count": null,
      "outputs": []
    },
    {
      "cell_type": "markdown",
      "metadata": {},
      "source": [
        "## Splitting String into Two Columns\n",
        "\n",
        "In this example we split the county and state from each other\n"
      ],
      "id": "a56ff615"
    },
    {
      "cell_type": "code",
      "metadata": {},
      "source": [
        "census_county = pd.read_csv(\"data/census_county.csv\")\n",
        "\n",
        "census_county[[\"state\",\"county\",\"NAME\"]].head()\n",
        "\n",
        "\n",
        "new = census_county[\"NAME\"].str.split(\", \", expand = True)\n",
        "census_county[\"county_name\"] = new[0]\n",
        "census_county[\"state_name\"] = new[1]\n",
        "\n",
        "census_county.drop(columns=['NAME'], inplace=True)\n",
        "census_county.head()"
      ],
      "id": "15434483",
      "execution_count": null,
      "outputs": []
    },
    {
      "cell_type": "markdown",
      "metadata": {},
      "source": [
        "# Modifying Data Time\n",
        "\n",
        "## Inspecting DataTypes\n"
      ],
      "id": "94076374"
    },
    {
      "cell_type": "code",
      "metadata": {},
      "source": [
        "btc_price.dtypes\n"
      ],
      "id": "a9b611cf",
      "execution_count": null,
      "outputs": []
    },
    {
      "cell_type": "markdown",
      "metadata": {},
      "source": [
        "## Updating String Using to Date Time\n"
      ],
      "id": "3ebcfb3e"
    },
    {
      "cell_type": "code",
      "metadata": {},
      "source": [
        "btc_price = btc_price.reset_index()\n",
        "btc_price['Timestamp'] = pd.to_datetime(btc_price['Timestamp'])\n",
        "btc_price.dtypes"
      ],
      "id": "bd89b659",
      "execution_count": null,
      "outputs": []
    },
    {
      "cell_type": "markdown",
      "metadata": {},
      "source": [
        "## Filtering Data Time\n"
      ],
      "id": "3aab88bf"
    },
    {
      "cell_type": "code",
      "metadata": {},
      "source": [
        "btc_price.set_index('Timestamp', inplace=True)\n",
        "btc_price.loc['2017-09-29':'2017-10-05']"
      ],
      "id": "4d110875",
      "execution_count": null,
      "outputs": []
    },
    {
      "cell_type": "markdown",
      "metadata": {},
      "source": [
        "## Date Diff Calc\n"
      ],
      "id": "97dd1740"
    },
    {
      "cell_type": "code",
      "metadata": {},
      "source": [
        "import datetime\n",
        "\n",
        "year = datetime.date.today().year\n",
        "\n",
        "marvel_df['years_since'] = year - marvel_df['first_appearance']\n",
        "marvel_df"
      ],
      "id": "c951d2a1",
      "execution_count": null,
      "outputs": []
    },
    {
      "cell_type": "markdown",
      "metadata": {},
      "source": [
        "## Convert Date Time To Year or Month\n"
      ],
      "id": "8eaf12f9"
    },
    {
      "cell_type": "code",
      "metadata": {},
      "source": [
        "sales['Year'] = sales['Date'].dt.year\n",
        "sales['Month'] = sales['Date'].dt.month\n",
        "sales"
      ],
      "id": "152c0108",
      "execution_count": null,
      "outputs": []
    },
    {
      "cell_type": "markdown",
      "metadata": {},
      "source": [
        "# Summarizing Data"
      ],
      "id": "f35e1b01"
    },
    {
      "cell_type": "code",
      "metadata": {},
      "source": [
        "sales.head()"
      ],
      "id": "131cc483",
      "execution_count": null,
      "outputs": []
    },
    {
      "cell_type": "markdown",
      "metadata": {},
      "source": [
        "## Understanding the Data"
      ],
      "id": "e2f7d964"
    },
    {
      "cell_type": "code",
      "metadata": {},
      "source": [
        "sales.shape"
      ],
      "id": "9a5c0839",
      "execution_count": null,
      "outputs": []
    },
    {
      "cell_type": "code",
      "metadata": {},
      "source": [
        "sales.info()"
      ],
      "id": "2fcd0f6c",
      "execution_count": null,
      "outputs": []
    },
    {
      "cell_type": "code",
      "metadata": {},
      "source": [
        "sales.columns"
      ],
      "id": "37abd51c",
      "execution_count": null,
      "outputs": []
    },
    {
      "cell_type": "markdown",
      "metadata": {},
      "source": [
        "## Summary Statistics"
      ],
      "id": "d913312d"
    },
    {
      "cell_type": "code",
      "metadata": {},
      "source": [
        "sales.describe()"
      ],
      "id": "8f8b6b43",
      "execution_count": null,
      "outputs": []
    },
    {
      "cell_type": "code",
      "metadata": {},
      "source": [
        "sales[['Age_Group','Unit_Price']].groupby('Age_Group').describe()"
      ],
      "id": "2bfd49d5",
      "execution_count": null,
      "outputs": []
    },
    {
      "cell_type": "code",
      "metadata": {},
      "source": [
        "# Number of elements in the data\n",
        "sales.size"
      ],
      "id": "c85a6e72",
      "execution_count": null,
      "outputs": []
    },
    {
      "cell_type": "markdown",
      "metadata": {},
      "source": [
        "## Data Types"
      ],
      "id": "9536802e"
    },
    {
      "cell_type": "code",
      "metadata": {},
      "source": [
        "sales.dtypes"
      ],
      "id": "f24fca30",
      "execution_count": null,
      "outputs": []
    },
    {
      "cell_type": "code",
      "metadata": {},
      "source": [
        "sales['Unit_Cost'].describe()\n"
      ],
      "id": "7fc03610",
      "execution_count": null,
      "outputs": []
    },
    {
      "cell_type": "markdown",
      "metadata": {},
      "source": [
        "## Individual Statistics"
      ],
      "id": "e85cd185"
    },
    {
      "cell_type": "code",
      "metadata": {},
      "source": [
        "sales['Unit_Cost'].mean()"
      ],
      "id": "d3c24a8e",
      "execution_count": null,
      "outputs": []
    },
    {
      "cell_type": "code",
      "metadata": {},
      "source": [
        "sales['Unit_Cost'].median()"
      ],
      "id": "92dd4b03",
      "execution_count": null,
      "outputs": []
    },
    {
      "cell_type": "code",
      "metadata": {},
      "source": [
        "sales['Unit_Cost'].min(), sales['Unit_Cost'].max()"
      ],
      "id": "2fdb8542",
      "execution_count": null,
      "outputs": []
    },
    {
      "cell_type": "code",
      "metadata": {},
      "source": [
        "sales['Unit_Cost'].std()"
      ],
      "id": "6de4f09f",
      "execution_count": null,
      "outputs": []
    },
    {
      "cell_type": "markdown",
      "metadata": {},
      "source": [
        "## Quantiles"
      ],
      "id": "34e98829"
    },
    {
      "cell_type": "code",
      "metadata": {},
      "source": [
        "sales['Unit_Cost'].quantile(0.25)"
      ],
      "id": "1bc5e2ea",
      "execution_count": null,
      "outputs": []
    },
    {
      "cell_type": "code",
      "metadata": {},
      "source": [
        "sales['Unit_Cost'].quantile([.2, .4, .6, .8, 1])"
      ],
      "id": "8f293ad0",
      "execution_count": null,
      "outputs": []
    },
    {
      "cell_type": "markdown",
      "metadata": {},
      "source": [
        "## Value Counts"
      ],
      "id": "1b139c60"
    },
    {
      "cell_type": "code",
      "metadata": {},
      "source": [
        "sales['Age_Group'].value_counts()"
      ],
      "id": "33f7bbaa",
      "execution_count": null,
      "outputs": []
    },
    {
      "cell_type": "code",
      "metadata": {},
      "source": [
        " sales['Age_Group'].value_counts(normalize=True)\n"
      ],
      "id": "f960365e",
      "execution_count": null,
      "outputs": []
    },
    {
      "cell_type": "code",
      "metadata": {},
      "source": [
        "country_group = sales.groupby(['Country'])\n",
        "country_group['Age_Group'].value_counts(normalize=True).loc['Australia']"
      ],
      "id": "f9b170b4",
      "execution_count": null,
      "outputs": []
    },
    {
      "cell_type": "code",
      "metadata": {},
      "source": [
        "sales.dtypes.value_counts()"
      ],
      "id": "2888b47a",
      "execution_count": null,
      "outputs": []
    },
    {
      "cell_type": "markdown",
      "metadata": {},
      "source": [
        "## Bar Graph"
      ],
      "id": "70029daa"
    },
    {
      "cell_type": "code",
      "metadata": {},
      "source": [
        "pd.DataFrame(sales['Age_Group'].value_counts(normalize = True)).plot(kind = 'bar', figsize = (10,5))"
      ],
      "id": "6632c480",
      "execution_count": null,
      "outputs": []
    },
    {
      "cell_type": "markdown",
      "metadata": {},
      "source": [
        "## Correlations"
      ],
      "id": "a7d20922"
    },
    {
      "cell_type": "code",
      "metadata": {},
      "source": [
        "corr = sales.select_dtypes(include='int64').corr(numeric_only = False)\n",
        "corr"
      ],
      "id": "df877fee",
      "execution_count": null,
      "outputs": []
    },
    {
      "cell_type": "code",
      "metadata": {},
      "source": [
        "px.imshow(corr)"
      ],
      "id": "197c094f",
      "execution_count": null,
      "outputs": []
    },
    {
      "cell_type": "markdown",
      "metadata": {},
      "source": [
        "# Column Wrangling & Feature Engineering"
      ],
      "id": "8d3c8cf2"
    },
    {
      "cell_type": "code",
      "metadata": {},
      "source": [
        "sales['Revenue_per_Age'] = sales['Revenue'] / sales['Customer_Age']\n",
        "sales['Revenue_per_Age'].head()"
      ],
      "id": "2519f6b2",
      "execution_count": null,
      "outputs": []
    },
    {
      "cell_type": "code",
      "metadata": {},
      "source": [
        "sales['Calculated_Cost'] = sales['Order_Quantity'] * sales['Unit_Cost']\n",
        "sales['Calculated_Cost'].head()"
      ],
      "id": "82461bff",
      "execution_count": null,
      "outputs": []
    },
    {
      "cell_type": "code",
      "metadata": {},
      "source": [
        "(sales['Calculated_Cost'] != sales['Cost']).sum()"
      ],
      "id": "a572dde9",
      "execution_count": null,
      "outputs": []
    },
    {
      "cell_type": "markdown",
      "metadata": {},
      "source": [
        "## Lag Function"
      ],
      "id": "b22a7882"
    },
    {
      "cell_type": "code",
      "metadata": {},
      "source": [
        "df_freq_daily['PriceGrowth'] = df_freq_daily.Price / df_freq_daily.Price.shift(1) - 1\n",
        "df_freq_daily"
      ],
      "id": "aa7a96a9",
      "execution_count": null,
      "outputs": []
    },
    {
      "cell_type": "markdown",
      "metadata": {},
      "source": [
        "## Modifying All"
      ],
      "id": "94a02fb4"
    },
    {
      "cell_type": "code",
      "metadata": {},
      "source": [
        "sales['Calculated_Cost'] *= 1.03\n",
        "sales['Calculated_Cost'].head()"
      ],
      "id": "8bf7f5dc",
      "execution_count": null,
      "outputs": []
    },
    {
      "cell_type": "markdown",
      "metadata": {},
      "source": [
        "## Working with loc"
      ],
      "id": "430f28c0"
    },
    {
      "cell_type": "code",
      "metadata": {},
      "source": [
        "marvel_df.loc['Vision', 'first_appearance'] = 1964\n",
        "marvel_df"
      ],
      "id": "39281cd0",
      "execution_count": null,
      "outputs": []
    },
    {
      "cell_type": "code",
      "metadata": {},
      "source": [
        "sales.loc[sales['Country'] == 'France', 'Revenue'].head()"
      ],
      "id": "1e23fdb2",
      "execution_count": null,
      "outputs": []
    },
    {
      "cell_type": "code",
      "metadata": {},
      "source": [
        "sales.loc[sales['Country'] == 'France', 'Revenue'] *= 1.10\n",
        "sales.loc[sales['Country'] == 'France', 'Revenue'].head()"
      ],
      "id": "19eb4dae",
      "execution_count": null,
      "outputs": []
    },
    {
      "cell_type": "code",
      "metadata": {},
      "source": [
        "crisis = pd.Series([-1_000_000, -0.3], index=['GDP', 'HDI'])\n",
        "crisis"
      ],
      "id": "65f8aa86",
      "execution_count": null,
      "outputs": []
    },
    {
      "cell_type": "code",
      "metadata": {},
      "source": [
        "crisis[['GDP', 'HDI']] + crisis"
      ],
      "id": "c2c63b79",
      "execution_count": null,
      "outputs": []
    },
    {
      "cell_type": "markdown",
      "metadata": {},
      "source": [
        "# Pivoting Data\n",
        "## Long to Wide"
      ],
      "id": "89a75f78"
    },
    {
      "cell_type": "code",
      "metadata": {},
      "source": [
        "# https://beta.bls.gov/dataQuery/find?fq=survey:[ap]&s=popularity:D\n",
        "# This data came from bls\n",
        "df_long = pd.read_csv(\"data/file.csv\")\n",
        "df_long"
      ],
      "id": "e1bb66bd",
      "execution_count": null,
      "outputs": []
    },
    {
      "cell_type": "code",
      "metadata": {},
      "source": [
        "# unmelting using pivot()\n",
        "df_wide=pd.pivot(df_long, index=['Series ID','Item'], columns = 'Year Month',values = 'Avg. Price ($)') #Reshape from long to wide\n",
        "\n",
        "df_wide.reset_index()"
      ],
      "id": "589a08fb",
      "execution_count": null,
      "outputs": []
    },
    {
      "cell_type": "markdown",
      "metadata": {},
      "source": [
        "## Wide to Long"
      ],
      "id": "06ffe5be"
    },
    {
      "cell_type": "code",
      "metadata": {},
      "source": [
        "year_list=list(df_wide.columns)\n",
        "df_long = pd.melt(df_wide, value_vars=year_list,value_name='Avg. Price ($)', ignore_index=False).reset_index()\n",
        "df_long"
      ],
      "id": "9714a859",
      "execution_count": null,
      "outputs": []
    },
    {
      "cell_type": "markdown",
      "metadata": {},
      "source": [
        "# Aggregating Data\n",
        "## Calculating Percentage Share"
      ],
      "id": "3c10d402"
    },
    {
      "cell_type": "code",
      "metadata": {},
      "source": [
        "sales_yr_age = sales.groupby(['Year','Age_Group']).agg({'Profit':'sum','Revenue':'sum'})\n",
        "sales_yr_age['Revenue_Share'] = sales_yr_age['Revenue'] / sales_yr_age.groupby(['Year'])['Revenue'].sum()\n",
        "sales_yr_age['Profit_Share'] = sales_yr_age['Profit'] / sales_yr_age.groupby(['Year'])['Profit'].sum()\n",
        "sales_yr_age.reset_index()\n"
      ],
      "id": "00524d3c",
      "execution_count": null,
      "outputs": []
    },
    {
      "cell_type": "markdown",
      "metadata": {},
      "source": [
        "## Aggregating Dates "
      ],
      "id": "7594ee6f"
    },
    {
      "cell_type": "code",
      "metadata": {},
      "source": [
        "df_freq = pd.DataFrame({\n",
        "    \"Publish Date\" : [\n",
        "        pd.Timestamp(\"2000-01-01\"),\n",
        "        pd.Timestamp(\"2000-01-02\"),\n",
        "        pd.Timestamp(\"2000-01-02\"),\n",
        "        pd.Timestamp(\"2000-01-02\"),\n",
        "        pd.Timestamp(\"2000-01-09\"),\n",
        "        pd.Timestamp(\"2000-01-16\")\n",
        "    ],\n",
        "    \"ID\": [0, 1, 2, 3, 4, 5],\n",
        "    \"Price\": [10, 20, 30, 40, 50, 60]\n",
        "    }\n",
        ")\n",
        "df_freq\n"
      ],
      "id": "a6517dc2",
      "execution_count": null,
      "outputs": []
    },
    {
      "cell_type": "code",
      "metadata": {},
      "source": [
        "df_freq.groupby('Publish Date')['Price'].mean()"
      ],
      "id": "72cd258e",
      "execution_count": null,
      "outputs": []
    },
    {
      "cell_type": "markdown",
      "metadata": {},
      "source": [
        "## Filling Gaps"
      ],
      "id": "e0432978"
    },
    {
      "cell_type": "code",
      "metadata": {},
      "source": [
        "df_freq_daily = df_freq.groupby(pd.Grouper(key = \"Publish Date\", freq= \"1D\"))['Price'].mean().reset_index()\n",
        "df_freq_daily"
      ],
      "id": "80c004b1",
      "execution_count": null,
      "outputs": []
    },
    {
      "cell_type": "markdown",
      "metadata": {},
      "source": [
        "## Counting Unique Values"
      ],
      "id": "f16b29f2"
    },
    {
      "cell_type": "code",
      "metadata": {},
      "source": [
        "sales.groupby('Age_Group').agg({'State':'nunique'})\n"
      ],
      "id": "3b65d6ff",
      "execution_count": null,
      "outputs": []
    },
    {
      "cell_type": "markdown",
      "metadata": {},
      "source": [
        "## Aggregating on Multiple Values"
      ],
      "id": "ffbb4806"
    },
    {
      "cell_type": "code",
      "metadata": {},
      "source": [
        "sales_country = sales.groupby('Country').agg({'Order_Quantity':np.sum,'Revenue':np.sum}).reset_index()\n",
        "sales_country"
      ],
      "id": "ad480f12",
      "execution_count": null,
      "outputs": []
    },
    {
      "cell_type": "code",
      "metadata": {},
      "source": [
        "sales_country['aov'] = sales_country['Revenue']/ sales_country['Order_Quantity']\n",
        "sales_country"
      ],
      "id": "c29e0cbf",
      "execution_count": null,
      "outputs": []
    },
    {
      "cell_type": "markdown",
      "metadata": {},
      "source": [
        "## Reset Index Alternative"
      ],
      "id": "2317003f"
    },
    {
      "cell_type": "code",
      "metadata": {},
      "source": [
        "# USE as_index = False INSTEAD OF reset_index()\n",
        "sales.groupby('Country', as_index=False).agg(\n",
        "    Order_Total = (\"Order_Quantity\", np.sum),\n",
        "    Orders_Avg = (\"Order_Quantity\", np.mean),\n",
        "    Revenue_Total = (\"Revenue\", np.sum),\n",
        "    Revenue_avg = (\"Revenue\", np.mean),\n",
        "    States = (\"State\", np.count_nonzero),\n",
        "    Unique_States = (\"State\", pd.Series.nunique)\n",
        ")"
      ],
      "id": "1b33947b",
      "execution_count": null,
      "outputs": []
    },
    {
      "cell_type": "markdown",
      "metadata": {},
      "source": [
        "## Weighted Average Calculation\n",
        "\n",
        "### Option 1 (Best)"
      ],
      "id": "02d0e834"
    },
    {
      "cell_type": "code",
      "metadata": {},
      "source": [
        "census_wavg = census_county.groupby('state_name').agg(\n",
        "  population = ('population',np.sum),\n",
        "  weighted_avg=('median_income', lambda x: np.average(x, weights=census_county.loc[x.index, 'population']))\n",
        "  )\n",
        "\n",
        "census_wavg.reset_index().head()\n"
      ],
      "id": "b4fa521d",
      "execution_count": null,
      "outputs": []
    },
    {
      "cell_type": "markdown",
      "metadata": {},
      "source": [
        "### Option 2"
      ],
      "id": "688b42ec"
    },
    {
      "cell_type": "code",
      "metadata": {},
      "source": [
        "census_wavg = census_county.groupby('state_name').apply(lambda x: np.average(x['median_income'], weights=x['population'])).reset_index()\n",
        "census_wavg = census_wavg.rename(columns = {0:'median_income'})\n",
        "census_wavg.head()"
      ],
      "id": "de1d088f",
      "execution_count": null,
      "outputs": []
    },
    {
      "cell_type": "markdown",
      "metadata": {},
      "source": [
        "### Option 3"
      ],
      "id": "2cd3ce0b"
    },
    {
      "cell_type": "code",
      "metadata": {},
      "source": [
        "# define a custom function to calculate the weighted average\n",
        "def weighted_average(df, value_column, weight_column):\n",
        "    return (df[value_column] * df[weight_column]).sum() / df[weight_column].sum()\n",
        "\n",
        "# group by the 'group' column and apply the custom function to calculate the weighted average within each group\n",
        "census_wavg = census_county.groupby('state_name').apply(\n",
        "  weighted_average, value_column='median_income', weight_column='population'\n",
        "  ).reset_index()\n",
        "  \n",
        "census_wavg = census_wavg.rename(columns = {0:'medain_income'}).head()\n",
        "census_wavg"
      ],
      "id": "91a3085e",
      "execution_count": null,
      "outputs": []
    },
    {
      "cell_type": "markdown",
      "metadata": {},
      "source": [
        "# Filtering\n",
        "## Single Filter"
      ],
      "id": "e87ab39d"
    },
    {
      "cell_type": "code",
      "metadata": {},
      "source": [
        "sales = sales.set_index('Country')\n",
        "sales.loc['Canada'].head()\n"
      ],
      "id": "c1d9dfa4",
      "execution_count": null,
      "outputs": []
    },
    {
      "cell_type": "markdown",
      "metadata": {},
      "source": [
        "## Filtering Multiple Values"
      ],
      "id": "4ea540c1"
    },
    {
      "cell_type": "code",
      "metadata": {},
      "source": [
        "sales = sales.reset_index()\n",
        "geo_list = ['Canada','Australia','United States']\n",
        "geo_filter = sales['Country'].isin(geo_list)\n",
        "sales[geo_filter].head()"
      ],
      "id": "860f9cb7",
      "execution_count": null,
      "outputs": []
    },
    {
      "cell_type": "markdown",
      "metadata": {},
      "source": [
        "## Retrieving Single and Multiple columns\n",
        "### Option 1 (Best)\n"
      ],
      "id": "75dbe81c"
    },
    {
      "cell_type": "code",
      "metadata": {},
      "source": [
        "sales.loc[(sales['Month'] == 11) &\n",
        "          (sales['Year'] == 2013),\n",
        "          ['Age_Group','Revenue']\n",
        "].head()\n"
      ],
      "id": "79dac03c",
      "execution_count": null,
      "outputs": []
    },
    {
      "cell_type": "markdown",
      "metadata": {},
      "source": [
        "### Option 2 (2nd Best)"
      ],
      "id": "ff304df9"
    },
    {
      "cell_type": "code",
      "metadata": {},
      "source": [
        "sales.query(\"State == 'Kentucky' and Year == 2014\")[['Year','Age_Group','Revenue']]"
      ],
      "id": "7eac1fe9",
      "execution_count": null,
      "outputs": []
    },
    {
      "cell_type": "markdown",
      "metadata": {},
      "source": [
        "## Filtering + Aggregating\n",
        "Get the mean revenue of the `Adults (35-64)` sales group"
      ],
      "id": "7dccaaef"
    },
    {
      "cell_type": "code",
      "metadata": {},
      "source": [
        "sales.loc[sales['Age_Group']=='Adults (35-64)', 'Revenue'].mean()"
      ],
      "id": "2707bc8e",
      "execution_count": null,
      "outputs": []
    },
    {
      "cell_type": "markdown",
      "metadata": {},
      "source": [
        "How Many Records belong to Age Group `Youth (<25)` or `Adults 35-64`?"
      ],
      "id": "d80b2802"
    },
    {
      "cell_type": "code",
      "metadata": {},
      "source": [
        "sales.loc[(sales['Age_Group'] == 'Youth (<25)') | (sales['Age_Group'] == 'Adults (35-64)')].shape[0]"
      ],
      "id": "47f817d9",
      "execution_count": null,
      "outputs": []
    },
    {
      "cell_type": "markdown",
      "metadata": {},
      "source": [
        "Get the mean revenue of the sales group `Adults (35-64)` in `United States`"
      ],
      "id": "18f8def7"
    },
    {
      "cell_type": "code",
      "metadata": {},
      "source": [
        "sales.loc[(sales['Age_Group'] == 'Adults (35-64)') & (sales['Country'] == 'United States'), 'Revenue'].mean()"
      ],
      "id": "ab8d68fb",
      "execution_count": null,
      "outputs": []
    },
    {
      "cell_type": "markdown",
      "metadata": {},
      "source": [
        "# Modifying DataFrame"
      ],
      "id": "7f22b1b1"
    },
    {
      "cell_type": "code",
      "metadata": {},
      "source": [
        "langs = pd.Series(\n",
        "    ['French', 'German', 'Italian'],\n",
        "    index=['France', 'Germany', 'Italy'],\n",
        "    name='Language'\n",
        ")\n",
        "\n",
        "langs"
      ],
      "id": "f17df28a",
      "execution_count": null,
      "outputs": []
    },
    {
      "cell_type": "code",
      "metadata": {},
      "source": [
        "country_stat['Language'] = langs\n",
        "country_stat"
      ],
      "id": "977d8c7b",
      "execution_count": null,
      "outputs": []
    },
    {
      "cell_type": "code",
      "metadata": {},
      "source": [
        "country_stat['Language'] = 'English'\n",
        "country_stat"
      ],
      "id": "13d1bf57",
      "execution_count": null,
      "outputs": []
    },
    {
      "cell_type": "markdown",
      "metadata": {},
      "source": [
        "# Renaming Columns"
      ],
      "id": "e990b698"
    },
    {
      "cell_type": "code",
      "metadata": {},
      "source": [
        "country_stat.rename(\n",
        "    columns={\n",
        "        'HDI': 'Human Development Index',\n",
        "        'Anual Popcorn Consumption': 'APC'\n",
        "    }, index={\n",
        "        'United States': 'USA',\n",
        "        'United Kingdom': 'UK',\n",
        "        'Argentina': 'AR'\n",
        "    })"
      ],
      "id": "bea1e5ea",
      "execution_count": null,
      "outputs": []
    },
    {
      "cell_type": "markdown",
      "metadata": {},
      "source": [
        "## Columns Upper Case"
      ],
      "id": "984b9435"
    },
    {
      "cell_type": "code",
      "metadata": {},
      "source": [
        "country_stat.rename(index=str.upper)"
      ],
      "id": "83524940",
      "execution_count": null,
      "outputs": []
    },
    {
      "cell_type": "code",
      "metadata": {},
      "source": [
        "country_stat.rename(index=str.lower)"
      ],
      "id": "359e56f6",
      "execution_count": null,
      "outputs": []
    },
    {
      "cell_type": "markdown",
      "metadata": {},
      "source": [
        "## Apending or Unioning Values"
      ],
      "id": "4e917dee"
    },
    {
      "cell_type": "code",
      "metadata": {},
      "source": [
        "# create two sample DataFrames\n",
        "df1 = pd.DataFrame({'col1': [1, 2, 3], 'col2': [4, 5, 6]})\n",
        "df2 = pd.DataFrame({'col1': [7, 8, 9], 'col2': [10, 11, 12]})\n",
        "\n",
        "# concatenate the DataFrames vertically\n",
        "result = pd.concat([df1, df2])\n",
        "\n",
        "print(result)"
      ],
      "id": "cae0ef84",
      "execution_count": null,
      "outputs": []
    },
    {
      "cell_type": "markdown",
      "metadata": {},
      "source": [
        "# Cleaning Data\n",
        "## Identifying Null values"
      ],
      "id": "8b85189d"
    },
    {
      "cell_type": "code",
      "metadata": {},
      "source": [
        "pd.isnull(np.nan)\n",
        "pd.isnull(None)\n",
        "pd.isna(np.nan)\n",
        "pd.notnull(None)\n",
        "pd.isna(None)"
      ],
      "id": "6a5d831d",
      "execution_count": null,
      "outputs": []
    },
    {
      "cell_type": "code",
      "metadata": {},
      "source": [
        "pd.isnull(pd.DataFrame({\n",
        "    'Column A': [1, np.nan, 7],\n",
        "    'Column B': [np.nan, 2, 3],\n",
        "    'Column C': [np.nan, 2, np.nan]\n",
        "}))"
      ],
      "id": "7e2e7df2",
      "execution_count": null,
      "outputs": []
    },
    {
      "cell_type": "markdown",
      "metadata": {},
      "source": [
        "## Aggregating with Nulls"
      ],
      "id": "3adcb288"
    },
    {
      "cell_type": "code",
      "metadata": {},
      "source": [
        "pd.Series([1, 2, np.nan]).count()\n",
        "pd.Series([1, 2, np.nan]).sum()\n",
        "pd.Series([2, 2, np.nan]).mean()"
      ],
      "id": "c56a1cac",
      "execution_count": null,
      "outputs": []
    },
    {
      "cell_type": "markdown",
      "metadata": {},
      "source": [
        "## Null Values in a Series"
      ],
      "id": "4ba1a2a4"
    },
    {
      "cell_type": "code",
      "metadata": {},
      "source": [
        "s = pd.Series([1, 2, 3, np.nan, np.nan, 4])\n",
        "pd.notnull(s)"
      ],
      "id": "cb59984d",
      "execution_count": null,
      "outputs": []
    },
    {
      "cell_type": "code",
      "metadata": {},
      "source": [
        "pd.isnull(s)"
      ],
      "id": "6abb955c",
      "execution_count": null,
      "outputs": []
    },
    {
      "cell_type": "code",
      "metadata": {},
      "source": [
        "s.isnull()"
      ],
      "id": "b16f129e",
      "execution_count": null,
      "outputs": []
    },
    {
      "cell_type": "markdown",
      "metadata": {},
      "source": [
        "## Removing Null Values"
      ],
      "id": "4589b1fd"
    },
    {
      "cell_type": "code",
      "metadata": {},
      "source": [
        "s[s.notnull()]"
      ],
      "id": "4ea975b8",
      "execution_count": null,
      "outputs": []
    },
    {
      "cell_type": "markdown",
      "metadata": {},
      "source": [
        "## Removing Null Values"
      ],
      "id": "406f4f20"
    },
    {
      "cell_type": "code",
      "metadata": {},
      "source": [
        "s\n",
        "s.dropna()"
      ],
      "id": "abae666f",
      "execution_count": null,
      "outputs": []
    },
    {
      "cell_type": "markdown",
      "metadata": {},
      "source": [
        "## DataFrames and Nulls"
      ],
      "id": "8095774b"
    },
    {
      "cell_type": "code",
      "metadata": {},
      "source": [
        "df_nulls = pd.DataFrame({\n",
        "    'Column A': [1, np.nan, 30, np.nan],\n",
        "    'Column B': [2, 8, 31, np.nan],\n",
        "    'Column C': [np.nan, 9, 32, 100],\n",
        "    'Column D': [5, 8, 34, 110],\n",
        "})\n",
        "df_nulls"
      ],
      "id": "2418ca30",
      "execution_count": null,
      "outputs": []
    },
    {
      "cell_type": "markdown",
      "metadata": {},
      "source": [
        "## Aggregating Nulls w/ Data Frames"
      ],
      "id": "63506103"
    },
    {
      "cell_type": "code",
      "metadata": {},
      "source": [
        "df_nulls.isnull().sum()\n",
        "df_nulls.dropna()"
      ],
      "id": "479a4d8e",
      "execution_count": null,
      "outputs": []
    },
    {
      "cell_type": "markdown",
      "metadata": {},
      "source": [
        "## Drop Entire Columns\n",
        "The Only column that doesn't have any NA's is Column D"
      ],
      "id": "3d623166"
    },
    {
      "cell_type": "code",
      "metadata": {},
      "source": [
        "df_nulls.dropna(axis=1)"
      ],
      "id": "cd7f26aa",
      "execution_count": null,
      "outputs": []
    },
    {
      "cell_type": "markdown",
      "metadata": {},
      "source": [
        "In this case, any row or column that contains **at least** one null value will be dropped. Which can be, depending on the case, too extreme. You can control this behavior with the `how` parameter. Can be either `'any'` or `'all'`:"
      ],
      "id": "cfa20295"
    },
    {
      "cell_type": "code",
      "metadata": {},
      "source": [
        "df_nulls2 = pd.DataFrame({\n",
        "    'Column A': [1, np.nan, 30],\n",
        "    'Column B': [2, np.nan, 31],\n",
        "    'Column C': [np.nan, np.nan, 100]\n",
        "})\n",
        "df_nulls2"
      ],
      "id": "14b65f33",
      "execution_count": null,
      "outputs": []
    },
    {
      "cell_type": "code",
      "metadata": {},
      "source": [
        "df_nulls2.dropna(how='all') # if all columns have NA then drop\n",
        "df_nulls2.dropna(how = 'any') # default behavior"
      ],
      "id": "0e811612",
      "execution_count": null,
      "outputs": []
    },
    {
      "cell_type": "code",
      "metadata": {},
      "source": [
        "df_nulls2.dropna(thresh=3) # if at least 3 values are NA\n",
        "df_nulls2.dropna(thresh=3, axis='columns')"
      ],
      "id": "dbf3d872",
      "execution_count": null,
      "outputs": []
    },
    {
      "cell_type": "markdown",
      "metadata": {},
      "source": [
        "# Filling Null Values On DataFrames"
      ],
      "id": "e13bd6c7"
    },
    {
      "cell_type": "code",
      "metadata": {},
      "source": [
        "df_nulls2.fillna(value = 0)"
      ],
      "id": "d9eb8bad",
      "execution_count": null,
      "outputs": []
    },
    {
      "cell_type": "code",
      "metadata": {},
      "source": [
        "df_nulls2.fillna(value = 0)"
      ],
      "id": "f09eb725",
      "execution_count": null,
      "outputs": []
    },
    {
      "cell_type": "code",
      "metadata": {},
      "source": [
        "df_nulls2.fillna(value = df_nulls2['Column A'].mean())"
      ],
      "id": "f4a7a6e8",
      "execution_count": null,
      "outputs": []
    },
    {
      "cell_type": "code",
      "metadata": {},
      "source": [
        "df_nulls2.fillna({'Column A': 0, 'Column B': 99, 'Column C': df_nulls['Column C'].mean()})"
      ],
      "id": "5da6b810",
      "execution_count": null,
      "outputs": []
    },
    {
      "cell_type": "markdown",
      "metadata": {},
      "source": [
        "## Forwards filling "
      ],
      "id": "b1a17231"
    },
    {
      "cell_type": "code",
      "metadata": {},
      "source": [
        "df_nulls2.fillna(method='ffill', axis=0)"
      ],
      "id": "35eaa888",
      "execution_count": null,
      "outputs": []
    },
    {
      "cell_type": "markdown",
      "metadata": {},
      "source": [
        "##Backward filling"
      ],
      "id": "d649b657"
    },
    {
      "cell_type": "code",
      "metadata": {},
      "source": [
        "df_nulls2.fillna(method='bfill', axis=0)"
      ],
      "id": "49f950e1",
      "execution_count": null,
      "outputs": []
    },
    {
      "cell_type": "code",
      "metadata": {},
      "source": [
        "rents = pd.read_csv('data/zillow_data.csv')\n",
        "rents.describe()"
      ],
      "id": "36083d89",
      "execution_count": null,
      "outputs": []
    },
    {
      "cell_type": "markdown",
      "metadata": {},
      "source": [
        "## Missing Data in Graphs\n",
        "We can see in the above line that there is missing data. Let's use interpolate"
      ],
      "id": "403589e8"
    },
    {
      "cell_type": "code",
      "metadata": {},
      "source": [
        "import plotly.express as px\n",
        "px.line(rents, x = 'rent_date', y = 'avg_rents', color='RegionName')\n",
        "\n",
        "### We can see in the above line that there is missing data. Let's use interpolate"
      ],
      "id": "62a5366a",
      "execution_count": null,
      "outputs": []
    },
    {
      "cell_type": "code",
      "metadata": {},
      "source": [
        "rents[rents['RegionName'] == 'New York County'] = rents[rents['RegionName'] == 'New York County'].interpolate(method = 'linear')\n",
        "px.line(rents, x = 'rent_date', y = 'avg_rents', color='RegionName')"
      ],
      "id": "c10d79b9",
      "execution_count": null,
      "outputs": []
    },
    {
      "cell_type": "markdown",
      "metadata": {},
      "source": [
        "# Cleaning All Values\n",
        "The previous `DataFrame` doesn't have any \"missing value\", but clearly has invalid data. `290` doesn't seem like a valid age, and `D` and `?` don't correspond with any known sex category. How can you clean these not-missing, but clearly invalid values then?\n"
      ],
      "id": "ab2ed850"
    },
    {
      "cell_type": "code",
      "metadata": {},
      "source": [
        "gender = pd.DataFrame({\n",
        "    'Sex': ['M', 'F', 'F', 'D', '?'],\n",
        "    'Age': [29, 30, 24, 290, 25],\n",
        "})\n",
        "gender\n"
      ],
      "id": "3e7adf94",
      "execution_count": null,
      "outputs": []
    },
    {
      "cell_type": "markdown",
      "metadata": {},
      "source": [
        "## Replace"
      ],
      "id": "2813d976"
    },
    {
      "cell_type": "code",
      "metadata": {},
      "source": [
        "gender['Sex'].replace('D','F')"
      ],
      "id": "db40c1e8",
      "execution_count": null,
      "outputs": []
    },
    {
      "cell_type": "code",
      "metadata": {},
      "source": [
        "gender['Sex'].replace({'D': 'F', 'N': 'M'})"
      ],
      "id": "7fff62d3",
      "execution_count": null,
      "outputs": []
    },
    {
      "cell_type": "markdown",
      "metadata": {},
      "source": [
        "If you have many columns to replace, you could apply it at “DataFrame level”:"
      ],
      "id": "9e80f9ca"
    },
    {
      "cell_type": "code",
      "metadata": {},
      "source": [
        "gender.replace({\n",
        "    'Sex': {'D': 'F','N': 'M'},\n",
        "    'Age': { 290: 29}\n",
        "})"
      ],
      "id": "1215531e",
      "execution_count": null,
      "outputs": []
    },
    {
      "cell_type": "markdown",
      "metadata": {},
      "source": [
        "# Duplicates\n",
        " The sales dataset contains information about daily store purchases. What is the correct way to return unique entries for each product?"
      ],
      "id": "047272d6"
    },
    {
      "cell_type": "code",
      "metadata": {},
      "source": [
        "sales_datacamp = pd.DataFrame(data={'date':['2018-01-15','2018-01-15','2018-01-20','2018-01-16','2018-01-16','2018-01-17'],\n",
        "                           'product_line':['Health and beauty', 'Electronic accessories', 'Electronic accessories', 'Home and lifestyle', 'Sports', 'Food and beverages'],\n",
        "                           'product': ['Shampoo', 'Headphones', 'Headphones', 'Lamp', 'Yoga mat', 'Milk'],\n",
        "                           'unit_price': [6.99,25.38,32.00,46.33,39.99,5.99],\n",
        "                           'quantity': [7,5,2,3,5,8]\n",
        "                           })\n",
        "sales_datacamp"
      ],
      "id": "15153f9f",
      "execution_count": null,
      "outputs": []
    },
    {
      "cell_type": "markdown",
      "metadata": {},
      "source": [
        "The duplicate is dropped"
      ],
      "id": "27d907ba"
    },
    {
      "cell_type": "code",
      "metadata": {},
      "source": [
        "sales_datacamp.drop_duplicates(subset='product')"
      ],
      "id": "f495714b",
      "execution_count": null,
      "outputs": []
    },
    {
      "cell_type": "code",
      "metadata": {},
      "source": [
        "ambassadors = pd.Series([\n",
        "    'France',\n",
        "    'United Kingdom',\n",
        "    'United Kingdom',\n",
        "    'Italy',\n",
        "    'Germany',\n",
        "    'Germany',\n",
        "    'Germany',\n",
        "], index=[\n",
        "    'Gérard Araud',\n",
        "    'Kim Darroch',\n",
        "    'Peter Westmacott',\n",
        "    'Armando Varricchio',\n",
        "    'Peter Wittig',\n",
        "    'Peter Ammon',\n",
        "    'Klaus Scharioth '\n",
        "])\n",
        "\n",
        "ambassadors"
      ],
      "id": "d2575e7c",
      "execution_count": null,
      "outputs": []
    },
    {
      "cell_type": "code",
      "metadata": {},
      "source": [
        "ambassadors.duplicated()"
      ],
      "id": "e260b7de",
      "execution_count": null,
      "outputs": []
    },
    {
      "cell_type": "markdown",
      "metadata": {},
      "source": [
        "In this case `duplicated` didn't consider `'Kim Darroch'`, the first instance of the United Kingdom or `'Peter Wittig'` as duplicates. That's because, by default, it'll consider the first occurrence of the value as not-duplicate. You can change this behavior with the `keep` parameter:\n"
      ],
      "id": "fb34a617"
    },
    {
      "cell_type": "code",
      "metadata": {},
      "source": [
        "ambassadors.duplicated(keep='last')"
      ],
      "id": "54998bdc",
      "execution_count": null,
      "outputs": []
    },
    {
      "cell_type": "markdown",
      "metadata": {},
      "source": [
        "In this case, the result is \"flipped\", `'Kim Darroch'` and `'Peter Wittig'` (the first ambassadors of their countries) are considered duplicates, but `'Peter Westmacott'` and `'Klaus Scharioth'` are not duplicates. You can also choose to mark all of them as duplicates with `keep=False`:"
      ],
      "id": "6743edf4"
    },
    {
      "cell_type": "code",
      "metadata": {},
      "source": [
        "ambassadors.duplicated(keep=False)"
      ],
      "id": "1e1f2825",
      "execution_count": null,
      "outputs": []
    },
    {
      "cell_type": "code",
      "metadata": {},
      "source": [
        "ambassadors.duplicated(keep=False)"
      ],
      "id": "bafbee3d",
      "execution_count": null,
      "outputs": []
    },
    {
      "cell_type": "markdown",
      "metadata": {},
      "source": [
        "A similar method is `drop_duplicates`, which just excludes the duplicated values and also accepts the `keep` parameter:"
      ],
      "id": "b8055de7"
    },
    {
      "cell_type": "code",
      "metadata": {},
      "source": [
        "ambassadors.drop_duplicates(keep='last')\n"
      ],
      "id": "a3a5bcb3",
      "execution_count": null,
      "outputs": []
    },
    {
      "cell_type": "code",
      "metadata": {},
      "source": [
        "ambassadors.drop_duplicates(keep=False)"
      ],
      "id": "4c2cf62b",
      "execution_count": null,
      "outputs": []
    },
    {
      "cell_type": "markdown",
      "metadata": {},
      "source": [
        "# Duplicates in DataFrames\n",
        "Conceptually speaking, duplicates in a DataFrame happen at \"row\" level. Two rows with exactly the same values are considered to be duplicates:\n"
      ],
      "id": "59025e15"
    },
    {
      "cell_type": "code",
      "metadata": {},
      "source": [
        "players = pd.DataFrame({\n",
        "    'Name': [\n",
        "        'Kobe Bryant',\n",
        "        'LeBron James',\n",
        "        'Kobe Bryant',\n",
        "        'Carmelo Anthony',\n",
        "        'Kobe Bryant',\n",
        "    ],\n",
        "    'Pos': [\n",
        "        'SG',\n",
        "        'SF',\n",
        "        'SG',\n",
        "        'SF',\n",
        "        'SF'\n",
        "    ]\n",
        "})\n",
        "\n",
        "players\n"
      ],
      "id": "fa4599bc",
      "execution_count": null,
      "outputs": []
    },
    {
      "cell_type": "markdown",
      "metadata": {},
      "source": [
        "Highlights only 1 record to remove"
      ],
      "id": "d391378e"
    },
    {
      "cell_type": "code",
      "metadata": {},
      "source": [
        "players.duplicated()\n"
      ],
      "id": "3ef3bf94",
      "execution_count": null,
      "outputs": []
    },
    {
      "cell_type": "markdown",
      "metadata": {},
      "source": [
        "Highlights all records to remove"
      ],
      "id": "18e7a1be"
    },
    {
      "cell_type": "code",
      "metadata": {},
      "source": [
        "players.duplicated(subset=['Name'])"
      ],
      "id": "7363712a",
      "execution_count": null,
      "outputs": []
    },
    {
      "cell_type": "code",
      "metadata": {},
      "source": [
        "players.duplicated(subset=['Name'], keep='last')"
      ],
      "id": "0fca30d7",
      "execution_count": null,
      "outputs": []
    },
    {
      "cell_type": "code",
      "metadata": {},
      "source": [
        "players.drop_duplicates()"
      ],
      "id": "604a1b0f",
      "execution_count": null,
      "outputs": []
    },
    {
      "cell_type": "code",
      "metadata": {},
      "source": [
        "players.drop_duplicates(subset=['Name'])"
      ],
      "id": "cd7ba560",
      "execution_count": null,
      "outputs": []
    },
    {
      "cell_type": "code",
      "metadata": {},
      "source": [
        "players.drop_duplicates(subset=['Name'], keep='last')"
      ],
      "id": "04de4da0",
      "execution_count": null,
      "outputs": []
    },
    {
      "cell_type": "markdown",
      "metadata": {},
      "source": [
        "# Changing Datatypes"
      ],
      "id": "19759430"
    },
    {
      "cell_type": "code",
      "metadata": {},
      "source": [
        "sales['Year_Char'] = sales['Year'].astype(str)\n",
        "sales[['Year','Year_Char']].dtypes"
      ],
      "id": "21eee8ce",
      "execution_count": null,
      "outputs": []
    },
    {
      "cell_type": "markdown",
      "metadata": {},
      "source": [
        "Encode `Product` as a `category` type. The columns of data frame `df` now have the following types:"
      ],
      "id": "576a9aac"
    },
    {
      "cell_type": "code",
      "metadata": {},
      "source": [
        "sales[['Product']].dtypes\n",
        "\n",
        "sales['Product'] = sales.Product.astype('category')\n",
        "sales[['Product']].dtypes"
      ],
      "id": "71994276",
      "execution_count": null,
      "outputs": []
    },
    {
      "cell_type": "markdown",
      "metadata": {},
      "source": [
        "## Integers Downcasting\n",
        "\n",
        "This can help reduce the data size\n",
        "\n",
        "- int8 can store integers form -128 to 127\n",
        "- int16 can store integers from -32768 to 32767\n",
        "- int64 can store integers from -9223372036854775808 to 9223372036854775807\n"
      ],
      "id": "bc6e0ebc"
    },
    {
      "cell_type": "code",
      "metadata": {},
      "source": [
        "sales.info()"
      ],
      "id": "291b3b39",
      "execution_count": null,
      "outputs": []
    },
    {
      "cell_type": "code",
      "metadata": {},
      "source": [
        "int8_dt = ['Day','Month','Year','Customer_Age','Order_Quantity','Unit_Price','Profit','Cost']\n",
        "sales[int8_dt] = sales[int8_dt].astype('int8')\n",
        "sales.info()"
      ],
      "id": "02b5cd03",
      "execution_count": null,
      "outputs": []
    },
    {
      "cell_type": "markdown",
      "metadata": {},
      "source": [
        "## Automatically Convert Dtypes"
      ],
      "id": "3bc34d3d"
    },
    {
      "cell_type": "code",
      "metadata": {},
      "source": [
        "sales.convert_dtypes().info()"
      ],
      "id": "da5fd78c",
      "execution_count": null,
      "outputs": []
    },
    {
      "cell_type": "markdown",
      "metadata": {},
      "source": [
        "## Select Int8 Datatypes"
      ],
      "id": "8dd45f61"
    },
    {
      "cell_type": "code",
      "metadata": {},
      "source": [
        "sales.select_dtypes(include='int8').columns"
      ],
      "id": "ad200218",
      "execution_count": null,
      "outputs": []
    },
    {
      "cell_type": "markdown",
      "metadata": {},
      "source": [
        "## Ordinal Sorting"
      ],
      "id": "3977deb1"
    },
    {
      "cell_type": "code",
      "metadata": {},
      "source": [
        "# define the categories and their order\n",
        "cat_type = pd.CategoricalDtype(categories=['United States', 'Canada', 'United Kingdom','Germany',  'Australia', 'France' ], ordered=True)\n",
        "\n",
        "# change the datatype of the column to categorical\n",
        "sales[\"Country\"] = sales[\"Country\"].astype(cat_type)\n",
        "\n",
        "# check the datatype of the column again\n",
        "sales[\"Country\"].dtype\n",
        "\n",
        "sales.groupby('Country')['Revenue_per_Age'].sum()"
      ],
      "id": "d4642474",
      "execution_count": null,
      "outputs": []
    },
    {
      "cell_type": "markdown",
      "metadata": {},
      "source": [
        "#Joining Data"
      ],
      "id": "c420f217"
    },
    {
      "cell_type": "code",
      "metadata": {},
      "source": [
        "census_state = census_county.groupby('state_name').agg({'population':np.sum}).reset_index()\n",
        "census_state = pd.merge(census_wavg,\n",
        "                        census_state,\n",
        "                           how=\"left\",\n",
        "                           left_on = [\"state_name\"],\n",
        "                           right_on = [\"state_name\"])\n",
        "census_state.head()"
      ],
      "id": "053e083b",
      "execution_count": null,
      "outputs": []
    },
    {
      "cell_type": "markdown",
      "metadata": {},
      "source": [
        "# Case When np.Where\n",
        "##"
      ],
      "id": "98e444a3"
    },
    {
      "cell_type": "code",
      "metadata": {},
      "source": [
        "census_state[\"is_arizona\"] = np.where(census_state[\"state_name\"] == 'Arizona', True, False).copy()\n",
        "census_state"
      ],
      "id": "7510b2fe",
      "execution_count": null,
      "outputs": []
    },
    {
      "cell_type": "markdown",
      "metadata": {},
      "source": [
        "## Using A List"
      ],
      "id": "781f8101"
    },
    {
      "cell_type": "code",
      "metadata": {},
      "source": [
        "geo_list =  ['Arizona','Nevada','New Mexico','Utah','Texas','Colorado']\n",
        "census_state[\"sun_belt\"] = np.where(census_state[\"state_name\"].isin(geo_list), True, False).copy()\n",
        "census_state"
      ],
      "id": "6472fdba",
      "execution_count": null,
      "outputs": []
    },
    {
      "cell_type": "markdown",
      "metadata": {},
      "source": [
        "## Multiple Condition"
      ],
      "id": "5336d7ee"
    },
    {
      "cell_type": "code",
      "metadata": {},
      "source": [
        "census_state[\"sun_belt\"] = np.where((census_state[\"state_name\"] == 'Arizona') |\n",
        "                                    (census_state[\"state_name\"] == 'Nevada') |\n",
        "                                    (census_state[\"state_name\"] == 'New Mexico'), True, False).copy()\n",
        "census_state\n"
      ],
      "id": "6e8d9ac2",
      "execution_count": null,
      "outputs": []
    },
    {
      "cell_type": "markdown",
      "metadata": {},
      "source": [
        "# Creating A Progress Bar\n",
        "This Only works for Loops"
      ],
      "id": "43d29804"
    },
    {
      "cell_type": "code",
      "metadata": {},
      "source": [
        "from tqdm import tqdm\n",
        "import time\n"
      ],
      "id": "84e15d7d",
      "execution_count": null,
      "outputs": []
    },
    {
      "cell_type": "code",
      "metadata": {},
      "source": [
        "for i in tqdm(range(10)):\n",
        "    time.sleep(1)\n"
      ],
      "id": "c828f86e",
      "execution_count": null,
      "outputs": []
    },
    {
      "cell_type": "code",
      "metadata": {},
      "source": [
        "from tqdm.notebook import tqdm"
      ],
      "id": "645ab024",
      "execution_count": null,
      "outputs": []
    },
    {
      "cell_type": "code",
      "metadata": {},
      "source": [
        "for i in tqdm(range(10)):\n",
        "    time.sleep(1)\n"
      ],
      "id": "69a3e0a8",
      "execution_count": null,
      "outputs": []
    }
  ],
  "metadata": {
    "kernelspec": {
      "display_name": "Python 3",
      "language": "python",
      "name": "python3"
    }
  },
  "nbformat": 4,
  "nbformat_minor": 5
}
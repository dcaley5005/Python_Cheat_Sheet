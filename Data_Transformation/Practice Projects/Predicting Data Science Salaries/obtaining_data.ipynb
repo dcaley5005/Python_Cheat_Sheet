{
 "cells": [
  {
   "cell_type": "markdown",
   "source": [
    "# Obtaining Data Science Jobs"
   ],
   "metadata": {
    "collapsed": false
   }
  },
  {
   "cell_type": "code",
   "execution_count": 1,
   "outputs": [],
   "source": [
    "import pandas as pd\n",
    "from serpapi import GoogleSearch\n",
    "from pandas.io.json import json_normalize"
   ],
   "metadata": {
    "collapsed": false
   }
  },
  {
   "cell_type": "code",
   "execution_count": 40,
   "outputs": [],
   "source": [
    "search_terms = \"Data Scientist\"\n",
    "search_locations_us = [\"New York, United States\", \"California, United States\",\n",
    "                       \"Colorado, United States\", \"Washington, United States\", \"Rhode Island, United States\"]\n",
    "\n",
    "params = {\n",
    "    \"api_key\": \"fbb728c827f3d4e1922fbd8634c07a8c5b46f0ef570a53a928481285c70e7e6e\",\n",
    "    \"device\": \"desktop\",\n",
    "    \"engine\": \"google_jobs\",\n",
    "    \"google_domain\": \"google.com\",\n",
    "    \"q\": search_terms,\n",
    "    \"hl\": \"en\",\n",
    "    \"gl\": \"us\",\n",
    "    \"location\": search_locations_us,\n",
    "    \"chips\": \"date_posted:month\",\n",
    "    \"num\": \"10000\"\n",
    "}\n"
   ],
   "metadata": {
    "collapsed": false
   }
  },
  {
   "cell_type": "code",
   "execution_count": 41,
   "outputs": [
    {
     "name": "stdout",
     "output_type": "stream",
     "text": [
      "https://serpapi.com/search\n"
     ]
    }
   ],
   "source": [
    "search = GoogleSearch(params)\n",
    "results = search.get_dict()\n",
    "jobs_results = results[\"jobs_results\"]\n",
    "jobs_df = pd.DataFrame(jobs_results)"
   ],
   "metadata": {
    "collapsed": false
   }
  },
  {
   "cell_type": "code",
   "execution_count": 45,
   "outputs": [],
   "source": [
    "jobs_df2 = pd.concat([pd.DataFrame(jobs_df),\n",
    "                      pd.json_normalize(jobs_df['detected_extensions'])],\n",
    "                      axis=1).drop('detected_extensions', 1)"
   ],
   "metadata": {
    "collapsed": false
   }
  },
  {
   "cell_type": "code",
   "execution_count": 46,
   "outputs": [
    {
     "data": {
      "text/plain": "                                     title              company_name  \\\n0          University, Data Scientist Jobs       Booz Allen Hamilton   \n1                           Data Scientist                   ManTech   \n2                      Data Scientist Jobs                  Deloitte   \n3                           Data Scientist                       ECS   \n4                           Data Scientist                       CGI   \n5                    Senior Data Scientist                 Brillient   \n6           Health Data Scientist (Remote)  U.S. News & World Report   \n7                      Data Scientist Jobs                       SPA   \n8  Statistician/Data Scientist (Level III)       Parsons Corporation   \n9            Data Scientist, HUMAN Federal                     HUMAN   \n\n                    location                                 via  \\\n0             Washington, DC                  via Clearance Jobs   \n1             Alexandria, VA             via ManTech - Talentify   \n2                Rosslyn, VA                  via Clearance Jobs   \n3             Washington, DC                        via LinkedIn   \n4  Washington, DC (+1 other)                        via The Muse   \n5             Washington, DC                    via ZipRecruiter   \n6                   Anywhere                        via LinkedIn   \n7             Alexandria, VA                  via Clearance Jobs   \n8            Springfield, VA  via Careers At Parsons Corporation   \n9             Washington, DC                       via AngelList   \n\n                                         description  \\\n0  Job Number: R0159609\\n\\nUniversity, Data Scien...   \n1  Secure our Nation, Ignite your Future\\n\\nEach ...   \n2  Do you want to build your brand by working for...   \n3  ECS is seeking a Data Scientist to work in our...   \n4  Position Description:\\n\\nThis is an exciting f...   \n5  Brillient is seeking a Senior Data Scientist p...   \n6  U.S. News & World Report is a multifaceted dig...   \n7  Overview\\n\\nSystems Planning and Analysis, Inc...   \n8  In a world of possibilities, pursue one with e...   \n9  HUMAN was founded in 2012 in a Brooklyn sci-fi...   \n\n                                      job_highlights  \\\n0  [{'title': 'Qualifications', 'items': ['Experi...   \n1  [{'title': 'Qualifications', 'items': ['Bachel...   \n2  [{'title': 'Qualifications', 'items': ['Bachel...   \n3  [{'title': 'Qualifications', 'items': ['Demons...   \n4  [{'title': 'Qualifications', 'items': ['An int...   \n5  [{'title': 'Responsibilities', 'items': ['It i...   \n6  [{'title': 'Qualifications', 'items': ['You ha...   \n7  [{'title': 'Qualifications', 'items': ['Bachel...   \n8  [{'title': 'Qualifications', 'items': ['Posses...   \n9  [{'title': 'Qualifications', 'items': ['Knowle...   \n\n                                       related_links  \\\n0  [{'link': 'http://www.boozallen.com/', 'text':...   \n1  [{'link': 'http://www.mantech.com/', 'text': '...   \n2  [{'link': 'http://www.deloitte.com/', 'text': ...   \n3  [{'link': 'http://ecstech.com/', 'text': 'ecst...   \n4  [{'link': 'http://www.cgi.com/', 'text': 'cgi....   \n5  [{'link': 'http://www.brillient.net/', 'text':...   \n6  [{'link': 'http://www.usnews.com/', 'text': 'u...   \n7  [{'link': 'https://www.google.com/search?ucbcb...   \n8  [{'link': 'http://www.parsons.com/', 'text': '...   \n9  [{'link': 'https://www.google.com/search?ucbcb...   \n\n                                           thumbnail  \\\n0  https://encrypted-tbn0.gstatic.com/images?q=tb...   \n1  https://encrypted-tbn0.gstatic.com/images?q=tb...   \n2  https://encrypted-tbn0.gstatic.com/images?q=tb...   \n3  https://encrypted-tbn0.gstatic.com/images?q=tb...   \n4  https://encrypted-tbn0.gstatic.com/images?q=tb...   \n5                                                NaN   \n6  https://encrypted-tbn0.gstatic.com/images?q=tb...   \n7                                                NaN   \n8  https://encrypted-tbn0.gstatic.com/images?q=tb...   \n9  https://encrypted-tbn0.gstatic.com/images?q=tb...   \n\n                                          extensions  \\\n0        [21 hours ago, Full-time, Health insurance]   \n1  [6 days ago, Full-time, Health insurance, Dent...   \n2                            [3 days ago, Full-time]   \n3                            [5 days ago, Full-time]   \n4                           [16 days ago, Full-time]   \n5                            [5 days ago, Full-time]   \n6  [19 days ago, Work from home, Full-time, Healt...   \n7                          [21 hours ago, Full-time]   \n8  [3 days ago, Full-time, Health insurance, Dent...   \n9            [17 days ago, Full-time, Paid time off]   \n\n                                              job_id     posted_at  \\\n0  eyJqb2JfdGl0bGUiOiJVbml2ZXJzaXR5LCBEYXRhIFNjaW...  21 hours ago   \n1  eyJqb2JfdGl0bGUiOiJEYXRhIFNjaWVudGlzdCIsImh0aW...    6 days ago   \n2  eyJqb2JfdGl0bGUiOiJEYXRhIFNjaWVudGlzdCBKb2JzIi...    3 days ago   \n3  eyJqb2JfdGl0bGUiOiJEYXRhIFNjaWVudGlzdCIsImh0aW...    5 days ago   \n4  eyJqb2JfdGl0bGUiOiJEYXRhIFNjaWVudGlzdCIsImh0aW...   16 days ago   \n5  eyJqb2JfdGl0bGUiOiJTZW5pb3IgRGF0YSBTY2llbnRpc3...    5 days ago   \n6  eyJqb2JfdGl0bGUiOiJIZWFsdGggRGF0YSBTY2llbnRpc3...   19 days ago   \n7  eyJqb2JfdGl0bGUiOiJEYXRhIFNjaWVudGlzdCBKb2JzIi...  21 hours ago   \n8  eyJqb2JfdGl0bGUiOiJTdGF0aXN0aWNpYW4vRGF0YSBTY2...    3 days ago   \n9  eyJqb2JfdGl0bGUiOiJEYXRhIFNjaWVudGlzdCwgSFVNQU...   17 days ago   \n\n  schedule_type work_from_home  \n0     Full-time            NaN  \n1     Full-time            NaN  \n2     Full-time            NaN  \n3     Full-time            NaN  \n4     Full-time            NaN  \n5     Full-time            NaN  \n6     Full-time           True  \n7     Full-time            NaN  \n8     Full-time            NaN  \n9     Full-time            NaN  ",
      "text/html": "<div>\n<style scoped>\n    .dataframe tbody tr th:only-of-type {\n        vertical-align: middle;\n    }\n\n    .dataframe tbody tr th {\n        vertical-align: top;\n    }\n\n    .dataframe thead th {\n        text-align: right;\n    }\n</style>\n<table border=\"1\" class=\"dataframe\">\n  <thead>\n    <tr style=\"text-align: right;\">\n      <th></th>\n      <th>title</th>\n      <th>company_name</th>\n      <th>location</th>\n      <th>via</th>\n      <th>description</th>\n      <th>job_highlights</th>\n      <th>related_links</th>\n      <th>thumbnail</th>\n      <th>extensions</th>\n      <th>job_id</th>\n      <th>posted_at</th>\n      <th>schedule_type</th>\n      <th>work_from_home</th>\n    </tr>\n  </thead>\n  <tbody>\n    <tr>\n      <th>0</th>\n      <td>University, Data Scientist Jobs</td>\n      <td>Booz Allen Hamilton</td>\n      <td>Washington, DC</td>\n      <td>via Clearance Jobs</td>\n      <td>Job Number: R0159609\\n\\nUniversity, Data Scien...</td>\n      <td>[{'title': 'Qualifications', 'items': ['Experi...</td>\n      <td>[{'link': 'http://www.boozallen.com/', 'text':...</td>\n      <td>https://encrypted-tbn0.gstatic.com/images?q=tb...</td>\n      <td>[21 hours ago, Full-time, Health insurance]</td>\n      <td>eyJqb2JfdGl0bGUiOiJVbml2ZXJzaXR5LCBEYXRhIFNjaW...</td>\n      <td>21 hours ago</td>\n      <td>Full-time</td>\n      <td>NaN</td>\n    </tr>\n    <tr>\n      <th>1</th>\n      <td>Data Scientist</td>\n      <td>ManTech</td>\n      <td>Alexandria, VA</td>\n      <td>via ManTech - Talentify</td>\n      <td>Secure our Nation, Ignite your Future\\n\\nEach ...</td>\n      <td>[{'title': 'Qualifications', 'items': ['Bachel...</td>\n      <td>[{'link': 'http://www.mantech.com/', 'text': '...</td>\n      <td>https://encrypted-tbn0.gstatic.com/images?q=tb...</td>\n      <td>[6 days ago, Full-time, Health insurance, Dent...</td>\n      <td>eyJqb2JfdGl0bGUiOiJEYXRhIFNjaWVudGlzdCIsImh0aW...</td>\n      <td>6 days ago</td>\n      <td>Full-time</td>\n      <td>NaN</td>\n    </tr>\n    <tr>\n      <th>2</th>\n      <td>Data Scientist Jobs</td>\n      <td>Deloitte</td>\n      <td>Rosslyn, VA</td>\n      <td>via Clearance Jobs</td>\n      <td>Do you want to build your brand by working for...</td>\n      <td>[{'title': 'Qualifications', 'items': ['Bachel...</td>\n      <td>[{'link': 'http://www.deloitte.com/', 'text': ...</td>\n      <td>https://encrypted-tbn0.gstatic.com/images?q=tb...</td>\n      <td>[3 days ago, Full-time]</td>\n      <td>eyJqb2JfdGl0bGUiOiJEYXRhIFNjaWVudGlzdCBKb2JzIi...</td>\n      <td>3 days ago</td>\n      <td>Full-time</td>\n      <td>NaN</td>\n    </tr>\n    <tr>\n      <th>3</th>\n      <td>Data Scientist</td>\n      <td>ECS</td>\n      <td>Washington, DC</td>\n      <td>via LinkedIn</td>\n      <td>ECS is seeking a Data Scientist to work in our...</td>\n      <td>[{'title': 'Qualifications', 'items': ['Demons...</td>\n      <td>[{'link': 'http://ecstech.com/', 'text': 'ecst...</td>\n      <td>https://encrypted-tbn0.gstatic.com/images?q=tb...</td>\n      <td>[5 days ago, Full-time]</td>\n      <td>eyJqb2JfdGl0bGUiOiJEYXRhIFNjaWVudGlzdCIsImh0aW...</td>\n      <td>5 days ago</td>\n      <td>Full-time</td>\n      <td>NaN</td>\n    </tr>\n    <tr>\n      <th>4</th>\n      <td>Data Scientist</td>\n      <td>CGI</td>\n      <td>Washington, DC (+1 other)</td>\n      <td>via The Muse</td>\n      <td>Position Description:\\n\\nThis is an exciting f...</td>\n      <td>[{'title': 'Qualifications', 'items': ['An int...</td>\n      <td>[{'link': 'http://www.cgi.com/', 'text': 'cgi....</td>\n      <td>https://encrypted-tbn0.gstatic.com/images?q=tb...</td>\n      <td>[16 days ago, Full-time]</td>\n      <td>eyJqb2JfdGl0bGUiOiJEYXRhIFNjaWVudGlzdCIsImh0aW...</td>\n      <td>16 days ago</td>\n      <td>Full-time</td>\n      <td>NaN</td>\n    </tr>\n    <tr>\n      <th>5</th>\n      <td>Senior Data Scientist</td>\n      <td>Brillient</td>\n      <td>Washington, DC</td>\n      <td>via ZipRecruiter</td>\n      <td>Brillient is seeking a Senior Data Scientist p...</td>\n      <td>[{'title': 'Responsibilities', 'items': ['It i...</td>\n      <td>[{'link': 'http://www.brillient.net/', 'text':...</td>\n      <td>NaN</td>\n      <td>[5 days ago, Full-time]</td>\n      <td>eyJqb2JfdGl0bGUiOiJTZW5pb3IgRGF0YSBTY2llbnRpc3...</td>\n      <td>5 days ago</td>\n      <td>Full-time</td>\n      <td>NaN</td>\n    </tr>\n    <tr>\n      <th>6</th>\n      <td>Health Data Scientist (Remote)</td>\n      <td>U.S. News &amp; World Report</td>\n      <td>Anywhere</td>\n      <td>via LinkedIn</td>\n      <td>U.S. News &amp; World Report is a multifaceted dig...</td>\n      <td>[{'title': 'Qualifications', 'items': ['You ha...</td>\n      <td>[{'link': 'http://www.usnews.com/', 'text': 'u...</td>\n      <td>https://encrypted-tbn0.gstatic.com/images?q=tb...</td>\n      <td>[19 days ago, Work from home, Full-time, Healt...</td>\n      <td>eyJqb2JfdGl0bGUiOiJIZWFsdGggRGF0YSBTY2llbnRpc3...</td>\n      <td>19 days ago</td>\n      <td>Full-time</td>\n      <td>True</td>\n    </tr>\n    <tr>\n      <th>7</th>\n      <td>Data Scientist Jobs</td>\n      <td>SPA</td>\n      <td>Alexandria, VA</td>\n      <td>via Clearance Jobs</td>\n      <td>Overview\\n\\nSystems Planning and Analysis, Inc...</td>\n      <td>[{'title': 'Qualifications', 'items': ['Bachel...</td>\n      <td>[{'link': 'https://www.google.com/search?ucbcb...</td>\n      <td>NaN</td>\n      <td>[21 hours ago, Full-time]</td>\n      <td>eyJqb2JfdGl0bGUiOiJEYXRhIFNjaWVudGlzdCBKb2JzIi...</td>\n      <td>21 hours ago</td>\n      <td>Full-time</td>\n      <td>NaN</td>\n    </tr>\n    <tr>\n      <th>8</th>\n      <td>Statistician/Data Scientist (Level III)</td>\n      <td>Parsons Corporation</td>\n      <td>Springfield, VA</td>\n      <td>via Careers At Parsons Corporation</td>\n      <td>In a world of possibilities, pursue one with e...</td>\n      <td>[{'title': 'Qualifications', 'items': ['Posses...</td>\n      <td>[{'link': 'http://www.parsons.com/', 'text': '...</td>\n      <td>https://encrypted-tbn0.gstatic.com/images?q=tb...</td>\n      <td>[3 days ago, Full-time, Health insurance, Dent...</td>\n      <td>eyJqb2JfdGl0bGUiOiJTdGF0aXN0aWNpYW4vRGF0YSBTY2...</td>\n      <td>3 days ago</td>\n      <td>Full-time</td>\n      <td>NaN</td>\n    </tr>\n    <tr>\n      <th>9</th>\n      <td>Data Scientist, HUMAN Federal</td>\n      <td>HUMAN</td>\n      <td>Washington, DC</td>\n      <td>via AngelList</td>\n      <td>HUMAN was founded in 2012 in a Brooklyn sci-fi...</td>\n      <td>[{'title': 'Qualifications', 'items': ['Knowle...</td>\n      <td>[{'link': 'https://www.google.com/search?ucbcb...</td>\n      <td>https://encrypted-tbn0.gstatic.com/images?q=tb...</td>\n      <td>[17 days ago, Full-time, Paid time off]</td>\n      <td>eyJqb2JfdGl0bGUiOiJEYXRhIFNjaWVudGlzdCwgSFVNQU...</td>\n      <td>17 days ago</td>\n      <td>Full-time</td>\n      <td>NaN</td>\n    </tr>\n  </tbody>\n</table>\n</div>"
     },
     "execution_count": 46,
     "metadata": {},
     "output_type": "execute_result"
    }
   ],
   "source": [
    "jobs_df2"
   ],
   "metadata": {
    "collapsed": false
   }
  },
  {
   "cell_type": "code",
   "execution_count": 35,
   "outputs": [],
   "source": [
    "jobs_df2.to_csv(\"delete.csv\")"
   ],
   "metadata": {
    "collapsed": false
   }
  },
  {
   "cell_type": "code",
   "execution_count": 38,
   "outputs": [],
   "source": [
    "jobs_df.to_csv(\"delete2.csv\")"
   ],
   "metadata": {
    "collapsed": false
   }
  },
  {
   "cell_type": "code",
   "execution_count": 44,
   "outputs": [
    {
     "name": "stdout",
     "output_type": "stream",
     "text": [
      "<class 'pandas.core.frame.DataFrame'>\n",
      "RangeIndex: 10 entries, 0 to 9\n",
      "Data columns (total 13 columns):\n",
      " #   Column          Non-Null Count  Dtype \n",
      "---  ------          --------------  ----- \n",
      " 0   title           10 non-null     object\n",
      " 1   company_name    10 non-null     object\n",
      " 2   location        10 non-null     object\n",
      " 3   via             10 non-null     object\n",
      " 4   description     10 non-null     object\n",
      " 5   job_highlights  10 non-null     object\n",
      " 6   related_links   10 non-null     object\n",
      " 7   thumbnail       8 non-null      object\n",
      " 8   extensions      10 non-null     object\n",
      " 9   job_id          10 non-null     object\n",
      " 10  posted_at       10 non-null     object\n",
      " 11  schedule_type   10 non-null     object\n",
      " 12  work_from_home  1 non-null      object\n",
      "dtypes: object(13)\n",
      "memory usage: 1.1+ KB\n"
     ]
    }
   ],
   "source": [
    "jobs_df2.info()"
   ],
   "metadata": {
    "collapsed": false
   }
  },
  {
   "cell_type": "code",
   "execution_count": null,
   "outputs": [],
   "source": [],
   "metadata": {
    "collapsed": false
   }
  }
 ],
 "metadata": {
  "kernelspec": {
   "display_name": "Python 3",
   "language": "python",
   "name": "python3"
  },
  "language_info": {
   "codemirror_mode": {
    "name": "ipython",
    "version": 2
   },
   "file_extension": ".py",
   "mimetype": "text/x-python",
   "name": "python",
   "nbconvert_exporter": "python",
   "pygments_lexer": "ipython2",
   "version": "2.7.6"
  }
 },
 "nbformat": 4,
 "nbformat_minor": 0
}

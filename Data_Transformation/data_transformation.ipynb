{
 "cells": [
  {
   "cell_type": "markdown",
   "metadata": {
    "collapsed": true,
    "pycharm": {
     "name": "#%% md\n"
    }
   },
   "source": [
    "![purple-divider](https://user-images.githubusercontent.com/7065401/52071927-c1cd7100-2562-11e9-908a-dde91ba14e59.png)\n",
    "\n",
    "# Data Transformation Cheat Sheet\n",
    "\n",
    "![purple-divider](https://user-images.githubusercontent.com/7065401/52071927-c1cd7100-2562-11e9-908a-dde91ba14e59.png)"
   ]
  },
  {
   "cell_type": "markdown",
   "source": [
    "# Table of Content\n",
    "\n",
    "1. Creating a Pandas Dataframe\n",
    "    - Setting an Index\n",
    "    - Sorting Dataframe\n",
    "2. Modifying Datetime\n",
    "    - Converting Year and Month\n",
    "3. Summary Statistics\n",
    "4. Column Wrangling & Feature Engineering\n",
    "    - Modifying All\n",
    "    - Modify the first appearance of Vision to year 1964\n",
    "5. Pivoting Data\n",
    "    - Wide\n",
    "    - Long\n",
    "6. Aggregating Data\n",
    "    - Calculating Percentage Share\n",
    "    - Calculating Unique Values\n",
    "7. Selecting, Indexing, Filtering & Slicing\n",
    "8. Filtering\n",
    "    - Filtering Multiple Values\n",
    "    - Retrieving Single and Multiple Columns\n",
    "    - Filtering then summarizing\n",
    "9. Modifying Dataframes\n",
    "    - Renaming Columns\n",
    "10. Appending Values\n",
    "11. Cleaning Null Values\n",
    "    - Filling Null Values on Dataframes\n",
    "    - Backward and Forward filling\n",
    "12. Cleaning All Values\n",
    "13. Dealing w/ Duplicates\n",
    "    - Duplicates in DataFrames\n",
    "14. Changing Datatypes\n",
    "15. Joining Data\n",
    "\n"
   ],
   "metadata": {
    "collapsed": false
   }
  },
  {
   "cell_type": "markdown",
   "source": [
    "![green-divider](https://user-images.githubusercontent.com/7065401/52071924-c003ad80-2562-11e9-8297-1c6595f8a7ff.png)\n",
    "\n",
    "## Libraries"
   ],
   "metadata": {
    "collapsed": false
   }
  },
  {
   "cell_type": "code",
   "execution_count": 161,
   "outputs": [],
   "source": [
    "import pandas as pd\n",
    "import numpy as np"
   ],
   "metadata": {
    "collapsed": false,
    "pycharm": {
     "name": "#%%\n"
    }
   }
  },
  {
   "cell_type": "code",
   "execution_count": 162,
   "outputs": [],
   "source": [
    "pd.read_csv?"
   ],
   "metadata": {
    "collapsed": false,
    "pycharm": {
     "name": "#%%\n"
    }
   }
  },
  {
   "cell_type": "code",
   "execution_count": 163,
   "outputs": [],
   "source": [
    "# Please see the Data Ingestion Cheat sheet to learn how to load data\n",
    "sales = pd.read_csv(\n",
    "    'data/sales_data.csv',\n",
    "    parse_dates=['Date']\n",
    ")"
   ],
   "metadata": {
    "collapsed": false,
    "pycharm": {
     "name": "#%%\n"
    }
   }
  },
  {
   "cell_type": "code",
   "execution_count": 164,
   "outputs": [
    {
     "data": {
      "text/plain": "   state  county  median_income  population  year        county_name  \\\n0     37      43        36711.0       10506  2011        Clay County   \n1     37      51        44861.0      316478  2011  Cumberland County   \n2     37      81        46288.0      483081  2011    Guilford County   \n3     37      99        36826.0       39574  2011     Jackson County   \n4     37     139        45298.0       40511  2011  Pasquotank County   \n\n       state_name  \n0  North Carolina  \n1  North Carolina  \n2  North Carolina  \n3  North Carolina  \n4  North Carolina  ",
      "text/html": "<div>\n<style scoped>\n    .dataframe tbody tr th:only-of-type {\n        vertical-align: middle;\n    }\n\n    .dataframe tbody tr th {\n        vertical-align: top;\n    }\n\n    .dataframe thead th {\n        text-align: right;\n    }\n</style>\n<table border=\"1\" class=\"dataframe\">\n  <thead>\n    <tr style=\"text-align: right;\">\n      <th></th>\n      <th>state</th>\n      <th>county</th>\n      <th>median_income</th>\n      <th>population</th>\n      <th>year</th>\n      <th>county_name</th>\n      <th>state_name</th>\n    </tr>\n  </thead>\n  <tbody>\n    <tr>\n      <th>0</th>\n      <td>37</td>\n      <td>43</td>\n      <td>36711.0</td>\n      <td>10506</td>\n      <td>2011</td>\n      <td>Clay County</td>\n      <td>North Carolina</td>\n    </tr>\n    <tr>\n      <th>1</th>\n      <td>37</td>\n      <td>51</td>\n      <td>44861.0</td>\n      <td>316478</td>\n      <td>2011</td>\n      <td>Cumberland County</td>\n      <td>North Carolina</td>\n    </tr>\n    <tr>\n      <th>2</th>\n      <td>37</td>\n      <td>81</td>\n      <td>46288.0</td>\n      <td>483081</td>\n      <td>2011</td>\n      <td>Guilford County</td>\n      <td>North Carolina</td>\n    </tr>\n    <tr>\n      <th>3</th>\n      <td>37</td>\n      <td>99</td>\n      <td>36826.0</td>\n      <td>39574</td>\n      <td>2011</td>\n      <td>Jackson County</td>\n      <td>North Carolina</td>\n    </tr>\n    <tr>\n      <th>4</th>\n      <td>37</td>\n      <td>139</td>\n      <td>45298.0</td>\n      <td>40511</td>\n      <td>2011</td>\n      <td>Pasquotank County</td>\n      <td>North Carolina</td>\n    </tr>\n  </tbody>\n</table>\n</div>"
     },
     "execution_count": 164,
     "metadata": {},
     "output_type": "execute_result"
    }
   ],
   "source": [
    "census_county = pd.read_csv(\"data/census_county.csv\")\n",
    "\n",
    "new = census_county[\"NAME\"].str.split(\", \", expand = True)\n",
    "census_county[\"county_name\"] = new[0]\n",
    "census_county[\"state_name\"] = new[1]\n",
    "\n",
    "census_county.drop(columns=['NAME'], inplace=True)\n",
    "census_county.head()"
   ],
   "metadata": {
    "collapsed": false,
    "pycharm": {
     "name": "#%%\n"
    }
   }
  },
  {
   "cell_type": "markdown",
   "source": [
    "The read_csv function is extremely powerful and you can specify many more parameters at import time. We can achive the same results with only one line by doing:"
   ],
   "metadata": {
    "collapsed": false
   }
  },
  {
   "cell_type": "markdown",
   "source": [
    "![purple-divider](https://user-images.githubusercontent.com/7065401/52071927-c1cd7100-2562-11e9-908a-dde91ba14e59.png)\n",
    "# Creating a Pandas Dataframe\n"
   ],
   "metadata": {
    "collapsed": false
   }
  },
  {
   "cell_type": "code",
   "execution_count": 165,
   "outputs": [],
   "source": [
    "country_stat = pd.DataFrame({\n",
    "    'Population': [35.467, 63.951, 80.94 , 60.665, 127.061, 64.511, 318.523],\n",
    "    'GDP': [\n",
    "        1785387,\n",
    "        2833687,\n",
    "        3874437,\n",
    "        2167744,\n",
    "        4602367,\n",
    "        2950039,\n",
    "        17348075\n",
    "    ],\n",
    "    'Surface Area': [\n",
    "        9984670,\n",
    "        640679,\n",
    "        357114,\n",
    "        301336,\n",
    "        377930,\n",
    "        242495,\n",
    "        9525067\n",
    "    ],\n",
    "    'HDI': [\n",
    "        0.913,\n",
    "        0.888,\n",
    "        0.916,\n",
    "        0.873,\n",
    "        0.891,\n",
    "        0.907,\n",
    "        0.915\n",
    "    ],\n",
    "    'Continent': [\n",
    "        'America',\n",
    "        'Europe',\n",
    "        'Europe',\n",
    "        'Europe',\n",
    "        'Asia',\n",
    "        'Europe',\n",
    "        'America'\n",
    "    ]\n",
    "}, columns=['Population', 'GDP', 'Surface Area', 'HDI', 'Continent'])"
   ],
   "metadata": {
    "collapsed": false,
    "pycharm": {
     "name": "#%%\n"
    }
   }
  },
  {
   "cell_type": "markdown",
   "source": [
    "![green-divider](https://user-images.githubusercontent.com/7065401/52071924-c003ad80-2562-11e9-8297-1c6595f8a7ff.png)\n",
    "\n",
    "# Setting the Index"
   ],
   "metadata": {
    "collapsed": false
   }
  },
  {
   "cell_type": "code",
   "execution_count": 166,
   "outputs": [],
   "source": [
    "country_stat.index = [\n",
    "    'Canada',\n",
    "    'France',\n",
    "    'Germany',\n",
    "    'Italy',\n",
    "    'Japan',\n",
    "    'United Kingdom',\n",
    "    'United States',\n",
    "]"
   ],
   "metadata": {
    "collapsed": false,
    "pycharm": {
     "name": "#%%\n"
    }
   }
  },
  {
   "cell_type": "code",
   "execution_count": 167,
   "outputs": [
    {
     "data": {
      "text/plain": "                Population       GDP  Surface Area    HDI Continent\nGermany             80.940   3874437        357114  0.916    Europe\nUnited Kingdom      64.511   2950039        242495  0.907    Europe\nFrance              63.951   2833687        640679  0.888    Europe\nItaly               60.665   2167744        301336  0.873    Europe\nJapan              127.061   4602367        377930  0.891      Asia\nUnited States      318.523  17348075       9525067  0.915   America\nCanada              35.467   1785387       9984670  0.913   America",
      "text/html": "<div>\n<style scoped>\n    .dataframe tbody tr th:only-of-type {\n        vertical-align: middle;\n    }\n\n    .dataframe tbody tr th {\n        vertical-align: top;\n    }\n\n    .dataframe thead th {\n        text-align: right;\n    }\n</style>\n<table border=\"1\" class=\"dataframe\">\n  <thead>\n    <tr style=\"text-align: right;\">\n      <th></th>\n      <th>Population</th>\n      <th>GDP</th>\n      <th>Surface Area</th>\n      <th>HDI</th>\n      <th>Continent</th>\n    </tr>\n  </thead>\n  <tbody>\n    <tr>\n      <th>Germany</th>\n      <td>80.940</td>\n      <td>3874437</td>\n      <td>357114</td>\n      <td>0.916</td>\n      <td>Europe</td>\n    </tr>\n    <tr>\n      <th>United Kingdom</th>\n      <td>64.511</td>\n      <td>2950039</td>\n      <td>242495</td>\n      <td>0.907</td>\n      <td>Europe</td>\n    </tr>\n    <tr>\n      <th>France</th>\n      <td>63.951</td>\n      <td>2833687</td>\n      <td>640679</td>\n      <td>0.888</td>\n      <td>Europe</td>\n    </tr>\n    <tr>\n      <th>Italy</th>\n      <td>60.665</td>\n      <td>2167744</td>\n      <td>301336</td>\n      <td>0.873</td>\n      <td>Europe</td>\n    </tr>\n    <tr>\n      <th>Japan</th>\n      <td>127.061</td>\n      <td>4602367</td>\n      <td>377930</td>\n      <td>0.891</td>\n      <td>Asia</td>\n    </tr>\n    <tr>\n      <th>United States</th>\n      <td>318.523</td>\n      <td>17348075</td>\n      <td>9525067</td>\n      <td>0.915</td>\n      <td>America</td>\n    </tr>\n    <tr>\n      <th>Canada</th>\n      <td>35.467</td>\n      <td>1785387</td>\n      <td>9984670</td>\n      <td>0.913</td>\n      <td>America</td>\n    </tr>\n  </tbody>\n</table>\n</div>"
     },
     "execution_count": 167,
     "metadata": {},
     "output_type": "execute_result"
    }
   ],
   "source": [
    "country_stat.sort_values(by=['Continent','Population','HDI'], ascending=False)"
   ],
   "metadata": {
    "collapsed": false,
    "pycharm": {
     "name": "#%%\n"
    }
   }
  },
  {
   "cell_type": "code",
   "execution_count": 168,
   "outputs": [],
   "source": [
    "btc_price = pd.read_csv(\n",
    "    'data/btc-market-price.csv',\n",
    "    header=None,\n",
    "    names=['Timestamp', 'Price'],\n",
    "    index_col=0,\n",
    "    parse_dates=True\n",
    ")"
   ],
   "metadata": {
    "collapsed": false,
    "pycharm": {
     "name": "#%%\n"
    }
   }
  },
  {
   "cell_type": "code",
   "execution_count": 169,
   "outputs": [
    {
     "data": {
      "text/plain": "                  Price\nTimestamp              \n2017-04-02  1099.169125\n2017-04-03  1141.813000\n2017-04-04  1141.600363\n2017-04-05  1133.079314\n2017-04-06  1196.307937",
      "text/html": "<div>\n<style scoped>\n    .dataframe tbody tr th:only-of-type {\n        vertical-align: middle;\n    }\n\n    .dataframe tbody tr th {\n        vertical-align: top;\n    }\n\n    .dataframe thead th {\n        text-align: right;\n    }\n</style>\n<table border=\"1\" class=\"dataframe\">\n  <thead>\n    <tr style=\"text-align: right;\">\n      <th></th>\n      <th>Price</th>\n    </tr>\n    <tr>\n      <th>Timestamp</th>\n      <th></th>\n    </tr>\n  </thead>\n  <tbody>\n    <tr>\n      <th>2017-04-02</th>\n      <td>1099.169125</td>\n    </tr>\n    <tr>\n      <th>2017-04-03</th>\n      <td>1141.813000</td>\n    </tr>\n    <tr>\n      <th>2017-04-04</th>\n      <td>1141.600363</td>\n    </tr>\n    <tr>\n      <th>2017-04-05</th>\n      <td>1133.079314</td>\n    </tr>\n    <tr>\n      <th>2017-04-06</th>\n      <td>1196.307937</td>\n    </tr>\n  </tbody>\n</table>\n</div>"
     },
     "execution_count": 169,
     "metadata": {},
     "output_type": "execute_result"
    }
   ],
   "source": [
    "btc_price.head()"
   ],
   "metadata": {
    "collapsed": false,
    "pycharm": {
     "name": "#%%\n"
    }
   }
  },
  {
   "cell_type": "code",
   "execution_count": 170,
   "outputs": [
    {
     "data": {
      "text/plain": "                name     sex  first_appearance\n0         Spider-Man    male              1962\n1    Captain America    male              1941\n2          Wolverine    male              1974\n3           Iron Man    male              1963\n4               Thor    male              1963\n5              Thing    male              1961\n6   Mister Fantastic    male              1961\n7               Hulk    male              1962\n8              Beast    male              1963\n9    Invisible Woman  female              1961\n10             Storm  female              1975\n11             Namor    male              1939\n12           Hawkeye    male              1964\n13         Daredevil    male              1964\n14    Doctor Strange    male              1963\n15          Hank Pym    male              1962\n16     Scarlet Witch  female              1964\n17              Wasp  female              1963\n18       Black Widow  female              1964\n19            Vision    male              1968",
      "text/html": "<div>\n<style scoped>\n    .dataframe tbody tr th:only-of-type {\n        vertical-align: middle;\n    }\n\n    .dataframe tbody tr th {\n        vertical-align: top;\n    }\n\n    .dataframe thead th {\n        text-align: right;\n    }\n</style>\n<table border=\"1\" class=\"dataframe\">\n  <thead>\n    <tr style=\"text-align: right;\">\n      <th></th>\n      <th>name</th>\n      <th>sex</th>\n      <th>first_appearance</th>\n    </tr>\n  </thead>\n  <tbody>\n    <tr>\n      <th>0</th>\n      <td>Spider-Man</td>\n      <td>male</td>\n      <td>1962</td>\n    </tr>\n    <tr>\n      <th>1</th>\n      <td>Captain America</td>\n      <td>male</td>\n      <td>1941</td>\n    </tr>\n    <tr>\n      <th>2</th>\n      <td>Wolverine</td>\n      <td>male</td>\n      <td>1974</td>\n    </tr>\n    <tr>\n      <th>3</th>\n      <td>Iron Man</td>\n      <td>male</td>\n      <td>1963</td>\n    </tr>\n    <tr>\n      <th>4</th>\n      <td>Thor</td>\n      <td>male</td>\n      <td>1963</td>\n    </tr>\n    <tr>\n      <th>5</th>\n      <td>Thing</td>\n      <td>male</td>\n      <td>1961</td>\n    </tr>\n    <tr>\n      <th>6</th>\n      <td>Mister Fantastic</td>\n      <td>male</td>\n      <td>1961</td>\n    </tr>\n    <tr>\n      <th>7</th>\n      <td>Hulk</td>\n      <td>male</td>\n      <td>1962</td>\n    </tr>\n    <tr>\n      <th>8</th>\n      <td>Beast</td>\n      <td>male</td>\n      <td>1963</td>\n    </tr>\n    <tr>\n      <th>9</th>\n      <td>Invisible Woman</td>\n      <td>female</td>\n      <td>1961</td>\n    </tr>\n    <tr>\n      <th>10</th>\n      <td>Storm</td>\n      <td>female</td>\n      <td>1975</td>\n    </tr>\n    <tr>\n      <th>11</th>\n      <td>Namor</td>\n      <td>male</td>\n      <td>1939</td>\n    </tr>\n    <tr>\n      <th>12</th>\n      <td>Hawkeye</td>\n      <td>male</td>\n      <td>1964</td>\n    </tr>\n    <tr>\n      <th>13</th>\n      <td>Daredevil</td>\n      <td>male</td>\n      <td>1964</td>\n    </tr>\n    <tr>\n      <th>14</th>\n      <td>Doctor Strange</td>\n      <td>male</td>\n      <td>1963</td>\n    </tr>\n    <tr>\n      <th>15</th>\n      <td>Hank Pym</td>\n      <td>male</td>\n      <td>1962</td>\n    </tr>\n    <tr>\n      <th>16</th>\n      <td>Scarlet Witch</td>\n      <td>female</td>\n      <td>1964</td>\n    </tr>\n    <tr>\n      <th>17</th>\n      <td>Wasp</td>\n      <td>female</td>\n      <td>1963</td>\n    </tr>\n    <tr>\n      <th>18</th>\n      <td>Black Widow</td>\n      <td>female</td>\n      <td>1964</td>\n    </tr>\n    <tr>\n      <th>19</th>\n      <td>Vision</td>\n      <td>male</td>\n      <td>1968</td>\n    </tr>\n  </tbody>\n</table>\n</div>"
     },
     "execution_count": 170,
     "metadata": {},
     "output_type": "execute_result"
    }
   ],
   "source": [
    "marvel_data = [\n",
    "    ['Spider-Man', 'male', 1962],\n",
    "    ['Captain America', 'male', 1941],\n",
    "    ['Wolverine', 'male', 1974],\n",
    "    ['Iron Man', 'male', 1963],\n",
    "    ['Thor', 'male', 1963],\n",
    "    ['Thing', 'male', 1961],\n",
    "    ['Mister Fantastic', 'male', 1961],\n",
    "    ['Hulk', 'male', 1962],\n",
    "    ['Beast', 'male', 1963],\n",
    "    ['Invisible Woman', 'female', 1961],\n",
    "    ['Storm', 'female', 1975],\n",
    "    ['Namor', 'male', 1939],\n",
    "    ['Hawkeye', 'male', 1964],\n",
    "    ['Daredevil', 'male', 1964],\n",
    "    ['Doctor Strange', 'male', 1963],\n",
    "    ['Hank Pym', 'male', 1962],\n",
    "    ['Scarlet Witch', 'female', 1964],\n",
    "    ['Wasp', 'female', 1963],\n",
    "    ['Black Widow', 'female', 1964],\n",
    "    ['Vision', 'male', 1968]\n",
    "]\n",
    "\n",
    "marvel_df = pd.DataFrame(data=marvel_data,\n",
    "                         columns=['name', 'sex', 'first_appearance'])\n",
    "marvel_df"
   ],
   "metadata": {
    "collapsed": false,
    "pycharm": {
     "name": "#%%\n"
    }
   }
  },
  {
   "cell_type": "markdown",
   "source": [
    "![purple-divider](https://user-images.githubusercontent.com/7065401/52071927-c1cd7100-2562-11e9-908a-dde91ba14e59.png)"
   ],
   "metadata": {
    "collapsed": false
   }
  },
  {
   "cell_type": "markdown",
   "source": [
    "# Modifying Datetime"
   ],
   "metadata": {
    "collapsed": false
   }
  },
  {
   "cell_type": "code",
   "execution_count": 171,
   "outputs": [
    {
     "data": {
      "text/plain": "Price    float64\ndtype: object"
     },
     "execution_count": 171,
     "metadata": {},
     "output_type": "execute_result"
    }
   ],
   "source": [
    "btc_price.dtypes"
   ],
   "metadata": {
    "collapsed": false,
    "pycharm": {
     "name": "#%%\n"
    }
   }
  },
  {
   "cell_type": "code",
   "execution_count": 172,
   "outputs": [
    {
     "data": {
      "text/plain": "Timestamp    datetime64[ns]\nPrice               float64\ndtype: object"
     },
     "execution_count": 172,
     "metadata": {},
     "output_type": "execute_result"
    }
   ],
   "source": [
    "btc_price = btc_price.reset_index()\n",
    "btc_price['Timestamp'] = pd.to_datetime(btc_price['Timestamp'])\n",
    "btc_price.dtypes"
   ],
   "metadata": {
    "collapsed": false,
    "pycharm": {
     "name": "#%%\n"
    }
   }
  },
  {
   "cell_type": "code",
   "execution_count": 173,
   "outputs": [],
   "source": [
    "btc_price.set_index('Timestamp', inplace=True)"
   ],
   "metadata": {
    "collapsed": false,
    "pycharm": {
     "name": "#%%\n"
    }
   }
  },
  {
   "cell_type": "code",
   "execution_count": 174,
   "outputs": [
    {
     "data": {
      "text/plain": "                  Price\nTimestamp              \n2017-09-29  4193.574667\n2017-09-30  4335.368317\n2017-10-01  4360.722967\n2017-10-02  4386.883750\n2017-10-03  4293.306600\n2017-10-04  4225.175000\n2017-10-05  4338.852000",
      "text/html": "<div>\n<style scoped>\n    .dataframe tbody tr th:only-of-type {\n        vertical-align: middle;\n    }\n\n    .dataframe tbody tr th {\n        vertical-align: top;\n    }\n\n    .dataframe thead th {\n        text-align: right;\n    }\n</style>\n<table border=\"1\" class=\"dataframe\">\n  <thead>\n    <tr style=\"text-align: right;\">\n      <th></th>\n      <th>Price</th>\n    </tr>\n    <tr>\n      <th>Timestamp</th>\n      <th></th>\n    </tr>\n  </thead>\n  <tbody>\n    <tr>\n      <th>2017-09-29</th>\n      <td>4193.574667</td>\n    </tr>\n    <tr>\n      <th>2017-09-30</th>\n      <td>4335.368317</td>\n    </tr>\n    <tr>\n      <th>2017-10-01</th>\n      <td>4360.722967</td>\n    </tr>\n    <tr>\n      <th>2017-10-02</th>\n      <td>4386.883750</td>\n    </tr>\n    <tr>\n      <th>2017-10-03</th>\n      <td>4293.306600</td>\n    </tr>\n    <tr>\n      <th>2017-10-04</th>\n      <td>4225.175000</td>\n    </tr>\n    <tr>\n      <th>2017-10-05</th>\n      <td>4338.852000</td>\n    </tr>\n  </tbody>\n</table>\n</div>"
     },
     "execution_count": 174,
     "metadata": {},
     "output_type": "execute_result"
    }
   ],
   "source": [
    "btc_price.loc['2017-09-29':'2017-10-05']"
   ],
   "metadata": {
    "collapsed": false,
    "pycharm": {
     "name": "#%%\n"
    }
   }
  },
  {
   "cell_type": "code",
   "execution_count": 175,
   "outputs": [
    {
     "data": {
      "text/plain": "                name     sex  first_appearance  years_since\n0         Spider-Man    male              1962           60\n1    Captain America    male              1941           81\n2          Wolverine    male              1974           48\n3           Iron Man    male              1963           59\n4               Thor    male              1963           59\n5              Thing    male              1961           61\n6   Mister Fantastic    male              1961           61\n7               Hulk    male              1962           60\n8              Beast    male              1963           59\n9    Invisible Woman  female              1961           61\n10             Storm  female              1975           47\n11             Namor    male              1939           83\n12           Hawkeye    male              1964           58\n13         Daredevil    male              1964           58\n14    Doctor Strange    male              1963           59\n15          Hank Pym    male              1962           60\n16     Scarlet Witch  female              1964           58\n17              Wasp  female              1963           59\n18       Black Widow  female              1964           58\n19            Vision    male              1968           54",
      "text/html": "<div>\n<style scoped>\n    .dataframe tbody tr th:only-of-type {\n        vertical-align: middle;\n    }\n\n    .dataframe tbody tr th {\n        vertical-align: top;\n    }\n\n    .dataframe thead th {\n        text-align: right;\n    }\n</style>\n<table border=\"1\" class=\"dataframe\">\n  <thead>\n    <tr style=\"text-align: right;\">\n      <th></th>\n      <th>name</th>\n      <th>sex</th>\n      <th>first_appearance</th>\n      <th>years_since</th>\n    </tr>\n  </thead>\n  <tbody>\n    <tr>\n      <th>0</th>\n      <td>Spider-Man</td>\n      <td>male</td>\n      <td>1962</td>\n      <td>60</td>\n    </tr>\n    <tr>\n      <th>1</th>\n      <td>Captain America</td>\n      <td>male</td>\n      <td>1941</td>\n      <td>81</td>\n    </tr>\n    <tr>\n      <th>2</th>\n      <td>Wolverine</td>\n      <td>male</td>\n      <td>1974</td>\n      <td>48</td>\n    </tr>\n    <tr>\n      <th>3</th>\n      <td>Iron Man</td>\n      <td>male</td>\n      <td>1963</td>\n      <td>59</td>\n    </tr>\n    <tr>\n      <th>4</th>\n      <td>Thor</td>\n      <td>male</td>\n      <td>1963</td>\n      <td>59</td>\n    </tr>\n    <tr>\n      <th>5</th>\n      <td>Thing</td>\n      <td>male</td>\n      <td>1961</td>\n      <td>61</td>\n    </tr>\n    <tr>\n      <th>6</th>\n      <td>Mister Fantastic</td>\n      <td>male</td>\n      <td>1961</td>\n      <td>61</td>\n    </tr>\n    <tr>\n      <th>7</th>\n      <td>Hulk</td>\n      <td>male</td>\n      <td>1962</td>\n      <td>60</td>\n    </tr>\n    <tr>\n      <th>8</th>\n      <td>Beast</td>\n      <td>male</td>\n      <td>1963</td>\n      <td>59</td>\n    </tr>\n    <tr>\n      <th>9</th>\n      <td>Invisible Woman</td>\n      <td>female</td>\n      <td>1961</td>\n      <td>61</td>\n    </tr>\n    <tr>\n      <th>10</th>\n      <td>Storm</td>\n      <td>female</td>\n      <td>1975</td>\n      <td>47</td>\n    </tr>\n    <tr>\n      <th>11</th>\n      <td>Namor</td>\n      <td>male</td>\n      <td>1939</td>\n      <td>83</td>\n    </tr>\n    <tr>\n      <th>12</th>\n      <td>Hawkeye</td>\n      <td>male</td>\n      <td>1964</td>\n      <td>58</td>\n    </tr>\n    <tr>\n      <th>13</th>\n      <td>Daredevil</td>\n      <td>male</td>\n      <td>1964</td>\n      <td>58</td>\n    </tr>\n    <tr>\n      <th>14</th>\n      <td>Doctor Strange</td>\n      <td>male</td>\n      <td>1963</td>\n      <td>59</td>\n    </tr>\n    <tr>\n      <th>15</th>\n      <td>Hank Pym</td>\n      <td>male</td>\n      <td>1962</td>\n      <td>60</td>\n    </tr>\n    <tr>\n      <th>16</th>\n      <td>Scarlet Witch</td>\n      <td>female</td>\n      <td>1964</td>\n      <td>58</td>\n    </tr>\n    <tr>\n      <th>17</th>\n      <td>Wasp</td>\n      <td>female</td>\n      <td>1963</td>\n      <td>59</td>\n    </tr>\n    <tr>\n      <th>18</th>\n      <td>Black Widow</td>\n      <td>female</td>\n      <td>1964</td>\n      <td>58</td>\n    </tr>\n    <tr>\n      <th>19</th>\n      <td>Vision</td>\n      <td>male</td>\n      <td>1968</td>\n      <td>54</td>\n    </tr>\n  </tbody>\n</table>\n</div>"
     },
     "execution_count": 175,
     "metadata": {},
     "output_type": "execute_result"
    }
   ],
   "source": [
    "import datetime\n",
    "\n",
    "year = datetime.date.today().year\n",
    "\n",
    "marvel_df['years_since'] = year - marvel_df['first_appearance']\n",
    "marvel_df"
   ],
   "metadata": {
    "collapsed": false,
    "pycharm": {
     "name": "#%%\n"
    }
   }
  },
  {
   "cell_type": "markdown",
   "source": [
    "## Dealing with Dates"
   ],
   "metadata": {
    "collapsed": false
   }
  },
  {
   "cell_type": "code",
   "execution_count": 176,
   "outputs": [
    {
     "data": {
      "text/plain": "             Date  Day  Month  Year  Customer_Age       Age_Group  \\\n0      2013-11-26   26     11  2013            19     Youth (<25)   \n1      2015-11-26   26     11  2015            19     Youth (<25)   \n2      2014-03-23   23      3  2014            49  Adults (35-64)   \n3      2016-03-23   23      3  2016            49  Adults (35-64)   \n4      2014-05-15   15      5  2014            47  Adults (35-64)   \n...           ...  ...    ...   ...           ...             ...   \n113031 2016-04-12   12      4  2016            41  Adults (35-64)   \n113032 2014-04-02    2      4  2014            18     Youth (<25)   \n113033 2016-04-02    2      4  2016            18     Youth (<25)   \n113034 2014-03-04    4      3  2014            37  Adults (35-64)   \n113035 2016-03-04    4      3  2016            37  Adults (35-64)   \n\n       Customer_Gender         Country             State Product_Category  \\\n0                    M          Canada  British Columbia      Accessories   \n1                    M          Canada  British Columbia      Accessories   \n2                    M       Australia   New South Wales      Accessories   \n3                    M       Australia   New South Wales      Accessories   \n4                    F       Australia   New South Wales      Accessories   \n...                ...             ...               ...              ...   \n113031               M  United Kingdom           England         Clothing   \n113032               M       Australia        Queensland         Clothing   \n113033               M       Australia        Queensland         Clothing   \n113034               F          France     Seine (Paris)         Clothing   \n113035               F          France     Seine (Paris)         Clothing   \n\n       Sub_Category              Product  Order_Quantity  Unit_Cost  \\\n0        Bike Racks  Hitch Rack - 4-Bike               8         45   \n1        Bike Racks  Hitch Rack - 4-Bike               8         45   \n2        Bike Racks  Hitch Rack - 4-Bike              23         45   \n3        Bike Racks  Hitch Rack - 4-Bike              20         45   \n4        Bike Racks  Hitch Rack - 4-Bike               4         45   \n...             ...                  ...             ...        ...   \n113031        Vests      Classic Vest, S               3         24   \n113032        Vests      Classic Vest, M              22         24   \n113033        Vests      Classic Vest, M              22         24   \n113034        Vests      Classic Vest, L              24         24   \n113035        Vests      Classic Vest, L              23         24   \n\n        Unit_Price  Profit  Cost  Revenue  \n0              120     590   360      950  \n1              120     590   360      950  \n2              120    1366  1035     2401  \n3              120    1188   900     2088  \n4              120     238   180      418  \n...            ...     ...   ...      ...  \n113031          64     112    72      184  \n113032          64     655   528     1183  \n113033          64     655   528     1183  \n113034          64     684   576     1260  \n113035          64     655   552     1207  \n\n[113036 rows x 18 columns]",
      "text/html": "<div>\n<style scoped>\n    .dataframe tbody tr th:only-of-type {\n        vertical-align: middle;\n    }\n\n    .dataframe tbody tr th {\n        vertical-align: top;\n    }\n\n    .dataframe thead th {\n        text-align: right;\n    }\n</style>\n<table border=\"1\" class=\"dataframe\">\n  <thead>\n    <tr style=\"text-align: right;\">\n      <th></th>\n      <th>Date</th>\n      <th>Day</th>\n      <th>Month</th>\n      <th>Year</th>\n      <th>Customer_Age</th>\n      <th>Age_Group</th>\n      <th>Customer_Gender</th>\n      <th>Country</th>\n      <th>State</th>\n      <th>Product_Category</th>\n      <th>Sub_Category</th>\n      <th>Product</th>\n      <th>Order_Quantity</th>\n      <th>Unit_Cost</th>\n      <th>Unit_Price</th>\n      <th>Profit</th>\n      <th>Cost</th>\n      <th>Revenue</th>\n    </tr>\n  </thead>\n  <tbody>\n    <tr>\n      <th>0</th>\n      <td>2013-11-26</td>\n      <td>26</td>\n      <td>11</td>\n      <td>2013</td>\n      <td>19</td>\n      <td>Youth (&lt;25)</td>\n      <td>M</td>\n      <td>Canada</td>\n      <td>British Columbia</td>\n      <td>Accessories</td>\n      <td>Bike Racks</td>\n      <td>Hitch Rack - 4-Bike</td>\n      <td>8</td>\n      <td>45</td>\n      <td>120</td>\n      <td>590</td>\n      <td>360</td>\n      <td>950</td>\n    </tr>\n    <tr>\n      <th>1</th>\n      <td>2015-11-26</td>\n      <td>26</td>\n      <td>11</td>\n      <td>2015</td>\n      <td>19</td>\n      <td>Youth (&lt;25)</td>\n      <td>M</td>\n      <td>Canada</td>\n      <td>British Columbia</td>\n      <td>Accessories</td>\n      <td>Bike Racks</td>\n      <td>Hitch Rack - 4-Bike</td>\n      <td>8</td>\n      <td>45</td>\n      <td>120</td>\n      <td>590</td>\n      <td>360</td>\n      <td>950</td>\n    </tr>\n    <tr>\n      <th>2</th>\n      <td>2014-03-23</td>\n      <td>23</td>\n      <td>3</td>\n      <td>2014</td>\n      <td>49</td>\n      <td>Adults (35-64)</td>\n      <td>M</td>\n      <td>Australia</td>\n      <td>New South Wales</td>\n      <td>Accessories</td>\n      <td>Bike Racks</td>\n      <td>Hitch Rack - 4-Bike</td>\n      <td>23</td>\n      <td>45</td>\n      <td>120</td>\n      <td>1366</td>\n      <td>1035</td>\n      <td>2401</td>\n    </tr>\n    <tr>\n      <th>3</th>\n      <td>2016-03-23</td>\n      <td>23</td>\n      <td>3</td>\n      <td>2016</td>\n      <td>49</td>\n      <td>Adults (35-64)</td>\n      <td>M</td>\n      <td>Australia</td>\n      <td>New South Wales</td>\n      <td>Accessories</td>\n      <td>Bike Racks</td>\n      <td>Hitch Rack - 4-Bike</td>\n      <td>20</td>\n      <td>45</td>\n      <td>120</td>\n      <td>1188</td>\n      <td>900</td>\n      <td>2088</td>\n    </tr>\n    <tr>\n      <th>4</th>\n      <td>2014-05-15</td>\n      <td>15</td>\n      <td>5</td>\n      <td>2014</td>\n      <td>47</td>\n      <td>Adults (35-64)</td>\n      <td>F</td>\n      <td>Australia</td>\n      <td>New South Wales</td>\n      <td>Accessories</td>\n      <td>Bike Racks</td>\n      <td>Hitch Rack - 4-Bike</td>\n      <td>4</td>\n      <td>45</td>\n      <td>120</td>\n      <td>238</td>\n      <td>180</td>\n      <td>418</td>\n    </tr>\n    <tr>\n      <th>...</th>\n      <td>...</td>\n      <td>...</td>\n      <td>...</td>\n      <td>...</td>\n      <td>...</td>\n      <td>...</td>\n      <td>...</td>\n      <td>...</td>\n      <td>...</td>\n      <td>...</td>\n      <td>...</td>\n      <td>...</td>\n      <td>...</td>\n      <td>...</td>\n      <td>...</td>\n      <td>...</td>\n      <td>...</td>\n      <td>...</td>\n    </tr>\n    <tr>\n      <th>113031</th>\n      <td>2016-04-12</td>\n      <td>12</td>\n      <td>4</td>\n      <td>2016</td>\n      <td>41</td>\n      <td>Adults (35-64)</td>\n      <td>M</td>\n      <td>United Kingdom</td>\n      <td>England</td>\n      <td>Clothing</td>\n      <td>Vests</td>\n      <td>Classic Vest, S</td>\n      <td>3</td>\n      <td>24</td>\n      <td>64</td>\n      <td>112</td>\n      <td>72</td>\n      <td>184</td>\n    </tr>\n    <tr>\n      <th>113032</th>\n      <td>2014-04-02</td>\n      <td>2</td>\n      <td>4</td>\n      <td>2014</td>\n      <td>18</td>\n      <td>Youth (&lt;25)</td>\n      <td>M</td>\n      <td>Australia</td>\n      <td>Queensland</td>\n      <td>Clothing</td>\n      <td>Vests</td>\n      <td>Classic Vest, M</td>\n      <td>22</td>\n      <td>24</td>\n      <td>64</td>\n      <td>655</td>\n      <td>528</td>\n      <td>1183</td>\n    </tr>\n    <tr>\n      <th>113033</th>\n      <td>2016-04-02</td>\n      <td>2</td>\n      <td>4</td>\n      <td>2016</td>\n      <td>18</td>\n      <td>Youth (&lt;25)</td>\n      <td>M</td>\n      <td>Australia</td>\n      <td>Queensland</td>\n      <td>Clothing</td>\n      <td>Vests</td>\n      <td>Classic Vest, M</td>\n      <td>22</td>\n      <td>24</td>\n      <td>64</td>\n      <td>655</td>\n      <td>528</td>\n      <td>1183</td>\n    </tr>\n    <tr>\n      <th>113034</th>\n      <td>2014-03-04</td>\n      <td>4</td>\n      <td>3</td>\n      <td>2014</td>\n      <td>37</td>\n      <td>Adults (35-64)</td>\n      <td>F</td>\n      <td>France</td>\n      <td>Seine (Paris)</td>\n      <td>Clothing</td>\n      <td>Vests</td>\n      <td>Classic Vest, L</td>\n      <td>24</td>\n      <td>24</td>\n      <td>64</td>\n      <td>684</td>\n      <td>576</td>\n      <td>1260</td>\n    </tr>\n    <tr>\n      <th>113035</th>\n      <td>2016-03-04</td>\n      <td>4</td>\n      <td>3</td>\n      <td>2016</td>\n      <td>37</td>\n      <td>Adults (35-64)</td>\n      <td>F</td>\n      <td>France</td>\n      <td>Seine (Paris)</td>\n      <td>Clothing</td>\n      <td>Vests</td>\n      <td>Classic Vest, L</td>\n      <td>23</td>\n      <td>24</td>\n      <td>64</td>\n      <td>655</td>\n      <td>552</td>\n      <td>1207</td>\n    </tr>\n  </tbody>\n</table>\n<p>113036 rows × 18 columns</p>\n</div>"
     },
     "execution_count": 176,
     "metadata": {},
     "output_type": "execute_result"
    }
   ],
   "source": [
    "sales['Year'] = sales['Date'].dt.year\n",
    "sales['Month'] = sales['Date'].dt.month\n",
    "sales"
   ],
   "metadata": {
    "collapsed": false,
    "pycharm": {
     "name": "#%%\n"
    }
   }
  },
  {
   "cell_type": "markdown",
   "source": [
    "![green-divider](https://user-images.githubusercontent.com/7065401/52071924-c003ad80-2562-11e9-8297-1c6595f8a7ff.png)\n",
    "# Summary Statistics"
   ],
   "metadata": {
    "collapsed": false
   }
  },
  {
   "cell_type": "code",
   "execution_count": 177,
   "outputs": [
    {
     "data": {
      "text/plain": "        Date  Day  Month  Year  Customer_Age       Age_Group Customer_Gender  \\\n0 2013-11-26   26     11  2013            19     Youth (<25)               M   \n1 2015-11-26   26     11  2015            19     Youth (<25)               M   \n2 2014-03-23   23      3  2014            49  Adults (35-64)               M   \n3 2016-03-23   23      3  2016            49  Adults (35-64)               M   \n4 2014-05-15   15      5  2014            47  Adults (35-64)               F   \n\n     Country             State Product_Category Sub_Category  \\\n0     Canada  British Columbia      Accessories   Bike Racks   \n1     Canada  British Columbia      Accessories   Bike Racks   \n2  Australia   New South Wales      Accessories   Bike Racks   \n3  Australia   New South Wales      Accessories   Bike Racks   \n4  Australia   New South Wales      Accessories   Bike Racks   \n\n               Product  Order_Quantity  Unit_Cost  Unit_Price  Profit  Cost  \\\n0  Hitch Rack - 4-Bike               8         45         120     590   360   \n1  Hitch Rack - 4-Bike               8         45         120     590   360   \n2  Hitch Rack - 4-Bike              23         45         120    1366  1035   \n3  Hitch Rack - 4-Bike              20         45         120    1188   900   \n4  Hitch Rack - 4-Bike               4         45         120     238   180   \n\n   Revenue  \n0      950  \n1      950  \n2     2401  \n3     2088  \n4      418  ",
      "text/html": "<div>\n<style scoped>\n    .dataframe tbody tr th:only-of-type {\n        vertical-align: middle;\n    }\n\n    .dataframe tbody tr th {\n        vertical-align: top;\n    }\n\n    .dataframe thead th {\n        text-align: right;\n    }\n</style>\n<table border=\"1\" class=\"dataframe\">\n  <thead>\n    <tr style=\"text-align: right;\">\n      <th></th>\n      <th>Date</th>\n      <th>Day</th>\n      <th>Month</th>\n      <th>Year</th>\n      <th>Customer_Age</th>\n      <th>Age_Group</th>\n      <th>Customer_Gender</th>\n      <th>Country</th>\n      <th>State</th>\n      <th>Product_Category</th>\n      <th>Sub_Category</th>\n      <th>Product</th>\n      <th>Order_Quantity</th>\n      <th>Unit_Cost</th>\n      <th>Unit_Price</th>\n      <th>Profit</th>\n      <th>Cost</th>\n      <th>Revenue</th>\n    </tr>\n  </thead>\n  <tbody>\n    <tr>\n      <th>0</th>\n      <td>2013-11-26</td>\n      <td>26</td>\n      <td>11</td>\n      <td>2013</td>\n      <td>19</td>\n      <td>Youth (&lt;25)</td>\n      <td>M</td>\n      <td>Canada</td>\n      <td>British Columbia</td>\n      <td>Accessories</td>\n      <td>Bike Racks</td>\n      <td>Hitch Rack - 4-Bike</td>\n      <td>8</td>\n      <td>45</td>\n      <td>120</td>\n      <td>590</td>\n      <td>360</td>\n      <td>950</td>\n    </tr>\n    <tr>\n      <th>1</th>\n      <td>2015-11-26</td>\n      <td>26</td>\n      <td>11</td>\n      <td>2015</td>\n      <td>19</td>\n      <td>Youth (&lt;25)</td>\n      <td>M</td>\n      <td>Canada</td>\n      <td>British Columbia</td>\n      <td>Accessories</td>\n      <td>Bike Racks</td>\n      <td>Hitch Rack - 4-Bike</td>\n      <td>8</td>\n      <td>45</td>\n      <td>120</td>\n      <td>590</td>\n      <td>360</td>\n      <td>950</td>\n    </tr>\n    <tr>\n      <th>2</th>\n      <td>2014-03-23</td>\n      <td>23</td>\n      <td>3</td>\n      <td>2014</td>\n      <td>49</td>\n      <td>Adults (35-64)</td>\n      <td>M</td>\n      <td>Australia</td>\n      <td>New South Wales</td>\n      <td>Accessories</td>\n      <td>Bike Racks</td>\n      <td>Hitch Rack - 4-Bike</td>\n      <td>23</td>\n      <td>45</td>\n      <td>120</td>\n      <td>1366</td>\n      <td>1035</td>\n      <td>2401</td>\n    </tr>\n    <tr>\n      <th>3</th>\n      <td>2016-03-23</td>\n      <td>23</td>\n      <td>3</td>\n      <td>2016</td>\n      <td>49</td>\n      <td>Adults (35-64)</td>\n      <td>M</td>\n      <td>Australia</td>\n      <td>New South Wales</td>\n      <td>Accessories</td>\n      <td>Bike Racks</td>\n      <td>Hitch Rack - 4-Bike</td>\n      <td>20</td>\n      <td>45</td>\n      <td>120</td>\n      <td>1188</td>\n      <td>900</td>\n      <td>2088</td>\n    </tr>\n    <tr>\n      <th>4</th>\n      <td>2014-05-15</td>\n      <td>15</td>\n      <td>5</td>\n      <td>2014</td>\n      <td>47</td>\n      <td>Adults (35-64)</td>\n      <td>F</td>\n      <td>Australia</td>\n      <td>New South Wales</td>\n      <td>Accessories</td>\n      <td>Bike Racks</td>\n      <td>Hitch Rack - 4-Bike</td>\n      <td>4</td>\n      <td>45</td>\n      <td>120</td>\n      <td>238</td>\n      <td>180</td>\n      <td>418</td>\n    </tr>\n  </tbody>\n</table>\n</div>"
     },
     "execution_count": 177,
     "metadata": {},
     "output_type": "execute_result"
    }
   ],
   "source": [
    "sales.head()"
   ],
   "metadata": {
    "collapsed": false,
    "pycharm": {
     "name": "#%%\n"
    }
   }
  },
  {
   "cell_type": "code",
   "execution_count": 178,
   "outputs": [
    {
     "data": {
      "text/plain": "(113036, 18)"
     },
     "execution_count": 178,
     "metadata": {},
     "output_type": "execute_result"
    }
   ],
   "source": [
    "sales.shape"
   ],
   "metadata": {
    "collapsed": false,
    "pycharm": {
     "name": "#%%\n"
    }
   }
  },
  {
   "cell_type": "code",
   "execution_count": 179,
   "outputs": [
    {
     "name": "stdout",
     "output_type": "stream",
     "text": [
      "<class 'pandas.core.frame.DataFrame'>\n",
      "RangeIndex: 113036 entries, 0 to 113035\n",
      "Data columns (total 18 columns):\n",
      " #   Column            Non-Null Count   Dtype         \n",
      "---  ------            --------------   -----         \n",
      " 0   Date              113036 non-null  datetime64[ns]\n",
      " 1   Day               113036 non-null  int64         \n",
      " 2   Month             113036 non-null  int64         \n",
      " 3   Year              113036 non-null  int64         \n",
      " 4   Customer_Age      113036 non-null  int64         \n",
      " 5   Age_Group         113036 non-null  object        \n",
      " 6   Customer_Gender   113036 non-null  object        \n",
      " 7   Country           113036 non-null  object        \n",
      " 8   State             113036 non-null  object        \n",
      " 9   Product_Category  113036 non-null  object        \n",
      " 10  Sub_Category      113036 non-null  object        \n",
      " 11  Product           113036 non-null  object        \n",
      " 12  Order_Quantity    113036 non-null  int64         \n",
      " 13  Unit_Cost         113036 non-null  int64         \n",
      " 14  Unit_Price        113036 non-null  int64         \n",
      " 15  Profit            113036 non-null  int64         \n",
      " 16  Cost              113036 non-null  int64         \n",
      " 17  Revenue           113036 non-null  int64         \n",
      "dtypes: datetime64[ns](1), int64(10), object(7)\n",
      "memory usage: 15.5+ MB\n"
     ]
    }
   ],
   "source": [
    "sales.info()"
   ],
   "metadata": {
    "collapsed": false,
    "pycharm": {
     "name": "#%%\n"
    }
   }
  },
  {
   "cell_type": "code",
   "execution_count": 180,
   "outputs": [
    {
     "data": {
      "text/plain": "Index(['Date', 'Day', 'Month', 'Year', 'Customer_Age', 'Age_Group',\n       'Customer_Gender', 'Country', 'State', 'Product_Category',\n       'Sub_Category', 'Product', 'Order_Quantity', 'Unit_Cost', 'Unit_Price',\n       'Profit', 'Cost', 'Revenue'],\n      dtype='object')"
     },
     "execution_count": 180,
     "metadata": {},
     "output_type": "execute_result"
    }
   ],
   "source": [
    "sales.columns"
   ],
   "metadata": {
    "collapsed": false,
    "pycharm": {
     "name": "#%%\n"
    }
   }
  },
  {
   "cell_type": "code",
   "execution_count": 181,
   "outputs": [
    {
     "data": {
      "text/plain": "                 Day          Month           Year   Customer_Age  \\\ncount  113036.000000  113036.000000  113036.000000  113036.000000   \nmean       15.665753       6.453024    2014.401739      35.919212   \nstd         8.781567       3.478198       1.272510      11.021936   \nmin         1.000000       1.000000    2011.000000      17.000000   \n25%         8.000000       4.000000    2013.000000      28.000000   \n50%        16.000000       6.000000    2014.000000      35.000000   \n75%        23.000000      10.000000    2016.000000      43.000000   \nmax        31.000000      12.000000    2016.000000      87.000000   \n\n       Order_Quantity      Unit_Cost     Unit_Price         Profit  \\\ncount   113036.000000  113036.000000  113036.000000  113036.000000   \nmean        11.901660     267.296366     452.938427     285.051665   \nstd          9.561857     549.835483     922.071219     453.887443   \nmin          1.000000       1.000000       2.000000     -30.000000   \n25%          2.000000       2.000000       5.000000      29.000000   \n50%         10.000000       9.000000      24.000000     101.000000   \n75%         20.000000      42.000000      70.000000     358.000000   \nmax         32.000000    2171.000000    3578.000000   15096.000000   \n\n                Cost        Revenue  \ncount  113036.000000  113036.000000  \nmean      469.318695     754.370360  \nstd       884.866118    1309.094674  \nmin         1.000000       2.000000  \n25%        28.000000      63.000000  \n50%       108.000000     223.000000  \n75%       432.000000     800.000000  \nmax     42978.000000   58074.000000  ",
      "text/html": "<div>\n<style scoped>\n    .dataframe tbody tr th:only-of-type {\n        vertical-align: middle;\n    }\n\n    .dataframe tbody tr th {\n        vertical-align: top;\n    }\n\n    .dataframe thead th {\n        text-align: right;\n    }\n</style>\n<table border=\"1\" class=\"dataframe\">\n  <thead>\n    <tr style=\"text-align: right;\">\n      <th></th>\n      <th>Day</th>\n      <th>Month</th>\n      <th>Year</th>\n      <th>Customer_Age</th>\n      <th>Order_Quantity</th>\n      <th>Unit_Cost</th>\n      <th>Unit_Price</th>\n      <th>Profit</th>\n      <th>Cost</th>\n      <th>Revenue</th>\n    </tr>\n  </thead>\n  <tbody>\n    <tr>\n      <th>count</th>\n      <td>113036.000000</td>\n      <td>113036.000000</td>\n      <td>113036.000000</td>\n      <td>113036.000000</td>\n      <td>113036.000000</td>\n      <td>113036.000000</td>\n      <td>113036.000000</td>\n      <td>113036.000000</td>\n      <td>113036.000000</td>\n      <td>113036.000000</td>\n    </tr>\n    <tr>\n      <th>mean</th>\n      <td>15.665753</td>\n      <td>6.453024</td>\n      <td>2014.401739</td>\n      <td>35.919212</td>\n      <td>11.901660</td>\n      <td>267.296366</td>\n      <td>452.938427</td>\n      <td>285.051665</td>\n      <td>469.318695</td>\n      <td>754.370360</td>\n    </tr>\n    <tr>\n      <th>std</th>\n      <td>8.781567</td>\n      <td>3.478198</td>\n      <td>1.272510</td>\n      <td>11.021936</td>\n      <td>9.561857</td>\n      <td>549.835483</td>\n      <td>922.071219</td>\n      <td>453.887443</td>\n      <td>884.866118</td>\n      <td>1309.094674</td>\n    </tr>\n    <tr>\n      <th>min</th>\n      <td>1.000000</td>\n      <td>1.000000</td>\n      <td>2011.000000</td>\n      <td>17.000000</td>\n      <td>1.000000</td>\n      <td>1.000000</td>\n      <td>2.000000</td>\n      <td>-30.000000</td>\n      <td>1.000000</td>\n      <td>2.000000</td>\n    </tr>\n    <tr>\n      <th>25%</th>\n      <td>8.000000</td>\n      <td>4.000000</td>\n      <td>2013.000000</td>\n      <td>28.000000</td>\n      <td>2.000000</td>\n      <td>2.000000</td>\n      <td>5.000000</td>\n      <td>29.000000</td>\n      <td>28.000000</td>\n      <td>63.000000</td>\n    </tr>\n    <tr>\n      <th>50%</th>\n      <td>16.000000</td>\n      <td>6.000000</td>\n      <td>2014.000000</td>\n      <td>35.000000</td>\n      <td>10.000000</td>\n      <td>9.000000</td>\n      <td>24.000000</td>\n      <td>101.000000</td>\n      <td>108.000000</td>\n      <td>223.000000</td>\n    </tr>\n    <tr>\n      <th>75%</th>\n      <td>23.000000</td>\n      <td>10.000000</td>\n      <td>2016.000000</td>\n      <td>43.000000</td>\n      <td>20.000000</td>\n      <td>42.000000</td>\n      <td>70.000000</td>\n      <td>358.000000</td>\n      <td>432.000000</td>\n      <td>800.000000</td>\n    </tr>\n    <tr>\n      <th>max</th>\n      <td>31.000000</td>\n      <td>12.000000</td>\n      <td>2016.000000</td>\n      <td>87.000000</td>\n      <td>32.000000</td>\n      <td>2171.000000</td>\n      <td>3578.000000</td>\n      <td>15096.000000</td>\n      <td>42978.000000</td>\n      <td>58074.000000</td>\n    </tr>\n  </tbody>\n</table>\n</div>"
     },
     "execution_count": 181,
     "metadata": {},
     "output_type": "execute_result"
    }
   ],
   "source": [
    "sales.describe()"
   ],
   "metadata": {
    "collapsed": false,
    "pycharm": {
     "name": "#%%\n"
    }
   }
  },
  {
   "cell_type": "code",
   "execution_count": 182,
   "outputs": [
    {
     "data": {
      "text/plain": "2034648"
     },
     "execution_count": 182,
     "metadata": {},
     "output_type": "execute_result"
    }
   ],
   "source": [
    "sales.size"
   ],
   "metadata": {
    "collapsed": false,
    "pycharm": {
     "name": "#%%\n"
    }
   }
  },
  {
   "cell_type": "code",
   "execution_count": 183,
   "outputs": [
    {
     "data": {
      "text/plain": "Date                datetime64[ns]\nDay                          int64\nMonth                        int64\nYear                         int64\nCustomer_Age                 int64\nAge_Group                   object\nCustomer_Gender             object\nCountry                     object\nState                       object\nProduct_Category            object\nSub_Category                object\nProduct                     object\nOrder_Quantity               int64\nUnit_Cost                    int64\nUnit_Price                   int64\nProfit                       int64\nCost                         int64\nRevenue                      int64\ndtype: object"
     },
     "execution_count": 183,
     "metadata": {},
     "output_type": "execute_result"
    }
   ],
   "source": [
    "sales.dtypes"
   ],
   "metadata": {
    "collapsed": false,
    "pycharm": {
     "name": "#%%\n"
    }
   }
  },
  {
   "cell_type": "code",
   "execution_count": 184,
   "outputs": [
    {
     "data": {
      "text/plain": "int64             10\nobject             7\ndatetime64[ns]     1\ndtype: int64"
     },
     "execution_count": 184,
     "metadata": {},
     "output_type": "execute_result"
    }
   ],
   "source": [
    "sales.dtypes.value_counts()"
   ],
   "metadata": {
    "collapsed": false,
    "pycharm": {
     "name": "#%%\n"
    }
   }
  },
  {
   "cell_type": "code",
   "execution_count": 185,
   "outputs": [
    {
     "data": {
      "text/plain": "count    113036.000000\nmean        267.296366\nstd         549.835483\nmin           1.000000\n25%           2.000000\n50%           9.000000\n75%          42.000000\nmax        2171.000000\nName: Unit_Cost, dtype: float64"
     },
     "execution_count": 185,
     "metadata": {},
     "output_type": "execute_result"
    }
   ],
   "source": [
    "sales['Unit_Cost'].describe()"
   ],
   "metadata": {
    "collapsed": false,
    "pycharm": {
     "name": "#%%\n"
    }
   }
  },
  {
   "cell_type": "code",
   "execution_count": 186,
   "outputs": [
    {
     "data": {
      "text/plain": "267.296365759581"
     },
     "execution_count": 186,
     "metadata": {},
     "output_type": "execute_result"
    }
   ],
   "source": [
    "sales['Unit_Cost'].mean()"
   ],
   "metadata": {
    "collapsed": false,
    "pycharm": {
     "name": "#%%\n"
    }
   }
  },
  {
   "cell_type": "code",
   "execution_count": 187,
   "outputs": [
    {
     "data": {
      "text/plain": "9.0"
     },
     "execution_count": 187,
     "metadata": {},
     "output_type": "execute_result"
    }
   ],
   "source": [
    "sales['Unit_Cost'].median()"
   ],
   "metadata": {
    "collapsed": false,
    "pycharm": {
     "name": "#%%\n"
    }
   }
  },
  {
   "cell_type": "code",
   "execution_count": 188,
   "outputs": [
    {
     "data": {
      "text/plain": "(1, 2171)"
     },
     "execution_count": 188,
     "metadata": {},
     "output_type": "execute_result"
    }
   ],
   "source": [
    "sales['Unit_Cost'].min(), sales['Unit_Cost'].max()"
   ],
   "metadata": {
    "collapsed": false,
    "pycharm": {
     "name": "#%%\n"
    }
   }
  },
  {
   "cell_type": "code",
   "execution_count": 189,
   "outputs": [
    {
     "data": {
      "text/plain": "549.8354831077943"
     },
     "execution_count": 189,
     "metadata": {},
     "output_type": "execute_result"
    }
   ],
   "source": [
    "sales['Unit_Cost'].std()"
   ],
   "metadata": {
    "collapsed": false,
    "pycharm": {
     "name": "#%%\n"
    }
   }
  },
  {
   "cell_type": "code",
   "execution_count": 190,
   "outputs": [
    {
     "data": {
      "text/plain": "2.0"
     },
     "execution_count": 190,
     "metadata": {},
     "output_type": "execute_result"
    }
   ],
   "source": [
    "sales['Unit_Cost'].quantile(0.25)"
   ],
   "metadata": {
    "collapsed": false,
    "pycharm": {
     "name": "#%%\n"
    }
   }
  },
  {
   "cell_type": "code",
   "execution_count": 191,
   "outputs": [
    {
     "data": {
      "text/plain": "0.2       2.0\n0.4       7.0\n0.6      13.0\n0.8     344.0\n1.0    2171.0\nName: Unit_Cost, dtype: float64"
     },
     "execution_count": 191,
     "metadata": {},
     "output_type": "execute_result"
    }
   ],
   "source": [
    "sales['Unit_Cost'].quantile([.2, .4, .6, .8, 1])"
   ],
   "metadata": {
    "collapsed": false,
    "pycharm": {
     "name": "#%%\n"
    }
   }
  },
  {
   "cell_type": "code",
   "execution_count": 192,
   "outputs": [
    {
     "data": {
      "text/plain": "Adults (35-64)          55824\nYoung Adults (25-34)    38654\nYouth (<25)             17828\nSeniors (64+)             730\nName: Age_Group, dtype: int64"
     },
     "execution_count": 192,
     "metadata": {},
     "output_type": "execute_result"
    }
   ],
   "source": [
    "sales['Age_Group'].value_counts()"
   ],
   "metadata": {
    "collapsed": false,
    "pycharm": {
     "name": "#%%\n"
    }
   }
  },
  {
   "cell_type": "code",
   "execution_count": 193,
   "outputs": [
    {
     "data": {
      "text/plain": "Adults (35-64)          0.493860\nYoung Adults (25-34)    0.341962\nYouth (<25)             0.157720\nSeniors (64+)           0.006458\nName: Age_Group, dtype: float64"
     },
     "execution_count": 193,
     "metadata": {},
     "output_type": "execute_result"
    }
   ],
   "source": [
    "sales['Age_Group'].value_counts(normalize=True)"
   ],
   "metadata": {
    "collapsed": false,
    "pycharm": {
     "name": "#%%\n"
    }
   }
  },
  {
   "cell_type": "code",
   "execution_count": 194,
   "outputs": [
    {
     "data": {
      "text/plain": "Age_Group\nAdults (35-64)          0.434241\nYoung Adults (25-34)    0.380264\nYouth (<25)             0.183072\nSeniors (64+)           0.002423\nName: Age_Group, dtype: float64"
     },
     "execution_count": 194,
     "metadata": {},
     "output_type": "execute_result"
    }
   ],
   "source": [
    "country_group = sales.groupby(['Country'])\n",
    "country_group['Age_Group'].value_counts(normalize=True).loc['Australia']"
   ],
   "metadata": {
    "collapsed": false,
    "pycharm": {
     "name": "#%%\n"
    }
   }
  },
  {
   "cell_type": "code",
   "execution_count": 195,
   "outputs": [
    {
     "data": {
      "text/plain": "             Date  Day  Month  Year  Customer_Age       Age_Group  \\\n0      2013-11-26   26     11  2013            19     Youth (<25)   \n1      2015-11-26   26     11  2015            19     Youth (<25)   \n2      2014-03-23   23      3  2014            49  Adults (35-64)   \n3      2016-03-23   23      3  2016            49  Adults (35-64)   \n4      2014-05-15   15      5  2014            47  Adults (35-64)   \n...           ...  ...    ...   ...           ...             ...   \n113031 2016-04-12   12      4  2016            41  Adults (35-64)   \n113032 2014-04-02    2      4  2014            18     Youth (<25)   \n113033 2016-04-02    2      4  2016            18     Youth (<25)   \n113034 2014-03-04    4      3  2014            37  Adults (35-64)   \n113035 2016-03-04    4      3  2016            37  Adults (35-64)   \n\n       Customer_Gender         Country             State Product_Category  \\\n0                    M          Canada  British Columbia      Accessories   \n1                    M          Canada  British Columbia      Accessories   \n2                    M       Australia   New South Wales      Accessories   \n3                    M       Australia   New South Wales      Accessories   \n4                    F       Australia   New South Wales      Accessories   \n...                ...             ...               ...              ...   \n113031               M  United Kingdom           England         Clothing   \n113032               M       Australia        Queensland         Clothing   \n113033               M       Australia        Queensland         Clothing   \n113034               F          France     Seine (Paris)         Clothing   \n113035               F          France     Seine (Paris)         Clothing   \n\n       Sub_Category              Product  Order_Quantity  Unit_Cost  \\\n0        Bike Racks  Hitch Rack - 4-Bike               8         45   \n1        Bike Racks  Hitch Rack - 4-Bike               8         45   \n2        Bike Racks  Hitch Rack - 4-Bike              23         45   \n3        Bike Racks  Hitch Rack - 4-Bike              20         45   \n4        Bike Racks  Hitch Rack - 4-Bike               4         45   \n...             ...                  ...             ...        ...   \n113031        Vests      Classic Vest, S               3         24   \n113032        Vests      Classic Vest, M              22         24   \n113033        Vests      Classic Vest, M              22         24   \n113034        Vests      Classic Vest, L              24         24   \n113035        Vests      Classic Vest, L              23         24   \n\n        Unit_Price  Profit  Cost  Revenue  \n0              120     590   360      950  \n1              120     590   360      950  \n2              120    1366  1035     2401  \n3              120    1188   900     2088  \n4              120     238   180      418  \n...            ...     ...   ...      ...  \n113031          64     112    72      184  \n113032          64     655   528     1183  \n113033          64     655   528     1183  \n113034          64     684   576     1260  \n113035          64     655   552     1207  \n\n[113036 rows x 18 columns]",
      "text/html": "<div>\n<style scoped>\n    .dataframe tbody tr th:only-of-type {\n        vertical-align: middle;\n    }\n\n    .dataframe tbody tr th {\n        vertical-align: top;\n    }\n\n    .dataframe thead th {\n        text-align: right;\n    }\n</style>\n<table border=\"1\" class=\"dataframe\">\n  <thead>\n    <tr style=\"text-align: right;\">\n      <th></th>\n      <th>Date</th>\n      <th>Day</th>\n      <th>Month</th>\n      <th>Year</th>\n      <th>Customer_Age</th>\n      <th>Age_Group</th>\n      <th>Customer_Gender</th>\n      <th>Country</th>\n      <th>State</th>\n      <th>Product_Category</th>\n      <th>Sub_Category</th>\n      <th>Product</th>\n      <th>Order_Quantity</th>\n      <th>Unit_Cost</th>\n      <th>Unit_Price</th>\n      <th>Profit</th>\n      <th>Cost</th>\n      <th>Revenue</th>\n    </tr>\n  </thead>\n  <tbody>\n    <tr>\n      <th>0</th>\n      <td>2013-11-26</td>\n      <td>26</td>\n      <td>11</td>\n      <td>2013</td>\n      <td>19</td>\n      <td>Youth (&lt;25)</td>\n      <td>M</td>\n      <td>Canada</td>\n      <td>British Columbia</td>\n      <td>Accessories</td>\n      <td>Bike Racks</td>\n      <td>Hitch Rack - 4-Bike</td>\n      <td>8</td>\n      <td>45</td>\n      <td>120</td>\n      <td>590</td>\n      <td>360</td>\n      <td>950</td>\n    </tr>\n    <tr>\n      <th>1</th>\n      <td>2015-11-26</td>\n      <td>26</td>\n      <td>11</td>\n      <td>2015</td>\n      <td>19</td>\n      <td>Youth (&lt;25)</td>\n      <td>M</td>\n      <td>Canada</td>\n      <td>British Columbia</td>\n      <td>Accessories</td>\n      <td>Bike Racks</td>\n      <td>Hitch Rack - 4-Bike</td>\n      <td>8</td>\n      <td>45</td>\n      <td>120</td>\n      <td>590</td>\n      <td>360</td>\n      <td>950</td>\n    </tr>\n    <tr>\n      <th>2</th>\n      <td>2014-03-23</td>\n      <td>23</td>\n      <td>3</td>\n      <td>2014</td>\n      <td>49</td>\n      <td>Adults (35-64)</td>\n      <td>M</td>\n      <td>Australia</td>\n      <td>New South Wales</td>\n      <td>Accessories</td>\n      <td>Bike Racks</td>\n      <td>Hitch Rack - 4-Bike</td>\n      <td>23</td>\n      <td>45</td>\n      <td>120</td>\n      <td>1366</td>\n      <td>1035</td>\n      <td>2401</td>\n    </tr>\n    <tr>\n      <th>3</th>\n      <td>2016-03-23</td>\n      <td>23</td>\n      <td>3</td>\n      <td>2016</td>\n      <td>49</td>\n      <td>Adults (35-64)</td>\n      <td>M</td>\n      <td>Australia</td>\n      <td>New South Wales</td>\n      <td>Accessories</td>\n      <td>Bike Racks</td>\n      <td>Hitch Rack - 4-Bike</td>\n      <td>20</td>\n      <td>45</td>\n      <td>120</td>\n      <td>1188</td>\n      <td>900</td>\n      <td>2088</td>\n    </tr>\n    <tr>\n      <th>4</th>\n      <td>2014-05-15</td>\n      <td>15</td>\n      <td>5</td>\n      <td>2014</td>\n      <td>47</td>\n      <td>Adults (35-64)</td>\n      <td>F</td>\n      <td>Australia</td>\n      <td>New South Wales</td>\n      <td>Accessories</td>\n      <td>Bike Racks</td>\n      <td>Hitch Rack - 4-Bike</td>\n      <td>4</td>\n      <td>45</td>\n      <td>120</td>\n      <td>238</td>\n      <td>180</td>\n      <td>418</td>\n    </tr>\n    <tr>\n      <th>...</th>\n      <td>...</td>\n      <td>...</td>\n      <td>...</td>\n      <td>...</td>\n      <td>...</td>\n      <td>...</td>\n      <td>...</td>\n      <td>...</td>\n      <td>...</td>\n      <td>...</td>\n      <td>...</td>\n      <td>...</td>\n      <td>...</td>\n      <td>...</td>\n      <td>...</td>\n      <td>...</td>\n      <td>...</td>\n      <td>...</td>\n    </tr>\n    <tr>\n      <th>113031</th>\n      <td>2016-04-12</td>\n      <td>12</td>\n      <td>4</td>\n      <td>2016</td>\n      <td>41</td>\n      <td>Adults (35-64)</td>\n      <td>M</td>\n      <td>United Kingdom</td>\n      <td>England</td>\n      <td>Clothing</td>\n      <td>Vests</td>\n      <td>Classic Vest, S</td>\n      <td>3</td>\n      <td>24</td>\n      <td>64</td>\n      <td>112</td>\n      <td>72</td>\n      <td>184</td>\n    </tr>\n    <tr>\n      <th>113032</th>\n      <td>2014-04-02</td>\n      <td>2</td>\n      <td>4</td>\n      <td>2014</td>\n      <td>18</td>\n      <td>Youth (&lt;25)</td>\n      <td>M</td>\n      <td>Australia</td>\n      <td>Queensland</td>\n      <td>Clothing</td>\n      <td>Vests</td>\n      <td>Classic Vest, M</td>\n      <td>22</td>\n      <td>24</td>\n      <td>64</td>\n      <td>655</td>\n      <td>528</td>\n      <td>1183</td>\n    </tr>\n    <tr>\n      <th>113033</th>\n      <td>2016-04-02</td>\n      <td>2</td>\n      <td>4</td>\n      <td>2016</td>\n      <td>18</td>\n      <td>Youth (&lt;25)</td>\n      <td>M</td>\n      <td>Australia</td>\n      <td>Queensland</td>\n      <td>Clothing</td>\n      <td>Vests</td>\n      <td>Classic Vest, M</td>\n      <td>22</td>\n      <td>24</td>\n      <td>64</td>\n      <td>655</td>\n      <td>528</td>\n      <td>1183</td>\n    </tr>\n    <tr>\n      <th>113034</th>\n      <td>2014-03-04</td>\n      <td>4</td>\n      <td>3</td>\n      <td>2014</td>\n      <td>37</td>\n      <td>Adults (35-64)</td>\n      <td>F</td>\n      <td>France</td>\n      <td>Seine (Paris)</td>\n      <td>Clothing</td>\n      <td>Vests</td>\n      <td>Classic Vest, L</td>\n      <td>24</td>\n      <td>24</td>\n      <td>64</td>\n      <td>684</td>\n      <td>576</td>\n      <td>1260</td>\n    </tr>\n    <tr>\n      <th>113035</th>\n      <td>2016-03-04</td>\n      <td>4</td>\n      <td>3</td>\n      <td>2016</td>\n      <td>37</td>\n      <td>Adults (35-64)</td>\n      <td>F</td>\n      <td>France</td>\n      <td>Seine (Paris)</td>\n      <td>Clothing</td>\n      <td>Vests</td>\n      <td>Classic Vest, L</td>\n      <td>23</td>\n      <td>24</td>\n      <td>64</td>\n      <td>655</td>\n      <td>552</td>\n      <td>1207</td>\n    </tr>\n  </tbody>\n</table>\n<p>113036 rows × 18 columns</p>\n</div>"
     },
     "execution_count": 195,
     "metadata": {},
     "output_type": "execute_result"
    }
   ],
   "source": [
    "sales"
   ],
   "metadata": {
    "collapsed": false,
    "pycharm": {
     "name": "#%%\n"
    }
   }
  },
  {
   "cell_type": "code",
   "execution_count": 196,
   "outputs": [
    {
     "data": {
      "text/plain": "                     Day     Month      Year  Customer_Age  Order_Quantity  \\\nDay             1.000000  0.014963 -0.007635     -0.014296       -0.002412   \nMonth           0.014963  1.000000 -0.315359     -0.051234        0.028175   \nYear           -0.007635 -0.315359  1.000000      0.040994        0.123169   \nCustomer_Age   -0.014296 -0.051234  0.040994      1.000000        0.026887   \nOrder_Quantity -0.002412  0.028175  0.123169      0.026887        1.000000   \nUnit_Cost       0.003133 -0.021202 -0.217575     -0.021374       -0.515835   \nUnit_Price      0.003207 -0.021218 -0.213673     -0.020262       -0.515925   \nProfit          0.004623 -0.002004 -0.181525      0.004319       -0.238863   \nCost            0.003329 -0.006700 -0.215604     -0.016013       -0.340382   \nRevenue         0.003853 -0.005224 -0.208673     -0.009326       -0.312895   \n\n                Unit_Cost  Unit_Price    Profit      Cost   Revenue  \nDay              0.003133    0.003207  0.004623  0.003329  0.003853  \nMonth           -0.021202   -0.021218 -0.002004 -0.006700 -0.005224  \nYear            -0.217575   -0.213673 -0.181525 -0.215604 -0.208673  \nCustomer_Age    -0.021374   -0.020262  0.004319 -0.016013 -0.009326  \nOrder_Quantity  -0.515835   -0.515925 -0.238863 -0.340382 -0.312895  \nUnit_Cost        1.000000    0.997894  0.741020  0.829869  0.817865  \nUnit_Price       0.997894    1.000000  0.749870  0.826301  0.818522  \nProfit           0.741020    0.749870  1.000000  0.902233  0.956572  \nCost             0.829869    0.826301  0.902233  1.000000  0.988758  \nRevenue          0.817865    0.818522  0.956572  0.988758  1.000000  ",
      "text/html": "<div>\n<style scoped>\n    .dataframe tbody tr th:only-of-type {\n        vertical-align: middle;\n    }\n\n    .dataframe tbody tr th {\n        vertical-align: top;\n    }\n\n    .dataframe thead th {\n        text-align: right;\n    }\n</style>\n<table border=\"1\" class=\"dataframe\">\n  <thead>\n    <tr style=\"text-align: right;\">\n      <th></th>\n      <th>Day</th>\n      <th>Month</th>\n      <th>Year</th>\n      <th>Customer_Age</th>\n      <th>Order_Quantity</th>\n      <th>Unit_Cost</th>\n      <th>Unit_Price</th>\n      <th>Profit</th>\n      <th>Cost</th>\n      <th>Revenue</th>\n    </tr>\n  </thead>\n  <tbody>\n    <tr>\n      <th>Day</th>\n      <td>1.000000</td>\n      <td>0.014963</td>\n      <td>-0.007635</td>\n      <td>-0.014296</td>\n      <td>-0.002412</td>\n      <td>0.003133</td>\n      <td>0.003207</td>\n      <td>0.004623</td>\n      <td>0.003329</td>\n      <td>0.003853</td>\n    </tr>\n    <tr>\n      <th>Month</th>\n      <td>0.014963</td>\n      <td>1.000000</td>\n      <td>-0.315359</td>\n      <td>-0.051234</td>\n      <td>0.028175</td>\n      <td>-0.021202</td>\n      <td>-0.021218</td>\n      <td>-0.002004</td>\n      <td>-0.006700</td>\n      <td>-0.005224</td>\n    </tr>\n    <tr>\n      <th>Year</th>\n      <td>-0.007635</td>\n      <td>-0.315359</td>\n      <td>1.000000</td>\n      <td>0.040994</td>\n      <td>0.123169</td>\n      <td>-0.217575</td>\n      <td>-0.213673</td>\n      <td>-0.181525</td>\n      <td>-0.215604</td>\n      <td>-0.208673</td>\n    </tr>\n    <tr>\n      <th>Customer_Age</th>\n      <td>-0.014296</td>\n      <td>-0.051234</td>\n      <td>0.040994</td>\n      <td>1.000000</td>\n      <td>0.026887</td>\n      <td>-0.021374</td>\n      <td>-0.020262</td>\n      <td>0.004319</td>\n      <td>-0.016013</td>\n      <td>-0.009326</td>\n    </tr>\n    <tr>\n      <th>Order_Quantity</th>\n      <td>-0.002412</td>\n      <td>0.028175</td>\n      <td>0.123169</td>\n      <td>0.026887</td>\n      <td>1.000000</td>\n      <td>-0.515835</td>\n      <td>-0.515925</td>\n      <td>-0.238863</td>\n      <td>-0.340382</td>\n      <td>-0.312895</td>\n    </tr>\n    <tr>\n      <th>Unit_Cost</th>\n      <td>0.003133</td>\n      <td>-0.021202</td>\n      <td>-0.217575</td>\n      <td>-0.021374</td>\n      <td>-0.515835</td>\n      <td>1.000000</td>\n      <td>0.997894</td>\n      <td>0.741020</td>\n      <td>0.829869</td>\n      <td>0.817865</td>\n    </tr>\n    <tr>\n      <th>Unit_Price</th>\n      <td>0.003207</td>\n      <td>-0.021218</td>\n      <td>-0.213673</td>\n      <td>-0.020262</td>\n      <td>-0.515925</td>\n      <td>0.997894</td>\n      <td>1.000000</td>\n      <td>0.749870</td>\n      <td>0.826301</td>\n      <td>0.818522</td>\n    </tr>\n    <tr>\n      <th>Profit</th>\n      <td>0.004623</td>\n      <td>-0.002004</td>\n      <td>-0.181525</td>\n      <td>0.004319</td>\n      <td>-0.238863</td>\n      <td>0.741020</td>\n      <td>0.749870</td>\n      <td>1.000000</td>\n      <td>0.902233</td>\n      <td>0.956572</td>\n    </tr>\n    <tr>\n      <th>Cost</th>\n      <td>0.003329</td>\n      <td>-0.006700</td>\n      <td>-0.215604</td>\n      <td>-0.016013</td>\n      <td>-0.340382</td>\n      <td>0.829869</td>\n      <td>0.826301</td>\n      <td>0.902233</td>\n      <td>1.000000</td>\n      <td>0.988758</td>\n    </tr>\n    <tr>\n      <th>Revenue</th>\n      <td>0.003853</td>\n      <td>-0.005224</td>\n      <td>-0.208673</td>\n      <td>-0.009326</td>\n      <td>-0.312895</td>\n      <td>0.817865</td>\n      <td>0.818522</td>\n      <td>0.956572</td>\n      <td>0.988758</td>\n      <td>1.000000</td>\n    </tr>\n  </tbody>\n</table>\n</div>"
     },
     "execution_count": 196,
     "metadata": {},
     "output_type": "execute_result"
    }
   ],
   "source": [
    "corr = sales.corr()\n",
    "corr"
   ],
   "metadata": {
    "collapsed": false,
    "pycharm": {
     "name": "#%%\n"
    }
   }
  },
  {
   "cell_type": "markdown",
   "source": [
    "![green-divider](https://user-images.githubusercontent.com/7065401/52071924-c003ad80-2562-11e9-8297-1c6595f8a7ff.png)\n",
    "# Column Wrangling & Feature Engineering"
   ],
   "metadata": {
    "collapsed": false
   }
  },
  {
   "cell_type": "code",
   "execution_count": 197,
   "outputs": [
    {
     "data": {
      "text/plain": "0    50.000000\n1    50.000000\n2    49.000000\n3    42.612245\n4     8.893617\nName: Revenue_per_Age, dtype: float64"
     },
     "execution_count": 197,
     "metadata": {},
     "output_type": "execute_result"
    }
   ],
   "source": [
    "sales['Revenue_per_Age'] = sales['Revenue'] / sales['Customer_Age']\n",
    "sales['Revenue_per_Age'].head()"
   ],
   "metadata": {
    "collapsed": false,
    "pycharm": {
     "name": "#%%\n"
    }
   }
  },
  {
   "cell_type": "code",
   "execution_count": 198,
   "outputs": [
    {
     "data": {
      "text/plain": "0     360\n1     360\n2    1035\n3     900\n4     180\nName: Calculated_Cost, dtype: int64"
     },
     "execution_count": 198,
     "metadata": {},
     "output_type": "execute_result"
    }
   ],
   "source": [
    "sales['Calculated_Cost'] = sales['Order_Quantity'] * sales['Unit_Cost']\n",
    "sales['Calculated_Cost'].head()"
   ],
   "metadata": {
    "collapsed": false,
    "pycharm": {
     "name": "#%%\n"
    }
   }
  },
  {
   "cell_type": "code",
   "execution_count": 199,
   "outputs": [
    {
     "data": {
      "text/plain": "0"
     },
     "execution_count": 199,
     "metadata": {},
     "output_type": "execute_result"
    }
   ],
   "source": [
    "(sales['Calculated_Cost'] != sales['Cost']).sum()"
   ],
   "metadata": {
    "collapsed": false,
    "pycharm": {
     "name": "#%%\n"
    }
   }
  },
  {
   "cell_type": "markdown",
   "source": [
    "![purple-divider](https://user-images.githubusercontent.com/7065401/52071927-c1cd7100-2562-11e9-908a-dde91ba14e59.png)\n",
    "\n",
    "## Modifying All"
   ],
   "metadata": {
    "collapsed": false
   }
  },
  {
   "cell_type": "code",
   "execution_count": 200,
   "outputs": [
    {
     "data": {
      "text/plain": "0     370.80\n1     370.80\n2    1066.05\n3     927.00\n4     185.40\nName: Calculated_Cost, dtype: float64"
     },
     "execution_count": 200,
     "metadata": {},
     "output_type": "execute_result"
    }
   ],
   "source": [
    "sales['Calculated_Cost'] *= 1.03\n",
    "sales['Calculated_Cost'].head()"
   ],
   "metadata": {
    "collapsed": false,
    "pycharm": {
     "name": "#%%\n"
    }
   }
  },
  {
   "cell_type": "markdown",
   "source": [
    "![green-divider](https://user-images.githubusercontent.com/7065401/52071924-c003ad80-2562-11e9-8297-1c6595f8a7ff.png)\n",
    "\n",
    "## Modify the `first appearance` of `Vision` to year 1964"
   ],
   "metadata": {
    "collapsed": false
   }
  },
  {
   "cell_type": "code",
   "execution_count": 201,
   "outputs": [
    {
     "data": {
      "text/plain": "                    name     sex  first_appearance  years_since\n0             Spider-Man    male            1962.0         60.0\n1        Captain America    male            1941.0         81.0\n2              Wolverine    male            1974.0         48.0\n3               Iron Man    male            1963.0         59.0\n4                   Thor    male            1963.0         59.0\n5                  Thing    male            1961.0         61.0\n6       Mister Fantastic    male            1961.0         61.0\n7                   Hulk    male            1962.0         60.0\n8                  Beast    male            1963.0         59.0\n9        Invisible Woman  female            1961.0         61.0\n10                 Storm  female            1975.0         47.0\n11                 Namor    male            1939.0         83.0\n12               Hawkeye    male            1964.0         58.0\n13             Daredevil    male            1964.0         58.0\n14        Doctor Strange    male            1963.0         59.0\n15              Hank Pym    male            1962.0         60.0\n16         Scarlet Witch  female            1964.0         58.0\n17                  Wasp  female            1963.0         59.0\n18           Black Widow  female            1964.0         58.0\n19                Vision    male            1968.0         54.0\nVision               NaN     NaN            1964.0          NaN",
      "text/html": "<div>\n<style scoped>\n    .dataframe tbody tr th:only-of-type {\n        vertical-align: middle;\n    }\n\n    .dataframe tbody tr th {\n        vertical-align: top;\n    }\n\n    .dataframe thead th {\n        text-align: right;\n    }\n</style>\n<table border=\"1\" class=\"dataframe\">\n  <thead>\n    <tr style=\"text-align: right;\">\n      <th></th>\n      <th>name</th>\n      <th>sex</th>\n      <th>first_appearance</th>\n      <th>years_since</th>\n    </tr>\n  </thead>\n  <tbody>\n    <tr>\n      <th>0</th>\n      <td>Spider-Man</td>\n      <td>male</td>\n      <td>1962.0</td>\n      <td>60.0</td>\n    </tr>\n    <tr>\n      <th>1</th>\n      <td>Captain America</td>\n      <td>male</td>\n      <td>1941.0</td>\n      <td>81.0</td>\n    </tr>\n    <tr>\n      <th>2</th>\n      <td>Wolverine</td>\n      <td>male</td>\n      <td>1974.0</td>\n      <td>48.0</td>\n    </tr>\n    <tr>\n      <th>3</th>\n      <td>Iron Man</td>\n      <td>male</td>\n      <td>1963.0</td>\n      <td>59.0</td>\n    </tr>\n    <tr>\n      <th>4</th>\n      <td>Thor</td>\n      <td>male</td>\n      <td>1963.0</td>\n      <td>59.0</td>\n    </tr>\n    <tr>\n      <th>5</th>\n      <td>Thing</td>\n      <td>male</td>\n      <td>1961.0</td>\n      <td>61.0</td>\n    </tr>\n    <tr>\n      <th>6</th>\n      <td>Mister Fantastic</td>\n      <td>male</td>\n      <td>1961.0</td>\n      <td>61.0</td>\n    </tr>\n    <tr>\n      <th>7</th>\n      <td>Hulk</td>\n      <td>male</td>\n      <td>1962.0</td>\n      <td>60.0</td>\n    </tr>\n    <tr>\n      <th>8</th>\n      <td>Beast</td>\n      <td>male</td>\n      <td>1963.0</td>\n      <td>59.0</td>\n    </tr>\n    <tr>\n      <th>9</th>\n      <td>Invisible Woman</td>\n      <td>female</td>\n      <td>1961.0</td>\n      <td>61.0</td>\n    </tr>\n    <tr>\n      <th>10</th>\n      <td>Storm</td>\n      <td>female</td>\n      <td>1975.0</td>\n      <td>47.0</td>\n    </tr>\n    <tr>\n      <th>11</th>\n      <td>Namor</td>\n      <td>male</td>\n      <td>1939.0</td>\n      <td>83.0</td>\n    </tr>\n    <tr>\n      <th>12</th>\n      <td>Hawkeye</td>\n      <td>male</td>\n      <td>1964.0</td>\n      <td>58.0</td>\n    </tr>\n    <tr>\n      <th>13</th>\n      <td>Daredevil</td>\n      <td>male</td>\n      <td>1964.0</td>\n      <td>58.0</td>\n    </tr>\n    <tr>\n      <th>14</th>\n      <td>Doctor Strange</td>\n      <td>male</td>\n      <td>1963.0</td>\n      <td>59.0</td>\n    </tr>\n    <tr>\n      <th>15</th>\n      <td>Hank Pym</td>\n      <td>male</td>\n      <td>1962.0</td>\n      <td>60.0</td>\n    </tr>\n    <tr>\n      <th>16</th>\n      <td>Scarlet Witch</td>\n      <td>female</td>\n      <td>1964.0</td>\n      <td>58.0</td>\n    </tr>\n    <tr>\n      <th>17</th>\n      <td>Wasp</td>\n      <td>female</td>\n      <td>1963.0</td>\n      <td>59.0</td>\n    </tr>\n    <tr>\n      <th>18</th>\n      <td>Black Widow</td>\n      <td>female</td>\n      <td>1964.0</td>\n      <td>58.0</td>\n    </tr>\n    <tr>\n      <th>19</th>\n      <td>Vision</td>\n      <td>male</td>\n      <td>1968.0</td>\n      <td>54.0</td>\n    </tr>\n    <tr>\n      <th>Vision</th>\n      <td>NaN</td>\n      <td>NaN</td>\n      <td>1964.0</td>\n      <td>NaN</td>\n    </tr>\n  </tbody>\n</table>\n</div>"
     },
     "execution_count": 201,
     "metadata": {},
     "output_type": "execute_result"
    }
   ],
   "source": [
    "marvel_df.loc['Vision', 'first_appearance'] = 1964\n",
    "marvel_df"
   ],
   "metadata": {
    "collapsed": false,
    "pycharm": {
     "name": "#%%\n"
    }
   }
  },
  {
   "cell_type": "code",
   "execution_count": 202,
   "outputs": [
    {
     "data": {
      "text/plain": "50         865.7\n51         865.7\n52        3252.7\n53        3136.1\n60         688.6\n           ...  \n112979    1892.0\n113000     405.9\n113001     473.0\n113034    1386.0\n113035    1327.7\nName: Revenue, Length: 10998, dtype: float64"
     },
     "execution_count": 202,
     "metadata": {},
     "output_type": "execute_result"
    }
   ],
   "source": [
    "sales.loc[sales['Country'] == 'France', 'Revenue'] *= 1.10\n",
    "sales.loc[sales['Country'] == 'France', 'Revenue']"
   ],
   "metadata": {
    "collapsed": false,
    "pycharm": {
     "name": "#%%\n"
    }
   }
  },
  {
   "cell_type": "code",
   "execution_count": 203,
   "outputs": [
    {
     "data": {
      "text/plain": "GDP   -1000000.0\nHDI         -0.3\ndtype: float64"
     },
     "execution_count": 203,
     "metadata": {},
     "output_type": "execute_result"
    }
   ],
   "source": [
    "crisis = pd.Series([-1_000_000, -0.3], index=['GDP', 'HDI'])\n",
    "crisis"
   ],
   "metadata": {
    "collapsed": false,
    "pycharm": {
     "name": "#%%\n"
    }
   }
  },
  {
   "cell_type": "code",
   "execution_count": 204,
   "outputs": [
    {
     "data": {
      "text/plain": "GDP   -1000000.0\nHDI         -0.3\ndtype: float64"
     },
     "execution_count": 204,
     "metadata": {},
     "output_type": "execute_result"
    }
   ],
   "source": [
    "crisis[['GDP', 'HDI']]"
   ],
   "metadata": {
    "collapsed": false,
    "pycharm": {
     "name": "#%%\n"
    }
   }
  },
  {
   "cell_type": "code",
   "execution_count": 205,
   "outputs": [
    {
     "data": {
      "text/plain": "GDP   -2000000.0\nHDI         -0.6\ndtype: float64"
     },
     "execution_count": 205,
     "metadata": {},
     "output_type": "execute_result"
    }
   ],
   "source": [
    "crisis[['GDP', 'HDI']] + crisis"
   ],
   "metadata": {
    "collapsed": false,
    "pycharm": {
     "name": "#%%\n"
    }
   }
  },
  {
   "cell_type": "markdown",
   "source": [
    "![purple-divider](https://user-images.githubusercontent.com/7065401/52071927-c1cd7100-2562-11e9-908a-dde91ba14e59.png)\n",
    "# Pivoting Data"
   ],
   "metadata": {
    "collapsed": false
   }
  },
  {
   "cell_type": "markdown",
   "source": [
    "## Long"
   ],
   "metadata": {
    "collapsed": false
   }
  },
  {
   "cell_type": "code",
   "execution_count": 206,
   "outputs": [
    {
     "data": {
      "text/plain": "     Name  ID    Role\n0  Pankaj   1     CEO\n1    Lisa   2  Editor\n2   David   3  Author",
      "text/html": "<div>\n<style scoped>\n    .dataframe tbody tr th:only-of-type {\n        vertical-align: middle;\n    }\n\n    .dataframe tbody tr th {\n        vertical-align: top;\n    }\n\n    .dataframe thead th {\n        text-align: right;\n    }\n</style>\n<table border=\"1\" class=\"dataframe\">\n  <thead>\n    <tr style=\"text-align: right;\">\n      <th></th>\n      <th>Name</th>\n      <th>ID</th>\n      <th>Role</th>\n    </tr>\n  </thead>\n  <tbody>\n    <tr>\n      <th>0</th>\n      <td>Pankaj</td>\n      <td>1</td>\n      <td>CEO</td>\n    </tr>\n    <tr>\n      <th>1</th>\n      <td>Lisa</td>\n      <td>2</td>\n      <td>Editor</td>\n    </tr>\n    <tr>\n      <th>2</th>\n      <td>David</td>\n      <td>3</td>\n      <td>Author</td>\n    </tr>\n  </tbody>\n</table>\n</div>"
     },
     "execution_count": 206,
     "metadata": {},
     "output_type": "execute_result"
    }
   ],
   "source": [
    "d1 = {\"Name\": [\"Pankaj\", \"Lisa\", \"David\"], \"ID\": [1, 2, 3], \"Role\": [\"CEO\", \"Editor\", \"Author\"]}\n",
    "df_wide = pd.DataFrame(d1)\n",
    "df_wide"
   ],
   "metadata": {
    "collapsed": false,
    "pycharm": {
     "name": "#%%\n"
    }
   }
  },
  {
   "cell_type": "code",
   "execution_count": 207,
   "outputs": [
    {
     "data": {
      "text/plain": "   ID Attribute   Value\n0   1      Name  Pankaj\n1   2      Name    Lisa\n2   3      Name   David\n3   1      Role     CEO\n4   2      Role  Editor\n5   3      Role  Author",
      "text/html": "<div>\n<style scoped>\n    .dataframe tbody tr th:only-of-type {\n        vertical-align: middle;\n    }\n\n    .dataframe tbody tr th {\n        vertical-align: top;\n    }\n\n    .dataframe thead th {\n        text-align: right;\n    }\n</style>\n<table border=\"1\" class=\"dataframe\">\n  <thead>\n    <tr style=\"text-align: right;\">\n      <th></th>\n      <th>ID</th>\n      <th>Attribute</th>\n      <th>Value</th>\n    </tr>\n  </thead>\n  <tbody>\n    <tr>\n      <th>0</th>\n      <td>1</td>\n      <td>Name</td>\n      <td>Pankaj</td>\n    </tr>\n    <tr>\n      <th>1</th>\n      <td>2</td>\n      <td>Name</td>\n      <td>Lisa</td>\n    </tr>\n    <tr>\n      <th>2</th>\n      <td>3</td>\n      <td>Name</td>\n      <td>David</td>\n    </tr>\n    <tr>\n      <th>3</th>\n      <td>1</td>\n      <td>Role</td>\n      <td>CEO</td>\n    </tr>\n    <tr>\n      <th>4</th>\n      <td>2</td>\n      <td>Role</td>\n      <td>Editor</td>\n    </tr>\n    <tr>\n      <th>5</th>\n      <td>3</td>\n      <td>Role</td>\n      <td>Author</td>\n    </tr>\n  </tbody>\n</table>\n</div>"
     },
     "execution_count": 207,
     "metadata": {},
     "output_type": "execute_result"
    }
   ],
   "source": [
    "df_long = pd.melt(df_wide, id_vars=[\"ID\"], value_vars=[\"Name\", \"Role\"], var_name=\"Attribute\", value_name=\"Value\")\n",
    "df_long"
   ],
   "metadata": {
    "collapsed": false,
    "pycharm": {
     "name": "#%%\n"
    }
   }
  },
  {
   "cell_type": "markdown",
   "source": [
    "## Wide"
   ],
   "metadata": {
    "collapsed": false
   }
  },
  {
   "cell_type": "code",
   "execution_count": 208,
   "outputs": [
    {
     "data": {
      "text/plain": "         Series ID                  Item Year Month  Avg. Price ($)\n0    APU0000702111  Bread, whilte per lb   2020 Jan           1.351\n1    APU0000702111  Bread, whilte per lb   2020 Feb           1.375\n2    APU0000702111  Bread, whilte per lb   2020 Mar           1.374\n3    APU0000702111  Bread, whilte per lb   2020 Apr           1.406\n4    APU0000702111  Bread, whilte per lb   2020 May           1.412\n..             ...                   ...        ...             ...\n97   APU0000709112   Milk, Whole per gal   2022 Jun           4.153\n98   APU0000709112   Milk, Whole per gal   2022 Jul           4.156\n99   APU0000709112   Milk, Whole per gal   2022 Aug           4.194\n100  APU0000709112   Milk, Whole per gal   2022 Sep           4.181\n101  APU0000709112   Milk, Whole per gal   2022 Oct           4.184\n\n[102 rows x 4 columns]",
      "text/html": "<div>\n<style scoped>\n    .dataframe tbody tr th:only-of-type {\n        vertical-align: middle;\n    }\n\n    .dataframe tbody tr th {\n        vertical-align: top;\n    }\n\n    .dataframe thead th {\n        text-align: right;\n    }\n</style>\n<table border=\"1\" class=\"dataframe\">\n  <thead>\n    <tr style=\"text-align: right;\">\n      <th></th>\n      <th>Series ID</th>\n      <th>Item</th>\n      <th>Year Month</th>\n      <th>Avg. Price ($)</th>\n    </tr>\n  </thead>\n  <tbody>\n    <tr>\n      <th>0</th>\n      <td>APU0000702111</td>\n      <td>Bread, whilte per lb</td>\n      <td>2020 Jan</td>\n      <td>1.351</td>\n    </tr>\n    <tr>\n      <th>1</th>\n      <td>APU0000702111</td>\n      <td>Bread, whilte per lb</td>\n      <td>2020 Feb</td>\n      <td>1.375</td>\n    </tr>\n    <tr>\n      <th>2</th>\n      <td>APU0000702111</td>\n      <td>Bread, whilte per lb</td>\n      <td>2020 Mar</td>\n      <td>1.374</td>\n    </tr>\n    <tr>\n      <th>3</th>\n      <td>APU0000702111</td>\n      <td>Bread, whilte per lb</td>\n      <td>2020 Apr</td>\n      <td>1.406</td>\n    </tr>\n    <tr>\n      <th>4</th>\n      <td>APU0000702111</td>\n      <td>Bread, whilte per lb</td>\n      <td>2020 May</td>\n      <td>1.412</td>\n    </tr>\n    <tr>\n      <th>...</th>\n      <td>...</td>\n      <td>...</td>\n      <td>...</td>\n      <td>...</td>\n    </tr>\n    <tr>\n      <th>97</th>\n      <td>APU0000709112</td>\n      <td>Milk, Whole per gal</td>\n      <td>2022 Jun</td>\n      <td>4.153</td>\n    </tr>\n    <tr>\n      <th>98</th>\n      <td>APU0000709112</td>\n      <td>Milk, Whole per gal</td>\n      <td>2022 Jul</td>\n      <td>4.156</td>\n    </tr>\n    <tr>\n      <th>99</th>\n      <td>APU0000709112</td>\n      <td>Milk, Whole per gal</td>\n      <td>2022 Aug</td>\n      <td>4.194</td>\n    </tr>\n    <tr>\n      <th>100</th>\n      <td>APU0000709112</td>\n      <td>Milk, Whole per gal</td>\n      <td>2022 Sep</td>\n      <td>4.181</td>\n    </tr>\n    <tr>\n      <th>101</th>\n      <td>APU0000709112</td>\n      <td>Milk, Whole per gal</td>\n      <td>2022 Oct</td>\n      <td>4.184</td>\n    </tr>\n  </tbody>\n</table>\n<p>102 rows × 4 columns</p>\n</div>"
     },
     "execution_count": 208,
     "metadata": {},
     "output_type": "execute_result"
    }
   ],
   "source": [
    "# https://beta.bls.gov/dataQuery/find?fq=survey:[ap]&s=popularity:D\n",
    "# This data came from bls\n",
    "df_long = pd.read_csv(\"data/file.csv\")\n",
    "df_long"
   ],
   "metadata": {
    "collapsed": false,
    "pycharm": {
     "name": "#%%\n"
    }
   }
  },
  {
   "cell_type": "code",
   "execution_count": 209,
   "outputs": [
    {
     "data": {
      "text/plain": "Year Month                          2020 Apr  2020 Aug  2020 Dec  2020 Feb  \\\nSeries ID     Item                                                           \nAPU0000702111 Bread, whilte per lb     1.406     1.495     1.538     1.375   \nAPU0000708111 Eggs, large per doz      2.019     1.328     1.481     1.449   \nAPU0000709112 Milk, Whole per gal      3.267     3.406     3.535     3.196   \n\nYear Month                          2020 Jan  2020 Jul  2020 Jun  2020 Mar  \\\nSeries ID     Item                                                           \nAPU0000702111 Bread, whilte per lb     1.351     1.485     1.474     1.374   \nAPU0000708111 Eggs, large per doz      1.461     1.401     1.554     1.525   \nAPU0000709112 Milk, Whole per gal      3.253     3.255     3.198     3.248   \n\nYear Month                          2020 May  2020 Nov  ...  2022 Apr  \\\nSeries ID     Item                                      ...             \nAPU0000702111 Bread, whilte per lb     1.412     1.515  ...     1.612   \nAPU0000708111 Eggs, large per doz      1.640     1.450  ...     2.520   \nAPU0000709112 Milk, Whole per gal      3.210     3.425  ...     4.012   \n\nYear Month                          2022 Aug  2022 Feb  2022 Jan  2022 Jul  \\\nSeries ID     Item                                                           \nAPU0000702111 Bread, whilte per lb     1.756     1.578     1.555     1.715   \nAPU0000708111 Eggs, large per doz      3.116     2.005     1.929     2.936   \nAPU0000709112 Milk, Whole per gal      4.194     3.875     3.787     4.156   \n\nYear Month                          2022 Jun  2022 Mar  2022 May  2022 Oct  \\\nSeries ID     Item                                                           \nAPU0000702111 Bread, whilte per lb     1.691     1.607     1.606     1.814   \nAPU0000708111 Eggs, large per doz      2.707     2.046     2.863     3.419   \nAPU0000709112 Milk, Whole per gal      4.153     3.917     4.204     4.184   \n\nYear Month                          2022 Sep  \nSeries ID     Item                            \nAPU0000702111 Bread, whilte per lb     1.749  \nAPU0000708111 Eggs, large per doz      2.902  \nAPU0000709112 Milk, Whole per gal      4.181  \n\n[3 rows x 34 columns]",
      "text/html": "<div>\n<style scoped>\n    .dataframe tbody tr th:only-of-type {\n        vertical-align: middle;\n    }\n\n    .dataframe tbody tr th {\n        vertical-align: top;\n    }\n\n    .dataframe thead th {\n        text-align: right;\n    }\n</style>\n<table border=\"1\" class=\"dataframe\">\n  <thead>\n    <tr style=\"text-align: right;\">\n      <th></th>\n      <th>Year Month</th>\n      <th>2020 Apr</th>\n      <th>2020 Aug</th>\n      <th>2020 Dec</th>\n      <th>2020 Feb</th>\n      <th>2020 Jan</th>\n      <th>2020 Jul</th>\n      <th>2020 Jun</th>\n      <th>2020 Mar</th>\n      <th>2020 May</th>\n      <th>2020 Nov</th>\n      <th>...</th>\n      <th>2022 Apr</th>\n      <th>2022 Aug</th>\n      <th>2022 Feb</th>\n      <th>2022 Jan</th>\n      <th>2022 Jul</th>\n      <th>2022 Jun</th>\n      <th>2022 Mar</th>\n      <th>2022 May</th>\n      <th>2022 Oct</th>\n      <th>2022 Sep</th>\n    </tr>\n    <tr>\n      <th>Series ID</th>\n      <th>Item</th>\n      <th></th>\n      <th></th>\n      <th></th>\n      <th></th>\n      <th></th>\n      <th></th>\n      <th></th>\n      <th></th>\n      <th></th>\n      <th></th>\n      <th></th>\n      <th></th>\n      <th></th>\n      <th></th>\n      <th></th>\n      <th></th>\n      <th></th>\n      <th></th>\n      <th></th>\n      <th></th>\n      <th></th>\n    </tr>\n  </thead>\n  <tbody>\n    <tr>\n      <th>APU0000702111</th>\n      <th>Bread, whilte per lb</th>\n      <td>1.406</td>\n      <td>1.495</td>\n      <td>1.538</td>\n      <td>1.375</td>\n      <td>1.351</td>\n      <td>1.485</td>\n      <td>1.474</td>\n      <td>1.374</td>\n      <td>1.412</td>\n      <td>1.515</td>\n      <td>...</td>\n      <td>1.612</td>\n      <td>1.756</td>\n      <td>1.578</td>\n      <td>1.555</td>\n      <td>1.715</td>\n      <td>1.691</td>\n      <td>1.607</td>\n      <td>1.606</td>\n      <td>1.814</td>\n      <td>1.749</td>\n    </tr>\n    <tr>\n      <th>APU0000708111</th>\n      <th>Eggs, large per doz</th>\n      <td>2.019</td>\n      <td>1.328</td>\n      <td>1.481</td>\n      <td>1.449</td>\n      <td>1.461</td>\n      <td>1.401</td>\n      <td>1.554</td>\n      <td>1.525</td>\n      <td>1.640</td>\n      <td>1.450</td>\n      <td>...</td>\n      <td>2.520</td>\n      <td>3.116</td>\n      <td>2.005</td>\n      <td>1.929</td>\n      <td>2.936</td>\n      <td>2.707</td>\n      <td>2.046</td>\n      <td>2.863</td>\n      <td>3.419</td>\n      <td>2.902</td>\n    </tr>\n    <tr>\n      <th>APU0000709112</th>\n      <th>Milk, Whole per gal</th>\n      <td>3.267</td>\n      <td>3.406</td>\n      <td>3.535</td>\n      <td>3.196</td>\n      <td>3.253</td>\n      <td>3.255</td>\n      <td>3.198</td>\n      <td>3.248</td>\n      <td>3.210</td>\n      <td>3.425</td>\n      <td>...</td>\n      <td>4.012</td>\n      <td>4.194</td>\n      <td>3.875</td>\n      <td>3.787</td>\n      <td>4.156</td>\n      <td>4.153</td>\n      <td>3.917</td>\n      <td>4.204</td>\n      <td>4.184</td>\n      <td>4.181</td>\n    </tr>\n  </tbody>\n</table>\n<p>3 rows × 34 columns</p>\n</div>"
     },
     "execution_count": 209,
     "metadata": {},
     "output_type": "execute_result"
    }
   ],
   "source": [
    "# unmelting using pivot()\n",
    "df_wide=pd.pivot(df_long, index=['Series ID','Item'], columns = 'Year Month',values = 'Avg. Price ($)') #Reshape from long to wide\n",
    "\n",
    "df_wide"
   ],
   "metadata": {
    "collapsed": false,
    "pycharm": {
     "name": "#%%\n"
    }
   }
  },
  {
   "cell_type": "markdown",
   "source": [
    "## Long"
   ],
   "metadata": {
    "collapsed": false
   }
  },
  {
   "cell_type": "code",
   "execution_count": 210,
   "outputs": [
    {
     "data": {
      "text/plain": "         Series ID                  Item Year Month  Avg. Price ($)\n0    APU0000702111  Bread, whilte per lb   2020 Apr           1.406\n1    APU0000708111   Eggs, large per doz   2020 Apr           2.019\n2    APU0000709112   Milk, Whole per gal   2020 Apr           3.267\n3    APU0000702111  Bread, whilte per lb   2020 Aug           1.495\n4    APU0000708111   Eggs, large per doz   2020 Aug           1.328\n..             ...                   ...        ...             ...\n97   APU0000708111   Eggs, large per doz   2022 Oct           3.419\n98   APU0000709112   Milk, Whole per gal   2022 Oct           4.184\n99   APU0000702111  Bread, whilte per lb   2022 Sep           1.749\n100  APU0000708111   Eggs, large per doz   2022 Sep           2.902\n101  APU0000709112   Milk, Whole per gal   2022 Sep           4.181\n\n[102 rows x 4 columns]",
      "text/html": "<div>\n<style scoped>\n    .dataframe tbody tr th:only-of-type {\n        vertical-align: middle;\n    }\n\n    .dataframe tbody tr th {\n        vertical-align: top;\n    }\n\n    .dataframe thead th {\n        text-align: right;\n    }\n</style>\n<table border=\"1\" class=\"dataframe\">\n  <thead>\n    <tr style=\"text-align: right;\">\n      <th></th>\n      <th>Series ID</th>\n      <th>Item</th>\n      <th>Year Month</th>\n      <th>Avg. Price ($)</th>\n    </tr>\n  </thead>\n  <tbody>\n    <tr>\n      <th>0</th>\n      <td>APU0000702111</td>\n      <td>Bread, whilte per lb</td>\n      <td>2020 Apr</td>\n      <td>1.406</td>\n    </tr>\n    <tr>\n      <th>1</th>\n      <td>APU0000708111</td>\n      <td>Eggs, large per doz</td>\n      <td>2020 Apr</td>\n      <td>2.019</td>\n    </tr>\n    <tr>\n      <th>2</th>\n      <td>APU0000709112</td>\n      <td>Milk, Whole per gal</td>\n      <td>2020 Apr</td>\n      <td>3.267</td>\n    </tr>\n    <tr>\n      <th>3</th>\n      <td>APU0000702111</td>\n      <td>Bread, whilte per lb</td>\n      <td>2020 Aug</td>\n      <td>1.495</td>\n    </tr>\n    <tr>\n      <th>4</th>\n      <td>APU0000708111</td>\n      <td>Eggs, large per doz</td>\n      <td>2020 Aug</td>\n      <td>1.328</td>\n    </tr>\n    <tr>\n      <th>...</th>\n      <td>...</td>\n      <td>...</td>\n      <td>...</td>\n      <td>...</td>\n    </tr>\n    <tr>\n      <th>97</th>\n      <td>APU0000708111</td>\n      <td>Eggs, large per doz</td>\n      <td>2022 Oct</td>\n      <td>3.419</td>\n    </tr>\n    <tr>\n      <th>98</th>\n      <td>APU0000709112</td>\n      <td>Milk, Whole per gal</td>\n      <td>2022 Oct</td>\n      <td>4.184</td>\n    </tr>\n    <tr>\n      <th>99</th>\n      <td>APU0000702111</td>\n      <td>Bread, whilte per lb</td>\n      <td>2022 Sep</td>\n      <td>1.749</td>\n    </tr>\n    <tr>\n      <th>100</th>\n      <td>APU0000708111</td>\n      <td>Eggs, large per doz</td>\n      <td>2022 Sep</td>\n      <td>2.902</td>\n    </tr>\n    <tr>\n      <th>101</th>\n      <td>APU0000709112</td>\n      <td>Milk, Whole per gal</td>\n      <td>2022 Sep</td>\n      <td>4.181</td>\n    </tr>\n  </tbody>\n</table>\n<p>102 rows × 4 columns</p>\n</div>"
     },
     "execution_count": 210,
     "metadata": {},
     "output_type": "execute_result"
    }
   ],
   "source": [
    "\n",
    "year_list=list(df_wide.columns)\n",
    "df_long = pd.melt(df_wide, value_vars=year_list,value_name='Avg. Price ($)', ignore_index=False).reset_index()\n",
    "df_long"
   ],
   "metadata": {
    "collapsed": false,
    "pycharm": {
     "name": "#%%\n"
    }
   }
  },
  {
   "cell_type": "markdown",
   "source": [
    "# Aggregating"
   ],
   "metadata": {
    "collapsed": false
   }
  },
  {
   "cell_type": "markdown",
   "source": [
    "## Calculating Percentage Share"
   ],
   "metadata": {
    "collapsed": false
   }
  },
  {
   "cell_type": "code",
   "execution_count": 211,
   "outputs": [
    {
     "data": {
      "text/plain": "                            Profit     Revenue\nYear Age_Group                                \n2011 Adults (35-64)        1278031   3964024.4\n     Seniors (64+)            9169     25363.0\n     Young Adults (25-34)  1085579   3448203.7\n     Youth (<25)            508522   1621959.3\n2012 Adults (35-64)        1336260   4144715.5\n     Seniors (64+)            7506     23230.0\n     Young Adults (25-34)  1108066   3503094.7\n     Youth (<25)            500161   1601158.1\n2013 Adults (35-64)        2737478   6959641.5\n     Seniors (64+)           17764     39987.0\n     Young Adults (25-34)  2252986   5951647.4\n     Youth (<25)            950980   2431948.1\n2014 Adults (35-64)        3416871   8319817.5\n     Seniors (64+)           40309     81552.1\n     Young Adults (25-34)  1839782   4544252.0\n     Youth (<25)            567125   1348212.4\n2015 Adults (35-64)        3436847   9111447.2\n     Seniors (64+)           19994     47500.9\n     Young Adults (25-34)  2880608   7869522.8\n     Youth (<25)           1191114   3183312.9\n2016 Adults (35-64)        4116095  10446662.3\n     Seniors (64+)           43423     91806.9\n     Young Adults (25-34)  2219740   5720280.6\n     Youth (<25)            656690   1634954.9",
      "text/html": "<div>\n<style scoped>\n    .dataframe tbody tr th:only-of-type {\n        vertical-align: middle;\n    }\n\n    .dataframe tbody tr th {\n        vertical-align: top;\n    }\n\n    .dataframe thead th {\n        text-align: right;\n    }\n</style>\n<table border=\"1\" class=\"dataframe\">\n  <thead>\n    <tr style=\"text-align: right;\">\n      <th></th>\n      <th></th>\n      <th>Profit</th>\n      <th>Revenue</th>\n    </tr>\n    <tr>\n      <th>Year</th>\n      <th>Age_Group</th>\n      <th></th>\n      <th></th>\n    </tr>\n  </thead>\n  <tbody>\n    <tr>\n      <th rowspan=\"4\" valign=\"top\">2011</th>\n      <th>Adults (35-64)</th>\n      <td>1278031</td>\n      <td>3964024.4</td>\n    </tr>\n    <tr>\n      <th>Seniors (64+)</th>\n      <td>9169</td>\n      <td>25363.0</td>\n    </tr>\n    <tr>\n      <th>Young Adults (25-34)</th>\n      <td>1085579</td>\n      <td>3448203.7</td>\n    </tr>\n    <tr>\n      <th>Youth (&lt;25)</th>\n      <td>508522</td>\n      <td>1621959.3</td>\n    </tr>\n    <tr>\n      <th rowspan=\"4\" valign=\"top\">2012</th>\n      <th>Adults (35-64)</th>\n      <td>1336260</td>\n      <td>4144715.5</td>\n    </tr>\n    <tr>\n      <th>Seniors (64+)</th>\n      <td>7506</td>\n      <td>23230.0</td>\n    </tr>\n    <tr>\n      <th>Young Adults (25-34)</th>\n      <td>1108066</td>\n      <td>3503094.7</td>\n    </tr>\n    <tr>\n      <th>Youth (&lt;25)</th>\n      <td>500161</td>\n      <td>1601158.1</td>\n    </tr>\n    <tr>\n      <th rowspan=\"4\" valign=\"top\">2013</th>\n      <th>Adults (35-64)</th>\n      <td>2737478</td>\n      <td>6959641.5</td>\n    </tr>\n    <tr>\n      <th>Seniors (64+)</th>\n      <td>17764</td>\n      <td>39987.0</td>\n    </tr>\n    <tr>\n      <th>Young Adults (25-34)</th>\n      <td>2252986</td>\n      <td>5951647.4</td>\n    </tr>\n    <tr>\n      <th>Youth (&lt;25)</th>\n      <td>950980</td>\n      <td>2431948.1</td>\n    </tr>\n    <tr>\n      <th rowspan=\"4\" valign=\"top\">2014</th>\n      <th>Adults (35-64)</th>\n      <td>3416871</td>\n      <td>8319817.5</td>\n    </tr>\n    <tr>\n      <th>Seniors (64+)</th>\n      <td>40309</td>\n      <td>81552.1</td>\n    </tr>\n    <tr>\n      <th>Young Adults (25-34)</th>\n      <td>1839782</td>\n      <td>4544252.0</td>\n    </tr>\n    <tr>\n      <th>Youth (&lt;25)</th>\n      <td>567125</td>\n      <td>1348212.4</td>\n    </tr>\n    <tr>\n      <th rowspan=\"4\" valign=\"top\">2015</th>\n      <th>Adults (35-64)</th>\n      <td>3436847</td>\n      <td>9111447.2</td>\n    </tr>\n    <tr>\n      <th>Seniors (64+)</th>\n      <td>19994</td>\n      <td>47500.9</td>\n    </tr>\n    <tr>\n      <th>Young Adults (25-34)</th>\n      <td>2880608</td>\n      <td>7869522.8</td>\n    </tr>\n    <tr>\n      <th>Youth (&lt;25)</th>\n      <td>1191114</td>\n      <td>3183312.9</td>\n    </tr>\n    <tr>\n      <th rowspan=\"4\" valign=\"top\">2016</th>\n      <th>Adults (35-64)</th>\n      <td>4116095</td>\n      <td>10446662.3</td>\n    </tr>\n    <tr>\n      <th>Seniors (64+)</th>\n      <td>43423</td>\n      <td>91806.9</td>\n    </tr>\n    <tr>\n      <th>Young Adults (25-34)</th>\n      <td>2219740</td>\n      <td>5720280.6</td>\n    </tr>\n    <tr>\n      <th>Youth (&lt;25)</th>\n      <td>656690</td>\n      <td>1634954.9</td>\n    </tr>\n  </tbody>\n</table>\n</div>"
     },
     "execution_count": 211,
     "metadata": {},
     "output_type": "execute_result"
    }
   ],
   "source": [
    "sales_yr_age = sales.groupby(['Year','Age_Group']).agg({'Profit':'sum','Revenue':'sum'})\n",
    "sales_yr_age"
   ],
   "metadata": {
    "collapsed": false,
    "pycharm": {
     "name": "#%%\n"
    }
   }
  },
  {
   "cell_type": "code",
   "execution_count": 212,
   "outputs": [
    {
     "data": {
      "text/plain": "    Year             Age_Group   Profit     Revenue  Revenue_Share  \\\n0   2011        Adults (35-64)  1278031   3964024.4       0.437552   \n1   2011         Seniors (64+)     9169     25363.0       0.002800   \n2   2011  Young Adults (25-34)  1085579   3448203.7       0.380615   \n3   2011           Youth (<25)   508522   1621959.3       0.179033   \n4   2012        Adults (35-64)  1336260   4144715.5       0.447005   \n5   2012         Seniors (64+)     7506     23230.0       0.002505   \n6   2012  Young Adults (25-34)  1108066   3503094.7       0.377806   \n7   2012           Youth (<25)   500161   1601158.1       0.172684   \n8   2013        Adults (35-64)  2737478   6959641.5       0.452418   \n9   2013         Seniors (64+)    17764     39987.0       0.002599   \n10  2013  Young Adults (25-34)  2252986   5951647.4       0.386892   \n11  2013           Youth (<25)   950980   2431948.1       0.158091   \n12  2014        Adults (35-64)  3416871   8319817.5       0.582056   \n13  2014         Seniors (64+)    40309     81552.1       0.005705   \n14  2014  Young Adults (25-34)  1839782   4544252.0       0.317917   \n15  2014           Youth (<25)   567125   1348212.4       0.094321   \n16  2015        Adults (35-64)  3436847   9111447.2       0.450799   \n17  2015         Seniors (64+)    19994     47500.9       0.002350   \n18  2015  Young Adults (25-34)  2880608   7869522.8       0.389353   \n19  2015           Youth (<25)  1191114   3183312.9       0.157498   \n20  2016        Adults (35-64)  4116095  10446662.3       0.583818   \n21  2016         Seniors (64+)    43423     91806.9       0.005131   \n22  2016  Young Adults (25-34)  2219740   5720280.6       0.319681   \n23  2016           Youth (<25)   656690   1634954.9       0.091370   \n\n    Profit_Share  \n0       0.443560  \n1       0.003182  \n2       0.376767  \n3       0.176490  \n4       0.452664  \n5       0.002543  \n6       0.375362  \n7       0.169432  \n8       0.459369  \n9       0.002981  \n10      0.378068  \n11      0.159582  \n12      0.582677  \n13      0.006874  \n14      0.313737  \n15      0.096712  \n16      0.456508  \n17      0.002656  \n18      0.382624  \n19      0.158213  \n20      0.585009  \n21      0.006172  \n22      0.315486  \n23      0.093334  ",
      "text/html": "<div>\n<style scoped>\n    .dataframe tbody tr th:only-of-type {\n        vertical-align: middle;\n    }\n\n    .dataframe tbody tr th {\n        vertical-align: top;\n    }\n\n    .dataframe thead th {\n        text-align: right;\n    }\n</style>\n<table border=\"1\" class=\"dataframe\">\n  <thead>\n    <tr style=\"text-align: right;\">\n      <th></th>\n      <th>Year</th>\n      <th>Age_Group</th>\n      <th>Profit</th>\n      <th>Revenue</th>\n      <th>Revenue_Share</th>\n      <th>Profit_Share</th>\n    </tr>\n  </thead>\n  <tbody>\n    <tr>\n      <th>0</th>\n      <td>2011</td>\n      <td>Adults (35-64)</td>\n      <td>1278031</td>\n      <td>3964024.4</td>\n      <td>0.437552</td>\n      <td>0.443560</td>\n    </tr>\n    <tr>\n      <th>1</th>\n      <td>2011</td>\n      <td>Seniors (64+)</td>\n      <td>9169</td>\n      <td>25363.0</td>\n      <td>0.002800</td>\n      <td>0.003182</td>\n    </tr>\n    <tr>\n      <th>2</th>\n      <td>2011</td>\n      <td>Young Adults (25-34)</td>\n      <td>1085579</td>\n      <td>3448203.7</td>\n      <td>0.380615</td>\n      <td>0.376767</td>\n    </tr>\n    <tr>\n      <th>3</th>\n      <td>2011</td>\n      <td>Youth (&lt;25)</td>\n      <td>508522</td>\n      <td>1621959.3</td>\n      <td>0.179033</td>\n      <td>0.176490</td>\n    </tr>\n    <tr>\n      <th>4</th>\n      <td>2012</td>\n      <td>Adults (35-64)</td>\n      <td>1336260</td>\n      <td>4144715.5</td>\n      <td>0.447005</td>\n      <td>0.452664</td>\n    </tr>\n    <tr>\n      <th>5</th>\n      <td>2012</td>\n      <td>Seniors (64+)</td>\n      <td>7506</td>\n      <td>23230.0</td>\n      <td>0.002505</td>\n      <td>0.002543</td>\n    </tr>\n    <tr>\n      <th>6</th>\n      <td>2012</td>\n      <td>Young Adults (25-34)</td>\n      <td>1108066</td>\n      <td>3503094.7</td>\n      <td>0.377806</td>\n      <td>0.375362</td>\n    </tr>\n    <tr>\n      <th>7</th>\n      <td>2012</td>\n      <td>Youth (&lt;25)</td>\n      <td>500161</td>\n      <td>1601158.1</td>\n      <td>0.172684</td>\n      <td>0.169432</td>\n    </tr>\n    <tr>\n      <th>8</th>\n      <td>2013</td>\n      <td>Adults (35-64)</td>\n      <td>2737478</td>\n      <td>6959641.5</td>\n      <td>0.452418</td>\n      <td>0.459369</td>\n    </tr>\n    <tr>\n      <th>9</th>\n      <td>2013</td>\n      <td>Seniors (64+)</td>\n      <td>17764</td>\n      <td>39987.0</td>\n      <td>0.002599</td>\n      <td>0.002981</td>\n    </tr>\n    <tr>\n      <th>10</th>\n      <td>2013</td>\n      <td>Young Adults (25-34)</td>\n      <td>2252986</td>\n      <td>5951647.4</td>\n      <td>0.386892</td>\n      <td>0.378068</td>\n    </tr>\n    <tr>\n      <th>11</th>\n      <td>2013</td>\n      <td>Youth (&lt;25)</td>\n      <td>950980</td>\n      <td>2431948.1</td>\n      <td>0.158091</td>\n      <td>0.159582</td>\n    </tr>\n    <tr>\n      <th>12</th>\n      <td>2014</td>\n      <td>Adults (35-64)</td>\n      <td>3416871</td>\n      <td>8319817.5</td>\n      <td>0.582056</td>\n      <td>0.582677</td>\n    </tr>\n    <tr>\n      <th>13</th>\n      <td>2014</td>\n      <td>Seniors (64+)</td>\n      <td>40309</td>\n      <td>81552.1</td>\n      <td>0.005705</td>\n      <td>0.006874</td>\n    </tr>\n    <tr>\n      <th>14</th>\n      <td>2014</td>\n      <td>Young Adults (25-34)</td>\n      <td>1839782</td>\n      <td>4544252.0</td>\n      <td>0.317917</td>\n      <td>0.313737</td>\n    </tr>\n    <tr>\n      <th>15</th>\n      <td>2014</td>\n      <td>Youth (&lt;25)</td>\n      <td>567125</td>\n      <td>1348212.4</td>\n      <td>0.094321</td>\n      <td>0.096712</td>\n    </tr>\n    <tr>\n      <th>16</th>\n      <td>2015</td>\n      <td>Adults (35-64)</td>\n      <td>3436847</td>\n      <td>9111447.2</td>\n      <td>0.450799</td>\n      <td>0.456508</td>\n    </tr>\n    <tr>\n      <th>17</th>\n      <td>2015</td>\n      <td>Seniors (64+)</td>\n      <td>19994</td>\n      <td>47500.9</td>\n      <td>0.002350</td>\n      <td>0.002656</td>\n    </tr>\n    <tr>\n      <th>18</th>\n      <td>2015</td>\n      <td>Young Adults (25-34)</td>\n      <td>2880608</td>\n      <td>7869522.8</td>\n      <td>0.389353</td>\n      <td>0.382624</td>\n    </tr>\n    <tr>\n      <th>19</th>\n      <td>2015</td>\n      <td>Youth (&lt;25)</td>\n      <td>1191114</td>\n      <td>3183312.9</td>\n      <td>0.157498</td>\n      <td>0.158213</td>\n    </tr>\n    <tr>\n      <th>20</th>\n      <td>2016</td>\n      <td>Adults (35-64)</td>\n      <td>4116095</td>\n      <td>10446662.3</td>\n      <td>0.583818</td>\n      <td>0.585009</td>\n    </tr>\n    <tr>\n      <th>21</th>\n      <td>2016</td>\n      <td>Seniors (64+)</td>\n      <td>43423</td>\n      <td>91806.9</td>\n      <td>0.005131</td>\n      <td>0.006172</td>\n    </tr>\n    <tr>\n      <th>22</th>\n      <td>2016</td>\n      <td>Young Adults (25-34)</td>\n      <td>2219740</td>\n      <td>5720280.6</td>\n      <td>0.319681</td>\n      <td>0.315486</td>\n    </tr>\n    <tr>\n      <th>23</th>\n      <td>2016</td>\n      <td>Youth (&lt;25)</td>\n      <td>656690</td>\n      <td>1634954.9</td>\n      <td>0.091370</td>\n      <td>0.093334</td>\n    </tr>\n  </tbody>\n</table>\n</div>"
     },
     "execution_count": 212,
     "metadata": {},
     "output_type": "execute_result"
    }
   ],
   "source": [
    "sales_yr_age['Revenue_Share'] = sales_yr_age['Revenue'] / sales_yr_age.groupby(['Year'])['Revenue'].sum()\n",
    "sales_yr_age['Profit_Share'] = sales_yr_age['Profit'] / sales_yr_age.groupby(['Year'])['Profit'].sum()\n",
    "sales_yr_age.reset_index()"
   ],
   "metadata": {
    "collapsed": false,
    "pycharm": {
     "name": "#%%\n"
    }
   }
  },
  {
   "cell_type": "markdown",
   "source": [
    "## Counting Unique Values"
   ],
   "metadata": {
    "collapsed": false
   }
  },
  {
   "cell_type": "code",
   "execution_count": 213,
   "outputs": [
    {
     "data": {
      "text/plain": "                      State\nAge_Group                  \nAdults (35-64)           47\nSeniors (64+)            18\nYoung Adults (25-34)     42\nYouth (<25)              41",
      "text/html": "<div>\n<style scoped>\n    .dataframe tbody tr th:only-of-type {\n        vertical-align: middle;\n    }\n\n    .dataframe tbody tr th {\n        vertical-align: top;\n    }\n\n    .dataframe thead th {\n        text-align: right;\n    }\n</style>\n<table border=\"1\" class=\"dataframe\">\n  <thead>\n    <tr style=\"text-align: right;\">\n      <th></th>\n      <th>State</th>\n    </tr>\n    <tr>\n      <th>Age_Group</th>\n      <th></th>\n    </tr>\n  </thead>\n  <tbody>\n    <tr>\n      <th>Adults (35-64)</th>\n      <td>47</td>\n    </tr>\n    <tr>\n      <th>Seniors (64+)</th>\n      <td>18</td>\n    </tr>\n    <tr>\n      <th>Young Adults (25-34)</th>\n      <td>42</td>\n    </tr>\n    <tr>\n      <th>Youth (&lt;25)</th>\n      <td>41</td>\n    </tr>\n  </tbody>\n</table>\n</div>"
     },
     "execution_count": 213,
     "metadata": {},
     "output_type": "execute_result"
    }
   ],
   "source": [
    "sales.groupby('Age_Group').agg({'State':'nunique'})"
   ],
   "metadata": {
    "collapsed": false,
    "pycharm": {
     "name": "#%%\n"
    }
   }
  },
  {
   "cell_type": "markdown",
   "source": [
    "## Aggregating on Multiple Values"
   ],
   "metadata": {
    "collapsed": false
   }
  },
  {
   "cell_type": "code",
   "execution_count": 214,
   "outputs": [
    {
     "data": {
      "text/plain": "          Country  Order_Quantity     Revenue\n0       Australia          263585  21302059.0\n1          Canada          192259   7935738.0\n2          France          128995   9276159.2\n3         Germany          125720   8978596.0\n4  United Kingdom          157218  10646196.0\n5   United States          477539  27975547.0",
      "text/html": "<div>\n<style scoped>\n    .dataframe tbody tr th:only-of-type {\n        vertical-align: middle;\n    }\n\n    .dataframe tbody tr th {\n        vertical-align: top;\n    }\n\n    .dataframe thead th {\n        text-align: right;\n    }\n</style>\n<table border=\"1\" class=\"dataframe\">\n  <thead>\n    <tr style=\"text-align: right;\">\n      <th></th>\n      <th>Country</th>\n      <th>Order_Quantity</th>\n      <th>Revenue</th>\n    </tr>\n  </thead>\n  <tbody>\n    <tr>\n      <th>0</th>\n      <td>Australia</td>\n      <td>263585</td>\n      <td>21302059.0</td>\n    </tr>\n    <tr>\n      <th>1</th>\n      <td>Canada</td>\n      <td>192259</td>\n      <td>7935738.0</td>\n    </tr>\n    <tr>\n      <th>2</th>\n      <td>France</td>\n      <td>128995</td>\n      <td>9276159.2</td>\n    </tr>\n    <tr>\n      <th>3</th>\n      <td>Germany</td>\n      <td>125720</td>\n      <td>8978596.0</td>\n    </tr>\n    <tr>\n      <th>4</th>\n      <td>United Kingdom</td>\n      <td>157218</td>\n      <td>10646196.0</td>\n    </tr>\n    <tr>\n      <th>5</th>\n      <td>United States</td>\n      <td>477539</td>\n      <td>27975547.0</td>\n    </tr>\n  </tbody>\n</table>\n</div>"
     },
     "execution_count": 214,
     "metadata": {},
     "output_type": "execute_result"
    }
   ],
   "source": [
    "sales_country = sales.groupby('Country').agg({'Order_Quantity':np.sum,'Revenue':np.sum}).reset_index()\n",
    "sales_country"
   ],
   "metadata": {
    "collapsed": false,
    "pycharm": {
     "name": "#%%\n"
    }
   }
  },
  {
   "cell_type": "code",
   "execution_count": 215,
   "outputs": [
    {
     "data": {
      "text/plain": "          Country  Order_Quantity     Revenue        aov\n0       Australia          263585  21302059.0  80.816659\n1          Canada          192259   7935738.0  41.276289\n2          France          128995   9276159.2  71.910998\n3         Germany          125720   8978596.0  71.417404\n4  United Kingdom          157218  10646196.0  67.716139\n5   United States          477539  27975547.0  58.582748",
      "text/html": "<div>\n<style scoped>\n    .dataframe tbody tr th:only-of-type {\n        vertical-align: middle;\n    }\n\n    .dataframe tbody tr th {\n        vertical-align: top;\n    }\n\n    .dataframe thead th {\n        text-align: right;\n    }\n</style>\n<table border=\"1\" class=\"dataframe\">\n  <thead>\n    <tr style=\"text-align: right;\">\n      <th></th>\n      <th>Country</th>\n      <th>Order_Quantity</th>\n      <th>Revenue</th>\n      <th>aov</th>\n    </tr>\n  </thead>\n  <tbody>\n    <tr>\n      <th>0</th>\n      <td>Australia</td>\n      <td>263585</td>\n      <td>21302059.0</td>\n      <td>80.816659</td>\n    </tr>\n    <tr>\n      <th>1</th>\n      <td>Canada</td>\n      <td>192259</td>\n      <td>7935738.0</td>\n      <td>41.276289</td>\n    </tr>\n    <tr>\n      <th>2</th>\n      <td>France</td>\n      <td>128995</td>\n      <td>9276159.2</td>\n      <td>71.910998</td>\n    </tr>\n    <tr>\n      <th>3</th>\n      <td>Germany</td>\n      <td>125720</td>\n      <td>8978596.0</td>\n      <td>71.417404</td>\n    </tr>\n    <tr>\n      <th>4</th>\n      <td>United Kingdom</td>\n      <td>157218</td>\n      <td>10646196.0</td>\n      <td>67.716139</td>\n    </tr>\n    <tr>\n      <th>5</th>\n      <td>United States</td>\n      <td>477539</td>\n      <td>27975547.0</td>\n      <td>58.582748</td>\n    </tr>\n  </tbody>\n</table>\n</div>"
     },
     "execution_count": 215,
     "metadata": {},
     "output_type": "execute_result"
    }
   ],
   "source": [
    "sales_country['aov'] = sales_country['Revenue']/ sales_country['Order_Quantity']\n",
    "sales_country"
   ],
   "metadata": {
    "collapsed": false,
    "pycharm": {
     "name": "#%%\n"
    }
   }
  },
  {
   "cell_type": "code",
   "execution_count": 216,
   "outputs": [
    {
     "data": {
      "text/plain": "          Country  Orders_Total  Orders_Avg  Revenue_Total  Revenue_Avg\n0       Australia        263585   11.012074     21302059.0   889.959016\n1          Canada        192259   13.560375      7935738.0   559.721964\n2          France        128995   11.728951      9276159.2   843.440553\n3         Germany        125720   11.328167      8978596.0   809.028293\n4  United Kingdom        157218   11.543172     10646196.0   781.659031\n5   United States        477539   12.180253     27975547.0   713.552696",
      "text/html": "<div>\n<style scoped>\n    .dataframe tbody tr th:only-of-type {\n        vertical-align: middle;\n    }\n\n    .dataframe tbody tr th {\n        vertical-align: top;\n    }\n\n    .dataframe thead th {\n        text-align: right;\n    }\n</style>\n<table border=\"1\" class=\"dataframe\">\n  <thead>\n    <tr style=\"text-align: right;\">\n      <th></th>\n      <th>Country</th>\n      <th>Orders_Total</th>\n      <th>Orders_Avg</th>\n      <th>Revenue_Total</th>\n      <th>Revenue_Avg</th>\n    </tr>\n  </thead>\n  <tbody>\n    <tr>\n      <th>0</th>\n      <td>Australia</td>\n      <td>263585</td>\n      <td>11.012074</td>\n      <td>21302059.0</td>\n      <td>889.959016</td>\n    </tr>\n    <tr>\n      <th>1</th>\n      <td>Canada</td>\n      <td>192259</td>\n      <td>13.560375</td>\n      <td>7935738.0</td>\n      <td>559.721964</td>\n    </tr>\n    <tr>\n      <th>2</th>\n      <td>France</td>\n      <td>128995</td>\n      <td>11.728951</td>\n      <td>9276159.2</td>\n      <td>843.440553</td>\n    </tr>\n    <tr>\n      <th>3</th>\n      <td>Germany</td>\n      <td>125720</td>\n      <td>11.328167</td>\n      <td>8978596.0</td>\n      <td>809.028293</td>\n    </tr>\n    <tr>\n      <th>4</th>\n      <td>United Kingdom</td>\n      <td>157218</td>\n      <td>11.543172</td>\n      <td>10646196.0</td>\n      <td>781.659031</td>\n    </tr>\n    <tr>\n      <th>5</th>\n      <td>United States</td>\n      <td>477539</td>\n      <td>12.180253</td>\n      <td>27975547.0</td>\n      <td>713.552696</td>\n    </tr>\n  </tbody>\n</table>\n</div>"
     },
     "execution_count": 216,
     "metadata": {},
     "output_type": "execute_result"
    }
   ],
   "source": [
    "sales_country = sales.copy()\n",
    "\n",
    "# Totals\n",
    "sales_country['Orders_Total'] = sales_country['Order_Quantity']\n",
    "sales_country['Revenue_Total'] = sales_country['Revenue']\n",
    "\n",
    "# Average\n",
    "sales_country['Orders_Avg'] = sales_country['Order_Quantity']\n",
    "sales_country['Revenue_Avg'] = sales_country['Revenue']\n",
    "\n",
    "sales_country = sales_country.groupby('Country').agg({'Orders_Total':np.sum,\n",
    "                                                      'Orders_Avg':np.mean,\n",
    "                                                      'Revenue_Total':np.sum,\n",
    "                                                      'Revenue_Avg':np.mean\n",
    "                                                        }).reset_index()\n",
    "sales_country"
   ],
   "metadata": {
    "collapsed": false,
    "pycharm": {
     "name": "#%%\n"
    }
   }
  },
  {
   "cell_type": "markdown",
   "source": [
    "## Weight Average Calculation"
   ],
   "metadata": {
    "collapsed": false
   }
  },
  {
   "cell_type": "code",
   "execution_count": 217,
   "outputs": [],
   "source": [
    "def wavg(group, avg_name, weight_name):\n",
    "    \"\"\" http://stackoverflow.com/questions/10951341/pandas-dataframe-aggregate-function-using-multiple-columns\n",
    "    In rare instance, we may not have weights, so just return the mean. Customize this if your business case\n",
    "    should return otherwise.\n",
    "    \"\"\"\n",
    "    d = group[avg_name]\n",
    "    w = group[weight_name]\n",
    "    try:\n",
    "        return (d * w).sum() / w.sum()\n",
    "    except ZeroDivisionError:\n",
    "        return d.mean()"
   ],
   "metadata": {
    "collapsed": false,
    "pycharm": {
     "name": "#%%\n"
    }
   }
  },
  {
   "cell_type": "code",
   "execution_count": 218,
   "outputs": [
    {
     "data": {
      "text/plain": "              state_name  median_income\n0                Alabama   84219.716220\n1                 Alaska   28445.113534\n2                Arizona  524846.751890\n3               Arkansas   45096.516518\n4             California  744266.958072\n5               Colorado   99976.104440\n6            Connecticut  448510.581719\n7               Delaware  323252.049685\n8   District of Columbia  648932.926287\n9                Florida  319831.244261\n10               Georgia   79419.320351\n11                Hawaii  304136.802223\n12                 Idaho   40816.115219\n13              Illinois  149675.986810\n14               Indiana   73462.314300\n15                  Iowa   33292.700805\n16                Kansas   31597.036166\n17              Kentucky   41953.981113\n18             Louisiana   79095.725442\n19                 Maine   90129.282157\n20              Maryland  274191.127124\n21         Massachusetts  506378.591320\n22              Michigan  135152.607195\n23             Minnesota   73099.879418\n24           Mississippi   41935.897067\n25              Missouri   62324.568415\n26               Montana   19446.509352\n27              Nebraska   22522.039732\n28                Nevada  164987.381458\n29         New Hampshire  148844.371057\n30            New Jersey  424079.503882\n31            New Mexico   71464.768985\n32              New York  357738.159777\n33        North Carolina  113227.013407\n34          North Dakota   14187.752234\n35                  Ohio  136504.462442\n36              Oklahoma   53894.179317\n37                Oregon  127741.824702\n38          Pennsylvania  210476.671410\n39           Puerto Rico   50825.251257\n40          Rhode Island  184499.601851\n41        South Carolina  120977.653466\n42          South Dakota   13830.527990\n43             Tennessee   79442.129550\n44                 Texas  122415.681691\n45                  Utah  112289.945276\n46               Vermont   47199.233726\n47              Virginia   82579.710634\n48            Washington  224121.405988\n49         West Virginia   35954.903556\n50             Wisconsin   85749.647292\n51               Wyoming   26072.147859",
      "text/html": "<div>\n<style scoped>\n    .dataframe tbody tr th:only-of-type {\n        vertical-align: middle;\n    }\n\n    .dataframe tbody tr th {\n        vertical-align: top;\n    }\n\n    .dataframe thead th {\n        text-align: right;\n    }\n</style>\n<table border=\"1\" class=\"dataframe\">\n  <thead>\n    <tr style=\"text-align: right;\">\n      <th></th>\n      <th>state_name</th>\n      <th>median_income</th>\n    </tr>\n  </thead>\n  <tbody>\n    <tr>\n      <th>0</th>\n      <td>Alabama</td>\n      <td>84219.716220</td>\n    </tr>\n    <tr>\n      <th>1</th>\n      <td>Alaska</td>\n      <td>28445.113534</td>\n    </tr>\n    <tr>\n      <th>2</th>\n      <td>Arizona</td>\n      <td>524846.751890</td>\n    </tr>\n    <tr>\n      <th>3</th>\n      <td>Arkansas</td>\n      <td>45096.516518</td>\n    </tr>\n    <tr>\n      <th>4</th>\n      <td>California</td>\n      <td>744266.958072</td>\n    </tr>\n    <tr>\n      <th>5</th>\n      <td>Colorado</td>\n      <td>99976.104440</td>\n    </tr>\n    <tr>\n      <th>6</th>\n      <td>Connecticut</td>\n      <td>448510.581719</td>\n    </tr>\n    <tr>\n      <th>7</th>\n      <td>Delaware</td>\n      <td>323252.049685</td>\n    </tr>\n    <tr>\n      <th>8</th>\n      <td>District of Columbia</td>\n      <td>648932.926287</td>\n    </tr>\n    <tr>\n      <th>9</th>\n      <td>Florida</td>\n      <td>319831.244261</td>\n    </tr>\n    <tr>\n      <th>10</th>\n      <td>Georgia</td>\n      <td>79419.320351</td>\n    </tr>\n    <tr>\n      <th>11</th>\n      <td>Hawaii</td>\n      <td>304136.802223</td>\n    </tr>\n    <tr>\n      <th>12</th>\n      <td>Idaho</td>\n      <td>40816.115219</td>\n    </tr>\n    <tr>\n      <th>13</th>\n      <td>Illinois</td>\n      <td>149675.986810</td>\n    </tr>\n    <tr>\n      <th>14</th>\n      <td>Indiana</td>\n      <td>73462.314300</td>\n    </tr>\n    <tr>\n      <th>15</th>\n      <td>Iowa</td>\n      <td>33292.700805</td>\n    </tr>\n    <tr>\n      <th>16</th>\n      <td>Kansas</td>\n      <td>31597.036166</td>\n    </tr>\n    <tr>\n      <th>17</th>\n      <td>Kentucky</td>\n      <td>41953.981113</td>\n    </tr>\n    <tr>\n      <th>18</th>\n      <td>Louisiana</td>\n      <td>79095.725442</td>\n    </tr>\n    <tr>\n      <th>19</th>\n      <td>Maine</td>\n      <td>90129.282157</td>\n    </tr>\n    <tr>\n      <th>20</th>\n      <td>Maryland</td>\n      <td>274191.127124</td>\n    </tr>\n    <tr>\n      <th>21</th>\n      <td>Massachusetts</td>\n      <td>506378.591320</td>\n    </tr>\n    <tr>\n      <th>22</th>\n      <td>Michigan</td>\n      <td>135152.607195</td>\n    </tr>\n    <tr>\n      <th>23</th>\n      <td>Minnesota</td>\n      <td>73099.879418</td>\n    </tr>\n    <tr>\n      <th>24</th>\n      <td>Mississippi</td>\n      <td>41935.897067</td>\n    </tr>\n    <tr>\n      <th>25</th>\n      <td>Missouri</td>\n      <td>62324.568415</td>\n    </tr>\n    <tr>\n      <th>26</th>\n      <td>Montana</td>\n      <td>19446.509352</td>\n    </tr>\n    <tr>\n      <th>27</th>\n      <td>Nebraska</td>\n      <td>22522.039732</td>\n    </tr>\n    <tr>\n      <th>28</th>\n      <td>Nevada</td>\n      <td>164987.381458</td>\n    </tr>\n    <tr>\n      <th>29</th>\n      <td>New Hampshire</td>\n      <td>148844.371057</td>\n    </tr>\n    <tr>\n      <th>30</th>\n      <td>New Jersey</td>\n      <td>424079.503882</td>\n    </tr>\n    <tr>\n      <th>31</th>\n      <td>New Mexico</td>\n      <td>71464.768985</td>\n    </tr>\n    <tr>\n      <th>32</th>\n      <td>New York</td>\n      <td>357738.159777</td>\n    </tr>\n    <tr>\n      <th>33</th>\n      <td>North Carolina</td>\n      <td>113227.013407</td>\n    </tr>\n    <tr>\n      <th>34</th>\n      <td>North Dakota</td>\n      <td>14187.752234</td>\n    </tr>\n    <tr>\n      <th>35</th>\n      <td>Ohio</td>\n      <td>136504.462442</td>\n    </tr>\n    <tr>\n      <th>36</th>\n      <td>Oklahoma</td>\n      <td>53894.179317</td>\n    </tr>\n    <tr>\n      <th>37</th>\n      <td>Oregon</td>\n      <td>127741.824702</td>\n    </tr>\n    <tr>\n      <th>38</th>\n      <td>Pennsylvania</td>\n      <td>210476.671410</td>\n    </tr>\n    <tr>\n      <th>39</th>\n      <td>Puerto Rico</td>\n      <td>50825.251257</td>\n    </tr>\n    <tr>\n      <th>40</th>\n      <td>Rhode Island</td>\n      <td>184499.601851</td>\n    </tr>\n    <tr>\n      <th>41</th>\n      <td>South Carolina</td>\n      <td>120977.653466</td>\n    </tr>\n    <tr>\n      <th>42</th>\n      <td>South Dakota</td>\n      <td>13830.527990</td>\n    </tr>\n    <tr>\n      <th>43</th>\n      <td>Tennessee</td>\n      <td>79442.129550</td>\n    </tr>\n    <tr>\n      <th>44</th>\n      <td>Texas</td>\n      <td>122415.681691</td>\n    </tr>\n    <tr>\n      <th>45</th>\n      <td>Utah</td>\n      <td>112289.945276</td>\n    </tr>\n    <tr>\n      <th>46</th>\n      <td>Vermont</td>\n      <td>47199.233726</td>\n    </tr>\n    <tr>\n      <th>47</th>\n      <td>Virginia</td>\n      <td>82579.710634</td>\n    </tr>\n    <tr>\n      <th>48</th>\n      <td>Washington</td>\n      <td>224121.405988</td>\n    </tr>\n    <tr>\n      <th>49</th>\n      <td>West Virginia</td>\n      <td>35954.903556</td>\n    </tr>\n    <tr>\n      <th>50</th>\n      <td>Wisconsin</td>\n      <td>85749.647292</td>\n    </tr>\n    <tr>\n      <th>51</th>\n      <td>Wyoming</td>\n      <td>26072.147859</td>\n    </tr>\n  </tbody>\n</table>\n</div>"
     },
     "execution_count": 218,
     "metadata": {},
     "output_type": "execute_result"
    }
   ],
   "source": [
    "census_wavg = census_county.groupby(['state_name']).apply(wavg, 'population','median_income').reset_index()\n",
    "census_wavg = census_wavg.rename(columns={0: 'median_income'})\n",
    "census_wavg"
   ],
   "metadata": {
    "collapsed": false,
    "pycharm": {
     "name": "#%%\n"
    }
   }
  },
  {
   "cell_type": "markdown",
   "source": [
    "![green-divider](https://user-images.githubusercontent.com/7065401/52071924-c003ad80-2562-11e9-8297-1c6595f8a7ff.png)\n",
    "\n",
    "# Selecting, Indexing, Filtering & Slicing"
   ],
   "metadata": {
    "collapsed": false
   }
  },
  {
   "cell_type": "markdown",
   "source": [
    "![green-divider](https://user-images.githubusercontent.com/7065401/52071924-c003ad80-2562-11e9-8297-1c6595f8a7ff.png)\n",
    "# Filtering"
   ],
   "metadata": {
    "collapsed": false
   }
  },
  {
   "cell_type": "markdown",
   "source": [
    "#### Loc is useful for Filtering data where the second line is good for selecting data"
   ],
   "metadata": {
    "collapsed": false
   }
  },
  {
   "cell_type": "markdown",
   "source": [
    "#### Look for individual rows using the loc function"
   ],
   "metadata": {
    "collapsed": false
   }
  },
  {
   "cell_type": "code",
   "execution_count": 219,
   "outputs": [],
   "source": [
    "sales = sales.set_index('Country')"
   ],
   "metadata": {
    "collapsed": false,
    "pycharm": {
     "name": "#%%\n"
    }
   }
  },
  {
   "cell_type": "code",
   "execution_count": 220,
   "outputs": [
    {
     "data": {
      "text/plain": "              Date  Day  Month  Year  Customer_Age             Age_Group  \\\nCountry                                                                    \nCanada  2013-11-26   26     11  2013            19           Youth (<25)   \nCanada  2015-11-26   26     11  2015            19           Youth (<25)   \nCanada  2013-08-02    2      8  2013            29  Young Adults (25-34)   \nCanada  2015-08-02    2      8  2015            29  Young Adults (25-34)   \nCanada  2013-09-02    2      9  2013            29  Young Adults (25-34)   \n...            ...  ...    ...   ...           ...                   ...   \nCanada  2016-07-05    5      7  2016            38        Adults (35-64)   \nCanada  2013-08-18   18      8  2013            31  Young Adults (25-34)   \nCanada  2015-08-18   18      8  2015            31  Young Adults (25-34)   \nCanada  2013-09-21   21      9  2013            31  Young Adults (25-34)   \nCanada  2015-09-21   21      9  2015            31  Young Adults (25-34)   \n\n        Customer_Gender             State Product_Category Sub_Category  \\\nCountry                                                                   \nCanada                M  British Columbia      Accessories   Bike Racks   \nCanada                M  British Columbia      Accessories   Bike Racks   \nCanada                M  British Columbia      Accessories   Bike Racks   \nCanada                M  British Columbia      Accessories   Bike Racks   \nCanada                M  British Columbia      Accessories   Bike Racks   \n...                 ...               ...              ...          ...   \nCanada                M  British Columbia         Clothing        Vests   \nCanada                F  British Columbia         Clothing        Vests   \nCanada                F  British Columbia         Clothing        Vests   \nCanada                F  British Columbia         Clothing        Vests   \nCanada                F  British Columbia         Clothing        Vests   \n\n                     Product  Order_Quantity  Unit_Cost  Unit_Price  Profit  \\\nCountry                                                                       \nCanada   Hitch Rack - 4-Bike               8         45         120     590   \nCanada   Hitch Rack - 4-Bike               8         45         120     590   \nCanada   Hitch Rack - 4-Bike               5         45         120     369   \nCanada   Hitch Rack - 4-Bike               7         45         120     517   \nCanada   Hitch Rack - 4-Bike               2         45         120     148   \n...                      ...             ...        ...         ...     ...   \nCanada       Classic Vest, L              14         24          64     551   \nCanada       Classic Vest, L              13         24          64     512   \nCanada       Classic Vest, L              11         24          64     433   \nCanada       Classic Vest, L              15         24          64     590   \nCanada       Classic Vest, L              16         24          64     630   \n\n         Cost  Revenue  Revenue_per_Age  Calculated_Cost  \nCountry                                                   \nCanada    360    950.0        50.000000           370.80  \nCanada    360    950.0        50.000000           370.80  \nCanada    225    594.0        20.482759           231.75  \nCanada    315    832.0        28.689655           324.45  \nCanada     90    238.0         8.206897            92.70  \n...       ...      ...              ...              ...  \nCanada    336    887.0        23.342105           346.08  \nCanada    312    824.0        26.580645           321.36  \nCanada    264    697.0        22.483871           271.92  \nCanada    360    950.0        30.645161           370.80  \nCanada    384   1014.0        32.709677           395.52  \n\n[14178 rows x 19 columns]",
      "text/html": "<div>\n<style scoped>\n    .dataframe tbody tr th:only-of-type {\n        vertical-align: middle;\n    }\n\n    .dataframe tbody tr th {\n        vertical-align: top;\n    }\n\n    .dataframe thead th {\n        text-align: right;\n    }\n</style>\n<table border=\"1\" class=\"dataframe\">\n  <thead>\n    <tr style=\"text-align: right;\">\n      <th></th>\n      <th>Date</th>\n      <th>Day</th>\n      <th>Month</th>\n      <th>Year</th>\n      <th>Customer_Age</th>\n      <th>Age_Group</th>\n      <th>Customer_Gender</th>\n      <th>State</th>\n      <th>Product_Category</th>\n      <th>Sub_Category</th>\n      <th>Product</th>\n      <th>Order_Quantity</th>\n      <th>Unit_Cost</th>\n      <th>Unit_Price</th>\n      <th>Profit</th>\n      <th>Cost</th>\n      <th>Revenue</th>\n      <th>Revenue_per_Age</th>\n      <th>Calculated_Cost</th>\n    </tr>\n    <tr>\n      <th>Country</th>\n      <th></th>\n      <th></th>\n      <th></th>\n      <th></th>\n      <th></th>\n      <th></th>\n      <th></th>\n      <th></th>\n      <th></th>\n      <th></th>\n      <th></th>\n      <th></th>\n      <th></th>\n      <th></th>\n      <th></th>\n      <th></th>\n      <th></th>\n      <th></th>\n      <th></th>\n    </tr>\n  </thead>\n  <tbody>\n    <tr>\n      <th>Canada</th>\n      <td>2013-11-26</td>\n      <td>26</td>\n      <td>11</td>\n      <td>2013</td>\n      <td>19</td>\n      <td>Youth (&lt;25)</td>\n      <td>M</td>\n      <td>British Columbia</td>\n      <td>Accessories</td>\n      <td>Bike Racks</td>\n      <td>Hitch Rack - 4-Bike</td>\n      <td>8</td>\n      <td>45</td>\n      <td>120</td>\n      <td>590</td>\n      <td>360</td>\n      <td>950.0</td>\n      <td>50.000000</td>\n      <td>370.80</td>\n    </tr>\n    <tr>\n      <th>Canada</th>\n      <td>2015-11-26</td>\n      <td>26</td>\n      <td>11</td>\n      <td>2015</td>\n      <td>19</td>\n      <td>Youth (&lt;25)</td>\n      <td>M</td>\n      <td>British Columbia</td>\n      <td>Accessories</td>\n      <td>Bike Racks</td>\n      <td>Hitch Rack - 4-Bike</td>\n      <td>8</td>\n      <td>45</td>\n      <td>120</td>\n      <td>590</td>\n      <td>360</td>\n      <td>950.0</td>\n      <td>50.000000</td>\n      <td>370.80</td>\n    </tr>\n    <tr>\n      <th>Canada</th>\n      <td>2013-08-02</td>\n      <td>2</td>\n      <td>8</td>\n      <td>2013</td>\n      <td>29</td>\n      <td>Young Adults (25-34)</td>\n      <td>M</td>\n      <td>British Columbia</td>\n      <td>Accessories</td>\n      <td>Bike Racks</td>\n      <td>Hitch Rack - 4-Bike</td>\n      <td>5</td>\n      <td>45</td>\n      <td>120</td>\n      <td>369</td>\n      <td>225</td>\n      <td>594.0</td>\n      <td>20.482759</td>\n      <td>231.75</td>\n    </tr>\n    <tr>\n      <th>Canada</th>\n      <td>2015-08-02</td>\n      <td>2</td>\n      <td>8</td>\n      <td>2015</td>\n      <td>29</td>\n      <td>Young Adults (25-34)</td>\n      <td>M</td>\n      <td>British Columbia</td>\n      <td>Accessories</td>\n      <td>Bike Racks</td>\n      <td>Hitch Rack - 4-Bike</td>\n      <td>7</td>\n      <td>45</td>\n      <td>120</td>\n      <td>517</td>\n      <td>315</td>\n      <td>832.0</td>\n      <td>28.689655</td>\n      <td>324.45</td>\n    </tr>\n    <tr>\n      <th>Canada</th>\n      <td>2013-09-02</td>\n      <td>2</td>\n      <td>9</td>\n      <td>2013</td>\n      <td>29</td>\n      <td>Young Adults (25-34)</td>\n      <td>M</td>\n      <td>British Columbia</td>\n      <td>Accessories</td>\n      <td>Bike Racks</td>\n      <td>Hitch Rack - 4-Bike</td>\n      <td>2</td>\n      <td>45</td>\n      <td>120</td>\n      <td>148</td>\n      <td>90</td>\n      <td>238.0</td>\n      <td>8.206897</td>\n      <td>92.70</td>\n    </tr>\n    <tr>\n      <th>...</th>\n      <td>...</td>\n      <td>...</td>\n      <td>...</td>\n      <td>...</td>\n      <td>...</td>\n      <td>...</td>\n      <td>...</td>\n      <td>...</td>\n      <td>...</td>\n      <td>...</td>\n      <td>...</td>\n      <td>...</td>\n      <td>...</td>\n      <td>...</td>\n      <td>...</td>\n      <td>...</td>\n      <td>...</td>\n      <td>...</td>\n      <td>...</td>\n    </tr>\n    <tr>\n      <th>Canada</th>\n      <td>2016-07-05</td>\n      <td>5</td>\n      <td>7</td>\n      <td>2016</td>\n      <td>38</td>\n      <td>Adults (35-64)</td>\n      <td>M</td>\n      <td>British Columbia</td>\n      <td>Clothing</td>\n      <td>Vests</td>\n      <td>Classic Vest, L</td>\n      <td>14</td>\n      <td>24</td>\n      <td>64</td>\n      <td>551</td>\n      <td>336</td>\n      <td>887.0</td>\n      <td>23.342105</td>\n      <td>346.08</td>\n    </tr>\n    <tr>\n      <th>Canada</th>\n      <td>2013-08-18</td>\n      <td>18</td>\n      <td>8</td>\n      <td>2013</td>\n      <td>31</td>\n      <td>Young Adults (25-34)</td>\n      <td>F</td>\n      <td>British Columbia</td>\n      <td>Clothing</td>\n      <td>Vests</td>\n      <td>Classic Vest, L</td>\n      <td>13</td>\n      <td>24</td>\n      <td>64</td>\n      <td>512</td>\n      <td>312</td>\n      <td>824.0</td>\n      <td>26.580645</td>\n      <td>321.36</td>\n    </tr>\n    <tr>\n      <th>Canada</th>\n      <td>2015-08-18</td>\n      <td>18</td>\n      <td>8</td>\n      <td>2015</td>\n      <td>31</td>\n      <td>Young Adults (25-34)</td>\n      <td>F</td>\n      <td>British Columbia</td>\n      <td>Clothing</td>\n      <td>Vests</td>\n      <td>Classic Vest, L</td>\n      <td>11</td>\n      <td>24</td>\n      <td>64</td>\n      <td>433</td>\n      <td>264</td>\n      <td>697.0</td>\n      <td>22.483871</td>\n      <td>271.92</td>\n    </tr>\n    <tr>\n      <th>Canada</th>\n      <td>2013-09-21</td>\n      <td>21</td>\n      <td>9</td>\n      <td>2013</td>\n      <td>31</td>\n      <td>Young Adults (25-34)</td>\n      <td>F</td>\n      <td>British Columbia</td>\n      <td>Clothing</td>\n      <td>Vests</td>\n      <td>Classic Vest, L</td>\n      <td>15</td>\n      <td>24</td>\n      <td>64</td>\n      <td>590</td>\n      <td>360</td>\n      <td>950.0</td>\n      <td>30.645161</td>\n      <td>370.80</td>\n    </tr>\n    <tr>\n      <th>Canada</th>\n      <td>2015-09-21</td>\n      <td>21</td>\n      <td>9</td>\n      <td>2015</td>\n      <td>31</td>\n      <td>Young Adults (25-34)</td>\n      <td>F</td>\n      <td>British Columbia</td>\n      <td>Clothing</td>\n      <td>Vests</td>\n      <td>Classic Vest, L</td>\n      <td>16</td>\n      <td>24</td>\n      <td>64</td>\n      <td>630</td>\n      <td>384</td>\n      <td>1014.0</td>\n      <td>32.709677</td>\n      <td>395.52</td>\n    </tr>\n  </tbody>\n</table>\n<p>14178 rows × 19 columns</p>\n</div>"
     },
     "execution_count": 220,
     "metadata": {},
     "output_type": "execute_result"
    }
   ],
   "source": [
    "sales.loc['Canada']"
   ],
   "metadata": {
    "collapsed": false,
    "pycharm": {
     "name": "#%%\n"
    }
   }
  },
  {
   "cell_type": "markdown",
   "source": [
    "#### select the last row by sequential position"
   ],
   "metadata": {
    "collapsed": false
   }
  },
  {
   "cell_type": "code",
   "source": [
    "sales.iloc[-1]"
   ],
   "metadata": {
    "collapsed": false,
    "pycharm": {
     "name": "#%%\n"
    }
   },
   "execution_count": 221,
   "outputs": [
    {
     "data": {
      "text/plain": "Date                2016-03-04 00:00:00\nDay                                   4\nMonth                                 3\nYear                               2016\nCustomer_Age                         37\nAge_Group                Adults (35-64)\nCustomer_Gender                       F\nState                     Seine (Paris)\nProduct_Category               Clothing\nSub_Category                      Vests\nProduct                 Classic Vest, L\nOrder_Quantity                       23\nUnit_Cost                            24\nUnit_Price                           64\nProfit                              655\nCost                                552\nRevenue                          1327.7\nRevenue_per_Age               32.621622\nCalculated_Cost                  568.56\nName: France, dtype: object"
     },
     "execution_count": 221,
     "metadata": {},
     "output_type": "execute_result"
    }
   ]
  },
  {
   "cell_type": "code",
   "execution_count": 222,
   "outputs": [
    {
     "data": {
      "text/plain": "0                 Canada\n1                 Canada\n2              Australia\n3              Australia\n4              Australia\n               ...      \n113031    United Kingdom\n113032         Australia\n113033         Australia\n113034            France\n113035            France\nName: Country, Length: 113036, dtype: object"
     },
     "execution_count": 222,
     "metadata": {},
     "output_type": "execute_result"
    }
   ],
   "source": [
    "sales = sales.reset_index()\n",
    "sales['Country']"
   ],
   "metadata": {
    "collapsed": false,
    "pycharm": {
     "name": "#%%\n"
    }
   }
  },
  {
   "cell_type": "markdown",
   "source": [
    "![green-divider](https://user-images.githubusercontent.com/7065401/52071924-c003ad80-2562-11e9-8297-1c6595f8a7ff.png)\n",
    "# Filtering Multiple Value"
   ],
   "metadata": {
    "collapsed": false
   }
  },
  {
   "cell_type": "code",
   "execution_count": 223,
   "outputs": [
    {
     "data": {
      "text/plain": "              Country       Date  Day  Month  Year  Customer_Age  \\\n0              Canada 2013-11-26   26     11  2013            19   \n1              Canada 2015-11-26   26     11  2015            19   \n2           Australia 2014-03-23   23      3  2014            49   \n3           Australia 2016-03-23   23      3  2016            49   \n4           Australia 2014-05-15   15      5  2014            47   \n...               ...        ...  ...    ...   ...           ...   \n113023  United States 2016-03-20   20      3  2016            34   \n113024  United States 2014-04-03    3      4  2014            34   \n113025  United States 2016-04-03    3      4  2016            34   \n113032      Australia 2014-04-02    2      4  2014            18   \n113033      Australia 2016-04-02    2      4  2016            18   \n\n                   Age_Group Customer_Gender             State  \\\n0                Youth (<25)               M  British Columbia   \n1                Youth (<25)               M  British Columbia   \n2             Adults (35-64)               M   New South Wales   \n3             Adults (35-64)               M   New South Wales   \n4             Adults (35-64)               F   New South Wales   \n...                      ...             ...               ...   \n113023  Young Adults (25-34)               M        California   \n113024  Young Adults (25-34)               M        California   \n113025  Young Adults (25-34)               M        California   \n113032           Youth (<25)               M        Queensland   \n113033           Youth (<25)               M        Queensland   \n\n       Product_Category Sub_Category              Product  Order_Quantity  \\\n0           Accessories   Bike Racks  Hitch Rack - 4-Bike               8   \n1           Accessories   Bike Racks  Hitch Rack - 4-Bike               8   \n2           Accessories   Bike Racks  Hitch Rack - 4-Bike              23   \n3           Accessories   Bike Racks  Hitch Rack - 4-Bike              20   \n4           Accessories   Bike Racks  Hitch Rack - 4-Bike               4   \n...                 ...          ...                  ...             ...   \n113023         Clothing        Vests      Classic Vest, S              26   \n113024         Clothing        Vests      Classic Vest, S              16   \n113025         Clothing        Vests      Classic Vest, S              14   \n113032         Clothing        Vests      Classic Vest, M              22   \n113033         Clothing        Vests      Classic Vest, M              22   \n\n        Unit_Cost  Unit_Price  Profit  Cost  Revenue  Revenue_per_Age  \\\n0              45         120     590   360    950.0        50.000000   \n1              45         120     590   360    950.0        50.000000   \n2              45         120    1366  1035   2401.0        49.000000   \n3              45         120    1188   900   2088.0        42.612245   \n4              45         120     238   180    418.0         8.893617   \n...           ...         ...     ...   ...      ...              ...   \n113023         24          64    1007   624   1631.0        47.970588   \n113024         24          64     620   384   1004.0        29.529412   \n113025         24          64     542   336    878.0        25.823529   \n113032         24          64     655   528   1183.0        65.722222   \n113033         24          64     655   528   1183.0        65.722222   \n\n        Calculated_Cost  \n0                370.80  \n1                370.80  \n2               1066.05  \n3                927.00  \n4                185.40  \n...                 ...  \n113023           642.72  \n113024           395.52  \n113025           346.08  \n113032           543.84  \n113033           543.84  \n\n[77320 rows x 20 columns]",
      "text/html": "<div>\n<style scoped>\n    .dataframe tbody tr th:only-of-type {\n        vertical-align: middle;\n    }\n\n    .dataframe tbody tr th {\n        vertical-align: top;\n    }\n\n    .dataframe thead th {\n        text-align: right;\n    }\n</style>\n<table border=\"1\" class=\"dataframe\">\n  <thead>\n    <tr style=\"text-align: right;\">\n      <th></th>\n      <th>Country</th>\n      <th>Date</th>\n      <th>Day</th>\n      <th>Month</th>\n      <th>Year</th>\n      <th>Customer_Age</th>\n      <th>Age_Group</th>\n      <th>Customer_Gender</th>\n      <th>State</th>\n      <th>Product_Category</th>\n      <th>Sub_Category</th>\n      <th>Product</th>\n      <th>Order_Quantity</th>\n      <th>Unit_Cost</th>\n      <th>Unit_Price</th>\n      <th>Profit</th>\n      <th>Cost</th>\n      <th>Revenue</th>\n      <th>Revenue_per_Age</th>\n      <th>Calculated_Cost</th>\n    </tr>\n  </thead>\n  <tbody>\n    <tr>\n      <th>0</th>\n      <td>Canada</td>\n      <td>2013-11-26</td>\n      <td>26</td>\n      <td>11</td>\n      <td>2013</td>\n      <td>19</td>\n      <td>Youth (&lt;25)</td>\n      <td>M</td>\n      <td>British Columbia</td>\n      <td>Accessories</td>\n      <td>Bike Racks</td>\n      <td>Hitch Rack - 4-Bike</td>\n      <td>8</td>\n      <td>45</td>\n      <td>120</td>\n      <td>590</td>\n      <td>360</td>\n      <td>950.0</td>\n      <td>50.000000</td>\n      <td>370.80</td>\n    </tr>\n    <tr>\n      <th>1</th>\n      <td>Canada</td>\n      <td>2015-11-26</td>\n      <td>26</td>\n      <td>11</td>\n      <td>2015</td>\n      <td>19</td>\n      <td>Youth (&lt;25)</td>\n      <td>M</td>\n      <td>British Columbia</td>\n      <td>Accessories</td>\n      <td>Bike Racks</td>\n      <td>Hitch Rack - 4-Bike</td>\n      <td>8</td>\n      <td>45</td>\n      <td>120</td>\n      <td>590</td>\n      <td>360</td>\n      <td>950.0</td>\n      <td>50.000000</td>\n      <td>370.80</td>\n    </tr>\n    <tr>\n      <th>2</th>\n      <td>Australia</td>\n      <td>2014-03-23</td>\n      <td>23</td>\n      <td>3</td>\n      <td>2014</td>\n      <td>49</td>\n      <td>Adults (35-64)</td>\n      <td>M</td>\n      <td>New South Wales</td>\n      <td>Accessories</td>\n      <td>Bike Racks</td>\n      <td>Hitch Rack - 4-Bike</td>\n      <td>23</td>\n      <td>45</td>\n      <td>120</td>\n      <td>1366</td>\n      <td>1035</td>\n      <td>2401.0</td>\n      <td>49.000000</td>\n      <td>1066.05</td>\n    </tr>\n    <tr>\n      <th>3</th>\n      <td>Australia</td>\n      <td>2016-03-23</td>\n      <td>23</td>\n      <td>3</td>\n      <td>2016</td>\n      <td>49</td>\n      <td>Adults (35-64)</td>\n      <td>M</td>\n      <td>New South Wales</td>\n      <td>Accessories</td>\n      <td>Bike Racks</td>\n      <td>Hitch Rack - 4-Bike</td>\n      <td>20</td>\n      <td>45</td>\n      <td>120</td>\n      <td>1188</td>\n      <td>900</td>\n      <td>2088.0</td>\n      <td>42.612245</td>\n      <td>927.00</td>\n    </tr>\n    <tr>\n      <th>4</th>\n      <td>Australia</td>\n      <td>2014-05-15</td>\n      <td>15</td>\n      <td>5</td>\n      <td>2014</td>\n      <td>47</td>\n      <td>Adults (35-64)</td>\n      <td>F</td>\n      <td>New South Wales</td>\n      <td>Accessories</td>\n      <td>Bike Racks</td>\n      <td>Hitch Rack - 4-Bike</td>\n      <td>4</td>\n      <td>45</td>\n      <td>120</td>\n      <td>238</td>\n      <td>180</td>\n      <td>418.0</td>\n      <td>8.893617</td>\n      <td>185.40</td>\n    </tr>\n    <tr>\n      <th>...</th>\n      <td>...</td>\n      <td>...</td>\n      <td>...</td>\n      <td>...</td>\n      <td>...</td>\n      <td>...</td>\n      <td>...</td>\n      <td>...</td>\n      <td>...</td>\n      <td>...</td>\n      <td>...</td>\n      <td>...</td>\n      <td>...</td>\n      <td>...</td>\n      <td>...</td>\n      <td>...</td>\n      <td>...</td>\n      <td>...</td>\n      <td>...</td>\n      <td>...</td>\n    </tr>\n    <tr>\n      <th>113023</th>\n      <td>United States</td>\n      <td>2016-03-20</td>\n      <td>20</td>\n      <td>3</td>\n      <td>2016</td>\n      <td>34</td>\n      <td>Young Adults (25-34)</td>\n      <td>M</td>\n      <td>California</td>\n      <td>Clothing</td>\n      <td>Vests</td>\n      <td>Classic Vest, S</td>\n      <td>26</td>\n      <td>24</td>\n      <td>64</td>\n      <td>1007</td>\n      <td>624</td>\n      <td>1631.0</td>\n      <td>47.970588</td>\n      <td>642.72</td>\n    </tr>\n    <tr>\n      <th>113024</th>\n      <td>United States</td>\n      <td>2014-04-03</td>\n      <td>3</td>\n      <td>4</td>\n      <td>2014</td>\n      <td>34</td>\n      <td>Young Adults (25-34)</td>\n      <td>M</td>\n      <td>California</td>\n      <td>Clothing</td>\n      <td>Vests</td>\n      <td>Classic Vest, S</td>\n      <td>16</td>\n      <td>24</td>\n      <td>64</td>\n      <td>620</td>\n      <td>384</td>\n      <td>1004.0</td>\n      <td>29.529412</td>\n      <td>395.52</td>\n    </tr>\n    <tr>\n      <th>113025</th>\n      <td>United States</td>\n      <td>2016-04-03</td>\n      <td>3</td>\n      <td>4</td>\n      <td>2016</td>\n      <td>34</td>\n      <td>Young Adults (25-34)</td>\n      <td>M</td>\n      <td>California</td>\n      <td>Clothing</td>\n      <td>Vests</td>\n      <td>Classic Vest, S</td>\n      <td>14</td>\n      <td>24</td>\n      <td>64</td>\n      <td>542</td>\n      <td>336</td>\n      <td>878.0</td>\n      <td>25.823529</td>\n      <td>346.08</td>\n    </tr>\n    <tr>\n      <th>113032</th>\n      <td>Australia</td>\n      <td>2014-04-02</td>\n      <td>2</td>\n      <td>4</td>\n      <td>2014</td>\n      <td>18</td>\n      <td>Youth (&lt;25)</td>\n      <td>M</td>\n      <td>Queensland</td>\n      <td>Clothing</td>\n      <td>Vests</td>\n      <td>Classic Vest, M</td>\n      <td>22</td>\n      <td>24</td>\n      <td>64</td>\n      <td>655</td>\n      <td>528</td>\n      <td>1183.0</td>\n      <td>65.722222</td>\n      <td>543.84</td>\n    </tr>\n    <tr>\n      <th>113033</th>\n      <td>Australia</td>\n      <td>2016-04-02</td>\n      <td>2</td>\n      <td>4</td>\n      <td>2016</td>\n      <td>18</td>\n      <td>Youth (&lt;25)</td>\n      <td>M</td>\n      <td>Queensland</td>\n      <td>Clothing</td>\n      <td>Vests</td>\n      <td>Classic Vest, M</td>\n      <td>22</td>\n      <td>24</td>\n      <td>64</td>\n      <td>655</td>\n      <td>528</td>\n      <td>1183.0</td>\n      <td>65.722222</td>\n      <td>543.84</td>\n    </tr>\n  </tbody>\n</table>\n<p>77320 rows × 20 columns</p>\n</div>"
     },
     "execution_count": 223,
     "metadata": {},
     "output_type": "execute_result"
    }
   ],
   "source": [
    "geo_list = ['Canada','Australia','United States']\n",
    "geo_filter = sales['Country'].isin(geo_list)\n",
    "sales[geo_filter]"
   ],
   "metadata": {
    "collapsed": false,
    "pycharm": {
     "name": "#%%\n"
    }
   }
  },
  {
   "cell_type": "markdown",
   "source": [
    "![green-divider](https://user-images.githubusercontent.com/7065401/52071924-c003ad80-2562-11e9-8297-1c6595f8a7ff.png)\n",
    "## Retrieving Single and Multiple columns"
   ],
   "metadata": {
    "collapsed": false
   }
  },
  {
   "cell_type": "code",
   "execution_count": 224,
   "outputs": [
    {
     "data": {
      "text/plain": "Empty DataFrame\nColumns: [Age_Group, Revenue]\nIndex: []",
      "text/html": "<div>\n<style scoped>\n    .dataframe tbody tr th:only-of-type {\n        vertical-align: middle;\n    }\n\n    .dataframe tbody tr th {\n        vertical-align: top;\n    }\n\n    .dataframe thead th {\n        text-align: right;\n    }\n</style>\n<table border=\"1\" class=\"dataframe\">\n  <thead>\n    <tr style=\"text-align: right;\">\n      <th></th>\n      <th>Age_Group</th>\n      <th>Revenue</th>\n    </tr>\n  </thead>\n  <tbody>\n  </tbody>\n</table>\n</div>"
     },
     "execution_count": 224,
     "metadata": {},
     "output_type": "execute_result"
    }
   ],
   "source": [
    "sales.loc[(sales['Month'] == 'November') &\n",
    "          (sales['Year'] == 2013),\n",
    "          ['Age_Group','Revenue']\n",
    "]"
   ],
   "metadata": {
    "collapsed": false,
    "pycharm": {
     "name": "#%%\n"
    }
   }
  },
  {
   "cell_type": "code",
   "execution_count": 225,
   "outputs": [
    {
     "data": {
      "text/plain": "            Age_Group  Revenue\n156    Adults (35-64)    108.0\n157    Adults (35-64)    108.0\n23826  Adults (35-64)    238.0\n23827  Adults (35-64)    277.0\n31446  Adults (35-64)    914.0\n31447  Adults (35-64)    977.0\n79670  Adults (35-64)     54.0\n79671  Adults (35-64)    567.0\n79672  Adults (35-64)     27.0\n79673  Adults (35-64)    486.0",
      "text/html": "<div>\n<style scoped>\n    .dataframe tbody tr th:only-of-type {\n        vertical-align: middle;\n    }\n\n    .dataframe tbody tr th {\n        vertical-align: top;\n    }\n\n    .dataframe thead th {\n        text-align: right;\n    }\n</style>\n<table border=\"1\" class=\"dataframe\">\n  <thead>\n    <tr style=\"text-align: right;\">\n      <th></th>\n      <th>Age_Group</th>\n      <th>Revenue</th>\n    </tr>\n  </thead>\n  <tbody>\n    <tr>\n      <th>156</th>\n      <td>Adults (35-64)</td>\n      <td>108.0</td>\n    </tr>\n    <tr>\n      <th>157</th>\n      <td>Adults (35-64)</td>\n      <td>108.0</td>\n    </tr>\n    <tr>\n      <th>23826</th>\n      <td>Adults (35-64)</td>\n      <td>238.0</td>\n    </tr>\n    <tr>\n      <th>23827</th>\n      <td>Adults (35-64)</td>\n      <td>277.0</td>\n    </tr>\n    <tr>\n      <th>31446</th>\n      <td>Adults (35-64)</td>\n      <td>914.0</td>\n    </tr>\n    <tr>\n      <th>31447</th>\n      <td>Adults (35-64)</td>\n      <td>977.0</td>\n    </tr>\n    <tr>\n      <th>79670</th>\n      <td>Adults (35-64)</td>\n      <td>54.0</td>\n    </tr>\n    <tr>\n      <th>79671</th>\n      <td>Adults (35-64)</td>\n      <td>567.0</td>\n    </tr>\n    <tr>\n      <th>79672</th>\n      <td>Adults (35-64)</td>\n      <td>27.0</td>\n    </tr>\n    <tr>\n      <th>79673</th>\n      <td>Adults (35-64)</td>\n      <td>486.0</td>\n    </tr>\n  </tbody>\n</table>\n</div>"
     },
     "execution_count": 225,
     "metadata": {},
     "output_type": "execute_result"
    }
   ],
   "source": [
    "sales.loc[sales['State'] == 'Kentucky', ['Age_Group','Revenue']]"
   ],
   "metadata": {
    "collapsed": false,
    "pycharm": {
     "name": "#%%\n"
    }
   }
  },
  {
   "cell_type": "code",
   "execution_count": 226,
   "outputs": [
    {
     "data": {
      "text/plain": "         Population      GDP  Surface Area    HDI Continent\nFrance       63.951  2833687        640679  0.888    Europe\nGermany      80.940  3874437        357114  0.916    Europe\nItaly        60.665  2167744        301336  0.873    Europe",
      "text/html": "<div>\n<style scoped>\n    .dataframe tbody tr th:only-of-type {\n        vertical-align: middle;\n    }\n\n    .dataframe tbody tr th {\n        vertical-align: top;\n    }\n\n    .dataframe thead th {\n        text-align: right;\n    }\n</style>\n<table border=\"1\" class=\"dataframe\">\n  <thead>\n    <tr style=\"text-align: right;\">\n      <th></th>\n      <th>Population</th>\n      <th>GDP</th>\n      <th>Surface Area</th>\n      <th>HDI</th>\n      <th>Continent</th>\n    </tr>\n  </thead>\n  <tbody>\n    <tr>\n      <th>France</th>\n      <td>63.951</td>\n      <td>2833687</td>\n      <td>640679</td>\n      <td>0.888</td>\n      <td>Europe</td>\n    </tr>\n    <tr>\n      <th>Germany</th>\n      <td>80.940</td>\n      <td>3874437</td>\n      <td>357114</td>\n      <td>0.916</td>\n      <td>Europe</td>\n    </tr>\n    <tr>\n      <th>Italy</th>\n      <td>60.665</td>\n      <td>2167744</td>\n      <td>301336</td>\n      <td>0.873</td>\n      <td>Europe</td>\n    </tr>\n  </tbody>\n</table>\n</div>"
     },
     "execution_count": 226,
     "metadata": {},
     "output_type": "execute_result"
    }
   ],
   "source": [
    "country_stat.loc['France': 'Italy']"
   ],
   "metadata": {
    "collapsed": false,
    "pycharm": {
     "name": "#%%\n"
    }
   }
  },
  {
   "cell_type": "code",
   "execution_count": 227,
   "outputs": [
    {
     "data": {
      "text/plain": "France     63.951\nGermany    80.940\nItaly      60.665\nName: Population, dtype: float64"
     },
     "execution_count": 227,
     "metadata": {},
     "output_type": "execute_result"
    }
   ],
   "source": [
    "country_stat.loc['France': 'Italy', 'Population']"
   ],
   "metadata": {
    "collapsed": false,
    "pycharm": {
     "name": "#%%\n"
    }
   }
  },
  {
   "cell_type": "code",
   "execution_count": 228,
   "outputs": [
    {
     "data": {
      "text/plain": "         Population      GDP\nFrance       63.951  2833687\nGermany      80.940  3874437\nItaly        60.665  2167744",
      "text/html": "<div>\n<style scoped>\n    .dataframe tbody tr th:only-of-type {\n        vertical-align: middle;\n    }\n\n    .dataframe tbody tr th {\n        vertical-align: top;\n    }\n\n    .dataframe thead th {\n        text-align: right;\n    }\n</style>\n<table border=\"1\" class=\"dataframe\">\n  <thead>\n    <tr style=\"text-align: right;\">\n      <th></th>\n      <th>Population</th>\n      <th>GDP</th>\n    </tr>\n  </thead>\n  <tbody>\n    <tr>\n      <th>France</th>\n      <td>63.951</td>\n      <td>2833687</td>\n    </tr>\n    <tr>\n      <th>Germany</th>\n      <td>80.940</td>\n      <td>3874437</td>\n    </tr>\n    <tr>\n      <th>Italy</th>\n      <td>60.665</td>\n      <td>2167744</td>\n    </tr>\n  </tbody>\n</table>\n</div>"
     },
     "execution_count": 228,
     "metadata": {},
     "output_type": "execute_result"
    }
   ],
   "source": [
    "country_stat.loc['France': 'Italy', ['Population', 'GDP']]"
   ],
   "metadata": {
    "collapsed": false,
    "pycharm": {
     "name": "#%%\n"
    }
   }
  },
  {
   "cell_type": "code",
   "execution_count": 229,
   "outputs": [
    {
     "data": {
      "text/plain": "2    2401.0\n3    2088.0\n4     418.0\n5     522.0\n6     379.0\nName: Revenue, dtype: float64"
     },
     "execution_count": 229,
     "metadata": {},
     "output_type": "execute_result"
    }
   ],
   "source": [
    "sales.loc[sales['Age_Group'] == 'Adults (35-64)', 'Revenue'].head()"
   ],
   "metadata": {
    "collapsed": false,
    "pycharm": {
     "name": "#%%\n"
    }
   }
  },
  {
   "cell_type": "markdown",
   "source": [
    "### Get the mean revenue of the `Adults (35-64)` sales group"
   ],
   "metadata": {
    "collapsed": false
   }
  },
  {
   "cell_type": "code",
   "execution_count": 230,
   "outputs": [
    {
     "data": {
      "text/plain": "769.3162152479208"
     },
     "execution_count": 230,
     "metadata": {},
     "output_type": "execute_result"
    }
   ],
   "source": [
    "sales.loc[sales['Age_Group']=='Adults (35-64)', 'Revenue'].mean()"
   ],
   "metadata": {
    "collapsed": false,
    "pycharm": {
     "name": "#%%\n"
    }
   }
  },
  {
   "cell_type": "markdown",
   "source": [
    "### How Many Records belong to Age Group `Youth (<25)` or `Adults 35-64`?"
   ],
   "metadata": {
    "collapsed": false,
    "pycharm": {
     "name": "#%% md\n"
    }
   }
  },
  {
   "cell_type": "code",
   "execution_count": 231,
   "outputs": [
    {
     "data": {
      "text/plain": "73652"
     },
     "execution_count": 231,
     "metadata": {},
     "output_type": "execute_result"
    }
   ],
   "source": [
    "sales.loc[(sales['Age_Group'] == 'Youth (<25)') | (sales['Age_Group'] == 'Adults (35-64)')].shape[0]"
   ],
   "metadata": {
    "collapsed": false,
    "pycharm": {
     "name": "#%%\n"
    }
   }
  },
  {
   "cell_type": "markdown",
   "source": [
    "### Get the mean revenue of the sales group `Adults (35-64)` in `United States`"
   ],
   "metadata": {
    "collapsed": false,
    "pycharm": {
     "name": "#%% md\n"
    }
   }
  },
  {
   "cell_type": "code",
   "execution_count": 232,
   "outputs": [
    {
     "data": {
      "text/plain": "726.7260473588342"
     },
     "execution_count": 232,
     "metadata": {},
     "output_type": "execute_result"
    }
   ],
   "source": [
    "sales.loc[(sales['Age_Group'] == 'Adults (35-64)') & (sales['Country'] == 'United States'), 'Revenue'].mean()"
   ],
   "metadata": {
    "collapsed": false,
    "pycharm": {
     "name": "#%%\n"
    }
   }
  },
  {
   "cell_type": "markdown",
   "source": [
    "### Increase the revenue by 10% to every sale made in France"
   ],
   "metadata": {
    "collapsed": false,
    "pycharm": {
     "name": "#%% md\n"
    }
   }
  },
  {
   "cell_type": "code",
   "execution_count": 233,
   "outputs": [
    {
     "data": {
      "text/plain": "50     865.7\n51     865.7\n52    3252.7\n53    3136.1\n60     688.6\nName: Revenue, dtype: float64"
     },
     "execution_count": 233,
     "metadata": {},
     "output_type": "execute_result"
    }
   ],
   "source": [
    "sales.loc[sales['Country'] == 'France', 'Revenue'].head()"
   ],
   "metadata": {
    "collapsed": false,
    "pycharm": {
     "name": "#%%\n"
    }
   }
  },
  {
   "cell_type": "markdown",
   "source": [
    "![purple-divider](https://user-images.githubusercontent.com/7065401/52071927-c1cd7100-2562-11e9-908a-dde91ba14e59.png)\n",
    "\n",
    "# Dropping Data"
   ],
   "metadata": {
    "collapsed": false
   }
  },
  {
   "cell_type": "code",
   "execution_count": 234,
   "outputs": [
    {
     "data": {
      "text/plain": "                Population       GDP  Surface Area    HDI Continent\nFrance              63.951   2833687        640679  0.888    Europe\nGermany             80.940   3874437        357114  0.916    Europe\nItaly               60.665   2167744        301336  0.873    Europe\nJapan              127.061   4602367        377930  0.891      Asia\nUnited Kingdom      64.511   2950039        242495  0.907    Europe\nUnited States      318.523  17348075       9525067  0.915   America",
      "text/html": "<div>\n<style scoped>\n    .dataframe tbody tr th:only-of-type {\n        vertical-align: middle;\n    }\n\n    .dataframe tbody tr th {\n        vertical-align: top;\n    }\n\n    .dataframe thead th {\n        text-align: right;\n    }\n</style>\n<table border=\"1\" class=\"dataframe\">\n  <thead>\n    <tr style=\"text-align: right;\">\n      <th></th>\n      <th>Population</th>\n      <th>GDP</th>\n      <th>Surface Area</th>\n      <th>HDI</th>\n      <th>Continent</th>\n    </tr>\n  </thead>\n  <tbody>\n    <tr>\n      <th>France</th>\n      <td>63.951</td>\n      <td>2833687</td>\n      <td>640679</td>\n      <td>0.888</td>\n      <td>Europe</td>\n    </tr>\n    <tr>\n      <th>Germany</th>\n      <td>80.940</td>\n      <td>3874437</td>\n      <td>357114</td>\n      <td>0.916</td>\n      <td>Europe</td>\n    </tr>\n    <tr>\n      <th>Italy</th>\n      <td>60.665</td>\n      <td>2167744</td>\n      <td>301336</td>\n      <td>0.873</td>\n      <td>Europe</td>\n    </tr>\n    <tr>\n      <th>Japan</th>\n      <td>127.061</td>\n      <td>4602367</td>\n      <td>377930</td>\n      <td>0.891</td>\n      <td>Asia</td>\n    </tr>\n    <tr>\n      <th>United Kingdom</th>\n      <td>64.511</td>\n      <td>2950039</td>\n      <td>242495</td>\n      <td>0.907</td>\n      <td>Europe</td>\n    </tr>\n    <tr>\n      <th>United States</th>\n      <td>318.523</td>\n      <td>17348075</td>\n      <td>9525067</td>\n      <td>0.915</td>\n      <td>America</td>\n    </tr>\n  </tbody>\n</table>\n</div>"
     },
     "execution_count": 234,
     "metadata": {},
     "output_type": "execute_result"
    }
   ],
   "source": [
    "country_stat.drop('Canada')"
   ],
   "metadata": {
    "collapsed": false,
    "pycharm": {
     "name": "#%%\n"
    }
   }
  },
  {
   "cell_type": "code",
   "execution_count": 235,
   "outputs": [
    {
     "data": {
      "text/plain": "                Population       GDP  Surface Area    HDI Continent\nFrance              63.951   2833687        640679  0.888    Europe\nGermany             80.940   3874437        357114  0.916    Europe\nItaly               60.665   2167744        301336  0.873    Europe\nUnited Kingdom      64.511   2950039        242495  0.907    Europe\nUnited States      318.523  17348075       9525067  0.915   America",
      "text/html": "<div>\n<style scoped>\n    .dataframe tbody tr th:only-of-type {\n        vertical-align: middle;\n    }\n\n    .dataframe tbody tr th {\n        vertical-align: top;\n    }\n\n    .dataframe thead th {\n        text-align: right;\n    }\n</style>\n<table border=\"1\" class=\"dataframe\">\n  <thead>\n    <tr style=\"text-align: right;\">\n      <th></th>\n      <th>Population</th>\n      <th>GDP</th>\n      <th>Surface Area</th>\n      <th>HDI</th>\n      <th>Continent</th>\n    </tr>\n  </thead>\n  <tbody>\n    <tr>\n      <th>France</th>\n      <td>63.951</td>\n      <td>2833687</td>\n      <td>640679</td>\n      <td>0.888</td>\n      <td>Europe</td>\n    </tr>\n    <tr>\n      <th>Germany</th>\n      <td>80.940</td>\n      <td>3874437</td>\n      <td>357114</td>\n      <td>0.916</td>\n      <td>Europe</td>\n    </tr>\n    <tr>\n      <th>Italy</th>\n      <td>60.665</td>\n      <td>2167744</td>\n      <td>301336</td>\n      <td>0.873</td>\n      <td>Europe</td>\n    </tr>\n    <tr>\n      <th>United Kingdom</th>\n      <td>64.511</td>\n      <td>2950039</td>\n      <td>242495</td>\n      <td>0.907</td>\n      <td>Europe</td>\n    </tr>\n    <tr>\n      <th>United States</th>\n      <td>318.523</td>\n      <td>17348075</td>\n      <td>9525067</td>\n      <td>0.915</td>\n      <td>America</td>\n    </tr>\n  </tbody>\n</table>\n</div>"
     },
     "execution_count": 235,
     "metadata": {},
     "output_type": "execute_result"
    }
   ],
   "source": [
    "country_stat.drop(['Canada', 'Japan'])"
   ],
   "metadata": {
    "collapsed": false,
    "pycharm": {
     "name": "#%%\n"
    }
   }
  },
  {
   "cell_type": "code",
   "execution_count": 236,
   "outputs": [
    {
     "data": {
      "text/plain": "                     GDP  Surface Area Continent\nCanada           1785387       9984670   America\nFrance           2833687        640679    Europe\nGermany          3874437        357114    Europe\nItaly            2167744        301336    Europe\nJapan            4602367        377930      Asia\nUnited Kingdom   2950039        242495    Europe\nUnited States   17348075       9525067   America",
      "text/html": "<div>\n<style scoped>\n    .dataframe tbody tr th:only-of-type {\n        vertical-align: middle;\n    }\n\n    .dataframe tbody tr th {\n        vertical-align: top;\n    }\n\n    .dataframe thead th {\n        text-align: right;\n    }\n</style>\n<table border=\"1\" class=\"dataframe\">\n  <thead>\n    <tr style=\"text-align: right;\">\n      <th></th>\n      <th>GDP</th>\n      <th>Surface Area</th>\n      <th>Continent</th>\n    </tr>\n  </thead>\n  <tbody>\n    <tr>\n      <th>Canada</th>\n      <td>1785387</td>\n      <td>9984670</td>\n      <td>America</td>\n    </tr>\n    <tr>\n      <th>France</th>\n      <td>2833687</td>\n      <td>640679</td>\n      <td>Europe</td>\n    </tr>\n    <tr>\n      <th>Germany</th>\n      <td>3874437</td>\n      <td>357114</td>\n      <td>Europe</td>\n    </tr>\n    <tr>\n      <th>Italy</th>\n      <td>2167744</td>\n      <td>301336</td>\n      <td>Europe</td>\n    </tr>\n    <tr>\n      <th>Japan</th>\n      <td>4602367</td>\n      <td>377930</td>\n      <td>Asia</td>\n    </tr>\n    <tr>\n      <th>United Kingdom</th>\n      <td>2950039</td>\n      <td>242495</td>\n      <td>Europe</td>\n    </tr>\n    <tr>\n      <th>United States</th>\n      <td>17348075</td>\n      <td>9525067</td>\n      <td>America</td>\n    </tr>\n  </tbody>\n</table>\n</div>"
     },
     "execution_count": 236,
     "metadata": {},
     "output_type": "execute_result"
    }
   ],
   "source": [
    "country_stat.drop(columns=['Population', 'HDI'])"
   ],
   "metadata": {
    "collapsed": false,
    "pycharm": {
     "name": "#%%\n"
    }
   }
  },
  {
   "cell_type": "markdown",
   "source": [
    "#### Drop rows using axis = 0 or rows"
   ],
   "metadata": {
    "collapsed": false
   }
  },
  {
   "cell_type": "code",
   "execution_count": 237,
   "outputs": [
    {
     "data": {
      "text/plain": "                Population       GDP  Surface Area    HDI Continent\nFrance              63.951   2833687        640679  0.888    Europe\nItaly               60.665   2167744        301336  0.873    Europe\nJapan              127.061   4602367        377930  0.891      Asia\nUnited Kingdom      64.511   2950039        242495  0.907    Europe\nUnited States      318.523  17348075       9525067  0.915   America",
      "text/html": "<div>\n<style scoped>\n    .dataframe tbody tr th:only-of-type {\n        vertical-align: middle;\n    }\n\n    .dataframe tbody tr th {\n        vertical-align: top;\n    }\n\n    .dataframe thead th {\n        text-align: right;\n    }\n</style>\n<table border=\"1\" class=\"dataframe\">\n  <thead>\n    <tr style=\"text-align: right;\">\n      <th></th>\n      <th>Population</th>\n      <th>GDP</th>\n      <th>Surface Area</th>\n      <th>HDI</th>\n      <th>Continent</th>\n    </tr>\n  </thead>\n  <tbody>\n    <tr>\n      <th>France</th>\n      <td>63.951</td>\n      <td>2833687</td>\n      <td>640679</td>\n      <td>0.888</td>\n      <td>Europe</td>\n    </tr>\n    <tr>\n      <th>Italy</th>\n      <td>60.665</td>\n      <td>2167744</td>\n      <td>301336</td>\n      <td>0.873</td>\n      <td>Europe</td>\n    </tr>\n    <tr>\n      <th>Japan</th>\n      <td>127.061</td>\n      <td>4602367</td>\n      <td>377930</td>\n      <td>0.891</td>\n      <td>Asia</td>\n    </tr>\n    <tr>\n      <th>United Kingdom</th>\n      <td>64.511</td>\n      <td>2950039</td>\n      <td>242495</td>\n      <td>0.907</td>\n      <td>Europe</td>\n    </tr>\n    <tr>\n      <th>United States</th>\n      <td>318.523</td>\n      <td>17348075</td>\n      <td>9525067</td>\n      <td>0.915</td>\n      <td>America</td>\n    </tr>\n  </tbody>\n</table>\n</div>"
     },
     "execution_count": 237,
     "metadata": {},
     "output_type": "execute_result"
    }
   ],
   "source": [
    "country_stat.drop(['Canada', 'Germany'], axis=0)"
   ],
   "metadata": {
    "collapsed": false,
    "pycharm": {
     "name": "#%%\n"
    }
   }
  },
  {
   "cell_type": "code",
   "execution_count": 238,
   "outputs": [
    {
     "data": {
      "text/plain": "                Population       GDP  Surface Area    HDI Continent\nFrance              63.951   2833687        640679  0.888    Europe\nItaly               60.665   2167744        301336  0.873    Europe\nJapan              127.061   4602367        377930  0.891      Asia\nUnited Kingdom      64.511   2950039        242495  0.907    Europe\nUnited States      318.523  17348075       9525067  0.915   America",
      "text/html": "<div>\n<style scoped>\n    .dataframe tbody tr th:only-of-type {\n        vertical-align: middle;\n    }\n\n    .dataframe tbody tr th {\n        vertical-align: top;\n    }\n\n    .dataframe thead th {\n        text-align: right;\n    }\n</style>\n<table border=\"1\" class=\"dataframe\">\n  <thead>\n    <tr style=\"text-align: right;\">\n      <th></th>\n      <th>Population</th>\n      <th>GDP</th>\n      <th>Surface Area</th>\n      <th>HDI</th>\n      <th>Continent</th>\n    </tr>\n  </thead>\n  <tbody>\n    <tr>\n      <th>France</th>\n      <td>63.951</td>\n      <td>2833687</td>\n      <td>640679</td>\n      <td>0.888</td>\n      <td>Europe</td>\n    </tr>\n    <tr>\n      <th>Italy</th>\n      <td>60.665</td>\n      <td>2167744</td>\n      <td>301336</td>\n      <td>0.873</td>\n      <td>Europe</td>\n    </tr>\n    <tr>\n      <th>Japan</th>\n      <td>127.061</td>\n      <td>4602367</td>\n      <td>377930</td>\n      <td>0.891</td>\n      <td>Asia</td>\n    </tr>\n    <tr>\n      <th>United Kingdom</th>\n      <td>64.511</td>\n      <td>2950039</td>\n      <td>242495</td>\n      <td>0.907</td>\n      <td>Europe</td>\n    </tr>\n    <tr>\n      <th>United States</th>\n      <td>318.523</td>\n      <td>17348075</td>\n      <td>9525067</td>\n      <td>0.915</td>\n      <td>America</td>\n    </tr>\n  </tbody>\n</table>\n</div>"
     },
     "execution_count": 238,
     "metadata": {},
     "output_type": "execute_result"
    }
   ],
   "source": [
    "country_stat.drop(['Canada', 'Germany'], axis='rows')"
   ],
   "metadata": {
    "collapsed": false,
    "pycharm": {
     "name": "#%%\n"
    }
   }
  },
  {
   "cell_type": "markdown",
   "source": [
    "#### Drop Columns using axis = 1 or columns"
   ],
   "metadata": {
    "collapsed": false
   }
  },
  {
   "cell_type": "code",
   "execution_count": 239,
   "outputs": [
    {
     "data": {
      "text/plain": "                     GDP  Surface Area Continent\nCanada           1785387       9984670   America\nFrance           2833687        640679    Europe\nGermany          3874437        357114    Europe\nItaly            2167744        301336    Europe\nJapan            4602367        377930      Asia\nUnited Kingdom   2950039        242495    Europe\nUnited States   17348075       9525067   America",
      "text/html": "<div>\n<style scoped>\n    .dataframe tbody tr th:only-of-type {\n        vertical-align: middle;\n    }\n\n    .dataframe tbody tr th {\n        vertical-align: top;\n    }\n\n    .dataframe thead th {\n        text-align: right;\n    }\n</style>\n<table border=\"1\" class=\"dataframe\">\n  <thead>\n    <tr style=\"text-align: right;\">\n      <th></th>\n      <th>GDP</th>\n      <th>Surface Area</th>\n      <th>Continent</th>\n    </tr>\n  </thead>\n  <tbody>\n    <tr>\n      <th>Canada</th>\n      <td>1785387</td>\n      <td>9984670</td>\n      <td>America</td>\n    </tr>\n    <tr>\n      <th>France</th>\n      <td>2833687</td>\n      <td>640679</td>\n      <td>Europe</td>\n    </tr>\n    <tr>\n      <th>Germany</th>\n      <td>3874437</td>\n      <td>357114</td>\n      <td>Europe</td>\n    </tr>\n    <tr>\n      <th>Italy</th>\n      <td>2167744</td>\n      <td>301336</td>\n      <td>Europe</td>\n    </tr>\n    <tr>\n      <th>Japan</th>\n      <td>4602367</td>\n      <td>377930</td>\n      <td>Asia</td>\n    </tr>\n    <tr>\n      <th>United Kingdom</th>\n      <td>2950039</td>\n      <td>242495</td>\n      <td>Europe</td>\n    </tr>\n    <tr>\n      <th>United States</th>\n      <td>17348075</td>\n      <td>9525067</td>\n      <td>America</td>\n    </tr>\n  </tbody>\n</table>\n</div>"
     },
     "execution_count": 239,
     "metadata": {},
     "output_type": "execute_result"
    }
   ],
   "source": [
    "country_stat.drop(['Population', 'HDI'], axis=1)"
   ],
   "metadata": {
    "collapsed": false,
    "pycharm": {
     "name": "#%%\n"
    }
   }
  },
  {
   "cell_type": "code",
   "execution_count": 240,
   "outputs": [
    {
     "data": {
      "text/plain": "                     GDP  Surface Area Continent\nCanada           1785387       9984670   America\nFrance           2833687        640679    Europe\nGermany          3874437        357114    Europe\nItaly            2167744        301336    Europe\nJapan            4602367        377930      Asia\nUnited Kingdom   2950039        242495    Europe\nUnited States   17348075       9525067   America",
      "text/html": "<div>\n<style scoped>\n    .dataframe tbody tr th:only-of-type {\n        vertical-align: middle;\n    }\n\n    .dataframe tbody tr th {\n        vertical-align: top;\n    }\n\n    .dataframe thead th {\n        text-align: right;\n    }\n</style>\n<table border=\"1\" class=\"dataframe\">\n  <thead>\n    <tr style=\"text-align: right;\">\n      <th></th>\n      <th>GDP</th>\n      <th>Surface Area</th>\n      <th>Continent</th>\n    </tr>\n  </thead>\n  <tbody>\n    <tr>\n      <th>Canada</th>\n      <td>1785387</td>\n      <td>9984670</td>\n      <td>America</td>\n    </tr>\n    <tr>\n      <th>France</th>\n      <td>2833687</td>\n      <td>640679</td>\n      <td>Europe</td>\n    </tr>\n    <tr>\n      <th>Germany</th>\n      <td>3874437</td>\n      <td>357114</td>\n      <td>Europe</td>\n    </tr>\n    <tr>\n      <th>Italy</th>\n      <td>2167744</td>\n      <td>301336</td>\n      <td>Europe</td>\n    </tr>\n    <tr>\n      <th>Japan</th>\n      <td>4602367</td>\n      <td>377930</td>\n      <td>Asia</td>\n    </tr>\n    <tr>\n      <th>United Kingdom</th>\n      <td>2950039</td>\n      <td>242495</td>\n      <td>Europe</td>\n    </tr>\n    <tr>\n      <th>United States</th>\n      <td>17348075</td>\n      <td>9525067</td>\n      <td>America</td>\n    </tr>\n  </tbody>\n</table>\n</div>"
     },
     "execution_count": 240,
     "metadata": {},
     "output_type": "execute_result"
    }
   ],
   "source": [
    "country_stat.drop(['Population', 'HDI'], axis='columns')"
   ],
   "metadata": {
    "collapsed": false,
    "pycharm": {
     "name": "#%%\n"
    }
   }
  },
  {
   "cell_type": "markdown",
   "source": [
    "![green-divider](https://user-images.githubusercontent.com/7065401/52071924-c003ad80-2562-11e9-8297-1c6595f8a7ff.png)\n",
    "\n",
    "# Modifying Dataframes"
   ],
   "metadata": {
    "collapsed": false
   }
  },
  {
   "cell_type": "code",
   "execution_count": 241,
   "outputs": [],
   "source": [
    "langs = pd.Series(\n",
    "    ['French', 'German', 'Italian'],\n",
    "    index=['France', 'Germany', 'Italy'],\n",
    "    name='Language'\n",
    ")"
   ],
   "metadata": {
    "collapsed": false,
    "pycharm": {
     "name": "#%%\n"
    }
   }
  },
  {
   "cell_type": "code",
   "execution_count": 242,
   "outputs": [
    {
     "data": {
      "text/plain": "France      French\nGermany     German\nItaly      Italian\nName: Language, dtype: object"
     },
     "execution_count": 242,
     "metadata": {},
     "output_type": "execute_result"
    }
   ],
   "source": [
    "langs"
   ],
   "metadata": {
    "collapsed": false,
    "pycharm": {
     "name": "#%%\n"
    }
   }
  },
  {
   "cell_type": "code",
   "execution_count": 243,
   "outputs": [
    {
     "data": {
      "text/plain": "                Population       GDP  Surface Area    HDI Continent Language\nCanada              35.467   1785387       9984670  0.913   America      NaN\nFrance              63.951   2833687        640679  0.888    Europe   French\nGermany             80.940   3874437        357114  0.916    Europe   German\nItaly               60.665   2167744        301336  0.873    Europe  Italian\nJapan              127.061   4602367        377930  0.891      Asia      NaN\nUnited Kingdom      64.511   2950039        242495  0.907    Europe      NaN\nUnited States      318.523  17348075       9525067  0.915   America      NaN",
      "text/html": "<div>\n<style scoped>\n    .dataframe tbody tr th:only-of-type {\n        vertical-align: middle;\n    }\n\n    .dataframe tbody tr th {\n        vertical-align: top;\n    }\n\n    .dataframe thead th {\n        text-align: right;\n    }\n</style>\n<table border=\"1\" class=\"dataframe\">\n  <thead>\n    <tr style=\"text-align: right;\">\n      <th></th>\n      <th>Population</th>\n      <th>GDP</th>\n      <th>Surface Area</th>\n      <th>HDI</th>\n      <th>Continent</th>\n      <th>Language</th>\n    </tr>\n  </thead>\n  <tbody>\n    <tr>\n      <th>Canada</th>\n      <td>35.467</td>\n      <td>1785387</td>\n      <td>9984670</td>\n      <td>0.913</td>\n      <td>America</td>\n      <td>NaN</td>\n    </tr>\n    <tr>\n      <th>France</th>\n      <td>63.951</td>\n      <td>2833687</td>\n      <td>640679</td>\n      <td>0.888</td>\n      <td>Europe</td>\n      <td>French</td>\n    </tr>\n    <tr>\n      <th>Germany</th>\n      <td>80.940</td>\n      <td>3874437</td>\n      <td>357114</td>\n      <td>0.916</td>\n      <td>Europe</td>\n      <td>German</td>\n    </tr>\n    <tr>\n      <th>Italy</th>\n      <td>60.665</td>\n      <td>2167744</td>\n      <td>301336</td>\n      <td>0.873</td>\n      <td>Europe</td>\n      <td>Italian</td>\n    </tr>\n    <tr>\n      <th>Japan</th>\n      <td>127.061</td>\n      <td>4602367</td>\n      <td>377930</td>\n      <td>0.891</td>\n      <td>Asia</td>\n      <td>NaN</td>\n    </tr>\n    <tr>\n      <th>United Kingdom</th>\n      <td>64.511</td>\n      <td>2950039</td>\n      <td>242495</td>\n      <td>0.907</td>\n      <td>Europe</td>\n      <td>NaN</td>\n    </tr>\n    <tr>\n      <th>United States</th>\n      <td>318.523</td>\n      <td>17348075</td>\n      <td>9525067</td>\n      <td>0.915</td>\n      <td>America</td>\n      <td>NaN</td>\n    </tr>\n  </tbody>\n</table>\n</div>"
     },
     "execution_count": 243,
     "metadata": {},
     "output_type": "execute_result"
    }
   ],
   "source": [
    "country_stat['Language'] = langs\n",
    "country_stat"
   ],
   "metadata": {
    "collapsed": false,
    "pycharm": {
     "name": "#%%\n"
    }
   }
  },
  {
   "cell_type": "code",
   "execution_count": 244,
   "outputs": [
    {
     "data": {
      "text/plain": "                Population       GDP  Surface Area    HDI Continent Language\nCanada              35.467   1785387       9984670  0.913   America  English\nFrance              63.951   2833687        640679  0.888    Europe  English\nGermany             80.940   3874437        357114  0.916    Europe  English\nItaly               60.665   2167744        301336  0.873    Europe  English\nJapan              127.061   4602367        377930  0.891      Asia  English\nUnited Kingdom      64.511   2950039        242495  0.907    Europe  English\nUnited States      318.523  17348075       9525067  0.915   America  English",
      "text/html": "<div>\n<style scoped>\n    .dataframe tbody tr th:only-of-type {\n        vertical-align: middle;\n    }\n\n    .dataframe tbody tr th {\n        vertical-align: top;\n    }\n\n    .dataframe thead th {\n        text-align: right;\n    }\n</style>\n<table border=\"1\" class=\"dataframe\">\n  <thead>\n    <tr style=\"text-align: right;\">\n      <th></th>\n      <th>Population</th>\n      <th>GDP</th>\n      <th>Surface Area</th>\n      <th>HDI</th>\n      <th>Continent</th>\n      <th>Language</th>\n    </tr>\n  </thead>\n  <tbody>\n    <tr>\n      <th>Canada</th>\n      <td>35.467</td>\n      <td>1785387</td>\n      <td>9984670</td>\n      <td>0.913</td>\n      <td>America</td>\n      <td>English</td>\n    </tr>\n    <tr>\n      <th>France</th>\n      <td>63.951</td>\n      <td>2833687</td>\n      <td>640679</td>\n      <td>0.888</td>\n      <td>Europe</td>\n      <td>English</td>\n    </tr>\n    <tr>\n      <th>Germany</th>\n      <td>80.940</td>\n      <td>3874437</td>\n      <td>357114</td>\n      <td>0.916</td>\n      <td>Europe</td>\n      <td>English</td>\n    </tr>\n    <tr>\n      <th>Italy</th>\n      <td>60.665</td>\n      <td>2167744</td>\n      <td>301336</td>\n      <td>0.873</td>\n      <td>Europe</td>\n      <td>English</td>\n    </tr>\n    <tr>\n      <th>Japan</th>\n      <td>127.061</td>\n      <td>4602367</td>\n      <td>377930</td>\n      <td>0.891</td>\n      <td>Asia</td>\n      <td>English</td>\n    </tr>\n    <tr>\n      <th>United Kingdom</th>\n      <td>64.511</td>\n      <td>2950039</td>\n      <td>242495</td>\n      <td>0.907</td>\n      <td>Europe</td>\n      <td>English</td>\n    </tr>\n    <tr>\n      <th>United States</th>\n      <td>318.523</td>\n      <td>17348075</td>\n      <td>9525067</td>\n      <td>0.915</td>\n      <td>America</td>\n      <td>English</td>\n    </tr>\n  </tbody>\n</table>\n</div>"
     },
     "execution_count": 244,
     "metadata": {},
     "output_type": "execute_result"
    }
   ],
   "source": [
    "country_stat['Language'] = 'English'\n",
    "country_stat"
   ],
   "metadata": {
    "collapsed": false,
    "pycharm": {
     "name": "#%%\n"
    }
   }
  },
  {
   "cell_type": "markdown",
   "source": [
    "![purple-divider](https://user-images.githubusercontent.com/7065401/52071927-c1cd7100-2562-11e9-908a-dde91ba14e59.png)\n",
    "\n",
    "## Renaming Columns"
   ],
   "metadata": {
    "collapsed": false
   }
  },
  {
   "cell_type": "code",
   "execution_count": 245,
   "outputs": [
    {
     "data": {
      "text/plain": "         Population       GDP  Surface Area  Human Development Index  \\\nCanada       35.467   1785387       9984670                    0.913   \nFrance       63.951   2833687        640679                    0.888   \nGermany      80.940   3874437        357114                    0.916   \nItaly        60.665   2167744        301336                    0.873   \nJapan       127.061   4602367        377930                    0.891   \nUK           64.511   2950039        242495                    0.907   \nUSA         318.523  17348075       9525067                    0.915   \n\n        Continent Language  \nCanada    America  English  \nFrance     Europe  English  \nGermany    Europe  English  \nItaly      Europe  English  \nJapan        Asia  English  \nUK         Europe  English  \nUSA       America  English  ",
      "text/html": "<div>\n<style scoped>\n    .dataframe tbody tr th:only-of-type {\n        vertical-align: middle;\n    }\n\n    .dataframe tbody tr th {\n        vertical-align: top;\n    }\n\n    .dataframe thead th {\n        text-align: right;\n    }\n</style>\n<table border=\"1\" class=\"dataframe\">\n  <thead>\n    <tr style=\"text-align: right;\">\n      <th></th>\n      <th>Population</th>\n      <th>GDP</th>\n      <th>Surface Area</th>\n      <th>Human Development Index</th>\n      <th>Continent</th>\n      <th>Language</th>\n    </tr>\n  </thead>\n  <tbody>\n    <tr>\n      <th>Canada</th>\n      <td>35.467</td>\n      <td>1785387</td>\n      <td>9984670</td>\n      <td>0.913</td>\n      <td>America</td>\n      <td>English</td>\n    </tr>\n    <tr>\n      <th>France</th>\n      <td>63.951</td>\n      <td>2833687</td>\n      <td>640679</td>\n      <td>0.888</td>\n      <td>Europe</td>\n      <td>English</td>\n    </tr>\n    <tr>\n      <th>Germany</th>\n      <td>80.940</td>\n      <td>3874437</td>\n      <td>357114</td>\n      <td>0.916</td>\n      <td>Europe</td>\n      <td>English</td>\n    </tr>\n    <tr>\n      <th>Italy</th>\n      <td>60.665</td>\n      <td>2167744</td>\n      <td>301336</td>\n      <td>0.873</td>\n      <td>Europe</td>\n      <td>English</td>\n    </tr>\n    <tr>\n      <th>Japan</th>\n      <td>127.061</td>\n      <td>4602367</td>\n      <td>377930</td>\n      <td>0.891</td>\n      <td>Asia</td>\n      <td>English</td>\n    </tr>\n    <tr>\n      <th>UK</th>\n      <td>64.511</td>\n      <td>2950039</td>\n      <td>242495</td>\n      <td>0.907</td>\n      <td>Europe</td>\n      <td>English</td>\n    </tr>\n    <tr>\n      <th>USA</th>\n      <td>318.523</td>\n      <td>17348075</td>\n      <td>9525067</td>\n      <td>0.915</td>\n      <td>America</td>\n      <td>English</td>\n    </tr>\n  </tbody>\n</table>\n</div>"
     },
     "execution_count": 245,
     "metadata": {},
     "output_type": "execute_result"
    }
   ],
   "source": [
    "country_stat.rename(\n",
    "    columns={\n",
    "        'HDI': 'Human Development Index',\n",
    "        'Anual Popcorn Consumption': 'APC'\n",
    "    }, index={\n",
    "        'United States': 'USA',\n",
    "        'United Kingdom': 'UK',\n",
    "        'Argentina': 'AR'\n",
    "    })"
   ],
   "metadata": {
    "collapsed": false,
    "pycharm": {
     "name": "#%%\n"
    }
   }
  },
  {
   "cell_type": "code",
   "execution_count": 246,
   "outputs": [
    {
     "data": {
      "text/plain": "                Population       GDP  Surface Area    HDI Continent Language\nCANADA              35.467   1785387       9984670  0.913   America  English\nFRANCE              63.951   2833687        640679  0.888    Europe  English\nGERMANY             80.940   3874437        357114  0.916    Europe  English\nITALY               60.665   2167744        301336  0.873    Europe  English\nJAPAN              127.061   4602367        377930  0.891      Asia  English\nUNITED KINGDOM      64.511   2950039        242495  0.907    Europe  English\nUNITED STATES      318.523  17348075       9525067  0.915   America  English",
      "text/html": "<div>\n<style scoped>\n    .dataframe tbody tr th:only-of-type {\n        vertical-align: middle;\n    }\n\n    .dataframe tbody tr th {\n        vertical-align: top;\n    }\n\n    .dataframe thead th {\n        text-align: right;\n    }\n</style>\n<table border=\"1\" class=\"dataframe\">\n  <thead>\n    <tr style=\"text-align: right;\">\n      <th></th>\n      <th>Population</th>\n      <th>GDP</th>\n      <th>Surface Area</th>\n      <th>HDI</th>\n      <th>Continent</th>\n      <th>Language</th>\n    </tr>\n  </thead>\n  <tbody>\n    <tr>\n      <th>CANADA</th>\n      <td>35.467</td>\n      <td>1785387</td>\n      <td>9984670</td>\n      <td>0.913</td>\n      <td>America</td>\n      <td>English</td>\n    </tr>\n    <tr>\n      <th>FRANCE</th>\n      <td>63.951</td>\n      <td>2833687</td>\n      <td>640679</td>\n      <td>0.888</td>\n      <td>Europe</td>\n      <td>English</td>\n    </tr>\n    <tr>\n      <th>GERMANY</th>\n      <td>80.940</td>\n      <td>3874437</td>\n      <td>357114</td>\n      <td>0.916</td>\n      <td>Europe</td>\n      <td>English</td>\n    </tr>\n    <tr>\n      <th>ITALY</th>\n      <td>60.665</td>\n      <td>2167744</td>\n      <td>301336</td>\n      <td>0.873</td>\n      <td>Europe</td>\n      <td>English</td>\n    </tr>\n    <tr>\n      <th>JAPAN</th>\n      <td>127.061</td>\n      <td>4602367</td>\n      <td>377930</td>\n      <td>0.891</td>\n      <td>Asia</td>\n      <td>English</td>\n    </tr>\n    <tr>\n      <th>UNITED KINGDOM</th>\n      <td>64.511</td>\n      <td>2950039</td>\n      <td>242495</td>\n      <td>0.907</td>\n      <td>Europe</td>\n      <td>English</td>\n    </tr>\n    <tr>\n      <th>UNITED STATES</th>\n      <td>318.523</td>\n      <td>17348075</td>\n      <td>9525067</td>\n      <td>0.915</td>\n      <td>America</td>\n      <td>English</td>\n    </tr>\n  </tbody>\n</table>\n</div>"
     },
     "execution_count": 246,
     "metadata": {},
     "output_type": "execute_result"
    }
   ],
   "source": [
    "country_stat.rename(index=str.upper)"
   ],
   "metadata": {
    "collapsed": false,
    "pycharm": {
     "name": "#%%\n"
    }
   }
  },
  {
   "cell_type": "code",
   "execution_count": 247,
   "outputs": [
    {
     "data": {
      "text/plain": "                Population       GDP  Surface Area    HDI Continent Language\ncanada              35.467   1785387       9984670  0.913   America  English\nfrance              63.951   2833687        640679  0.888    Europe  English\ngermany             80.940   3874437        357114  0.916    Europe  English\nitaly               60.665   2167744        301336  0.873    Europe  English\njapan              127.061   4602367        377930  0.891      Asia  English\nunited kingdom      64.511   2950039        242495  0.907    Europe  English\nunited states      318.523  17348075       9525067  0.915   America  English",
      "text/html": "<div>\n<style scoped>\n    .dataframe tbody tr th:only-of-type {\n        vertical-align: middle;\n    }\n\n    .dataframe tbody tr th {\n        vertical-align: top;\n    }\n\n    .dataframe thead th {\n        text-align: right;\n    }\n</style>\n<table border=\"1\" class=\"dataframe\">\n  <thead>\n    <tr style=\"text-align: right;\">\n      <th></th>\n      <th>Population</th>\n      <th>GDP</th>\n      <th>Surface Area</th>\n      <th>HDI</th>\n      <th>Continent</th>\n      <th>Language</th>\n    </tr>\n  </thead>\n  <tbody>\n    <tr>\n      <th>canada</th>\n      <td>35.467</td>\n      <td>1785387</td>\n      <td>9984670</td>\n      <td>0.913</td>\n      <td>America</td>\n      <td>English</td>\n    </tr>\n    <tr>\n      <th>france</th>\n      <td>63.951</td>\n      <td>2833687</td>\n      <td>640679</td>\n      <td>0.888</td>\n      <td>Europe</td>\n      <td>English</td>\n    </tr>\n    <tr>\n      <th>germany</th>\n      <td>80.940</td>\n      <td>3874437</td>\n      <td>357114</td>\n      <td>0.916</td>\n      <td>Europe</td>\n      <td>English</td>\n    </tr>\n    <tr>\n      <th>italy</th>\n      <td>60.665</td>\n      <td>2167744</td>\n      <td>301336</td>\n      <td>0.873</td>\n      <td>Europe</td>\n      <td>English</td>\n    </tr>\n    <tr>\n      <th>japan</th>\n      <td>127.061</td>\n      <td>4602367</td>\n      <td>377930</td>\n      <td>0.891</td>\n      <td>Asia</td>\n      <td>English</td>\n    </tr>\n    <tr>\n      <th>united kingdom</th>\n      <td>64.511</td>\n      <td>2950039</td>\n      <td>242495</td>\n      <td>0.907</td>\n      <td>Europe</td>\n      <td>English</td>\n    </tr>\n    <tr>\n      <th>united states</th>\n      <td>318.523</td>\n      <td>17348075</td>\n      <td>9525067</td>\n      <td>0.915</td>\n      <td>America</td>\n      <td>English</td>\n    </tr>\n  </tbody>\n</table>\n</div>"
     },
     "execution_count": 247,
     "metadata": {},
     "output_type": "execute_result"
    }
   ],
   "source": [
    "country_stat.rename(index=str.lower)"
   ],
   "metadata": {
    "collapsed": false,
    "pycharm": {
     "name": "#%%\n"
    }
   }
  },
  {
   "cell_type": "markdown",
   "source": [
    "![green-divider](https://user-images.githubusercontent.com/7065401/52071924-c003ad80-2562-11e9-8297-1c6595f8a7ff.png)\n",
    "\n",
    "# Appending Values"
   ],
   "metadata": {
    "collapsed": false
   }
  },
  {
   "cell_type": "code",
   "execution_count": 248,
   "outputs": [
    {
     "data": {
      "text/plain": "                Population         GDP  Surface Area    HDI Continent Language\nCanada              35.467   1785387.0     9984670.0  0.913   America  English\nFrance              63.951   2833687.0      640679.0  0.888    Europe  English\nGermany             80.940   3874437.0      357114.0  0.916    Europe  English\nItaly               60.665   2167744.0      301336.0  0.873    Europe  English\nJapan              127.061   4602367.0      377930.0  0.891      Asia  English\nUnited Kingdom      64.511   2950039.0      242495.0  0.907    Europe  English\nUnited States      318.523  17348075.0     9525067.0  0.915   America  English\nChina                3.000         5.0           NaN    NaN       NaN      NaN",
      "text/html": "<div>\n<style scoped>\n    .dataframe tbody tr th:only-of-type {\n        vertical-align: middle;\n    }\n\n    .dataframe tbody tr th {\n        vertical-align: top;\n    }\n\n    .dataframe thead th {\n        text-align: right;\n    }\n</style>\n<table border=\"1\" class=\"dataframe\">\n  <thead>\n    <tr style=\"text-align: right;\">\n      <th></th>\n      <th>Population</th>\n      <th>GDP</th>\n      <th>Surface Area</th>\n      <th>HDI</th>\n      <th>Continent</th>\n      <th>Language</th>\n    </tr>\n  </thead>\n  <tbody>\n    <tr>\n      <th>Canada</th>\n      <td>35.467</td>\n      <td>1785387.0</td>\n      <td>9984670.0</td>\n      <td>0.913</td>\n      <td>America</td>\n      <td>English</td>\n    </tr>\n    <tr>\n      <th>France</th>\n      <td>63.951</td>\n      <td>2833687.0</td>\n      <td>640679.0</td>\n      <td>0.888</td>\n      <td>Europe</td>\n      <td>English</td>\n    </tr>\n    <tr>\n      <th>Germany</th>\n      <td>80.940</td>\n      <td>3874437.0</td>\n      <td>357114.0</td>\n      <td>0.916</td>\n      <td>Europe</td>\n      <td>English</td>\n    </tr>\n    <tr>\n      <th>Italy</th>\n      <td>60.665</td>\n      <td>2167744.0</td>\n      <td>301336.0</td>\n      <td>0.873</td>\n      <td>Europe</td>\n      <td>English</td>\n    </tr>\n    <tr>\n      <th>Japan</th>\n      <td>127.061</td>\n      <td>4602367.0</td>\n      <td>377930.0</td>\n      <td>0.891</td>\n      <td>Asia</td>\n      <td>English</td>\n    </tr>\n    <tr>\n      <th>United Kingdom</th>\n      <td>64.511</td>\n      <td>2950039.0</td>\n      <td>242495.0</td>\n      <td>0.907</td>\n      <td>Europe</td>\n      <td>English</td>\n    </tr>\n    <tr>\n      <th>United States</th>\n      <td>318.523</td>\n      <td>17348075.0</td>\n      <td>9525067.0</td>\n      <td>0.915</td>\n      <td>America</td>\n      <td>English</td>\n    </tr>\n    <tr>\n      <th>China</th>\n      <td>3.000</td>\n      <td>5.0</td>\n      <td>NaN</td>\n      <td>NaN</td>\n      <td>NaN</td>\n      <td>NaN</td>\n    </tr>\n  </tbody>\n</table>\n</div>"
     },
     "execution_count": 248,
     "metadata": {},
     "output_type": "execute_result"
    }
   ],
   "source": [
    "country_stat.append(pd.Series({\n",
    "    'Population': 3,\n",
    "    'GDP': 5\n",
    "}, name='China'))"
   ],
   "metadata": {
    "collapsed": false,
    "pycharm": {
     "name": "#%%\n"
    }
   }
  },
  {
   "cell_type": "code",
   "execution_count": 249,
   "outputs": [
    {
     "data": {
      "text/plain": "                  Population         GDP  Surface Area    HDI Continent  \\\nCanada          3.546700e+01   1785387.0     9984670.0  0.913   America   \nFrance          6.395100e+01   2833687.0      640679.0  0.888    Europe   \nGermany         8.094000e+01   3874437.0      357114.0  0.916    Europe   \nItaly           6.066500e+01   2167744.0      301336.0  0.873    Europe   \nJapan           1.270610e+02   4602367.0      377930.0  0.891      Asia   \nUnited Kingdom  6.451100e+01   2950039.0      242495.0  0.907    Europe   \nUnited States   3.185230e+02  17348075.0     9525067.0  0.915   America   \nChina           1.400000e+09         NaN           NaN    NaN      Asia   \n\n               Language  \nCanada          English  \nFrance          English  \nGermany         English  \nItaly           English  \nJapan           English  \nUnited Kingdom  English  \nUnited States   English  \nChina               NaN  ",
      "text/html": "<div>\n<style scoped>\n    .dataframe tbody tr th:only-of-type {\n        vertical-align: middle;\n    }\n\n    .dataframe tbody tr th {\n        vertical-align: top;\n    }\n\n    .dataframe thead th {\n        text-align: right;\n    }\n</style>\n<table border=\"1\" class=\"dataframe\">\n  <thead>\n    <tr style=\"text-align: right;\">\n      <th></th>\n      <th>Population</th>\n      <th>GDP</th>\n      <th>Surface Area</th>\n      <th>HDI</th>\n      <th>Continent</th>\n      <th>Language</th>\n    </tr>\n  </thead>\n  <tbody>\n    <tr>\n      <th>Canada</th>\n      <td>3.546700e+01</td>\n      <td>1785387.0</td>\n      <td>9984670.0</td>\n      <td>0.913</td>\n      <td>America</td>\n      <td>English</td>\n    </tr>\n    <tr>\n      <th>France</th>\n      <td>6.395100e+01</td>\n      <td>2833687.0</td>\n      <td>640679.0</td>\n      <td>0.888</td>\n      <td>Europe</td>\n      <td>English</td>\n    </tr>\n    <tr>\n      <th>Germany</th>\n      <td>8.094000e+01</td>\n      <td>3874437.0</td>\n      <td>357114.0</td>\n      <td>0.916</td>\n      <td>Europe</td>\n      <td>English</td>\n    </tr>\n    <tr>\n      <th>Italy</th>\n      <td>6.066500e+01</td>\n      <td>2167744.0</td>\n      <td>301336.0</td>\n      <td>0.873</td>\n      <td>Europe</td>\n      <td>English</td>\n    </tr>\n    <tr>\n      <th>Japan</th>\n      <td>1.270610e+02</td>\n      <td>4602367.0</td>\n      <td>377930.0</td>\n      <td>0.891</td>\n      <td>Asia</td>\n      <td>English</td>\n    </tr>\n    <tr>\n      <th>United Kingdom</th>\n      <td>6.451100e+01</td>\n      <td>2950039.0</td>\n      <td>242495.0</td>\n      <td>0.907</td>\n      <td>Europe</td>\n      <td>English</td>\n    </tr>\n    <tr>\n      <th>United States</th>\n      <td>3.185230e+02</td>\n      <td>17348075.0</td>\n      <td>9525067.0</td>\n      <td>0.915</td>\n      <td>America</td>\n      <td>English</td>\n    </tr>\n    <tr>\n      <th>China</th>\n      <td>1.400000e+09</td>\n      <td>NaN</td>\n      <td>NaN</td>\n      <td>NaN</td>\n      <td>Asia</td>\n      <td>NaN</td>\n    </tr>\n  </tbody>\n</table>\n</div>"
     },
     "execution_count": 249,
     "metadata": {},
     "output_type": "execute_result"
    }
   ],
   "source": [
    "country_stat.loc['China'] = pd.Series({'Population': 1_400_000_000, 'Continent': 'Asia'})\n",
    "country_stat"
   ],
   "metadata": {
    "collapsed": false,
    "pycharm": {
     "name": "#%%\n"
    }
   }
  },
  {
   "cell_type": "code",
   "execution_count": 250,
   "outputs": [
    {
     "data": {
      "text/plain": "            index    Population         GDP  Surface Area    HDI Continent  \\\n0          Canada  3.546700e+01   1785387.0     9984670.0  0.913   America   \n1          France  6.395100e+01   2833687.0      640679.0  0.888    Europe   \n2         Germany  8.094000e+01   3874437.0      357114.0  0.916    Europe   \n3           Italy  6.066500e+01   2167744.0      301336.0  0.873    Europe   \n4           Japan  1.270610e+02   4602367.0      377930.0  0.891      Asia   \n5  United Kingdom  6.451100e+01   2950039.0      242495.0  0.907    Europe   \n6   United States  3.185230e+02  17348075.0     9525067.0  0.915   America   \n7           China  1.400000e+09         NaN           NaN    NaN      Asia   \n\n  Language  \n0  English  \n1  English  \n2  English  \n3  English  \n4  English  \n5  English  \n6  English  \n7      NaN  ",
      "text/html": "<div>\n<style scoped>\n    .dataframe tbody tr th:only-of-type {\n        vertical-align: middle;\n    }\n\n    .dataframe tbody tr th {\n        vertical-align: top;\n    }\n\n    .dataframe thead th {\n        text-align: right;\n    }\n</style>\n<table border=\"1\" class=\"dataframe\">\n  <thead>\n    <tr style=\"text-align: right;\">\n      <th></th>\n      <th>index</th>\n      <th>Population</th>\n      <th>GDP</th>\n      <th>Surface Area</th>\n      <th>HDI</th>\n      <th>Continent</th>\n      <th>Language</th>\n    </tr>\n  </thead>\n  <tbody>\n    <tr>\n      <th>0</th>\n      <td>Canada</td>\n      <td>3.546700e+01</td>\n      <td>1785387.0</td>\n      <td>9984670.0</td>\n      <td>0.913</td>\n      <td>America</td>\n      <td>English</td>\n    </tr>\n    <tr>\n      <th>1</th>\n      <td>France</td>\n      <td>6.395100e+01</td>\n      <td>2833687.0</td>\n      <td>640679.0</td>\n      <td>0.888</td>\n      <td>Europe</td>\n      <td>English</td>\n    </tr>\n    <tr>\n      <th>2</th>\n      <td>Germany</td>\n      <td>8.094000e+01</td>\n      <td>3874437.0</td>\n      <td>357114.0</td>\n      <td>0.916</td>\n      <td>Europe</td>\n      <td>English</td>\n    </tr>\n    <tr>\n      <th>3</th>\n      <td>Italy</td>\n      <td>6.066500e+01</td>\n      <td>2167744.0</td>\n      <td>301336.0</td>\n      <td>0.873</td>\n      <td>Europe</td>\n      <td>English</td>\n    </tr>\n    <tr>\n      <th>4</th>\n      <td>Japan</td>\n      <td>1.270610e+02</td>\n      <td>4602367.0</td>\n      <td>377930.0</td>\n      <td>0.891</td>\n      <td>Asia</td>\n      <td>English</td>\n    </tr>\n    <tr>\n      <th>5</th>\n      <td>United Kingdom</td>\n      <td>6.451100e+01</td>\n      <td>2950039.0</td>\n      <td>242495.0</td>\n      <td>0.907</td>\n      <td>Europe</td>\n      <td>English</td>\n    </tr>\n    <tr>\n      <th>6</th>\n      <td>United States</td>\n      <td>3.185230e+02</td>\n      <td>17348075.0</td>\n      <td>9525067.0</td>\n      <td>0.915</td>\n      <td>America</td>\n      <td>English</td>\n    </tr>\n    <tr>\n      <th>7</th>\n      <td>China</td>\n      <td>1.400000e+09</td>\n      <td>NaN</td>\n      <td>NaN</td>\n      <td>NaN</td>\n      <td>Asia</td>\n      <td>NaN</td>\n    </tr>\n  </tbody>\n</table>\n</div>"
     },
     "execution_count": 250,
     "metadata": {},
     "output_type": "execute_result"
    }
   ],
   "source": [
    "country_stat.reset_index()"
   ],
   "metadata": {
    "collapsed": false,
    "pycharm": {
     "name": "#%%\n"
    }
   }
  },
  {
   "cell_type": "code",
   "execution_count": 251,
   "outputs": [
    {
     "data": {
      "text/plain": "                     GDP  Surface Area    HDI Continent Language\nPopulation                                                      \n3.546700e+01   1785387.0     9984670.0  0.913   America  English\n6.395100e+01   2833687.0      640679.0  0.888    Europe  English\n8.094000e+01   3874437.0      357114.0  0.916    Europe  English\n6.066500e+01   2167744.0      301336.0  0.873    Europe  English\n1.270610e+02   4602367.0      377930.0  0.891      Asia  English\n6.451100e+01   2950039.0      242495.0  0.907    Europe  English\n3.185230e+02  17348075.0     9525067.0  0.915   America  English\n1.400000e+09         NaN           NaN    NaN      Asia      NaN",
      "text/html": "<div>\n<style scoped>\n    .dataframe tbody tr th:only-of-type {\n        vertical-align: middle;\n    }\n\n    .dataframe tbody tr th {\n        vertical-align: top;\n    }\n\n    .dataframe thead th {\n        text-align: right;\n    }\n</style>\n<table border=\"1\" class=\"dataframe\">\n  <thead>\n    <tr style=\"text-align: right;\">\n      <th></th>\n      <th>GDP</th>\n      <th>Surface Area</th>\n      <th>HDI</th>\n      <th>Continent</th>\n      <th>Language</th>\n    </tr>\n    <tr>\n      <th>Population</th>\n      <th></th>\n      <th></th>\n      <th></th>\n      <th></th>\n      <th></th>\n    </tr>\n  </thead>\n  <tbody>\n    <tr>\n      <th>3.546700e+01</th>\n      <td>1785387.0</td>\n      <td>9984670.0</td>\n      <td>0.913</td>\n      <td>America</td>\n      <td>English</td>\n    </tr>\n    <tr>\n      <th>6.395100e+01</th>\n      <td>2833687.0</td>\n      <td>640679.0</td>\n      <td>0.888</td>\n      <td>Europe</td>\n      <td>English</td>\n    </tr>\n    <tr>\n      <th>8.094000e+01</th>\n      <td>3874437.0</td>\n      <td>357114.0</td>\n      <td>0.916</td>\n      <td>Europe</td>\n      <td>English</td>\n    </tr>\n    <tr>\n      <th>6.066500e+01</th>\n      <td>2167744.0</td>\n      <td>301336.0</td>\n      <td>0.873</td>\n      <td>Europe</td>\n      <td>English</td>\n    </tr>\n    <tr>\n      <th>1.270610e+02</th>\n      <td>4602367.0</td>\n      <td>377930.0</td>\n      <td>0.891</td>\n      <td>Asia</td>\n      <td>English</td>\n    </tr>\n    <tr>\n      <th>6.451100e+01</th>\n      <td>2950039.0</td>\n      <td>242495.0</td>\n      <td>0.907</td>\n      <td>Europe</td>\n      <td>English</td>\n    </tr>\n    <tr>\n      <th>3.185230e+02</th>\n      <td>17348075.0</td>\n      <td>9525067.0</td>\n      <td>0.915</td>\n      <td>America</td>\n      <td>English</td>\n    </tr>\n    <tr>\n      <th>1.400000e+09</th>\n      <td>NaN</td>\n      <td>NaN</td>\n      <td>NaN</td>\n      <td>Asia</td>\n      <td>NaN</td>\n    </tr>\n  </tbody>\n</table>\n</div>"
     },
     "execution_count": 251,
     "metadata": {},
     "output_type": "execute_result"
    }
   ],
   "source": [
    "country_stat.set_index('Population')"
   ],
   "metadata": {
    "collapsed": false,
    "pycharm": {
     "name": "#%%\n"
    }
   }
  },
  {
   "cell_type": "markdown",
   "source": [
    "![purple-divider](https://user-images.githubusercontent.com/7065401/52071927-c1cd7100-2562-11e9-908a-dde91ba14e59.png)\n",
    "\n",
    "# Cleaning Data"
   ],
   "metadata": {
    "collapsed": false,
    "pycharm": {
     "name": "#%% md\n"
    }
   }
  },
  {
   "cell_type": "code",
   "execution_count": 252,
   "outputs": [
    {
     "data": {
      "text/plain": "True"
     },
     "execution_count": 252,
     "metadata": {},
     "output_type": "execute_result"
    }
   ],
   "source": [
    "pd.isnull(np.nan)"
   ],
   "metadata": {
    "collapsed": false,
    "pycharm": {
     "name": "#%%\n"
    }
   }
  },
  {
   "cell_type": "code",
   "execution_count": 253,
   "outputs": [
    {
     "data": {
      "text/plain": "True"
     },
     "execution_count": 253,
     "metadata": {},
     "output_type": "execute_result"
    }
   ],
   "source": [
    "pd.isnull(None)"
   ],
   "metadata": {
    "collapsed": false,
    "pycharm": {
     "name": "#%%\n"
    }
   }
  },
  {
   "cell_type": "code",
   "execution_count": 254,
   "outputs": [
    {
     "data": {
      "text/plain": "True"
     },
     "execution_count": 254,
     "metadata": {},
     "output_type": "execute_result"
    }
   ],
   "source": [
    "pd.isna(np.nan)"
   ],
   "metadata": {
    "collapsed": false,
    "pycharm": {
     "name": "#%%\n"
    }
   }
  },
  {
   "cell_type": "code",
   "execution_count": 255,
   "outputs": [
    {
     "data": {
      "text/plain": "True"
     },
     "execution_count": 255,
     "metadata": {},
     "output_type": "execute_result"
    }
   ],
   "source": [
    "pd.isna(None)"
   ],
   "metadata": {
    "collapsed": false,
    "pycharm": {
     "name": "#%%\n"
    }
   }
  },
  {
   "cell_type": "code",
   "execution_count": 256,
   "outputs": [
    {
     "data": {
      "text/plain": "False"
     },
     "execution_count": 256,
     "metadata": {},
     "output_type": "execute_result"
    }
   ],
   "source": [
    "pd.notnull(None)"
   ],
   "metadata": {
    "collapsed": false,
    "pycharm": {
     "name": "#%%\n"
    }
   }
  },
  {
   "cell_type": "code",
   "execution_count": 257,
   "outputs": [
    {
     "data": {
      "text/plain": "   Column A  Column B  Column C\n0     False      True      True\n1      True     False     False\n2     False     False      True",
      "text/html": "<div>\n<style scoped>\n    .dataframe tbody tr th:only-of-type {\n        vertical-align: middle;\n    }\n\n    .dataframe tbody tr th {\n        vertical-align: top;\n    }\n\n    .dataframe thead th {\n        text-align: right;\n    }\n</style>\n<table border=\"1\" class=\"dataframe\">\n  <thead>\n    <tr style=\"text-align: right;\">\n      <th></th>\n      <th>Column A</th>\n      <th>Column B</th>\n      <th>Column C</th>\n    </tr>\n  </thead>\n  <tbody>\n    <tr>\n      <th>0</th>\n      <td>False</td>\n      <td>True</td>\n      <td>True</td>\n    </tr>\n    <tr>\n      <th>1</th>\n      <td>True</td>\n      <td>False</td>\n      <td>False</td>\n    </tr>\n    <tr>\n      <th>2</th>\n      <td>False</td>\n      <td>False</td>\n      <td>True</td>\n    </tr>\n  </tbody>\n</table>\n</div>"
     },
     "execution_count": 257,
     "metadata": {},
     "output_type": "execute_result"
    }
   ],
   "source": [
    "pd.isnull(pd.DataFrame({\n",
    "    'Column A': [1, np.nan, 7],\n",
    "    'Column B': [np.nan, 2, 3],\n",
    "    'Column C': [np.nan, 2, np.nan]\n",
    "}))"
   ],
   "metadata": {
    "collapsed": false,
    "pycharm": {
     "name": "#%%\n"
    }
   }
  },
  {
   "cell_type": "code",
   "execution_count": 258,
   "outputs": [
    {
     "data": {
      "text/plain": "2"
     },
     "execution_count": 258,
     "metadata": {},
     "output_type": "execute_result"
    }
   ],
   "source": [
    "pd.Series([1, 2, np.nan]).count()"
   ],
   "metadata": {
    "collapsed": false,
    "pycharm": {
     "name": "#%%\n"
    }
   }
  },
  {
   "cell_type": "code",
   "execution_count": 259,
   "outputs": [
    {
     "data": {
      "text/plain": "3.0"
     },
     "execution_count": 259,
     "metadata": {},
     "output_type": "execute_result"
    }
   ],
   "source": [
    "pd.Series([1, 2, np.nan]).sum()"
   ],
   "metadata": {
    "collapsed": false,
    "pycharm": {
     "name": "#%%\n"
    }
   }
  },
  {
   "cell_type": "code",
   "execution_count": 260,
   "outputs": [
    {
     "data": {
      "text/plain": "2.0"
     },
     "execution_count": 260,
     "metadata": {},
     "output_type": "execute_result"
    }
   ],
   "source": [
    "pd.Series([2, 2, np.nan]).mean()"
   ],
   "metadata": {
    "collapsed": false,
    "pycharm": {
     "name": "#%%\n"
    }
   }
  },
  {
   "cell_type": "code",
   "execution_count": 261,
   "outputs": [],
   "source": [
    "s = pd.Series([1, 2, 3, np.nan, np.nan, 4])"
   ],
   "metadata": {
    "collapsed": false,
    "pycharm": {
     "name": "#%%\n"
    }
   }
  },
  {
   "cell_type": "code",
   "execution_count": 262,
   "outputs": [
    {
     "data": {
      "text/plain": "0     True\n1     True\n2     True\n3    False\n4    False\n5     True\ndtype: bool"
     },
     "execution_count": 262,
     "metadata": {},
     "output_type": "execute_result"
    }
   ],
   "source": [
    "pd.notnull(s)"
   ],
   "metadata": {
    "collapsed": false,
    "pycharm": {
     "name": "#%%\n"
    }
   }
  },
  {
   "cell_type": "code",
   "execution_count": 263,
   "outputs": [
    {
     "data": {
      "text/plain": "0    False\n1    False\n2    False\n3     True\n4     True\n5    False\ndtype: bool"
     },
     "execution_count": 263,
     "metadata": {},
     "output_type": "execute_result"
    }
   ],
   "source": [
    "pd.isnull(s)"
   ],
   "metadata": {
    "collapsed": false,
    "pycharm": {
     "name": "#%%\n"
    }
   }
  },
  {
   "cell_type": "code",
   "execution_count": 264,
   "outputs": [
    {
     "data": {
      "text/plain": "0    False\n1    False\n2    False\n3     True\n4     True\n5    False\ndtype: bool"
     },
     "execution_count": 264,
     "metadata": {},
     "output_type": "execute_result"
    }
   ],
   "source": [
    "s.isnull()"
   ],
   "metadata": {
    "collapsed": false,
    "pycharm": {
     "name": "#%%\n"
    }
   }
  },
  {
   "cell_type": "code",
   "execution_count": 265,
   "outputs": [
    {
     "data": {
      "text/plain": "0     True\n1     True\n2     True\n3    False\n4    False\n5     True\ndtype: bool"
     },
     "execution_count": 265,
     "metadata": {},
     "output_type": "execute_result"
    }
   ],
   "source": [
    "s.notnull()"
   ],
   "metadata": {
    "collapsed": false,
    "pycharm": {
     "name": "#%%\n"
    }
   }
  },
  {
   "cell_type": "code",
   "execution_count": 266,
   "outputs": [
    {
     "data": {
      "text/plain": "0    1.0\n1    2.0\n2    3.0\n5    4.0\ndtype: float64"
     },
     "execution_count": 266,
     "metadata": {},
     "output_type": "execute_result"
    }
   ],
   "source": [
    "s[s.notnull()]"
   ],
   "metadata": {
    "collapsed": false,
    "pycharm": {
     "name": "#%%\n"
    }
   }
  },
  {
   "cell_type": "code",
   "execution_count": 267,
   "outputs": [
    {
     "data": {
      "text/plain": "0    1.0\n1    2.0\n2    3.0\n3    NaN\n4    NaN\n5    4.0\ndtype: float64"
     },
     "execution_count": 267,
     "metadata": {},
     "output_type": "execute_result"
    }
   ],
   "source": [
    "s"
   ],
   "metadata": {
    "collapsed": false,
    "pycharm": {
     "name": "#%%\n"
    }
   }
  },
  {
   "cell_type": "code",
   "execution_count": 268,
   "outputs": [
    {
     "data": {
      "text/plain": "0    1.0\n1    2.0\n2    3.0\n5    4.0\ndtype: float64"
     },
     "execution_count": 268,
     "metadata": {},
     "output_type": "execute_result"
    }
   ],
   "source": [
    "s.dropna()"
   ],
   "metadata": {
    "collapsed": false,
    "pycharm": {
     "name": "#%%\n"
    }
   }
  },
  {
   "cell_type": "code",
   "execution_count": 269,
   "outputs": [
    {
     "data": {
      "text/plain": "   Column A  Column B  Column C  Column D\n0       1.0       2.0       NaN         5\n1       NaN       8.0       9.0         8\n2      30.0      31.0      32.0        34\n3       NaN       NaN     100.0       110",
      "text/html": "<div>\n<style scoped>\n    .dataframe tbody tr th:only-of-type {\n        vertical-align: middle;\n    }\n\n    .dataframe tbody tr th {\n        vertical-align: top;\n    }\n\n    .dataframe thead th {\n        text-align: right;\n    }\n</style>\n<table border=\"1\" class=\"dataframe\">\n  <thead>\n    <tr style=\"text-align: right;\">\n      <th></th>\n      <th>Column A</th>\n      <th>Column B</th>\n      <th>Column C</th>\n      <th>Column D</th>\n    </tr>\n  </thead>\n  <tbody>\n    <tr>\n      <th>0</th>\n      <td>1.0</td>\n      <td>2.0</td>\n      <td>NaN</td>\n      <td>5</td>\n    </tr>\n    <tr>\n      <th>1</th>\n      <td>NaN</td>\n      <td>8.0</td>\n      <td>9.0</td>\n      <td>8</td>\n    </tr>\n    <tr>\n      <th>2</th>\n      <td>30.0</td>\n      <td>31.0</td>\n      <td>32.0</td>\n      <td>34</td>\n    </tr>\n    <tr>\n      <th>3</th>\n      <td>NaN</td>\n      <td>NaN</td>\n      <td>100.0</td>\n      <td>110</td>\n    </tr>\n  </tbody>\n</table>\n</div>"
     },
     "execution_count": 269,
     "metadata": {},
     "output_type": "execute_result"
    }
   ],
   "source": [
    "df_nulls = pd.DataFrame({\n",
    "    'Column A': [1, np.nan, 30, np.nan],\n",
    "    'Column B': [2, 8, 31, np.nan],\n",
    "    'Column C': [np.nan, 9, 32, 100],\n",
    "    'Column D': [5, 8, 34, 110],\n",
    "})\n",
    "\n",
    "df_nulls"
   ],
   "metadata": {
    "collapsed": false,
    "pycharm": {
     "name": "#%%\n"
    }
   }
  },
  {
   "cell_type": "code",
   "execution_count": 270,
   "outputs": [
    {
     "name": "stdout",
     "output_type": "stream",
     "text": [
      "<class 'pandas.core.frame.DataFrame'>\n",
      "RangeIndex: 4 entries, 0 to 3\n",
      "Data columns (total 4 columns):\n",
      " #   Column    Non-Null Count  Dtype  \n",
      "---  ------    --------------  -----  \n",
      " 0   Column A  2 non-null      float64\n",
      " 1   Column B  3 non-null      float64\n",
      " 2   Column C  3 non-null      float64\n",
      " 3   Column D  4 non-null      int64  \n",
      "dtypes: float64(3), int64(1)\n",
      "memory usage: 256.0 bytes\n"
     ]
    }
   ],
   "source": [
    "df_nulls.info()"
   ],
   "metadata": {
    "collapsed": false,
    "pycharm": {
     "name": "#%%\n"
    }
   }
  },
  {
   "cell_type": "code",
   "execution_count": 271,
   "outputs": [
    {
     "data": {
      "text/plain": "Column A    2\nColumn B    1\nColumn C    1\nColumn D    0\ndtype: int64"
     },
     "execution_count": 271,
     "metadata": {},
     "output_type": "execute_result"
    }
   ],
   "source": [
    "df_nulls.isnull().sum()"
   ],
   "metadata": {
    "collapsed": false,
    "pycharm": {
     "name": "#%%\n"
    }
   }
  },
  {
   "cell_type": "code",
   "execution_count": 272,
   "outputs": [
    {
     "data": {
      "text/plain": "   Column A  Column B  Column C  Column D\n2      30.0      31.0      32.0        34",
      "text/html": "<div>\n<style scoped>\n    .dataframe tbody tr th:only-of-type {\n        vertical-align: middle;\n    }\n\n    .dataframe tbody tr th {\n        vertical-align: top;\n    }\n\n    .dataframe thead th {\n        text-align: right;\n    }\n</style>\n<table border=\"1\" class=\"dataframe\">\n  <thead>\n    <tr style=\"text-align: right;\">\n      <th></th>\n      <th>Column A</th>\n      <th>Column B</th>\n      <th>Column C</th>\n      <th>Column D</th>\n    </tr>\n  </thead>\n  <tbody>\n    <tr>\n      <th>2</th>\n      <td>30.0</td>\n      <td>31.0</td>\n      <td>32.0</td>\n      <td>34</td>\n    </tr>\n  </tbody>\n</table>\n</div>"
     },
     "execution_count": 272,
     "metadata": {},
     "output_type": "execute_result"
    }
   ],
   "source": [
    "df_nulls.dropna()"
   ],
   "metadata": {
    "collapsed": false,
    "pycharm": {
     "name": "#%%\n"
    }
   }
  },
  {
   "cell_type": "code",
   "execution_count": 273,
   "outputs": [
    {
     "data": {
      "text/plain": "   Column D\n0         5\n1         8\n2        34\n3       110",
      "text/html": "<div>\n<style scoped>\n    .dataframe tbody tr th:only-of-type {\n        vertical-align: middle;\n    }\n\n    .dataframe tbody tr th {\n        vertical-align: top;\n    }\n\n    .dataframe thead th {\n        text-align: right;\n    }\n</style>\n<table border=\"1\" class=\"dataframe\">\n  <thead>\n    <tr style=\"text-align: right;\">\n      <th></th>\n      <th>Column D</th>\n    </tr>\n  </thead>\n  <tbody>\n    <tr>\n      <th>0</th>\n      <td>5</td>\n    </tr>\n    <tr>\n      <th>1</th>\n      <td>8</td>\n    </tr>\n    <tr>\n      <th>2</th>\n      <td>34</td>\n    </tr>\n    <tr>\n      <th>3</th>\n      <td>110</td>\n    </tr>\n  </tbody>\n</table>\n</div>"
     },
     "execution_count": 273,
     "metadata": {},
     "output_type": "execute_result"
    }
   ],
   "source": [
    "df_nulls.dropna(axis=1)"
   ],
   "metadata": {
    "collapsed": false,
    "pycharm": {
     "name": "#%%\n"
    }
   }
  },
  {
   "cell_type": "markdown",
   "source": [
    "In this case, any row or column that contains **at least** one null value will be dropped. Which can be, depending on the case, too extreme. You can control this behavior with the `how` parameter. Can be either `'any'` or `'all'`:"
   ],
   "metadata": {
    "collapsed": false
   }
  },
  {
   "cell_type": "code",
   "execution_count": 274,
   "outputs": [
    {
     "data": {
      "text/plain": "   Column A  Column B  Column C\n0       1.0       2.0       NaN\n1       NaN       NaN       NaN\n2      30.0      31.0     100.0",
      "text/html": "<div>\n<style scoped>\n    .dataframe tbody tr th:only-of-type {\n        vertical-align: middle;\n    }\n\n    .dataframe tbody tr th {\n        vertical-align: top;\n    }\n\n    .dataframe thead th {\n        text-align: right;\n    }\n</style>\n<table border=\"1\" class=\"dataframe\">\n  <thead>\n    <tr style=\"text-align: right;\">\n      <th></th>\n      <th>Column A</th>\n      <th>Column B</th>\n      <th>Column C</th>\n    </tr>\n  </thead>\n  <tbody>\n    <tr>\n      <th>0</th>\n      <td>1.0</td>\n      <td>2.0</td>\n      <td>NaN</td>\n    </tr>\n    <tr>\n      <th>1</th>\n      <td>NaN</td>\n      <td>NaN</td>\n      <td>NaN</td>\n    </tr>\n    <tr>\n      <th>2</th>\n      <td>30.0</td>\n      <td>31.0</td>\n      <td>100.0</td>\n    </tr>\n  </tbody>\n</table>\n</div>"
     },
     "execution_count": 274,
     "metadata": {},
     "output_type": "execute_result"
    }
   ],
   "source": [
    "df_nulls2 = pd.DataFrame({\n",
    "    'Column A': [1, np.nan, 30],\n",
    "    'Column B': [2, np.nan, 31],\n",
    "    'Column C': [np.nan, np.nan, 100]\n",
    "})\n",
    "df_nulls2"
   ],
   "metadata": {
    "collapsed": false,
    "pycharm": {
     "name": "#%%\n"
    }
   }
  },
  {
   "cell_type": "code",
   "execution_count": 275,
   "outputs": [
    {
     "data": {
      "text/plain": "   Column A  Column B  Column C\n0       1.0       2.0       NaN\n2      30.0      31.0     100.0",
      "text/html": "<div>\n<style scoped>\n    .dataframe tbody tr th:only-of-type {\n        vertical-align: middle;\n    }\n\n    .dataframe tbody tr th {\n        vertical-align: top;\n    }\n\n    .dataframe thead th {\n        text-align: right;\n    }\n</style>\n<table border=\"1\" class=\"dataframe\">\n  <thead>\n    <tr style=\"text-align: right;\">\n      <th></th>\n      <th>Column A</th>\n      <th>Column B</th>\n      <th>Column C</th>\n    </tr>\n  </thead>\n  <tbody>\n    <tr>\n      <th>0</th>\n      <td>1.0</td>\n      <td>2.0</td>\n      <td>NaN</td>\n    </tr>\n    <tr>\n      <th>2</th>\n      <td>30.0</td>\n      <td>31.0</td>\n      <td>100.0</td>\n    </tr>\n  </tbody>\n</table>\n</div>"
     },
     "execution_count": 275,
     "metadata": {},
     "output_type": "execute_result"
    }
   ],
   "source": [
    "df_nulls2.dropna(how='all') # if all columns have NA then drop"
   ],
   "metadata": {
    "collapsed": false,
    "pycharm": {
     "name": "#%%\n"
    }
   }
  },
  {
   "cell_type": "code",
   "execution_count": 276,
   "outputs": [
    {
     "data": {
      "text/plain": "   Column A  Column B  Column C\n2      30.0      31.0     100.0",
      "text/html": "<div>\n<style scoped>\n    .dataframe tbody tr th:only-of-type {\n        vertical-align: middle;\n    }\n\n    .dataframe tbody tr th {\n        vertical-align: top;\n    }\n\n    .dataframe thead th {\n        text-align: right;\n    }\n</style>\n<table border=\"1\" class=\"dataframe\">\n  <thead>\n    <tr style=\"text-align: right;\">\n      <th></th>\n      <th>Column A</th>\n      <th>Column B</th>\n      <th>Column C</th>\n    </tr>\n  </thead>\n  <tbody>\n    <tr>\n      <th>2</th>\n      <td>30.0</td>\n      <td>31.0</td>\n      <td>100.0</td>\n    </tr>\n  </tbody>\n</table>\n</div>"
     },
     "execution_count": 276,
     "metadata": {},
     "output_type": "execute_result"
    }
   ],
   "source": [
    "df_nulls2.dropna(how = 'any') # default behavior"
   ],
   "metadata": {
    "collapsed": false,
    "pycharm": {
     "name": "#%%\n"
    }
   }
  },
  {
   "cell_type": "code",
   "execution_count": 277,
   "outputs": [
    {
     "data": {
      "text/plain": "   Column A  Column B  Column C\n2      30.0      31.0     100.0",
      "text/html": "<div>\n<style scoped>\n    .dataframe tbody tr th:only-of-type {\n        vertical-align: middle;\n    }\n\n    .dataframe tbody tr th {\n        vertical-align: top;\n    }\n\n    .dataframe thead th {\n        text-align: right;\n    }\n</style>\n<table border=\"1\" class=\"dataframe\">\n  <thead>\n    <tr style=\"text-align: right;\">\n      <th></th>\n      <th>Column A</th>\n      <th>Column B</th>\n      <th>Column C</th>\n    </tr>\n  </thead>\n  <tbody>\n    <tr>\n      <th>2</th>\n      <td>30.0</td>\n      <td>31.0</td>\n      <td>100.0</td>\n    </tr>\n  </tbody>\n</table>\n</div>"
     },
     "execution_count": 277,
     "metadata": {},
     "output_type": "execute_result"
    }
   ],
   "source": [
    "df_nulls2.dropna(thresh=3) # if at least 3 values are NA"
   ],
   "metadata": {
    "collapsed": false,
    "pycharm": {
     "name": "#%%\n"
    }
   }
  },
  {
   "cell_type": "code",
   "execution_count": 278,
   "outputs": [
    {
     "data": {
      "text/plain": "Empty DataFrame\nColumns: []\nIndex: [0, 1, 2]",
      "text/html": "<div>\n<style scoped>\n    .dataframe tbody tr th:only-of-type {\n        vertical-align: middle;\n    }\n\n    .dataframe tbody tr th {\n        vertical-align: top;\n    }\n\n    .dataframe thead th {\n        text-align: right;\n    }\n</style>\n<table border=\"1\" class=\"dataframe\">\n  <thead>\n    <tr style=\"text-align: right;\">\n      <th></th>\n    </tr>\n  </thead>\n  <tbody>\n    <tr>\n      <th>0</th>\n    </tr>\n    <tr>\n      <th>1</th>\n    </tr>\n    <tr>\n      <th>2</th>\n    </tr>\n  </tbody>\n</table>\n</div>"
     },
     "execution_count": 278,
     "metadata": {},
     "output_type": "execute_result"
    }
   ],
   "source": [
    "df_nulls2.dropna(thresh=3, axis='columns')"
   ],
   "metadata": {
    "collapsed": false,
    "pycharm": {
     "name": "#%%\n"
    }
   }
  },
  {
   "cell_type": "markdown",
   "source": [
    "![green-divider](https://user-images.githubusercontent.com/7065401/52071924-c003ad80-2562-11e9-8297-1c6595f8a7ff.png)\n",
    "\n",
    "## Filling Null values on Dataframes"
   ],
   "metadata": {
    "collapsed": false
   }
  },
  {
   "cell_type": "markdown",
   "source": [
    "Filling with preset numbers or the statistical measure"
   ],
   "metadata": {
    "collapsed": false
   }
  },
  {
   "cell_type": "code",
   "execution_count": 279,
   "outputs": [
    {
     "data": {
      "text/plain": "   Column A  Column B  Column C\n0       1.0       2.0      47.0\n1       0.0      99.0      47.0\n2      30.0      31.0     100.0",
      "text/html": "<div>\n<style scoped>\n    .dataframe tbody tr th:only-of-type {\n        vertical-align: middle;\n    }\n\n    .dataframe tbody tr th {\n        vertical-align: top;\n    }\n\n    .dataframe thead th {\n        text-align: right;\n    }\n</style>\n<table border=\"1\" class=\"dataframe\">\n  <thead>\n    <tr style=\"text-align: right;\">\n      <th></th>\n      <th>Column A</th>\n      <th>Column B</th>\n      <th>Column C</th>\n    </tr>\n  </thead>\n  <tbody>\n    <tr>\n      <th>0</th>\n      <td>1.0</td>\n      <td>2.0</td>\n      <td>47.0</td>\n    </tr>\n    <tr>\n      <th>1</th>\n      <td>0.0</td>\n      <td>99.0</td>\n      <td>47.0</td>\n    </tr>\n    <tr>\n      <th>2</th>\n      <td>30.0</td>\n      <td>31.0</td>\n      <td>100.0</td>\n    </tr>\n  </tbody>\n</table>\n</div>"
     },
     "execution_count": 279,
     "metadata": {},
     "output_type": "execute_result"
    }
   ],
   "source": [
    "df_nulls2.fillna({'Column A': 0, 'Column B': 99, 'Column C': df_nulls['Column C'].mean()})"
   ],
   "metadata": {
    "collapsed": false,
    "pycharm": {
     "name": "#%%\n"
    }
   }
  },
  {
   "cell_type": "markdown",
   "source": [
    "Forwards filling or backward filling"
   ],
   "metadata": {
    "collapsed": false
   }
  },
  {
   "cell_type": "code",
   "execution_count": 280,
   "outputs": [
    {
     "data": {
      "text/plain": "   Column A  Column B  Column C\n0       1.0       2.0       NaN\n1       1.0       2.0       NaN\n2      30.0      31.0     100.0",
      "text/html": "<div>\n<style scoped>\n    .dataframe tbody tr th:only-of-type {\n        vertical-align: middle;\n    }\n\n    .dataframe tbody tr th {\n        vertical-align: top;\n    }\n\n    .dataframe thead th {\n        text-align: right;\n    }\n</style>\n<table border=\"1\" class=\"dataframe\">\n  <thead>\n    <tr style=\"text-align: right;\">\n      <th></th>\n      <th>Column A</th>\n      <th>Column B</th>\n      <th>Column C</th>\n    </tr>\n  </thead>\n  <tbody>\n    <tr>\n      <th>0</th>\n      <td>1.0</td>\n      <td>2.0</td>\n      <td>NaN</td>\n    </tr>\n    <tr>\n      <th>1</th>\n      <td>1.0</td>\n      <td>2.0</td>\n      <td>NaN</td>\n    </tr>\n    <tr>\n      <th>2</th>\n      <td>30.0</td>\n      <td>31.0</td>\n      <td>100.0</td>\n    </tr>\n  </tbody>\n</table>\n</div>"
     },
     "execution_count": 280,
     "metadata": {},
     "output_type": "execute_result"
    }
   ],
   "source": [
    "df_nulls2.fillna(method='ffill', axis=0)"
   ],
   "metadata": {
    "collapsed": false,
    "pycharm": {
     "name": "#%%\n"
    }
   }
  },
  {
   "cell_type": "code",
   "execution_count": 281,
   "outputs": [
    {
     "data": {
      "text/plain": "   Column A  Column B  Column C\n0       1.0       2.0     100.0\n1      30.0      31.0     100.0\n2      30.0      31.0     100.0",
      "text/html": "<div>\n<style scoped>\n    .dataframe tbody tr th:only-of-type {\n        vertical-align: middle;\n    }\n\n    .dataframe tbody tr th {\n        vertical-align: top;\n    }\n\n    .dataframe thead th {\n        text-align: right;\n    }\n</style>\n<table border=\"1\" class=\"dataframe\">\n  <thead>\n    <tr style=\"text-align: right;\">\n      <th></th>\n      <th>Column A</th>\n      <th>Column B</th>\n      <th>Column C</th>\n    </tr>\n  </thead>\n  <tbody>\n    <tr>\n      <th>0</th>\n      <td>1.0</td>\n      <td>2.0</td>\n      <td>100.0</td>\n    </tr>\n    <tr>\n      <th>1</th>\n      <td>30.0</td>\n      <td>31.0</td>\n      <td>100.0</td>\n    </tr>\n    <tr>\n      <th>2</th>\n      <td>30.0</td>\n      <td>31.0</td>\n      <td>100.0</td>\n    </tr>\n  </tbody>\n</table>\n</div>"
     },
     "execution_count": 281,
     "metadata": {},
     "output_type": "execute_result"
    }
   ],
   "source": [
    "df_nulls2.fillna(method='bfill', axis=0)"
   ],
   "metadata": {
    "collapsed": false,
    "pycharm": {
     "name": "#%%\n"
    }
   }
  },
  {
   "cell_type": "code",
   "execution_count": 282,
   "outputs": [
    {
     "data": {
      "text/plain": "Column A    1\nColumn B    1\nColumn C    1\ndtype: int64"
     },
     "execution_count": 282,
     "metadata": {},
     "output_type": "execute_result"
    }
   ],
   "source": [
    "df_nulls2.dropna().count()"
   ],
   "metadata": {
    "collapsed": false,
    "pycharm": {
     "name": "#%%\n"
    }
   }
  },
  {
   "cell_type": "code",
   "execution_count": 283,
   "outputs": [
    {
     "data": {
      "text/plain": "4"
     },
     "execution_count": 283,
     "metadata": {},
     "output_type": "execute_result"
    }
   ],
   "source": [
    "missing_values = len(s.dropna() != len(s))\n",
    "missing_values"
   ],
   "metadata": {
    "collapsed": false,
    "pycharm": {
     "name": "#%%\n"
    }
   }
  },
  {
   "cell_type": "code",
   "execution_count": 284,
   "outputs": [
    {
     "data": {
      "text/plain": "6"
     },
     "execution_count": 284,
     "metadata": {},
     "output_type": "execute_result"
    }
   ],
   "source": [
    "len(s)"
   ],
   "metadata": {
    "collapsed": false,
    "pycharm": {
     "name": "#%%\n"
    }
   }
  },
  {
   "cell_type": "code",
   "execution_count": 285,
   "outputs": [
    {
     "data": {
      "text/plain": "4"
     },
     "execution_count": 285,
     "metadata": {},
     "output_type": "execute_result"
    }
   ],
   "source": [
    "s.count()"
   ],
   "metadata": {
    "collapsed": false,
    "pycharm": {
     "name": "#%%\n"
    }
   }
  },
  {
   "cell_type": "markdown",
   "source": [
    "**More Pythonic solution `any`**\n",
    "The methods `any` and `all` check if either there's `any` True value in a Series or `all` the values are `True`. They work in the same way as in Python:"
   ],
   "metadata": {
    "collapsed": false
   }
  },
  {
   "cell_type": "code",
   "execution_count": 286,
   "outputs": [
    {
     "data": {
      "text/plain": "True"
     },
     "execution_count": 286,
     "metadata": {},
     "output_type": "execute_result"
    }
   ],
   "source": [
    "pd.Series([True, False, False]).any()"
   ],
   "metadata": {
    "collapsed": false,
    "pycharm": {
     "name": "#%%\n"
    }
   }
  },
  {
   "cell_type": "code",
   "execution_count": 287,
   "outputs": [
    {
     "data": {
      "text/plain": "False"
     },
     "execution_count": 287,
     "metadata": {},
     "output_type": "execute_result"
    }
   ],
   "source": [
    "pd.Series([True, False, False]).all()"
   ],
   "metadata": {
    "collapsed": false,
    "pycharm": {
     "name": "#%%\n"
    }
   }
  },
  {
   "cell_type": "code",
   "execution_count": 288,
   "outputs": [
    {
     "data": {
      "text/plain": "True"
     },
     "execution_count": 288,
     "metadata": {},
     "output_type": "execute_result"
    }
   ],
   "source": [
    "pd.Series([True, True, True]).all()"
   ],
   "metadata": {
    "collapsed": false,
    "pycharm": {
     "name": "#%%\n"
    }
   }
  },
  {
   "cell_type": "code",
   "execution_count": 289,
   "outputs": [
    {
     "data": {
      "text/plain": "0    False\n1    False\n2    False\n3     True\n4     True\n5    False\ndtype: bool"
     },
     "execution_count": 289,
     "metadata": {},
     "output_type": "execute_result"
    }
   ],
   "source": [
    "s.isnull()"
   ],
   "metadata": {
    "collapsed": false,
    "pycharm": {
     "name": "#%%\n"
    }
   }
  },
  {
   "cell_type": "markdown",
   "source": [
    "![green-divider](https://user-images.githubusercontent.com/7065401/52071924-c003ad80-2562-11e9-8297-1c6595f8a7ff.png)\n",
    "\n",
    "# Cleaning All Values"
   ],
   "metadata": {
    "collapsed": false
   }
  },
  {
   "cell_type": "markdown",
   "source": [
    "The previous `DataFrame` doesn't have any \"missing value\", but clearly has invalid data. `290` doesn't seem like a valid age, and `D` and `?` don't correspond with any known sex category. How can you clean these not-missing, but clearly invalid values then?"
   ],
   "metadata": {
    "collapsed": false
   }
  },
  {
   "cell_type": "code",
   "execution_count": 290,
   "outputs": [
    {
     "data": {
      "text/plain": "  Sex  Age\n0   M   29\n1   F   30\n2   F   24\n3   D  290\n4   ?   25",
      "text/html": "<div>\n<style scoped>\n    .dataframe tbody tr th:only-of-type {\n        vertical-align: middle;\n    }\n\n    .dataframe tbody tr th {\n        vertical-align: top;\n    }\n\n    .dataframe thead th {\n        text-align: right;\n    }\n</style>\n<table border=\"1\" class=\"dataframe\">\n  <thead>\n    <tr style=\"text-align: right;\">\n      <th></th>\n      <th>Sex</th>\n      <th>Age</th>\n    </tr>\n  </thead>\n  <tbody>\n    <tr>\n      <th>0</th>\n      <td>M</td>\n      <td>29</td>\n    </tr>\n    <tr>\n      <th>1</th>\n      <td>F</td>\n      <td>30</td>\n    </tr>\n    <tr>\n      <th>2</th>\n      <td>F</td>\n      <td>24</td>\n    </tr>\n    <tr>\n      <th>3</th>\n      <td>D</td>\n      <td>290</td>\n    </tr>\n    <tr>\n      <th>4</th>\n      <td>?</td>\n      <td>25</td>\n    </tr>\n  </tbody>\n</table>\n</div>"
     },
     "execution_count": 290,
     "metadata": {},
     "output_type": "execute_result"
    }
   ],
   "source": [
    "gender = pd.DataFrame({\n",
    "    'Sex': ['M', 'F', 'F', 'D', '?'],\n",
    "    'Age': [29, 30, 24, 290, 25],\n",
    "})\n",
    "gender"
   ],
   "metadata": {
    "collapsed": false,
    "pycharm": {
     "name": "#%%\n"
    }
   }
  },
  {
   "cell_type": "code",
   "execution_count": 291,
   "outputs": [
    {
     "data": {
      "text/plain": "0    M\n1    F\n2    F\n3    F\n4    ?\nName: Sex, dtype: object"
     },
     "execution_count": 291,
     "metadata": {},
     "output_type": "execute_result"
    }
   ],
   "source": [
    "gender['Sex'].replace('D','F')"
   ],
   "metadata": {
    "collapsed": false,
    "pycharm": {
     "name": "#%%\n"
    }
   }
  },
  {
   "cell_type": "markdown",
   "source": [
    "It can accept a dictionary of values to replace. For example, they also told you that there might be a few `'N's`, that should actually be `'M's`:"
   ],
   "metadata": {
    "collapsed": false
   }
  },
  {
   "cell_type": "code",
   "execution_count": 292,
   "outputs": [
    {
     "data": {
      "text/plain": "0    M\n1    F\n2    F\n3    F\n4    ?\nName: Sex, dtype: object"
     },
     "execution_count": 292,
     "metadata": {},
     "output_type": "execute_result"
    }
   ],
   "source": [
    "gender['Sex'].replace({'D': 'F', 'N': 'M'})"
   ],
   "metadata": {
    "collapsed": false,
    "pycharm": {
     "name": "#%%\n"
    }
   }
  },
  {
   "cell_type": "markdown",
   "source": [
    "If you have many columns to replace, you could apply it at “DataFrame level”:"
   ],
   "metadata": {
    "collapsed": false
   }
  },
  {
   "cell_type": "code",
   "execution_count": 293,
   "outputs": [
    {
     "data": {
      "text/plain": "  Sex  Age\n0   M   29\n1   F   30\n2   F   24\n3   F   29\n4   ?   25",
      "text/html": "<div>\n<style scoped>\n    .dataframe tbody tr th:only-of-type {\n        vertical-align: middle;\n    }\n\n    .dataframe tbody tr th {\n        vertical-align: top;\n    }\n\n    .dataframe thead th {\n        text-align: right;\n    }\n</style>\n<table border=\"1\" class=\"dataframe\">\n  <thead>\n    <tr style=\"text-align: right;\">\n      <th></th>\n      <th>Sex</th>\n      <th>Age</th>\n    </tr>\n  </thead>\n  <tbody>\n    <tr>\n      <th>0</th>\n      <td>M</td>\n      <td>29</td>\n    </tr>\n    <tr>\n      <th>1</th>\n      <td>F</td>\n      <td>30</td>\n    </tr>\n    <tr>\n      <th>2</th>\n      <td>F</td>\n      <td>24</td>\n    </tr>\n    <tr>\n      <th>3</th>\n      <td>F</td>\n      <td>29</td>\n    </tr>\n    <tr>\n      <th>4</th>\n      <td>?</td>\n      <td>25</td>\n    </tr>\n  </tbody>\n</table>\n</div>"
     },
     "execution_count": 293,
     "metadata": {},
     "output_type": "execute_result"
    }
   ],
   "source": [
    "gender.replace({\n",
    "    'Sex': {\n",
    "        'D': 'F',\n",
    "        'N': 'M'\n",
    "    },\n",
    "    'Age': {\n",
    "        290: 29\n",
    "    }\n",
    "})"
   ],
   "metadata": {
    "collapsed": false,
    "pycharm": {
     "name": "#%%\n"
    }
   }
  },
  {
   "cell_type": "markdown",
   "source": [
    "![purple-divider](https://user-images.githubusercontent.com/7065401/52071927-c1cd7100-2562-11e9-908a-dde91ba14e59.png)\n",
    "\n",
    "# Dealing with Duplicates"
   ],
   "metadata": {
    "collapsed": false
   }
  },
  {
   "cell_type": "markdown",
   "source": [
    "## The sales dataset contains information about daily store purchases. What is the correct way to return unique entries for each product?"
   ],
   "metadata": {
    "collapsed": false
   }
  },
  {
   "cell_type": "code",
   "execution_count": 294,
   "outputs": [
    {
     "data": {
      "text/plain": "         date            product_line     product  unit_price  quantity\n0  2018-01-15       Health and beauty     Shampoo        6.99         7\n1  2018-01-15  Electronic accessories  Headphones       25.38         5\n2  2018-01-16      Home and lifestyle        Lamp       46.33         3\n3  2018-01-16                  Sports    Yoga mat       39.99         5\n4  2018-01-17      Food and beverages        Milk        5.99         8",
      "text/html": "<div>\n<style scoped>\n    .dataframe tbody tr th:only-of-type {\n        vertical-align: middle;\n    }\n\n    .dataframe tbody tr th {\n        vertical-align: top;\n    }\n\n    .dataframe thead th {\n        text-align: right;\n    }\n</style>\n<table border=\"1\" class=\"dataframe\">\n  <thead>\n    <tr style=\"text-align: right;\">\n      <th></th>\n      <th>date</th>\n      <th>product_line</th>\n      <th>product</th>\n      <th>unit_price</th>\n      <th>quantity</th>\n    </tr>\n  </thead>\n  <tbody>\n    <tr>\n      <th>0</th>\n      <td>2018-01-15</td>\n      <td>Health and beauty</td>\n      <td>Shampoo</td>\n      <td>6.99</td>\n      <td>7</td>\n    </tr>\n    <tr>\n      <th>1</th>\n      <td>2018-01-15</td>\n      <td>Electronic accessories</td>\n      <td>Headphones</td>\n      <td>25.38</td>\n      <td>5</td>\n    </tr>\n    <tr>\n      <th>2</th>\n      <td>2018-01-16</td>\n      <td>Home and lifestyle</td>\n      <td>Lamp</td>\n      <td>46.33</td>\n      <td>3</td>\n    </tr>\n    <tr>\n      <th>3</th>\n      <td>2018-01-16</td>\n      <td>Sports</td>\n      <td>Yoga mat</td>\n      <td>39.99</td>\n      <td>5</td>\n    </tr>\n    <tr>\n      <th>4</th>\n      <td>2018-01-17</td>\n      <td>Food and beverages</td>\n      <td>Milk</td>\n      <td>5.99</td>\n      <td>8</td>\n    </tr>\n  </tbody>\n</table>\n</div>"
     },
     "execution_count": 294,
     "metadata": {},
     "output_type": "execute_result"
    }
   ],
   "source": [
    "sales_datacamp = pd.DataFrame(data={'date':['2018-01-15','2018-01-15','2018-01-16','2018-01-16','2018-01-17'],\n",
    "                           'product_line':['Health and beauty', 'Electronic accessories', 'Home and lifestyle', 'Sports', 'Food and beverages'],\n",
    "                           'product': ['Shampoo', 'Headphones', 'Lamp', 'Yoga mat', 'Milk'],\n",
    "                           'unit_price': [6.99,25.38,46.33,39.99,5.99],\n",
    "                           'quantity': [7,5,3,5,8]\n",
    "                           })\n",
    "sales_datacamp"
   ],
   "metadata": {
    "collapsed": false,
    "pycharm": {
     "name": "#%%\n"
    }
   }
  },
  {
   "cell_type": "code",
   "execution_count": 295,
   "outputs": [
    {
     "data": {
      "text/plain": "         date            product_line     product  unit_price  quantity\n0  2018-01-15       Health and beauty     Shampoo        6.99         7\n1  2018-01-15  Electronic accessories  Headphones       25.38         5\n2  2018-01-16      Home and lifestyle        Lamp       46.33         3\n3  2018-01-16                  Sports    Yoga mat       39.99         5\n4  2018-01-17      Food and beverages        Milk        5.99         8",
      "text/html": "<div>\n<style scoped>\n    .dataframe tbody tr th:only-of-type {\n        vertical-align: middle;\n    }\n\n    .dataframe tbody tr th {\n        vertical-align: top;\n    }\n\n    .dataframe thead th {\n        text-align: right;\n    }\n</style>\n<table border=\"1\" class=\"dataframe\">\n  <thead>\n    <tr style=\"text-align: right;\">\n      <th></th>\n      <th>date</th>\n      <th>product_line</th>\n      <th>product</th>\n      <th>unit_price</th>\n      <th>quantity</th>\n    </tr>\n  </thead>\n  <tbody>\n    <tr>\n      <th>0</th>\n      <td>2018-01-15</td>\n      <td>Health and beauty</td>\n      <td>Shampoo</td>\n      <td>6.99</td>\n      <td>7</td>\n    </tr>\n    <tr>\n      <th>1</th>\n      <td>2018-01-15</td>\n      <td>Electronic accessories</td>\n      <td>Headphones</td>\n      <td>25.38</td>\n      <td>5</td>\n    </tr>\n    <tr>\n      <th>2</th>\n      <td>2018-01-16</td>\n      <td>Home and lifestyle</td>\n      <td>Lamp</td>\n      <td>46.33</td>\n      <td>3</td>\n    </tr>\n    <tr>\n      <th>3</th>\n      <td>2018-01-16</td>\n      <td>Sports</td>\n      <td>Yoga mat</td>\n      <td>39.99</td>\n      <td>5</td>\n    </tr>\n    <tr>\n      <th>4</th>\n      <td>2018-01-17</td>\n      <td>Food and beverages</td>\n      <td>Milk</td>\n      <td>5.99</td>\n      <td>8</td>\n    </tr>\n  </tbody>\n</table>\n</div>"
     },
     "execution_count": 295,
     "metadata": {},
     "output_type": "execute_result"
    }
   ],
   "source": [
    "sales_datacamp.drop_duplicates(subset='product')"
   ],
   "metadata": {
    "collapsed": false,
    "pycharm": {
     "name": "#%%\n"
    }
   }
  },
  {
   "cell_type": "code",
   "execution_count": 296,
   "outputs": [],
   "source": [
    "ambassadors = pd.Series([\n",
    "    'France',\n",
    "    'United Kingdom',\n",
    "    'United Kingdom',\n",
    "    'Italy',\n",
    "    'Germany',\n",
    "    'Germany',\n",
    "    'Germany',\n",
    "], index=[\n",
    "    'Gérard Araud',\n",
    "    'Kim Darroch',\n",
    "    'Peter Westmacott',\n",
    "    'Armando Varricchio',\n",
    "    'Peter Wittig',\n",
    "    'Peter Ammon',\n",
    "    'Klaus Scharioth '\n",
    "])"
   ],
   "metadata": {
    "collapsed": false,
    "pycharm": {
     "name": "#%%\n"
    }
   }
  },
  {
   "cell_type": "code",
   "execution_count": 297,
   "outputs": [
    {
     "data": {
      "text/plain": "Gérard Araud                  France\nKim Darroch           United Kingdom\nPeter Westmacott      United Kingdom\nArmando Varricchio             Italy\nPeter Wittig                 Germany\nPeter Ammon                  Germany\nKlaus Scharioth              Germany\ndtype: object"
     },
     "execution_count": 297,
     "metadata": {},
     "output_type": "execute_result"
    }
   ],
   "source": [
    "ambassadors"
   ],
   "metadata": {
    "collapsed": false,
    "pycharm": {
     "name": "#%%\n"
    }
   }
  },
  {
   "cell_type": "code",
   "execution_count": 298,
   "outputs": [
    {
     "data": {
      "text/plain": "Gérard Araud          False\nKim Darroch           False\nPeter Westmacott       True\nArmando Varricchio    False\nPeter Wittig          False\nPeter Ammon            True\nKlaus Scharioth        True\ndtype: bool"
     },
     "execution_count": 298,
     "metadata": {},
     "output_type": "execute_result"
    }
   ],
   "source": [
    "ambassadors.duplicated()"
   ],
   "metadata": {
    "collapsed": false,
    "pycharm": {
     "name": "#%%\n"
    }
   }
  },
  {
   "cell_type": "markdown",
   "source": [
    "In this case `duplicated` didn't consider `'Kim Darroch'`, the first instance of the United Kingdom or `'Peter Wittig'` as duplicates. That's because, by default, it'll consider the first occurrence of the value as not-duplicate. You can change this behavior with the `keep` parameter:"
   ],
   "metadata": {
    "collapsed": false
   }
  },
  {
   "cell_type": "code",
   "execution_count": 299,
   "outputs": [
    {
     "data": {
      "text/plain": "Gérard Araud          False\nKim Darroch            True\nPeter Westmacott      False\nArmando Varricchio    False\nPeter Wittig           True\nPeter Ammon            True\nKlaus Scharioth       False\ndtype: bool"
     },
     "execution_count": 299,
     "metadata": {},
     "output_type": "execute_result"
    }
   ],
   "source": [
    "ambassadors.duplicated(keep='last')"
   ],
   "metadata": {
    "collapsed": false,
    "pycharm": {
     "name": "#%%\n"
    }
   }
  },
  {
   "cell_type": "markdown",
   "source": [
    "In this case, the result is \"flipped\", `'Kim Darroch'` and `'Peter Wittig'` (the first ambassadors of their countries) are considered duplicates, but `'Peter Westmacott'` and `'Klaus Scharioth'` are not duplicates. You can also choose to mark all of them as duplicates with `keep=False`:"
   ],
   "metadata": {
    "collapsed": false
   }
  },
  {
   "cell_type": "code",
   "execution_count": 300,
   "outputs": [
    {
     "data": {
      "text/plain": "Gérard Araud          False\nKim Darroch            True\nPeter Westmacott       True\nArmando Varricchio    False\nPeter Wittig           True\nPeter Ammon            True\nKlaus Scharioth        True\ndtype: bool"
     },
     "execution_count": 300,
     "metadata": {},
     "output_type": "execute_result"
    }
   ],
   "source": [
    "ambassadors.duplicated(keep=False)"
   ],
   "metadata": {
    "collapsed": false,
    "pycharm": {
     "name": "#%%\n"
    }
   }
  },
  {
   "cell_type": "markdown",
   "source": [
    "A similar method is `drop_duplicates`, which just excludes the duplicated values and also accepts the `keep` parameter:"
   ],
   "metadata": {
    "collapsed": false
   }
  },
  {
   "cell_type": "code",
   "execution_count": 301,
   "outputs": [
    {
     "data": {
      "text/plain": "Gérard Araud                  France\nPeter Westmacott      United Kingdom\nArmando Varricchio             Italy\nKlaus Scharioth              Germany\ndtype: object"
     },
     "execution_count": 301,
     "metadata": {},
     "output_type": "execute_result"
    }
   ],
   "source": [
    "ambassadors.drop_duplicates(keep='last')"
   ],
   "metadata": {
    "collapsed": false,
    "pycharm": {
     "name": "#%%\n"
    }
   }
  },
  {
   "cell_type": "code",
   "execution_count": 302,
   "outputs": [
    {
     "data": {
      "text/plain": "Gérard Araud          France\nArmando Varricchio     Italy\ndtype: object"
     },
     "execution_count": 302,
     "metadata": {},
     "output_type": "execute_result"
    }
   ],
   "source": [
    "ambassadors.drop_duplicates(keep=False)"
   ],
   "metadata": {
    "collapsed": false,
    "pycharm": {
     "name": "#%%\n"
    }
   }
  },
  {
   "cell_type": "markdown",
   "source": [
    "![green-divider](https://user-images.githubusercontent.com/7065401/52071924-c003ad80-2562-11e9-8297-1c6595f8a7ff.png)\n",
    "\n",
    "## Duplicates in DataFrames\n",
    "\n",
    "Conceptually speaking, duplicates in a DataFrame happen at \"row\" level. Two rows with exactly the same values are considered to be duplicates:"
   ],
   "metadata": {
    "collapsed": false
   }
  },
  {
   "cell_type": "code",
   "execution_count": 303,
   "outputs": [],
   "source": [
    "players = pd.DataFrame({\n",
    "    'Name': [\n",
    "        'Kobe Bryant',\n",
    "        'LeBron James',\n",
    "        'Kobe Bryant',\n",
    "        'Carmelo Anthony',\n",
    "        'Kobe Bryant',\n",
    "    ],\n",
    "    'Pos': [\n",
    "        'SG',\n",
    "        'SF',\n",
    "        'SG',\n",
    "        'SF',\n",
    "        'SF'\n",
    "    ]\n",
    "})"
   ],
   "metadata": {
    "collapsed": false,
    "pycharm": {
     "name": "#%%\n"
    }
   }
  },
  {
   "cell_type": "code",
   "execution_count": 304,
   "outputs": [
    {
     "data": {
      "text/plain": "              Name Pos\n0      Kobe Bryant  SG\n1     LeBron James  SF\n2      Kobe Bryant  SG\n3  Carmelo Anthony  SF\n4      Kobe Bryant  SF",
      "text/html": "<div>\n<style scoped>\n    .dataframe tbody tr th:only-of-type {\n        vertical-align: middle;\n    }\n\n    .dataframe tbody tr th {\n        vertical-align: top;\n    }\n\n    .dataframe thead th {\n        text-align: right;\n    }\n</style>\n<table border=\"1\" class=\"dataframe\">\n  <thead>\n    <tr style=\"text-align: right;\">\n      <th></th>\n      <th>Name</th>\n      <th>Pos</th>\n    </tr>\n  </thead>\n  <tbody>\n    <tr>\n      <th>0</th>\n      <td>Kobe Bryant</td>\n      <td>SG</td>\n    </tr>\n    <tr>\n      <th>1</th>\n      <td>LeBron James</td>\n      <td>SF</td>\n    </tr>\n    <tr>\n      <th>2</th>\n      <td>Kobe Bryant</td>\n      <td>SG</td>\n    </tr>\n    <tr>\n      <th>3</th>\n      <td>Carmelo Anthony</td>\n      <td>SF</td>\n    </tr>\n    <tr>\n      <th>4</th>\n      <td>Kobe Bryant</td>\n      <td>SF</td>\n    </tr>\n  </tbody>\n</table>\n</div>"
     },
     "execution_count": 304,
     "metadata": {},
     "output_type": "execute_result"
    }
   ],
   "source": [
    "players"
   ],
   "metadata": {
    "collapsed": false,
    "pycharm": {
     "name": "#%%\n"
    }
   }
  },
  {
   "cell_type": "code",
   "execution_count": 305,
   "outputs": [
    {
     "data": {
      "text/plain": "0    False\n1    False\n2     True\n3    False\n4    False\ndtype: bool"
     },
     "execution_count": 305,
     "metadata": {},
     "output_type": "execute_result"
    }
   ],
   "source": [
    "players.duplicated()"
   ],
   "metadata": {
    "collapsed": false,
    "pycharm": {
     "name": "#%%\n"
    }
   }
  },
  {
   "cell_type": "code",
   "execution_count": 306,
   "outputs": [
    {
     "data": {
      "text/plain": "0    False\n1    False\n2     True\n3    False\n4     True\ndtype: bool"
     },
     "execution_count": 306,
     "metadata": {},
     "output_type": "execute_result"
    }
   ],
   "source": [
    "players.duplicated(subset=['Name'])"
   ],
   "metadata": {
    "collapsed": false,
    "pycharm": {
     "name": "#%%\n"
    }
   }
  },
  {
   "cell_type": "code",
   "execution_count": 307,
   "outputs": [
    {
     "data": {
      "text/plain": "0     True\n1    False\n2     True\n3    False\n4    False\ndtype: bool"
     },
     "execution_count": 307,
     "metadata": {},
     "output_type": "execute_result"
    }
   ],
   "source": [
    "players.duplicated(subset=['Name'], keep='last')"
   ],
   "metadata": {
    "collapsed": false,
    "pycharm": {
     "name": "#%%\n"
    }
   }
  },
  {
   "cell_type": "code",
   "execution_count": 308,
   "outputs": [
    {
     "data": {
      "text/plain": "              Name Pos\n0      Kobe Bryant  SG\n1     LeBron James  SF\n3  Carmelo Anthony  SF\n4      Kobe Bryant  SF",
      "text/html": "<div>\n<style scoped>\n    .dataframe tbody tr th:only-of-type {\n        vertical-align: middle;\n    }\n\n    .dataframe tbody tr th {\n        vertical-align: top;\n    }\n\n    .dataframe thead th {\n        text-align: right;\n    }\n</style>\n<table border=\"1\" class=\"dataframe\">\n  <thead>\n    <tr style=\"text-align: right;\">\n      <th></th>\n      <th>Name</th>\n      <th>Pos</th>\n    </tr>\n  </thead>\n  <tbody>\n    <tr>\n      <th>0</th>\n      <td>Kobe Bryant</td>\n      <td>SG</td>\n    </tr>\n    <tr>\n      <th>1</th>\n      <td>LeBron James</td>\n      <td>SF</td>\n    </tr>\n    <tr>\n      <th>3</th>\n      <td>Carmelo Anthony</td>\n      <td>SF</td>\n    </tr>\n    <tr>\n      <th>4</th>\n      <td>Kobe Bryant</td>\n      <td>SF</td>\n    </tr>\n  </tbody>\n</table>\n</div>"
     },
     "execution_count": 308,
     "metadata": {},
     "output_type": "execute_result"
    }
   ],
   "source": [
    "players.drop_duplicates()"
   ],
   "metadata": {
    "collapsed": false,
    "pycharm": {
     "name": "#%%\n"
    }
   }
  },
  {
   "cell_type": "code",
   "execution_count": 309,
   "outputs": [
    {
     "data": {
      "text/plain": "              Name Pos\n0      Kobe Bryant  SG\n1     LeBron James  SF\n3  Carmelo Anthony  SF",
      "text/html": "<div>\n<style scoped>\n    .dataframe tbody tr th:only-of-type {\n        vertical-align: middle;\n    }\n\n    .dataframe tbody tr th {\n        vertical-align: top;\n    }\n\n    .dataframe thead th {\n        text-align: right;\n    }\n</style>\n<table border=\"1\" class=\"dataframe\">\n  <thead>\n    <tr style=\"text-align: right;\">\n      <th></th>\n      <th>Name</th>\n      <th>Pos</th>\n    </tr>\n  </thead>\n  <tbody>\n    <tr>\n      <th>0</th>\n      <td>Kobe Bryant</td>\n      <td>SG</td>\n    </tr>\n    <tr>\n      <th>1</th>\n      <td>LeBron James</td>\n      <td>SF</td>\n    </tr>\n    <tr>\n      <th>3</th>\n      <td>Carmelo Anthony</td>\n      <td>SF</td>\n    </tr>\n  </tbody>\n</table>\n</div>"
     },
     "execution_count": 309,
     "metadata": {},
     "output_type": "execute_result"
    }
   ],
   "source": [
    "players.drop_duplicates(subset=['Name'])"
   ],
   "metadata": {
    "collapsed": false,
    "pycharm": {
     "name": "#%%\n"
    }
   }
  },
  {
   "cell_type": "code",
   "execution_count": 310,
   "outputs": [
    {
     "data": {
      "text/plain": "              Name Pos\n1     LeBron James  SF\n3  Carmelo Anthony  SF\n4      Kobe Bryant  SF",
      "text/html": "<div>\n<style scoped>\n    .dataframe tbody tr th:only-of-type {\n        vertical-align: middle;\n    }\n\n    .dataframe tbody tr th {\n        vertical-align: top;\n    }\n\n    .dataframe thead th {\n        text-align: right;\n    }\n</style>\n<table border=\"1\" class=\"dataframe\">\n  <thead>\n    <tr style=\"text-align: right;\">\n      <th></th>\n      <th>Name</th>\n      <th>Pos</th>\n    </tr>\n  </thead>\n  <tbody>\n    <tr>\n      <th>1</th>\n      <td>LeBron James</td>\n      <td>SF</td>\n    </tr>\n    <tr>\n      <th>3</th>\n      <td>Carmelo Anthony</td>\n      <td>SF</td>\n    </tr>\n    <tr>\n      <th>4</th>\n      <td>Kobe Bryant</td>\n      <td>SF</td>\n    </tr>\n  </tbody>\n</table>\n</div>"
     },
     "execution_count": 310,
     "metadata": {},
     "output_type": "execute_result"
    }
   ],
   "source": [
    "players.drop_duplicates(subset=['Name'], keep='last')"
   ],
   "metadata": {
    "collapsed": false,
    "pycharm": {
     "name": "#%%\n"
    }
   }
  },
  {
   "cell_type": "code",
   "execution_count": 311,
   "outputs": [
    {
     "data": {
      "text/plain": "Country                     object\nDate                datetime64[ns]\nDay                          int64\nMonth                        int64\nYear                         int64\nCustomer_Age                 int64\nAge_Group                   object\nCustomer_Gender             object\nState                       object\nProduct_Category            object\nSub_Category                object\nProduct                     object\nOrder_Quantity               int64\nUnit_Cost                    int64\nUnit_Price                   int64\nProfit                       int64\nCost                         int64\nRevenue                    float64\nRevenue_per_Age            float64\nCalculated_Cost            float64\nYear_Char                   object\ndtype: object"
     },
     "execution_count": 311,
     "metadata": {},
     "output_type": "execute_result"
    }
   ],
   "source": [
    "sales['Year_Char'] = sales['Year'].astype(str)\n",
    "sales.dtypes"
   ],
   "metadata": {
    "collapsed": false,
    "pycharm": {
     "name": "#%%\n"
    }
   }
  },
  {
   "cell_type": "markdown",
   "source": [
    "## Encode `Product` as a `category` type. The columns of data frame `df` now have the following types:"
   ],
   "metadata": {
    "collapsed": false
   }
  },
  {
   "cell_type": "code",
   "execution_count": 312,
   "outputs": [
    {
     "data": {
      "text/plain": "Country                     object\nDate                datetime64[ns]\nDay                          int64\nMonth                        int64\nYear                         int64\nCustomer_Age                 int64\nAge_Group                   object\nCustomer_Gender             object\nState                       object\nProduct_Category            object\nSub_Category                object\nProduct                   category\nOrder_Quantity               int64\nUnit_Cost                    int64\nUnit_Price                   int64\nProfit                       int64\nCost                         int64\nRevenue                    float64\nRevenue_per_Age            float64\nCalculated_Cost            float64\nYear_Char                   object\ndtype: object"
     },
     "execution_count": 312,
     "metadata": {},
     "output_type": "execute_result"
    }
   ],
   "source": [
    "sales['Product'] = sales.Product.astype('category')\n",
    "sales.dtypes"
   ],
   "metadata": {
    "collapsed": false,
    "pycharm": {
     "name": "#%%\n"
    }
   }
  },
  {
   "cell_type": "markdown",
   "source": [
    "# Joining Data"
   ],
   "metadata": {
    "collapsed": false
   }
  },
  {
   "cell_type": "code",
   "execution_count": 313,
   "outputs": [],
   "source": [
    "census_state = census_county.groupby('state_name').agg({'population':np.sum}).reset_index()"
   ],
   "metadata": {
    "collapsed": false,
    "pycharm": {
     "name": "#%%\n"
    }
   }
  },
  {
   "cell_type": "code",
   "execution_count": 314,
   "outputs": [
    {
     "data": {
      "text/plain": "              state_name  median_income  population\n0                Alabama   84219.716220    43405190\n1                 Alaska   28445.113534     6544837\n2                Arizona  524846.751890    59967006\n3               Arkansas   45096.516518    26587370\n4             California  744266.958072   344511143\n5               Colorado   99976.104440    47542033\n6            Connecticut  448510.581719    32238847\n7               Delaware  323252.049685     8328117\n8   District of Columbia  648932.926287     5808886\n9                Florida  319831.244261   177385332\n10               Georgia   79419.320351    90042333\n11                Hawaii  304136.802223    12564039\n12                 Idaho   40816.115219    14615582\n13              Illinois  149675.986810   115503442\n14               Indiana   73462.314300    59072826\n15                  Iowa   33292.700805    27810805\n16                Kansas   31597.036166    25947748\n17              Kentucky   41953.981113    39523786\n18             Louisiana   79095.725442    41445580\n19                 Maine   90129.282157    11971968\n20              Maryland  274191.127124    53152918\n21         Massachusetts  506378.591320    60252965\n22              Michigan  135152.607195    89251496\n23             Minnesota   73099.879418    48774173\n24           Mississippi   41935.897067    26822210\n25              Missouri   62324.568415    54348844\n26               Montana   19446.509352     9138896\n27              Nebraska   22522.039732    16801485\n28                Nevada  164987.381458    25290014\n29         New Hampshire  148844.371057    11948923\n30            New Jersey  424079.503882    79794110\n31            New Mexico   71464.768985    18678716\n32              New York  357738.159777   176141587\n33        North Carolina  113227.013407    88623995\n34          North Dakota   14187.752234     6449937\n35                  Ohio  136504.462442   104239017\n36              Oklahoma   53894.179317    34540698\n37                Oregon  127741.824702    35566056\n38          Pennsylvania  210476.671410   114787190\n39           Puerto Rico   50825.251257    32068053\n40          Rhode Island  184499.601851     9489509\n41        South Carolina  120977.653466    43095446\n42          South Dakota   13830.527990     7568093\n43             Tennessee   79442.129550    58510419\n44                 Texas  122415.681691   238775202\n45                  Utah  112289.945276    26141341\n46               Vermont   47199.233726     5629497\n47              Virginia   82579.710634    74028051\n48            Washington  224121.405988    63037281\n49         West Virginia   35954.903556    16585067\n50             Wisconsin   85749.647292    51612917\n51               Wyoming   26072.147859     5171653",
      "text/html": "<div>\n<style scoped>\n    .dataframe tbody tr th:only-of-type {\n        vertical-align: middle;\n    }\n\n    .dataframe tbody tr th {\n        vertical-align: top;\n    }\n\n    .dataframe thead th {\n        text-align: right;\n    }\n</style>\n<table border=\"1\" class=\"dataframe\">\n  <thead>\n    <tr style=\"text-align: right;\">\n      <th></th>\n      <th>state_name</th>\n      <th>median_income</th>\n      <th>population</th>\n    </tr>\n  </thead>\n  <tbody>\n    <tr>\n      <th>0</th>\n      <td>Alabama</td>\n      <td>84219.716220</td>\n      <td>43405190</td>\n    </tr>\n    <tr>\n      <th>1</th>\n      <td>Alaska</td>\n      <td>28445.113534</td>\n      <td>6544837</td>\n    </tr>\n    <tr>\n      <th>2</th>\n      <td>Arizona</td>\n      <td>524846.751890</td>\n      <td>59967006</td>\n    </tr>\n    <tr>\n      <th>3</th>\n      <td>Arkansas</td>\n      <td>45096.516518</td>\n      <td>26587370</td>\n    </tr>\n    <tr>\n      <th>4</th>\n      <td>California</td>\n      <td>744266.958072</td>\n      <td>344511143</td>\n    </tr>\n    <tr>\n      <th>5</th>\n      <td>Colorado</td>\n      <td>99976.104440</td>\n      <td>47542033</td>\n    </tr>\n    <tr>\n      <th>6</th>\n      <td>Connecticut</td>\n      <td>448510.581719</td>\n      <td>32238847</td>\n    </tr>\n    <tr>\n      <th>7</th>\n      <td>Delaware</td>\n      <td>323252.049685</td>\n      <td>8328117</td>\n    </tr>\n    <tr>\n      <th>8</th>\n      <td>District of Columbia</td>\n      <td>648932.926287</td>\n      <td>5808886</td>\n    </tr>\n    <tr>\n      <th>9</th>\n      <td>Florida</td>\n      <td>319831.244261</td>\n      <td>177385332</td>\n    </tr>\n    <tr>\n      <th>10</th>\n      <td>Georgia</td>\n      <td>79419.320351</td>\n      <td>90042333</td>\n    </tr>\n    <tr>\n      <th>11</th>\n      <td>Hawaii</td>\n      <td>304136.802223</td>\n      <td>12564039</td>\n    </tr>\n    <tr>\n      <th>12</th>\n      <td>Idaho</td>\n      <td>40816.115219</td>\n      <td>14615582</td>\n    </tr>\n    <tr>\n      <th>13</th>\n      <td>Illinois</td>\n      <td>149675.986810</td>\n      <td>115503442</td>\n    </tr>\n    <tr>\n      <th>14</th>\n      <td>Indiana</td>\n      <td>73462.314300</td>\n      <td>59072826</td>\n    </tr>\n    <tr>\n      <th>15</th>\n      <td>Iowa</td>\n      <td>33292.700805</td>\n      <td>27810805</td>\n    </tr>\n    <tr>\n      <th>16</th>\n      <td>Kansas</td>\n      <td>31597.036166</td>\n      <td>25947748</td>\n    </tr>\n    <tr>\n      <th>17</th>\n      <td>Kentucky</td>\n      <td>41953.981113</td>\n      <td>39523786</td>\n    </tr>\n    <tr>\n      <th>18</th>\n      <td>Louisiana</td>\n      <td>79095.725442</td>\n      <td>41445580</td>\n    </tr>\n    <tr>\n      <th>19</th>\n      <td>Maine</td>\n      <td>90129.282157</td>\n      <td>11971968</td>\n    </tr>\n    <tr>\n      <th>20</th>\n      <td>Maryland</td>\n      <td>274191.127124</td>\n      <td>53152918</td>\n    </tr>\n    <tr>\n      <th>21</th>\n      <td>Massachusetts</td>\n      <td>506378.591320</td>\n      <td>60252965</td>\n    </tr>\n    <tr>\n      <th>22</th>\n      <td>Michigan</td>\n      <td>135152.607195</td>\n      <td>89251496</td>\n    </tr>\n    <tr>\n      <th>23</th>\n      <td>Minnesota</td>\n      <td>73099.879418</td>\n      <td>48774173</td>\n    </tr>\n    <tr>\n      <th>24</th>\n      <td>Mississippi</td>\n      <td>41935.897067</td>\n      <td>26822210</td>\n    </tr>\n    <tr>\n      <th>25</th>\n      <td>Missouri</td>\n      <td>62324.568415</td>\n      <td>54348844</td>\n    </tr>\n    <tr>\n      <th>26</th>\n      <td>Montana</td>\n      <td>19446.509352</td>\n      <td>9138896</td>\n    </tr>\n    <tr>\n      <th>27</th>\n      <td>Nebraska</td>\n      <td>22522.039732</td>\n      <td>16801485</td>\n    </tr>\n    <tr>\n      <th>28</th>\n      <td>Nevada</td>\n      <td>164987.381458</td>\n      <td>25290014</td>\n    </tr>\n    <tr>\n      <th>29</th>\n      <td>New Hampshire</td>\n      <td>148844.371057</td>\n      <td>11948923</td>\n    </tr>\n    <tr>\n      <th>30</th>\n      <td>New Jersey</td>\n      <td>424079.503882</td>\n      <td>79794110</td>\n    </tr>\n    <tr>\n      <th>31</th>\n      <td>New Mexico</td>\n      <td>71464.768985</td>\n      <td>18678716</td>\n    </tr>\n    <tr>\n      <th>32</th>\n      <td>New York</td>\n      <td>357738.159777</td>\n      <td>176141587</td>\n    </tr>\n    <tr>\n      <th>33</th>\n      <td>North Carolina</td>\n      <td>113227.013407</td>\n      <td>88623995</td>\n    </tr>\n    <tr>\n      <th>34</th>\n      <td>North Dakota</td>\n      <td>14187.752234</td>\n      <td>6449937</td>\n    </tr>\n    <tr>\n      <th>35</th>\n      <td>Ohio</td>\n      <td>136504.462442</td>\n      <td>104239017</td>\n    </tr>\n    <tr>\n      <th>36</th>\n      <td>Oklahoma</td>\n      <td>53894.179317</td>\n      <td>34540698</td>\n    </tr>\n    <tr>\n      <th>37</th>\n      <td>Oregon</td>\n      <td>127741.824702</td>\n      <td>35566056</td>\n    </tr>\n    <tr>\n      <th>38</th>\n      <td>Pennsylvania</td>\n      <td>210476.671410</td>\n      <td>114787190</td>\n    </tr>\n    <tr>\n      <th>39</th>\n      <td>Puerto Rico</td>\n      <td>50825.251257</td>\n      <td>32068053</td>\n    </tr>\n    <tr>\n      <th>40</th>\n      <td>Rhode Island</td>\n      <td>184499.601851</td>\n      <td>9489509</td>\n    </tr>\n    <tr>\n      <th>41</th>\n      <td>South Carolina</td>\n      <td>120977.653466</td>\n      <td>43095446</td>\n    </tr>\n    <tr>\n      <th>42</th>\n      <td>South Dakota</td>\n      <td>13830.527990</td>\n      <td>7568093</td>\n    </tr>\n    <tr>\n      <th>43</th>\n      <td>Tennessee</td>\n      <td>79442.129550</td>\n      <td>58510419</td>\n    </tr>\n    <tr>\n      <th>44</th>\n      <td>Texas</td>\n      <td>122415.681691</td>\n      <td>238775202</td>\n    </tr>\n    <tr>\n      <th>45</th>\n      <td>Utah</td>\n      <td>112289.945276</td>\n      <td>26141341</td>\n    </tr>\n    <tr>\n      <th>46</th>\n      <td>Vermont</td>\n      <td>47199.233726</td>\n      <td>5629497</td>\n    </tr>\n    <tr>\n      <th>47</th>\n      <td>Virginia</td>\n      <td>82579.710634</td>\n      <td>74028051</td>\n    </tr>\n    <tr>\n      <th>48</th>\n      <td>Washington</td>\n      <td>224121.405988</td>\n      <td>63037281</td>\n    </tr>\n    <tr>\n      <th>49</th>\n      <td>West Virginia</td>\n      <td>35954.903556</td>\n      <td>16585067</td>\n    </tr>\n    <tr>\n      <th>50</th>\n      <td>Wisconsin</td>\n      <td>85749.647292</td>\n      <td>51612917</td>\n    </tr>\n    <tr>\n      <th>51</th>\n      <td>Wyoming</td>\n      <td>26072.147859</td>\n      <td>5171653</td>\n    </tr>\n  </tbody>\n</table>\n</div>"
     },
     "execution_count": 314,
     "metadata": {},
     "output_type": "execute_result"
    }
   ],
   "source": [
    "census_state = pd.merge(census_wavg,\n",
    "                        census_state,\n",
    "                           how=\"left\",\n",
    "                           left_on = [\"state_name\"],\n",
    "                           right_on = [\"state_name\"])\n",
    "census_state"
   ],
   "metadata": {
    "collapsed": false,
    "pycharm": {
     "name": "#%%\n"
    }
   }
  },
  {
   "cell_type": "markdown",
   "source": [
    "# Case When np.where"
   ],
   "metadata": {
    "collapsed": false,
    "pycharm": {
     "name": "#%% md\n"
    }
   }
  },
  {
   "cell_type": "markdown",
   "source": [
    "## Single Condition"
   ],
   "metadata": {
    "collapsed": false
   }
  },
  {
   "cell_type": "code",
   "execution_count": 318,
   "outputs": [
    {
     "data": {
      "text/plain": "              state_name  median_income  population  sun_belt  is_arizona\n0                Alabama   84219.716220    43405190     False       False\n1                 Alaska   28445.113534     6544837     False       False\n2                Arizona  524846.751890    59967006      True        True\n3               Arkansas   45096.516518    26587370     False       False\n4             California  744266.958072   344511143     False       False\n5               Colorado   99976.104440    47542033      True       False\n6            Connecticut  448510.581719    32238847     False       False\n7               Delaware  323252.049685     8328117     False       False\n8   District of Columbia  648932.926287     5808886     False       False\n9                Florida  319831.244261   177385332     False       False\n10               Georgia   79419.320351    90042333     False       False\n11                Hawaii  304136.802223    12564039     False       False\n12                 Idaho   40816.115219    14615582     False       False\n13              Illinois  149675.986810   115503442     False       False\n14               Indiana   73462.314300    59072826     False       False\n15                  Iowa   33292.700805    27810805     False       False\n16                Kansas   31597.036166    25947748     False       False\n17              Kentucky   41953.981113    39523786     False       False\n18             Louisiana   79095.725442    41445580     False       False\n19                 Maine   90129.282157    11971968     False       False\n20              Maryland  274191.127124    53152918     False       False\n21         Massachusetts  506378.591320    60252965     False       False\n22              Michigan  135152.607195    89251496     False       False\n23             Minnesota   73099.879418    48774173     False       False\n24           Mississippi   41935.897067    26822210     False       False\n25              Missouri   62324.568415    54348844     False       False\n26               Montana   19446.509352     9138896     False       False\n27              Nebraska   22522.039732    16801485     False       False\n28                Nevada  164987.381458    25290014      True       False\n29         New Hampshire  148844.371057    11948923     False       False\n30            New Jersey  424079.503882    79794110     False       False\n31            New Mexico   71464.768985    18678716      True       False\n32              New York  357738.159777   176141587     False       False\n33        North Carolina  113227.013407    88623995     False       False\n34          North Dakota   14187.752234     6449937     False       False\n35                  Ohio  136504.462442   104239017     False       False\n36              Oklahoma   53894.179317    34540698     False       False\n37                Oregon  127741.824702    35566056     False       False\n38          Pennsylvania  210476.671410   114787190     False       False\n39           Puerto Rico   50825.251257    32068053     False       False\n40          Rhode Island  184499.601851     9489509     False       False\n41        South Carolina  120977.653466    43095446     False       False\n42          South Dakota   13830.527990     7568093     False       False\n43             Tennessee   79442.129550    58510419     False       False\n44                 Texas  122415.681691   238775202      True       False\n45                  Utah  112289.945276    26141341      True       False\n46               Vermont   47199.233726     5629497     False       False\n47              Virginia   82579.710634    74028051     False       False\n48            Washington  224121.405988    63037281     False       False\n49         West Virginia   35954.903556    16585067     False       False\n50             Wisconsin   85749.647292    51612917     False       False\n51               Wyoming   26072.147859     5171653     False       False",
      "text/html": "<div>\n<style scoped>\n    .dataframe tbody tr th:only-of-type {\n        vertical-align: middle;\n    }\n\n    .dataframe tbody tr th {\n        vertical-align: top;\n    }\n\n    .dataframe thead th {\n        text-align: right;\n    }\n</style>\n<table border=\"1\" class=\"dataframe\">\n  <thead>\n    <tr style=\"text-align: right;\">\n      <th></th>\n      <th>state_name</th>\n      <th>median_income</th>\n      <th>population</th>\n      <th>sun_belt</th>\n      <th>is_arizona</th>\n    </tr>\n  </thead>\n  <tbody>\n    <tr>\n      <th>0</th>\n      <td>Alabama</td>\n      <td>84219.716220</td>\n      <td>43405190</td>\n      <td>False</td>\n      <td>False</td>\n    </tr>\n    <tr>\n      <th>1</th>\n      <td>Alaska</td>\n      <td>28445.113534</td>\n      <td>6544837</td>\n      <td>False</td>\n      <td>False</td>\n    </tr>\n    <tr>\n      <th>2</th>\n      <td>Arizona</td>\n      <td>524846.751890</td>\n      <td>59967006</td>\n      <td>True</td>\n      <td>True</td>\n    </tr>\n    <tr>\n      <th>3</th>\n      <td>Arkansas</td>\n      <td>45096.516518</td>\n      <td>26587370</td>\n      <td>False</td>\n      <td>False</td>\n    </tr>\n    <tr>\n      <th>4</th>\n      <td>California</td>\n      <td>744266.958072</td>\n      <td>344511143</td>\n      <td>False</td>\n      <td>False</td>\n    </tr>\n    <tr>\n      <th>5</th>\n      <td>Colorado</td>\n      <td>99976.104440</td>\n      <td>47542033</td>\n      <td>True</td>\n      <td>False</td>\n    </tr>\n    <tr>\n      <th>6</th>\n      <td>Connecticut</td>\n      <td>448510.581719</td>\n      <td>32238847</td>\n      <td>False</td>\n      <td>False</td>\n    </tr>\n    <tr>\n      <th>7</th>\n      <td>Delaware</td>\n      <td>323252.049685</td>\n      <td>8328117</td>\n      <td>False</td>\n      <td>False</td>\n    </tr>\n    <tr>\n      <th>8</th>\n      <td>District of Columbia</td>\n      <td>648932.926287</td>\n      <td>5808886</td>\n      <td>False</td>\n      <td>False</td>\n    </tr>\n    <tr>\n      <th>9</th>\n      <td>Florida</td>\n      <td>319831.244261</td>\n      <td>177385332</td>\n      <td>False</td>\n      <td>False</td>\n    </tr>\n    <tr>\n      <th>10</th>\n      <td>Georgia</td>\n      <td>79419.320351</td>\n      <td>90042333</td>\n      <td>False</td>\n      <td>False</td>\n    </tr>\n    <tr>\n      <th>11</th>\n      <td>Hawaii</td>\n      <td>304136.802223</td>\n      <td>12564039</td>\n      <td>False</td>\n      <td>False</td>\n    </tr>\n    <tr>\n      <th>12</th>\n      <td>Idaho</td>\n      <td>40816.115219</td>\n      <td>14615582</td>\n      <td>False</td>\n      <td>False</td>\n    </tr>\n    <tr>\n      <th>13</th>\n      <td>Illinois</td>\n      <td>149675.986810</td>\n      <td>115503442</td>\n      <td>False</td>\n      <td>False</td>\n    </tr>\n    <tr>\n      <th>14</th>\n      <td>Indiana</td>\n      <td>73462.314300</td>\n      <td>59072826</td>\n      <td>False</td>\n      <td>False</td>\n    </tr>\n    <tr>\n      <th>15</th>\n      <td>Iowa</td>\n      <td>33292.700805</td>\n      <td>27810805</td>\n      <td>False</td>\n      <td>False</td>\n    </tr>\n    <tr>\n      <th>16</th>\n      <td>Kansas</td>\n      <td>31597.036166</td>\n      <td>25947748</td>\n      <td>False</td>\n      <td>False</td>\n    </tr>\n    <tr>\n      <th>17</th>\n      <td>Kentucky</td>\n      <td>41953.981113</td>\n      <td>39523786</td>\n      <td>False</td>\n      <td>False</td>\n    </tr>\n    <tr>\n      <th>18</th>\n      <td>Louisiana</td>\n      <td>79095.725442</td>\n      <td>41445580</td>\n      <td>False</td>\n      <td>False</td>\n    </tr>\n    <tr>\n      <th>19</th>\n      <td>Maine</td>\n      <td>90129.282157</td>\n      <td>11971968</td>\n      <td>False</td>\n      <td>False</td>\n    </tr>\n    <tr>\n      <th>20</th>\n      <td>Maryland</td>\n      <td>274191.127124</td>\n      <td>53152918</td>\n      <td>False</td>\n      <td>False</td>\n    </tr>\n    <tr>\n      <th>21</th>\n      <td>Massachusetts</td>\n      <td>506378.591320</td>\n      <td>60252965</td>\n      <td>False</td>\n      <td>False</td>\n    </tr>\n    <tr>\n      <th>22</th>\n      <td>Michigan</td>\n      <td>135152.607195</td>\n      <td>89251496</td>\n      <td>False</td>\n      <td>False</td>\n    </tr>\n    <tr>\n      <th>23</th>\n      <td>Minnesota</td>\n      <td>73099.879418</td>\n      <td>48774173</td>\n      <td>False</td>\n      <td>False</td>\n    </tr>\n    <tr>\n      <th>24</th>\n      <td>Mississippi</td>\n      <td>41935.897067</td>\n      <td>26822210</td>\n      <td>False</td>\n      <td>False</td>\n    </tr>\n    <tr>\n      <th>25</th>\n      <td>Missouri</td>\n      <td>62324.568415</td>\n      <td>54348844</td>\n      <td>False</td>\n      <td>False</td>\n    </tr>\n    <tr>\n      <th>26</th>\n      <td>Montana</td>\n      <td>19446.509352</td>\n      <td>9138896</td>\n      <td>False</td>\n      <td>False</td>\n    </tr>\n    <tr>\n      <th>27</th>\n      <td>Nebraska</td>\n      <td>22522.039732</td>\n      <td>16801485</td>\n      <td>False</td>\n      <td>False</td>\n    </tr>\n    <tr>\n      <th>28</th>\n      <td>Nevada</td>\n      <td>164987.381458</td>\n      <td>25290014</td>\n      <td>True</td>\n      <td>False</td>\n    </tr>\n    <tr>\n      <th>29</th>\n      <td>New Hampshire</td>\n      <td>148844.371057</td>\n      <td>11948923</td>\n      <td>False</td>\n      <td>False</td>\n    </tr>\n    <tr>\n      <th>30</th>\n      <td>New Jersey</td>\n      <td>424079.503882</td>\n      <td>79794110</td>\n      <td>False</td>\n      <td>False</td>\n    </tr>\n    <tr>\n      <th>31</th>\n      <td>New Mexico</td>\n      <td>71464.768985</td>\n      <td>18678716</td>\n      <td>True</td>\n      <td>False</td>\n    </tr>\n    <tr>\n      <th>32</th>\n      <td>New York</td>\n      <td>357738.159777</td>\n      <td>176141587</td>\n      <td>False</td>\n      <td>False</td>\n    </tr>\n    <tr>\n      <th>33</th>\n      <td>North Carolina</td>\n      <td>113227.013407</td>\n      <td>88623995</td>\n      <td>False</td>\n      <td>False</td>\n    </tr>\n    <tr>\n      <th>34</th>\n      <td>North Dakota</td>\n      <td>14187.752234</td>\n      <td>6449937</td>\n      <td>False</td>\n      <td>False</td>\n    </tr>\n    <tr>\n      <th>35</th>\n      <td>Ohio</td>\n      <td>136504.462442</td>\n      <td>104239017</td>\n      <td>False</td>\n      <td>False</td>\n    </tr>\n    <tr>\n      <th>36</th>\n      <td>Oklahoma</td>\n      <td>53894.179317</td>\n      <td>34540698</td>\n      <td>False</td>\n      <td>False</td>\n    </tr>\n    <tr>\n      <th>37</th>\n      <td>Oregon</td>\n      <td>127741.824702</td>\n      <td>35566056</td>\n      <td>False</td>\n      <td>False</td>\n    </tr>\n    <tr>\n      <th>38</th>\n      <td>Pennsylvania</td>\n      <td>210476.671410</td>\n      <td>114787190</td>\n      <td>False</td>\n      <td>False</td>\n    </tr>\n    <tr>\n      <th>39</th>\n      <td>Puerto Rico</td>\n      <td>50825.251257</td>\n      <td>32068053</td>\n      <td>False</td>\n      <td>False</td>\n    </tr>\n    <tr>\n      <th>40</th>\n      <td>Rhode Island</td>\n      <td>184499.601851</td>\n      <td>9489509</td>\n      <td>False</td>\n      <td>False</td>\n    </tr>\n    <tr>\n      <th>41</th>\n      <td>South Carolina</td>\n      <td>120977.653466</td>\n      <td>43095446</td>\n      <td>False</td>\n      <td>False</td>\n    </tr>\n    <tr>\n      <th>42</th>\n      <td>South Dakota</td>\n      <td>13830.527990</td>\n      <td>7568093</td>\n      <td>False</td>\n      <td>False</td>\n    </tr>\n    <tr>\n      <th>43</th>\n      <td>Tennessee</td>\n      <td>79442.129550</td>\n      <td>58510419</td>\n      <td>False</td>\n      <td>False</td>\n    </tr>\n    <tr>\n      <th>44</th>\n      <td>Texas</td>\n      <td>122415.681691</td>\n      <td>238775202</td>\n      <td>True</td>\n      <td>False</td>\n    </tr>\n    <tr>\n      <th>45</th>\n      <td>Utah</td>\n      <td>112289.945276</td>\n      <td>26141341</td>\n      <td>True</td>\n      <td>False</td>\n    </tr>\n    <tr>\n      <th>46</th>\n      <td>Vermont</td>\n      <td>47199.233726</td>\n      <td>5629497</td>\n      <td>False</td>\n      <td>False</td>\n    </tr>\n    <tr>\n      <th>47</th>\n      <td>Virginia</td>\n      <td>82579.710634</td>\n      <td>74028051</td>\n      <td>False</td>\n      <td>False</td>\n    </tr>\n    <tr>\n      <th>48</th>\n      <td>Washington</td>\n      <td>224121.405988</td>\n      <td>63037281</td>\n      <td>False</td>\n      <td>False</td>\n    </tr>\n    <tr>\n      <th>49</th>\n      <td>West Virginia</td>\n      <td>35954.903556</td>\n      <td>16585067</td>\n      <td>False</td>\n      <td>False</td>\n    </tr>\n    <tr>\n      <th>50</th>\n      <td>Wisconsin</td>\n      <td>85749.647292</td>\n      <td>51612917</td>\n      <td>False</td>\n      <td>False</td>\n    </tr>\n    <tr>\n      <th>51</th>\n      <td>Wyoming</td>\n      <td>26072.147859</td>\n      <td>5171653</td>\n      <td>False</td>\n      <td>False</td>\n    </tr>\n  </tbody>\n</table>\n</div>"
     },
     "execution_count": 318,
     "metadata": {},
     "output_type": "execute_result"
    }
   ],
   "source": [
    "census_state[\"is_arizona\"] = np.where(census_state[\"state_name\"] == 'Arizona', True, False).copy()\n",
    "census_state"
   ],
   "metadata": {
    "collapsed": false,
    "pycharm": {
     "name": "#%%\n"
    }
   }
  },
  {
   "cell_type": "markdown",
   "source": [
    "## Using A list"
   ],
   "metadata": {
    "collapsed": false
   }
  },
  {
   "cell_type": "code",
   "execution_count": 319,
   "outputs": [
    {
     "data": {
      "text/plain": "              state_name  median_income  population  sun_belt  is_arizona\n0                Alabama   84219.716220    43405190     False       False\n1                 Alaska   28445.113534     6544837     False       False\n2                Arizona  524846.751890    59967006      True        True\n3               Arkansas   45096.516518    26587370     False       False\n4             California  744266.958072   344511143     False       False\n5               Colorado   99976.104440    47542033      True       False\n6            Connecticut  448510.581719    32238847     False       False\n7               Delaware  323252.049685     8328117     False       False\n8   District of Columbia  648932.926287     5808886     False       False\n9                Florida  319831.244261   177385332     False       False\n10               Georgia   79419.320351    90042333     False       False\n11                Hawaii  304136.802223    12564039     False       False\n12                 Idaho   40816.115219    14615582     False       False\n13              Illinois  149675.986810   115503442     False       False\n14               Indiana   73462.314300    59072826     False       False\n15                  Iowa   33292.700805    27810805     False       False\n16                Kansas   31597.036166    25947748     False       False\n17              Kentucky   41953.981113    39523786     False       False\n18             Louisiana   79095.725442    41445580     False       False\n19                 Maine   90129.282157    11971968     False       False\n20              Maryland  274191.127124    53152918     False       False\n21         Massachusetts  506378.591320    60252965     False       False\n22              Michigan  135152.607195    89251496     False       False\n23             Minnesota   73099.879418    48774173     False       False\n24           Mississippi   41935.897067    26822210     False       False\n25              Missouri   62324.568415    54348844     False       False\n26               Montana   19446.509352     9138896     False       False\n27              Nebraska   22522.039732    16801485     False       False\n28                Nevada  164987.381458    25290014      True       False\n29         New Hampshire  148844.371057    11948923     False       False\n30            New Jersey  424079.503882    79794110     False       False\n31            New Mexico   71464.768985    18678716      True       False\n32              New York  357738.159777   176141587     False       False\n33        North Carolina  113227.013407    88623995     False       False\n34          North Dakota   14187.752234     6449937     False       False\n35                  Ohio  136504.462442   104239017     False       False\n36              Oklahoma   53894.179317    34540698     False       False\n37                Oregon  127741.824702    35566056     False       False\n38          Pennsylvania  210476.671410   114787190     False       False\n39           Puerto Rico   50825.251257    32068053     False       False\n40          Rhode Island  184499.601851     9489509     False       False\n41        South Carolina  120977.653466    43095446     False       False\n42          South Dakota   13830.527990     7568093     False       False\n43             Tennessee   79442.129550    58510419     False       False\n44                 Texas  122415.681691   238775202      True       False\n45                  Utah  112289.945276    26141341      True       False\n46               Vermont   47199.233726     5629497     False       False\n47              Virginia   82579.710634    74028051     False       False\n48            Washington  224121.405988    63037281     False       False\n49         West Virginia   35954.903556    16585067     False       False\n50             Wisconsin   85749.647292    51612917     False       False\n51               Wyoming   26072.147859     5171653     False       False",
      "text/html": "<div>\n<style scoped>\n    .dataframe tbody tr th:only-of-type {\n        vertical-align: middle;\n    }\n\n    .dataframe tbody tr th {\n        vertical-align: top;\n    }\n\n    .dataframe thead th {\n        text-align: right;\n    }\n</style>\n<table border=\"1\" class=\"dataframe\">\n  <thead>\n    <tr style=\"text-align: right;\">\n      <th></th>\n      <th>state_name</th>\n      <th>median_income</th>\n      <th>population</th>\n      <th>sun_belt</th>\n      <th>is_arizona</th>\n    </tr>\n  </thead>\n  <tbody>\n    <tr>\n      <th>0</th>\n      <td>Alabama</td>\n      <td>84219.716220</td>\n      <td>43405190</td>\n      <td>False</td>\n      <td>False</td>\n    </tr>\n    <tr>\n      <th>1</th>\n      <td>Alaska</td>\n      <td>28445.113534</td>\n      <td>6544837</td>\n      <td>False</td>\n      <td>False</td>\n    </tr>\n    <tr>\n      <th>2</th>\n      <td>Arizona</td>\n      <td>524846.751890</td>\n      <td>59967006</td>\n      <td>True</td>\n      <td>True</td>\n    </tr>\n    <tr>\n      <th>3</th>\n      <td>Arkansas</td>\n      <td>45096.516518</td>\n      <td>26587370</td>\n      <td>False</td>\n      <td>False</td>\n    </tr>\n    <tr>\n      <th>4</th>\n      <td>California</td>\n      <td>744266.958072</td>\n      <td>344511143</td>\n      <td>False</td>\n      <td>False</td>\n    </tr>\n    <tr>\n      <th>5</th>\n      <td>Colorado</td>\n      <td>99976.104440</td>\n      <td>47542033</td>\n      <td>True</td>\n      <td>False</td>\n    </tr>\n    <tr>\n      <th>6</th>\n      <td>Connecticut</td>\n      <td>448510.581719</td>\n      <td>32238847</td>\n      <td>False</td>\n      <td>False</td>\n    </tr>\n    <tr>\n      <th>7</th>\n      <td>Delaware</td>\n      <td>323252.049685</td>\n      <td>8328117</td>\n      <td>False</td>\n      <td>False</td>\n    </tr>\n    <tr>\n      <th>8</th>\n      <td>District of Columbia</td>\n      <td>648932.926287</td>\n      <td>5808886</td>\n      <td>False</td>\n      <td>False</td>\n    </tr>\n    <tr>\n      <th>9</th>\n      <td>Florida</td>\n      <td>319831.244261</td>\n      <td>177385332</td>\n      <td>False</td>\n      <td>False</td>\n    </tr>\n    <tr>\n      <th>10</th>\n      <td>Georgia</td>\n      <td>79419.320351</td>\n      <td>90042333</td>\n      <td>False</td>\n      <td>False</td>\n    </tr>\n    <tr>\n      <th>11</th>\n      <td>Hawaii</td>\n      <td>304136.802223</td>\n      <td>12564039</td>\n      <td>False</td>\n      <td>False</td>\n    </tr>\n    <tr>\n      <th>12</th>\n      <td>Idaho</td>\n      <td>40816.115219</td>\n      <td>14615582</td>\n      <td>False</td>\n      <td>False</td>\n    </tr>\n    <tr>\n      <th>13</th>\n      <td>Illinois</td>\n      <td>149675.986810</td>\n      <td>115503442</td>\n      <td>False</td>\n      <td>False</td>\n    </tr>\n    <tr>\n      <th>14</th>\n      <td>Indiana</td>\n      <td>73462.314300</td>\n      <td>59072826</td>\n      <td>False</td>\n      <td>False</td>\n    </tr>\n    <tr>\n      <th>15</th>\n      <td>Iowa</td>\n      <td>33292.700805</td>\n      <td>27810805</td>\n      <td>False</td>\n      <td>False</td>\n    </tr>\n    <tr>\n      <th>16</th>\n      <td>Kansas</td>\n      <td>31597.036166</td>\n      <td>25947748</td>\n      <td>False</td>\n      <td>False</td>\n    </tr>\n    <tr>\n      <th>17</th>\n      <td>Kentucky</td>\n      <td>41953.981113</td>\n      <td>39523786</td>\n      <td>False</td>\n      <td>False</td>\n    </tr>\n    <tr>\n      <th>18</th>\n      <td>Louisiana</td>\n      <td>79095.725442</td>\n      <td>41445580</td>\n      <td>False</td>\n      <td>False</td>\n    </tr>\n    <tr>\n      <th>19</th>\n      <td>Maine</td>\n      <td>90129.282157</td>\n      <td>11971968</td>\n      <td>False</td>\n      <td>False</td>\n    </tr>\n    <tr>\n      <th>20</th>\n      <td>Maryland</td>\n      <td>274191.127124</td>\n      <td>53152918</td>\n      <td>False</td>\n      <td>False</td>\n    </tr>\n    <tr>\n      <th>21</th>\n      <td>Massachusetts</td>\n      <td>506378.591320</td>\n      <td>60252965</td>\n      <td>False</td>\n      <td>False</td>\n    </tr>\n    <tr>\n      <th>22</th>\n      <td>Michigan</td>\n      <td>135152.607195</td>\n      <td>89251496</td>\n      <td>False</td>\n      <td>False</td>\n    </tr>\n    <tr>\n      <th>23</th>\n      <td>Minnesota</td>\n      <td>73099.879418</td>\n      <td>48774173</td>\n      <td>False</td>\n      <td>False</td>\n    </tr>\n    <tr>\n      <th>24</th>\n      <td>Mississippi</td>\n      <td>41935.897067</td>\n      <td>26822210</td>\n      <td>False</td>\n      <td>False</td>\n    </tr>\n    <tr>\n      <th>25</th>\n      <td>Missouri</td>\n      <td>62324.568415</td>\n      <td>54348844</td>\n      <td>False</td>\n      <td>False</td>\n    </tr>\n    <tr>\n      <th>26</th>\n      <td>Montana</td>\n      <td>19446.509352</td>\n      <td>9138896</td>\n      <td>False</td>\n      <td>False</td>\n    </tr>\n    <tr>\n      <th>27</th>\n      <td>Nebraska</td>\n      <td>22522.039732</td>\n      <td>16801485</td>\n      <td>False</td>\n      <td>False</td>\n    </tr>\n    <tr>\n      <th>28</th>\n      <td>Nevada</td>\n      <td>164987.381458</td>\n      <td>25290014</td>\n      <td>True</td>\n      <td>False</td>\n    </tr>\n    <tr>\n      <th>29</th>\n      <td>New Hampshire</td>\n      <td>148844.371057</td>\n      <td>11948923</td>\n      <td>False</td>\n      <td>False</td>\n    </tr>\n    <tr>\n      <th>30</th>\n      <td>New Jersey</td>\n      <td>424079.503882</td>\n      <td>79794110</td>\n      <td>False</td>\n      <td>False</td>\n    </tr>\n    <tr>\n      <th>31</th>\n      <td>New Mexico</td>\n      <td>71464.768985</td>\n      <td>18678716</td>\n      <td>True</td>\n      <td>False</td>\n    </tr>\n    <tr>\n      <th>32</th>\n      <td>New York</td>\n      <td>357738.159777</td>\n      <td>176141587</td>\n      <td>False</td>\n      <td>False</td>\n    </tr>\n    <tr>\n      <th>33</th>\n      <td>North Carolina</td>\n      <td>113227.013407</td>\n      <td>88623995</td>\n      <td>False</td>\n      <td>False</td>\n    </tr>\n    <tr>\n      <th>34</th>\n      <td>North Dakota</td>\n      <td>14187.752234</td>\n      <td>6449937</td>\n      <td>False</td>\n      <td>False</td>\n    </tr>\n    <tr>\n      <th>35</th>\n      <td>Ohio</td>\n      <td>136504.462442</td>\n      <td>104239017</td>\n      <td>False</td>\n      <td>False</td>\n    </tr>\n    <tr>\n      <th>36</th>\n      <td>Oklahoma</td>\n      <td>53894.179317</td>\n      <td>34540698</td>\n      <td>False</td>\n      <td>False</td>\n    </tr>\n    <tr>\n      <th>37</th>\n      <td>Oregon</td>\n      <td>127741.824702</td>\n      <td>35566056</td>\n      <td>False</td>\n      <td>False</td>\n    </tr>\n    <tr>\n      <th>38</th>\n      <td>Pennsylvania</td>\n      <td>210476.671410</td>\n      <td>114787190</td>\n      <td>False</td>\n      <td>False</td>\n    </tr>\n    <tr>\n      <th>39</th>\n      <td>Puerto Rico</td>\n      <td>50825.251257</td>\n      <td>32068053</td>\n      <td>False</td>\n      <td>False</td>\n    </tr>\n    <tr>\n      <th>40</th>\n      <td>Rhode Island</td>\n      <td>184499.601851</td>\n      <td>9489509</td>\n      <td>False</td>\n      <td>False</td>\n    </tr>\n    <tr>\n      <th>41</th>\n      <td>South Carolina</td>\n      <td>120977.653466</td>\n      <td>43095446</td>\n      <td>False</td>\n      <td>False</td>\n    </tr>\n    <tr>\n      <th>42</th>\n      <td>South Dakota</td>\n      <td>13830.527990</td>\n      <td>7568093</td>\n      <td>False</td>\n      <td>False</td>\n    </tr>\n    <tr>\n      <th>43</th>\n      <td>Tennessee</td>\n      <td>79442.129550</td>\n      <td>58510419</td>\n      <td>False</td>\n      <td>False</td>\n    </tr>\n    <tr>\n      <th>44</th>\n      <td>Texas</td>\n      <td>122415.681691</td>\n      <td>238775202</td>\n      <td>True</td>\n      <td>False</td>\n    </tr>\n    <tr>\n      <th>45</th>\n      <td>Utah</td>\n      <td>112289.945276</td>\n      <td>26141341</td>\n      <td>True</td>\n      <td>False</td>\n    </tr>\n    <tr>\n      <th>46</th>\n      <td>Vermont</td>\n      <td>47199.233726</td>\n      <td>5629497</td>\n      <td>False</td>\n      <td>False</td>\n    </tr>\n    <tr>\n      <th>47</th>\n      <td>Virginia</td>\n      <td>82579.710634</td>\n      <td>74028051</td>\n      <td>False</td>\n      <td>False</td>\n    </tr>\n    <tr>\n      <th>48</th>\n      <td>Washington</td>\n      <td>224121.405988</td>\n      <td>63037281</td>\n      <td>False</td>\n      <td>False</td>\n    </tr>\n    <tr>\n      <th>49</th>\n      <td>West Virginia</td>\n      <td>35954.903556</td>\n      <td>16585067</td>\n      <td>False</td>\n      <td>False</td>\n    </tr>\n    <tr>\n      <th>50</th>\n      <td>Wisconsin</td>\n      <td>85749.647292</td>\n      <td>51612917</td>\n      <td>False</td>\n      <td>False</td>\n    </tr>\n    <tr>\n      <th>51</th>\n      <td>Wyoming</td>\n      <td>26072.147859</td>\n      <td>5171653</td>\n      <td>False</td>\n      <td>False</td>\n    </tr>\n  </tbody>\n</table>\n</div>"
     },
     "execution_count": 319,
     "metadata": {},
     "output_type": "execute_result"
    }
   ],
   "source": [
    "geo_list =  ['Arizona','Nevada','New Mexico','Utah','Texas','Colorado']\n",
    "census_state[\"sun_belt\"] = np.where(census_state[\"state_name\"].isin(geo_list), True, False).copy()\n",
    "census_state"
   ],
   "metadata": {
    "collapsed": false,
    "pycharm": {
     "name": "#%%\n"
    }
   }
  },
  {
   "cell_type": "markdown",
   "source": [
    "## Multiple Condition"
   ],
   "metadata": {
    "collapsed": false
   }
  },
  {
   "cell_type": "code",
   "execution_count": 322,
   "outputs": [
    {
     "data": {
      "text/plain": "              state_name  median_income  population  sun_belt  is_arizona\n0                Alabama   84219.716220    43405190     False       False\n1                 Alaska   28445.113534     6544837     False       False\n2                Arizona  524846.751890    59967006      True        True\n3               Arkansas   45096.516518    26587370     False       False\n4             California  744266.958072   344511143     False       False\n5               Colorado   99976.104440    47542033     False       False\n6            Connecticut  448510.581719    32238847     False       False\n7               Delaware  323252.049685     8328117     False       False\n8   District of Columbia  648932.926287     5808886     False       False\n9                Florida  319831.244261   177385332     False       False\n10               Georgia   79419.320351    90042333     False       False\n11                Hawaii  304136.802223    12564039     False       False\n12                 Idaho   40816.115219    14615582     False       False\n13              Illinois  149675.986810   115503442     False       False\n14               Indiana   73462.314300    59072826     False       False\n15                  Iowa   33292.700805    27810805     False       False\n16                Kansas   31597.036166    25947748     False       False\n17              Kentucky   41953.981113    39523786     False       False\n18             Louisiana   79095.725442    41445580     False       False\n19                 Maine   90129.282157    11971968     False       False\n20              Maryland  274191.127124    53152918     False       False\n21         Massachusetts  506378.591320    60252965     False       False\n22              Michigan  135152.607195    89251496     False       False\n23             Minnesota   73099.879418    48774173     False       False\n24           Mississippi   41935.897067    26822210     False       False\n25              Missouri   62324.568415    54348844     False       False\n26               Montana   19446.509352     9138896     False       False\n27              Nebraska   22522.039732    16801485     False       False\n28                Nevada  164987.381458    25290014      True       False\n29         New Hampshire  148844.371057    11948923     False       False\n30            New Jersey  424079.503882    79794110     False       False\n31            New Mexico   71464.768985    18678716      True       False\n32              New York  357738.159777   176141587     False       False\n33        North Carolina  113227.013407    88623995     False       False\n34          North Dakota   14187.752234     6449937     False       False\n35                  Ohio  136504.462442   104239017     False       False\n36              Oklahoma   53894.179317    34540698     False       False\n37                Oregon  127741.824702    35566056     False       False\n38          Pennsylvania  210476.671410   114787190     False       False\n39           Puerto Rico   50825.251257    32068053     False       False\n40          Rhode Island  184499.601851     9489509     False       False\n41        South Carolina  120977.653466    43095446     False       False\n42          South Dakota   13830.527990     7568093     False       False\n43             Tennessee   79442.129550    58510419     False       False\n44                 Texas  122415.681691   238775202     False       False\n45                  Utah  112289.945276    26141341     False       False\n46               Vermont   47199.233726     5629497     False       False\n47              Virginia   82579.710634    74028051     False       False\n48            Washington  224121.405988    63037281     False       False\n49         West Virginia   35954.903556    16585067     False       False\n50             Wisconsin   85749.647292    51612917     False       False\n51               Wyoming   26072.147859     5171653     False       False",
      "text/html": "<div>\n<style scoped>\n    .dataframe tbody tr th:only-of-type {\n        vertical-align: middle;\n    }\n\n    .dataframe tbody tr th {\n        vertical-align: top;\n    }\n\n    .dataframe thead th {\n        text-align: right;\n    }\n</style>\n<table border=\"1\" class=\"dataframe\">\n  <thead>\n    <tr style=\"text-align: right;\">\n      <th></th>\n      <th>state_name</th>\n      <th>median_income</th>\n      <th>population</th>\n      <th>sun_belt</th>\n      <th>is_arizona</th>\n    </tr>\n  </thead>\n  <tbody>\n    <tr>\n      <th>0</th>\n      <td>Alabama</td>\n      <td>84219.716220</td>\n      <td>43405190</td>\n      <td>False</td>\n      <td>False</td>\n    </tr>\n    <tr>\n      <th>1</th>\n      <td>Alaska</td>\n      <td>28445.113534</td>\n      <td>6544837</td>\n      <td>False</td>\n      <td>False</td>\n    </tr>\n    <tr>\n      <th>2</th>\n      <td>Arizona</td>\n      <td>524846.751890</td>\n      <td>59967006</td>\n      <td>True</td>\n      <td>True</td>\n    </tr>\n    <tr>\n      <th>3</th>\n      <td>Arkansas</td>\n      <td>45096.516518</td>\n      <td>26587370</td>\n      <td>False</td>\n      <td>False</td>\n    </tr>\n    <tr>\n      <th>4</th>\n      <td>California</td>\n      <td>744266.958072</td>\n      <td>344511143</td>\n      <td>False</td>\n      <td>False</td>\n    </tr>\n    <tr>\n      <th>5</th>\n      <td>Colorado</td>\n      <td>99976.104440</td>\n      <td>47542033</td>\n      <td>False</td>\n      <td>False</td>\n    </tr>\n    <tr>\n      <th>6</th>\n      <td>Connecticut</td>\n      <td>448510.581719</td>\n      <td>32238847</td>\n      <td>False</td>\n      <td>False</td>\n    </tr>\n    <tr>\n      <th>7</th>\n      <td>Delaware</td>\n      <td>323252.049685</td>\n      <td>8328117</td>\n      <td>False</td>\n      <td>False</td>\n    </tr>\n    <tr>\n      <th>8</th>\n      <td>District of Columbia</td>\n      <td>648932.926287</td>\n      <td>5808886</td>\n      <td>False</td>\n      <td>False</td>\n    </tr>\n    <tr>\n      <th>9</th>\n      <td>Florida</td>\n      <td>319831.244261</td>\n      <td>177385332</td>\n      <td>False</td>\n      <td>False</td>\n    </tr>\n    <tr>\n      <th>10</th>\n      <td>Georgia</td>\n      <td>79419.320351</td>\n      <td>90042333</td>\n      <td>False</td>\n      <td>False</td>\n    </tr>\n    <tr>\n      <th>11</th>\n      <td>Hawaii</td>\n      <td>304136.802223</td>\n      <td>12564039</td>\n      <td>False</td>\n      <td>False</td>\n    </tr>\n    <tr>\n      <th>12</th>\n      <td>Idaho</td>\n      <td>40816.115219</td>\n      <td>14615582</td>\n      <td>False</td>\n      <td>False</td>\n    </tr>\n    <tr>\n      <th>13</th>\n      <td>Illinois</td>\n      <td>149675.986810</td>\n      <td>115503442</td>\n      <td>False</td>\n      <td>False</td>\n    </tr>\n    <tr>\n      <th>14</th>\n      <td>Indiana</td>\n      <td>73462.314300</td>\n      <td>59072826</td>\n      <td>False</td>\n      <td>False</td>\n    </tr>\n    <tr>\n      <th>15</th>\n      <td>Iowa</td>\n      <td>33292.700805</td>\n      <td>27810805</td>\n      <td>False</td>\n      <td>False</td>\n    </tr>\n    <tr>\n      <th>16</th>\n      <td>Kansas</td>\n      <td>31597.036166</td>\n      <td>25947748</td>\n      <td>False</td>\n      <td>False</td>\n    </tr>\n    <tr>\n      <th>17</th>\n      <td>Kentucky</td>\n      <td>41953.981113</td>\n      <td>39523786</td>\n      <td>False</td>\n      <td>False</td>\n    </tr>\n    <tr>\n      <th>18</th>\n      <td>Louisiana</td>\n      <td>79095.725442</td>\n      <td>41445580</td>\n      <td>False</td>\n      <td>False</td>\n    </tr>\n    <tr>\n      <th>19</th>\n      <td>Maine</td>\n      <td>90129.282157</td>\n      <td>11971968</td>\n      <td>False</td>\n      <td>False</td>\n    </tr>\n    <tr>\n      <th>20</th>\n      <td>Maryland</td>\n      <td>274191.127124</td>\n      <td>53152918</td>\n      <td>False</td>\n      <td>False</td>\n    </tr>\n    <tr>\n      <th>21</th>\n      <td>Massachusetts</td>\n      <td>506378.591320</td>\n      <td>60252965</td>\n      <td>False</td>\n      <td>False</td>\n    </tr>\n    <tr>\n      <th>22</th>\n      <td>Michigan</td>\n      <td>135152.607195</td>\n      <td>89251496</td>\n      <td>False</td>\n      <td>False</td>\n    </tr>\n    <tr>\n      <th>23</th>\n      <td>Minnesota</td>\n      <td>73099.879418</td>\n      <td>48774173</td>\n      <td>False</td>\n      <td>False</td>\n    </tr>\n    <tr>\n      <th>24</th>\n      <td>Mississippi</td>\n      <td>41935.897067</td>\n      <td>26822210</td>\n      <td>False</td>\n      <td>False</td>\n    </tr>\n    <tr>\n      <th>25</th>\n      <td>Missouri</td>\n      <td>62324.568415</td>\n      <td>54348844</td>\n      <td>False</td>\n      <td>False</td>\n    </tr>\n    <tr>\n      <th>26</th>\n      <td>Montana</td>\n      <td>19446.509352</td>\n      <td>9138896</td>\n      <td>False</td>\n      <td>False</td>\n    </tr>\n    <tr>\n      <th>27</th>\n      <td>Nebraska</td>\n      <td>22522.039732</td>\n      <td>16801485</td>\n      <td>False</td>\n      <td>False</td>\n    </tr>\n    <tr>\n      <th>28</th>\n      <td>Nevada</td>\n      <td>164987.381458</td>\n      <td>25290014</td>\n      <td>True</td>\n      <td>False</td>\n    </tr>\n    <tr>\n      <th>29</th>\n      <td>New Hampshire</td>\n      <td>148844.371057</td>\n      <td>11948923</td>\n      <td>False</td>\n      <td>False</td>\n    </tr>\n    <tr>\n      <th>30</th>\n      <td>New Jersey</td>\n      <td>424079.503882</td>\n      <td>79794110</td>\n      <td>False</td>\n      <td>False</td>\n    </tr>\n    <tr>\n      <th>31</th>\n      <td>New Mexico</td>\n      <td>71464.768985</td>\n      <td>18678716</td>\n      <td>True</td>\n      <td>False</td>\n    </tr>\n    <tr>\n      <th>32</th>\n      <td>New York</td>\n      <td>357738.159777</td>\n      <td>176141587</td>\n      <td>False</td>\n      <td>False</td>\n    </tr>\n    <tr>\n      <th>33</th>\n      <td>North Carolina</td>\n      <td>113227.013407</td>\n      <td>88623995</td>\n      <td>False</td>\n      <td>False</td>\n    </tr>\n    <tr>\n      <th>34</th>\n      <td>North Dakota</td>\n      <td>14187.752234</td>\n      <td>6449937</td>\n      <td>False</td>\n      <td>False</td>\n    </tr>\n    <tr>\n      <th>35</th>\n      <td>Ohio</td>\n      <td>136504.462442</td>\n      <td>104239017</td>\n      <td>False</td>\n      <td>False</td>\n    </tr>\n    <tr>\n      <th>36</th>\n      <td>Oklahoma</td>\n      <td>53894.179317</td>\n      <td>34540698</td>\n      <td>False</td>\n      <td>False</td>\n    </tr>\n    <tr>\n      <th>37</th>\n      <td>Oregon</td>\n      <td>127741.824702</td>\n      <td>35566056</td>\n      <td>False</td>\n      <td>False</td>\n    </tr>\n    <tr>\n      <th>38</th>\n      <td>Pennsylvania</td>\n      <td>210476.671410</td>\n      <td>114787190</td>\n      <td>False</td>\n      <td>False</td>\n    </tr>\n    <tr>\n      <th>39</th>\n      <td>Puerto Rico</td>\n      <td>50825.251257</td>\n      <td>32068053</td>\n      <td>False</td>\n      <td>False</td>\n    </tr>\n    <tr>\n      <th>40</th>\n      <td>Rhode Island</td>\n      <td>184499.601851</td>\n      <td>9489509</td>\n      <td>False</td>\n      <td>False</td>\n    </tr>\n    <tr>\n      <th>41</th>\n      <td>South Carolina</td>\n      <td>120977.653466</td>\n      <td>43095446</td>\n      <td>False</td>\n      <td>False</td>\n    </tr>\n    <tr>\n      <th>42</th>\n      <td>South Dakota</td>\n      <td>13830.527990</td>\n      <td>7568093</td>\n      <td>False</td>\n      <td>False</td>\n    </tr>\n    <tr>\n      <th>43</th>\n      <td>Tennessee</td>\n      <td>79442.129550</td>\n      <td>58510419</td>\n      <td>False</td>\n      <td>False</td>\n    </tr>\n    <tr>\n      <th>44</th>\n      <td>Texas</td>\n      <td>122415.681691</td>\n      <td>238775202</td>\n      <td>False</td>\n      <td>False</td>\n    </tr>\n    <tr>\n      <th>45</th>\n      <td>Utah</td>\n      <td>112289.945276</td>\n      <td>26141341</td>\n      <td>False</td>\n      <td>False</td>\n    </tr>\n    <tr>\n      <th>46</th>\n      <td>Vermont</td>\n      <td>47199.233726</td>\n      <td>5629497</td>\n      <td>False</td>\n      <td>False</td>\n    </tr>\n    <tr>\n      <th>47</th>\n      <td>Virginia</td>\n      <td>82579.710634</td>\n      <td>74028051</td>\n      <td>False</td>\n      <td>False</td>\n    </tr>\n    <tr>\n      <th>48</th>\n      <td>Washington</td>\n      <td>224121.405988</td>\n      <td>63037281</td>\n      <td>False</td>\n      <td>False</td>\n    </tr>\n    <tr>\n      <th>49</th>\n      <td>West Virginia</td>\n      <td>35954.903556</td>\n      <td>16585067</td>\n      <td>False</td>\n      <td>False</td>\n    </tr>\n    <tr>\n      <th>50</th>\n      <td>Wisconsin</td>\n      <td>85749.647292</td>\n      <td>51612917</td>\n      <td>False</td>\n      <td>False</td>\n    </tr>\n    <tr>\n      <th>51</th>\n      <td>Wyoming</td>\n      <td>26072.147859</td>\n      <td>5171653</td>\n      <td>False</td>\n      <td>False</td>\n    </tr>\n  </tbody>\n</table>\n</div>"
     },
     "execution_count": 322,
     "metadata": {},
     "output_type": "execute_result"
    }
   ],
   "source": [
    "census_state[\"sun_belt\"] = np.where((census_state[\"state_name\"] == 'Arizona') |\n",
    "                                    (census_state[\"state_name\"] == 'Nevada') |\n",
    "                                    (census_state[\"state_name\"] == 'New Mexico'), True, False).copy()\n",
    "census_state"
   ],
   "metadata": {
    "collapsed": false,
    "pycharm": {
     "name": "#%%\n"
    }
   }
  },
  {
   "cell_type": "code",
   "execution_count": null,
   "outputs": [],
   "source": [],
   "metadata": {
    "collapsed": false,
    "pycharm": {
     "name": "#%%\n"
    }
   }
  }
 ],
 "metadata": {
  "kernelspec": {
   "display_name": "Python 3",
   "language": "python",
   "name": "python3"
  },
  "language_info": {
   "codemirror_mode": {
    "name": "ipython",
    "version": 2
   },
   "file_extension": ".py",
   "mimetype": "text/x-python",
   "name": "python",
   "nbconvert_exporter": "python",
   "pygments_lexer": "ipython2",
   "version": "2.7.6"
  }
 },
 "nbformat": 4,
 "nbformat_minor": 0
}
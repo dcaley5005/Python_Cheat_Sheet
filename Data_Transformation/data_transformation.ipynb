{
 "cells": [
  {
   "cell_type": "markdown",
   "metadata": {
    "collapsed": true,
    "pycharm": {
     "name": "#%% md\n"
    }
   },
   "source": [
    "![purple-divider](https://user-images.githubusercontent.com/7065401/52071927-c1cd7100-2562-11e9-908a-dde91ba14e59.png)\n",
    "\n",
    "# Data Transformation Cheat Sheet\n",
    "\n",
    "![purple-divider](https://user-images.githubusercontent.com/7065401/52071927-c1cd7100-2562-11e9-908a-dde91ba14e59.png)"
   ]
  },
  {
   "cell_type": "markdown",
   "source": [
    "# Table of Content\n",
    "\n",
    "1. Creating a Pandas Dataframe\n",
    "2. Modifying Datetime\n",
    "3. Summary Statistics\n",
    "4. Column Wrangling & Feature Engineering\n",
    "    - Modifying All\n",
    "    - Modify the first appearance of Vision to year 1964\n",
    "5. Selecting, Indexing, Filtering & Slicing\n",
    "6. Creating A Pandas Dataframe\n",
    "   - Setting an Index\n",
    "7. Filtering\n",
    "    - Retrieving Single and Multiple Columns\n",
    "    - Filtering then summarizing\n",
    "8. Modifying Dataframes\n",
    "    - Renaming Columns\n",
    "9. Appending Values\n",
    "10. Cleaning Null Values\n",
    "    - Filling Null Values on Dataframes\n",
    "    - Backward and Forward filling\n",
    "11. Cleaning All Values\n",
    "12. Dealing w/ Duplicates\n",
    "    - Duplicates in DataFrames\n",
    "\n"
   ],
   "metadata": {
    "collapsed": false
   }
  },
  {
   "cell_type": "markdown",
   "source": [
    "![green-divider](https://user-images.githubusercontent.com/7065401/52071924-c003ad80-2562-11e9-8297-1c6595f8a7ff.png)\n",
    "\n",
    "## Libraries"
   ],
   "metadata": {
    "collapsed": false
   }
  },
  {
   "cell_type": "code",
   "execution_count": 1,
   "outputs": [],
   "source": [
    "import pandas as pd\n",
    "import numpy as np"
   ],
   "metadata": {
    "collapsed": false,
    "pycharm": {
     "name": "#%%\n"
    }
   }
  },
  {
   "cell_type": "code",
   "execution_count": 119,
   "outputs": [],
   "source": [
    "pd.read_csv?"
   ],
   "metadata": {
    "collapsed": false,
    "pycharm": {
     "name": "#%%\n"
    }
   }
  },
  {
   "cell_type": "code",
   "execution_count": 229,
   "outputs": [],
   "source": [
    "# Please see the Data Ingestion Cheat sheet to learn how to load data\n",
    "sales = pd.read_csv(\n",
    "    'data/sales_data.csv',\n",
    "    parse_dates=['Date']\n",
    ")"
   ],
   "metadata": {
    "collapsed": false,
    "pycharm": {
     "name": "#%%\n"
    }
   }
  },
  {
   "cell_type": "markdown",
   "source": [
    "The read_csv function is extremely powerful and you can specify many more parameters at import time. We can achive the same results with only one line by doing:"
   ],
   "metadata": {
    "collapsed": false
   }
  },
  {
   "cell_type": "markdown",
   "source": [
    "![purple-divider](https://user-images.githubusercontent.com/7065401/52071927-c1cd7100-2562-11e9-908a-dde91ba14e59.png)\n",
    "# Creating a Pandas Dataframe\n"
   ],
   "metadata": {
    "collapsed": false
   }
  },
  {
   "cell_type": "code",
   "execution_count": 248,
   "outputs": [],
   "source": [
    "df = pd.DataFrame({\n",
    "    'Population': [35.467, 63.951, 80.94 , 60.665, 127.061, 64.511, 318.523],\n",
    "    'GDP': [\n",
    "        1785387,\n",
    "        2833687,\n",
    "        3874437,\n",
    "        2167744,\n",
    "        4602367,\n",
    "        2950039,\n",
    "        17348075\n",
    "    ],\n",
    "    'Surface Area': [\n",
    "        9984670,\n",
    "        640679,\n",
    "        357114,\n",
    "        301336,\n",
    "        377930,\n",
    "        242495,\n",
    "        9525067\n",
    "    ],\n",
    "    'HDI': [\n",
    "        0.913,\n",
    "        0.888,\n",
    "        0.916,\n",
    "        0.873,\n",
    "        0.891,\n",
    "        0.907,\n",
    "        0.915\n",
    "    ],\n",
    "    'Continent': [\n",
    "        'America',\n",
    "        'Europe',\n",
    "        'Europe',\n",
    "        'Europe',\n",
    "        'Asia',\n",
    "        'Europe',\n",
    "        'America'\n",
    "    ]\n",
    "}, columns=['Population', 'GDP', 'Surface Area', 'HDI', 'Continent'])"
   ],
   "metadata": {
    "collapsed": false,
    "pycharm": {
     "name": "#%%\n"
    }
   }
  },
  {
   "cell_type": "markdown",
   "source": [
    "![green-divider](https://user-images.githubusercontent.com/7065401/52071924-c003ad80-2562-11e9-8297-1c6595f8a7ff.png)\n",
    "\n",
    "# Setting the Index"
   ],
   "metadata": {
    "collapsed": false
   }
  },
  {
   "cell_type": "code",
   "execution_count": 80,
   "outputs": [],
   "source": [
    "df.index = [\n",
    "    'Canada',\n",
    "    'France',\n",
    "    'Germany',\n",
    "    'Italy',\n",
    "    'Japan',\n",
    "    'United Kingdom',\n",
    "    'United States',\n",
    "]"
   ],
   "metadata": {
    "collapsed": false,
    "pycharm": {
     "name": "#%%\n"
    }
   }
  },
  {
   "cell_type": "code",
   "execution_count": null,
   "outputs": [],
   "source": [
    "df = pd.read_csv(\n",
    "    'data/btc-market-price.csv',\n",
    "    header=None,\n",
    "    names=['Timestamp', 'Price'],\n",
    "    index_col=0,\n",
    "    parse_dates=True\n",
    ")"
   ],
   "metadata": {
    "collapsed": false,
    "pycharm": {
     "name": "#%%\n"
    }
   }
  },
  {
   "cell_type": "code",
   "execution_count": null,
   "outputs": [],
   "source": [
    "df.head()"
   ],
   "metadata": {
    "collapsed": false,
    "pycharm": {
     "name": "#%%\n"
    }
   }
  },
  {
   "cell_type": "code",
   "execution_count": 231,
   "outputs": [
    {
     "data": {
      "text/plain": "                name     sex  first_appearance\n0         Spider-Man    male              1962\n1    Captain America    male              1941\n2          Wolverine    male              1974\n3           Iron Man    male              1963\n4               Thor    male              1963\n5              Thing    male              1961\n6   Mister Fantastic    male              1961\n7               Hulk    male              1962\n8              Beast    male              1963\n9    Invisible Woman  female              1961\n10             Storm  female              1975\n11             Namor    male              1939\n12           Hawkeye    male              1964\n13         Daredevil    male              1964\n14    Doctor Strange    male              1963\n15          Hank Pym    male              1962\n16     Scarlet Witch  female              1964\n17              Wasp  female              1963\n18       Black Widow  female              1964\n19            Vision    male              1968",
      "text/html": "<div>\n<style scoped>\n    .dataframe tbody tr th:only-of-type {\n        vertical-align: middle;\n    }\n\n    .dataframe tbody tr th {\n        vertical-align: top;\n    }\n\n    .dataframe thead th {\n        text-align: right;\n    }\n</style>\n<table border=\"1\" class=\"dataframe\">\n  <thead>\n    <tr style=\"text-align: right;\">\n      <th></th>\n      <th>name</th>\n      <th>sex</th>\n      <th>first_appearance</th>\n    </tr>\n  </thead>\n  <tbody>\n    <tr>\n      <th>0</th>\n      <td>Spider-Man</td>\n      <td>male</td>\n      <td>1962</td>\n    </tr>\n    <tr>\n      <th>1</th>\n      <td>Captain America</td>\n      <td>male</td>\n      <td>1941</td>\n    </tr>\n    <tr>\n      <th>2</th>\n      <td>Wolverine</td>\n      <td>male</td>\n      <td>1974</td>\n    </tr>\n    <tr>\n      <th>3</th>\n      <td>Iron Man</td>\n      <td>male</td>\n      <td>1963</td>\n    </tr>\n    <tr>\n      <th>4</th>\n      <td>Thor</td>\n      <td>male</td>\n      <td>1963</td>\n    </tr>\n    <tr>\n      <th>5</th>\n      <td>Thing</td>\n      <td>male</td>\n      <td>1961</td>\n    </tr>\n    <tr>\n      <th>6</th>\n      <td>Mister Fantastic</td>\n      <td>male</td>\n      <td>1961</td>\n    </tr>\n    <tr>\n      <th>7</th>\n      <td>Hulk</td>\n      <td>male</td>\n      <td>1962</td>\n    </tr>\n    <tr>\n      <th>8</th>\n      <td>Beast</td>\n      <td>male</td>\n      <td>1963</td>\n    </tr>\n    <tr>\n      <th>9</th>\n      <td>Invisible Woman</td>\n      <td>female</td>\n      <td>1961</td>\n    </tr>\n    <tr>\n      <th>10</th>\n      <td>Storm</td>\n      <td>female</td>\n      <td>1975</td>\n    </tr>\n    <tr>\n      <th>11</th>\n      <td>Namor</td>\n      <td>male</td>\n      <td>1939</td>\n    </tr>\n    <tr>\n      <th>12</th>\n      <td>Hawkeye</td>\n      <td>male</td>\n      <td>1964</td>\n    </tr>\n    <tr>\n      <th>13</th>\n      <td>Daredevil</td>\n      <td>male</td>\n      <td>1964</td>\n    </tr>\n    <tr>\n      <th>14</th>\n      <td>Doctor Strange</td>\n      <td>male</td>\n      <td>1963</td>\n    </tr>\n    <tr>\n      <th>15</th>\n      <td>Hank Pym</td>\n      <td>male</td>\n      <td>1962</td>\n    </tr>\n    <tr>\n      <th>16</th>\n      <td>Scarlet Witch</td>\n      <td>female</td>\n      <td>1964</td>\n    </tr>\n    <tr>\n      <th>17</th>\n      <td>Wasp</td>\n      <td>female</td>\n      <td>1963</td>\n    </tr>\n    <tr>\n      <th>18</th>\n      <td>Black Widow</td>\n      <td>female</td>\n      <td>1964</td>\n    </tr>\n    <tr>\n      <th>19</th>\n      <td>Vision</td>\n      <td>male</td>\n      <td>1968</td>\n    </tr>\n  </tbody>\n</table>\n</div>"
     },
     "execution_count": 231,
     "metadata": {},
     "output_type": "execute_result"
    }
   ],
   "source": [
    "marvel_data = [\n",
    "    ['Spider-Man', 'male', 1962],\n",
    "    ['Captain America', 'male', 1941],\n",
    "    ['Wolverine', 'male', 1974],\n",
    "    ['Iron Man', 'male', 1963],\n",
    "    ['Thor', 'male', 1963],\n",
    "    ['Thing', 'male', 1961],\n",
    "    ['Mister Fantastic', 'male', 1961],\n",
    "    ['Hulk', 'male', 1962],\n",
    "    ['Beast', 'male', 1963],\n",
    "    ['Invisible Woman', 'female', 1961],\n",
    "    ['Storm', 'female', 1975],\n",
    "    ['Namor', 'male', 1939],\n",
    "    ['Hawkeye', 'male', 1964],\n",
    "    ['Daredevil', 'male', 1964],\n",
    "    ['Doctor Strange', 'male', 1963],\n",
    "    ['Hank Pym', 'male', 1962],\n",
    "    ['Scarlet Witch', 'female', 1964],\n",
    "    ['Wasp', 'female', 1963],\n",
    "    ['Black Widow', 'female', 1964],\n",
    "    ['Vision', 'male', 1968]\n",
    "]\n",
    "\n",
    "marvel_df = pd.DataFrame(data=marvel_data,\n",
    "                         columns=['name', 'sex', 'first_appearance'])\n",
    "marvel_df"
   ],
   "metadata": {
    "collapsed": false,
    "pycharm": {
     "name": "#%%\n"
    }
   }
  },
  {
   "cell_type": "markdown",
   "source": [
    "![purple-divider](https://user-images.githubusercontent.com/7065401/52071927-c1cd7100-2562-11e9-908a-dde91ba14e59.png)"
   ],
   "metadata": {
    "collapsed": false
   }
  },
  {
   "cell_type": "markdown",
   "source": [
    "# Modifying Datetime"
   ],
   "metadata": {
    "collapsed": false
   }
  },
  {
   "cell_type": "code",
   "execution_count": 139,
   "outputs": [
    {
     "data": {
      "text/plain": "Timestamp     object\nPrice        float64\ndtype: object"
     },
     "execution_count": 139,
     "metadata": {},
     "output_type": "execute_result"
    }
   ],
   "source": [
    "df.dtypes"
   ],
   "metadata": {
    "collapsed": false,
    "pycharm": {
     "name": "#%%\n"
    }
   }
  },
  {
   "cell_type": "code",
   "execution_count": 140,
   "outputs": [
    {
     "data": {
      "text/plain": "Timestamp    datetime64[ns]\nPrice               float64\ndtype: object"
     },
     "execution_count": 140,
     "metadata": {},
     "output_type": "execute_result"
    }
   ],
   "source": [
    "df['Timestamp'] = pd.to_datetime(df['Timestamp'])\n",
    "df.dtypes"
   ],
   "metadata": {
    "collapsed": false,
    "pycharm": {
     "name": "#%%\n"
    }
   }
  },
  {
   "cell_type": "code",
   "execution_count": 141,
   "outputs": [
    {
     "data": {
      "text/plain": "Price    4193.574667\nName: 2017-09-29 00:00:00, dtype: float64"
     },
     "execution_count": 141,
     "metadata": {},
     "output_type": "execute_result"
    }
   ],
   "source": [
    "df.set_index('Timestamp', inplace=True)\n"
   ],
   "metadata": {
    "collapsed": false,
    "pycharm": {
     "name": "#%%\n"
    }
   }
  },
  {
   "cell_type": "code",
   "execution_count": 142,
   "outputs": [
    {
     "data": {
      "text/plain": "                  Price\nTimestamp              \n2017-09-29  4193.574667\n2017-09-30  4335.368317\n2017-10-01  4360.722967\n2017-10-02  4386.883750\n2017-10-03  4293.306600\n2017-10-04  4225.175000\n2017-10-05  4338.852000",
      "text/html": "<div>\n<style scoped>\n    .dataframe tbody tr th:only-of-type {\n        vertical-align: middle;\n    }\n\n    .dataframe tbody tr th {\n        vertical-align: top;\n    }\n\n    .dataframe thead th {\n        text-align: right;\n    }\n</style>\n<table border=\"1\" class=\"dataframe\">\n  <thead>\n    <tr style=\"text-align: right;\">\n      <th></th>\n      <th>Price</th>\n    </tr>\n    <tr>\n      <th>Timestamp</th>\n      <th></th>\n    </tr>\n  </thead>\n  <tbody>\n    <tr>\n      <th>2017-09-29</th>\n      <td>4193.574667</td>\n    </tr>\n    <tr>\n      <th>2017-09-30</th>\n      <td>4335.368317</td>\n    </tr>\n    <tr>\n      <th>2017-10-01</th>\n      <td>4360.722967</td>\n    </tr>\n    <tr>\n      <th>2017-10-02</th>\n      <td>4386.883750</td>\n    </tr>\n    <tr>\n      <th>2017-10-03</th>\n      <td>4293.306600</td>\n    </tr>\n    <tr>\n      <th>2017-10-04</th>\n      <td>4225.175000</td>\n    </tr>\n    <tr>\n      <th>2017-10-05</th>\n      <td>4338.852000</td>\n    </tr>\n  </tbody>\n</table>\n</div>"
     },
     "execution_count": 142,
     "metadata": {},
     "output_type": "execute_result"
    }
   ],
   "source": [
    "df.loc['2017-09-29':'2017-10-05']"
   ],
   "metadata": {
    "collapsed": false,
    "pycharm": {
     "name": "#%%\n"
    }
   }
  },
  {
   "cell_type": "code",
   "execution_count": 242,
   "outputs": [
    {
     "data": {
      "text/plain": "                    name     sex  first_appearance  years_since\n0             Spider-Man    male            1962.0         60.0\n1        Captain America    male            1941.0         81.0\n2              Wolverine    male            1974.0         48.0\n3               Iron Man    male            1963.0         59.0\n4                   Thor    male            1963.0         59.0\n5                  Thing    male            1961.0         61.0\n6       Mister Fantastic    male            1961.0         61.0\n7                   Hulk    male            1962.0         60.0\n8                  Beast    male            1963.0         59.0\n9        Invisible Woman  female            1961.0         61.0\n10                 Storm  female            1975.0         47.0\n11                 Namor    male            1939.0         83.0\n12               Hawkeye    male            1964.0         58.0\n13             Daredevil    male            1964.0         58.0\n14        Doctor Strange    male            1963.0         59.0\n15              Hank Pym    male            1962.0         60.0\n16         Scarlet Witch  female            1964.0         58.0\n17                  Wasp  female            1963.0         59.0\n18           Black Widow  female            1964.0         58.0\n19                Vision    male            1968.0         54.0\nVision               NaN     NaN            1964.0         58.0",
      "text/html": "<div>\n<style scoped>\n    .dataframe tbody tr th:only-of-type {\n        vertical-align: middle;\n    }\n\n    .dataframe tbody tr th {\n        vertical-align: top;\n    }\n\n    .dataframe thead th {\n        text-align: right;\n    }\n</style>\n<table border=\"1\" class=\"dataframe\">\n  <thead>\n    <tr style=\"text-align: right;\">\n      <th></th>\n      <th>name</th>\n      <th>sex</th>\n      <th>first_appearance</th>\n      <th>years_since</th>\n    </tr>\n  </thead>\n  <tbody>\n    <tr>\n      <th>0</th>\n      <td>Spider-Man</td>\n      <td>male</td>\n      <td>1962.0</td>\n      <td>60.0</td>\n    </tr>\n    <tr>\n      <th>1</th>\n      <td>Captain America</td>\n      <td>male</td>\n      <td>1941.0</td>\n      <td>81.0</td>\n    </tr>\n    <tr>\n      <th>2</th>\n      <td>Wolverine</td>\n      <td>male</td>\n      <td>1974.0</td>\n      <td>48.0</td>\n    </tr>\n    <tr>\n      <th>3</th>\n      <td>Iron Man</td>\n      <td>male</td>\n      <td>1963.0</td>\n      <td>59.0</td>\n    </tr>\n    <tr>\n      <th>4</th>\n      <td>Thor</td>\n      <td>male</td>\n      <td>1963.0</td>\n      <td>59.0</td>\n    </tr>\n    <tr>\n      <th>5</th>\n      <td>Thing</td>\n      <td>male</td>\n      <td>1961.0</td>\n      <td>61.0</td>\n    </tr>\n    <tr>\n      <th>6</th>\n      <td>Mister Fantastic</td>\n      <td>male</td>\n      <td>1961.0</td>\n      <td>61.0</td>\n    </tr>\n    <tr>\n      <th>7</th>\n      <td>Hulk</td>\n      <td>male</td>\n      <td>1962.0</td>\n      <td>60.0</td>\n    </tr>\n    <tr>\n      <th>8</th>\n      <td>Beast</td>\n      <td>male</td>\n      <td>1963.0</td>\n      <td>59.0</td>\n    </tr>\n    <tr>\n      <th>9</th>\n      <td>Invisible Woman</td>\n      <td>female</td>\n      <td>1961.0</td>\n      <td>61.0</td>\n    </tr>\n    <tr>\n      <th>10</th>\n      <td>Storm</td>\n      <td>female</td>\n      <td>1975.0</td>\n      <td>47.0</td>\n    </tr>\n    <tr>\n      <th>11</th>\n      <td>Namor</td>\n      <td>male</td>\n      <td>1939.0</td>\n      <td>83.0</td>\n    </tr>\n    <tr>\n      <th>12</th>\n      <td>Hawkeye</td>\n      <td>male</td>\n      <td>1964.0</td>\n      <td>58.0</td>\n    </tr>\n    <tr>\n      <th>13</th>\n      <td>Daredevil</td>\n      <td>male</td>\n      <td>1964.0</td>\n      <td>58.0</td>\n    </tr>\n    <tr>\n      <th>14</th>\n      <td>Doctor Strange</td>\n      <td>male</td>\n      <td>1963.0</td>\n      <td>59.0</td>\n    </tr>\n    <tr>\n      <th>15</th>\n      <td>Hank Pym</td>\n      <td>male</td>\n      <td>1962.0</td>\n      <td>60.0</td>\n    </tr>\n    <tr>\n      <th>16</th>\n      <td>Scarlet Witch</td>\n      <td>female</td>\n      <td>1964.0</td>\n      <td>58.0</td>\n    </tr>\n    <tr>\n      <th>17</th>\n      <td>Wasp</td>\n      <td>female</td>\n      <td>1963.0</td>\n      <td>59.0</td>\n    </tr>\n    <tr>\n      <th>18</th>\n      <td>Black Widow</td>\n      <td>female</td>\n      <td>1964.0</td>\n      <td>58.0</td>\n    </tr>\n    <tr>\n      <th>19</th>\n      <td>Vision</td>\n      <td>male</td>\n      <td>1968.0</td>\n      <td>54.0</td>\n    </tr>\n    <tr>\n      <th>Vision</th>\n      <td>NaN</td>\n      <td>NaN</td>\n      <td>1964.0</td>\n      <td>58.0</td>\n    </tr>\n  </tbody>\n</table>\n</div>"
     },
     "execution_count": 242,
     "metadata": {},
     "output_type": "execute_result"
    }
   ],
   "source": [
    "import datetime\n",
    "\n",
    "today = datetime.date.today()\n",
    "year = int(today.strftime(\"%Y\"))\n",
    "year\n",
    "\n",
    "marvel_df['years_since'] = year - marvel_df['first_appearance']\n",
    "marvel_df"
   ],
   "metadata": {
    "collapsed": false,
    "pycharm": {
     "name": "#%%\n"
    }
   }
  },
  {
   "cell_type": "markdown",
   "source": [
    "![green-divider](https://user-images.githubusercontent.com/7065401/52071924-c003ad80-2562-11e9-8297-1c6595f8a7ff.png)\n",
    "# Summary Statistics"
   ],
   "metadata": {
    "collapsed": false
   }
  },
  {
   "cell_type": "code",
   "execution_count": 3,
   "outputs": [
    {
     "data": {
      "text/plain": "        Date  Day     Month  Year  Customer_Age       Age_Group  \\\n0 2013-11-26   26  November  2013            19     Youth (<25)   \n1 2015-11-26   26  November  2015            19     Youth (<25)   \n2 2014-03-23   23     March  2014            49  Adults (35-64)   \n3 2016-03-23   23     March  2016            49  Adults (35-64)   \n4 2014-05-15   15       May  2014            47  Adults (35-64)   \n\n  Customer_Gender    Country             State Product_Category Sub_Category  \\\n0               M     Canada  British Columbia      Accessories   Bike Racks   \n1               M     Canada  British Columbia      Accessories   Bike Racks   \n2               M  Australia   New South Wales      Accessories   Bike Racks   \n3               M  Australia   New South Wales      Accessories   Bike Racks   \n4               F  Australia   New South Wales      Accessories   Bike Racks   \n\n               Product  Order_Quantity  Unit_Cost  Unit_Price  Profit  Cost  \\\n0  Hitch Rack - 4-Bike               8         45         120     590   360   \n1  Hitch Rack - 4-Bike               8         45         120     590   360   \n2  Hitch Rack - 4-Bike              23         45         120    1366  1035   \n3  Hitch Rack - 4-Bike              20         45         120    1188   900   \n4  Hitch Rack - 4-Bike               4         45         120     238   180   \n\n   Revenue  \n0      950  \n1      950  \n2     2401  \n3     2088  \n4      418  ",
      "text/html": "<div>\n<style scoped>\n    .dataframe tbody tr th:only-of-type {\n        vertical-align: middle;\n    }\n\n    .dataframe tbody tr th {\n        vertical-align: top;\n    }\n\n    .dataframe thead th {\n        text-align: right;\n    }\n</style>\n<table border=\"1\" class=\"dataframe\">\n  <thead>\n    <tr style=\"text-align: right;\">\n      <th></th>\n      <th>Date</th>\n      <th>Day</th>\n      <th>Month</th>\n      <th>Year</th>\n      <th>Customer_Age</th>\n      <th>Age_Group</th>\n      <th>Customer_Gender</th>\n      <th>Country</th>\n      <th>State</th>\n      <th>Product_Category</th>\n      <th>Sub_Category</th>\n      <th>Product</th>\n      <th>Order_Quantity</th>\n      <th>Unit_Cost</th>\n      <th>Unit_Price</th>\n      <th>Profit</th>\n      <th>Cost</th>\n      <th>Revenue</th>\n    </tr>\n  </thead>\n  <tbody>\n    <tr>\n      <th>0</th>\n      <td>2013-11-26</td>\n      <td>26</td>\n      <td>November</td>\n      <td>2013</td>\n      <td>19</td>\n      <td>Youth (&lt;25)</td>\n      <td>M</td>\n      <td>Canada</td>\n      <td>British Columbia</td>\n      <td>Accessories</td>\n      <td>Bike Racks</td>\n      <td>Hitch Rack - 4-Bike</td>\n      <td>8</td>\n      <td>45</td>\n      <td>120</td>\n      <td>590</td>\n      <td>360</td>\n      <td>950</td>\n    </tr>\n    <tr>\n      <th>1</th>\n      <td>2015-11-26</td>\n      <td>26</td>\n      <td>November</td>\n      <td>2015</td>\n      <td>19</td>\n      <td>Youth (&lt;25)</td>\n      <td>M</td>\n      <td>Canada</td>\n      <td>British Columbia</td>\n      <td>Accessories</td>\n      <td>Bike Racks</td>\n      <td>Hitch Rack - 4-Bike</td>\n      <td>8</td>\n      <td>45</td>\n      <td>120</td>\n      <td>590</td>\n      <td>360</td>\n      <td>950</td>\n    </tr>\n    <tr>\n      <th>2</th>\n      <td>2014-03-23</td>\n      <td>23</td>\n      <td>March</td>\n      <td>2014</td>\n      <td>49</td>\n      <td>Adults (35-64)</td>\n      <td>M</td>\n      <td>Australia</td>\n      <td>New South Wales</td>\n      <td>Accessories</td>\n      <td>Bike Racks</td>\n      <td>Hitch Rack - 4-Bike</td>\n      <td>23</td>\n      <td>45</td>\n      <td>120</td>\n      <td>1366</td>\n      <td>1035</td>\n      <td>2401</td>\n    </tr>\n    <tr>\n      <th>3</th>\n      <td>2016-03-23</td>\n      <td>23</td>\n      <td>March</td>\n      <td>2016</td>\n      <td>49</td>\n      <td>Adults (35-64)</td>\n      <td>M</td>\n      <td>Australia</td>\n      <td>New South Wales</td>\n      <td>Accessories</td>\n      <td>Bike Racks</td>\n      <td>Hitch Rack - 4-Bike</td>\n      <td>20</td>\n      <td>45</td>\n      <td>120</td>\n      <td>1188</td>\n      <td>900</td>\n      <td>2088</td>\n    </tr>\n    <tr>\n      <th>4</th>\n      <td>2014-05-15</td>\n      <td>15</td>\n      <td>May</td>\n      <td>2014</td>\n      <td>47</td>\n      <td>Adults (35-64)</td>\n      <td>F</td>\n      <td>Australia</td>\n      <td>New South Wales</td>\n      <td>Accessories</td>\n      <td>Bike Racks</td>\n      <td>Hitch Rack - 4-Bike</td>\n      <td>4</td>\n      <td>45</td>\n      <td>120</td>\n      <td>238</td>\n      <td>180</td>\n      <td>418</td>\n    </tr>\n  </tbody>\n</table>\n</div>"
     },
     "execution_count": 3,
     "metadata": {},
     "output_type": "execute_result"
    }
   ],
   "source": [
    "sales.head()"
   ],
   "metadata": {
    "collapsed": false,
    "pycharm": {
     "name": "#%%\n"
    }
   }
  },
  {
   "cell_type": "code",
   "execution_count": 252,
   "outputs": [
    {
     "data": {
      "text/plain": "(113036, 18)"
     },
     "execution_count": 252,
     "metadata": {},
     "output_type": "execute_result"
    }
   ],
   "source": [
    "sales.shape"
   ],
   "metadata": {
    "collapsed": false,
    "pycharm": {
     "name": "#%%\n"
    }
   }
  },
  {
   "cell_type": "code",
   "execution_count": 250,
   "outputs": [
    {
     "name": "stdout",
     "output_type": "stream",
     "text": [
      "<class 'pandas.core.frame.DataFrame'>\n",
      "RangeIndex: 113036 entries, 0 to 113035\n",
      "Data columns (total 18 columns):\n",
      " #   Column            Non-Null Count   Dtype         \n",
      "---  ------            --------------   -----         \n",
      " 0   Date              113036 non-null  datetime64[ns]\n",
      " 1   Day               113036 non-null  int64         \n",
      " 2   Month             113036 non-null  object        \n",
      " 3   Year              113036 non-null  int64         \n",
      " 4   Customer_Age      113036 non-null  int64         \n",
      " 5   Age_Group         113036 non-null  object        \n",
      " 6   Customer_Gender   113036 non-null  object        \n",
      " 7   Country           113036 non-null  object        \n",
      " 8   State             113036 non-null  object        \n",
      " 9   Product_Category  113036 non-null  object        \n",
      " 10  Sub_Category      113036 non-null  object        \n",
      " 11  Product           113036 non-null  object        \n",
      " 12  Order_Quantity    113036 non-null  int64         \n",
      " 13  Unit_Cost         113036 non-null  int64         \n",
      " 14  Unit_Price        113036 non-null  int64         \n",
      " 15  Profit            113036 non-null  int64         \n",
      " 16  Cost              113036 non-null  int64         \n",
      " 17  Revenue           113036 non-null  float64       \n",
      "dtypes: datetime64[ns](1), float64(1), int64(8), object(8)\n",
      "memory usage: 15.5+ MB\n"
     ]
    }
   ],
   "source": [
    "sales.info()"
   ],
   "metadata": {
    "collapsed": false,
    "pycharm": {
     "name": "#%%\n"
    }
   }
  },
  {
   "cell_type": "code",
   "execution_count": 254,
   "outputs": [
    {
     "data": {
      "text/plain": "Index(['Date', 'Day', 'Month', 'Year', 'Customer_Age', 'Age_Group',\n       'Customer_Gender', 'Country', 'State', 'Product_Category',\n       'Sub_Category', 'Product', 'Order_Quantity', 'Unit_Cost', 'Unit_Price',\n       'Profit', 'Cost', 'Revenue'],\n      dtype='object')"
     },
     "execution_count": 254,
     "metadata": {},
     "output_type": "execute_result"
    }
   ],
   "source": [
    "sales.columns"
   ],
   "metadata": {
    "collapsed": false,
    "pycharm": {
     "name": "#%%\n"
    }
   }
  },
  {
   "cell_type": "code",
   "execution_count": 7,
   "outputs": [
    {
     "data": {
      "text/plain": "                 Day           Year   Customer_Age  Order_Quantity  \\\ncount  113036.000000  113036.000000  113036.000000   113036.000000   \nmean       15.665753    2014.401739      35.919212       11.901660   \nstd         8.781567       1.272510      11.021936        9.561857   \nmin         1.000000    2011.000000      17.000000        1.000000   \n25%         8.000000    2013.000000      28.000000        2.000000   \n50%        16.000000    2014.000000      35.000000       10.000000   \n75%        23.000000    2016.000000      43.000000       20.000000   \nmax        31.000000    2016.000000      87.000000       32.000000   \n\n           Unit_Cost     Unit_Price         Profit           Cost  \\\ncount  113036.000000  113036.000000  113036.000000  113036.000000   \nmean      267.296366     452.938427     285.051665     469.318695   \nstd       549.835483     922.071219     453.887443     884.866118   \nmin         1.000000       2.000000     -30.000000       1.000000   \n25%         2.000000       5.000000      29.000000      28.000000   \n50%         9.000000      24.000000     101.000000     108.000000   \n75%        42.000000      70.000000     358.000000     432.000000   \nmax      2171.000000    3578.000000   15096.000000   42978.000000   \n\n             Revenue  \ncount  113036.000000  \nmean      754.370360  \nstd      1309.094674  \nmin         2.000000  \n25%        63.000000  \n50%       223.000000  \n75%       800.000000  \nmax     58074.000000  ",
      "text/html": "<div>\n<style scoped>\n    .dataframe tbody tr th:only-of-type {\n        vertical-align: middle;\n    }\n\n    .dataframe tbody tr th {\n        vertical-align: top;\n    }\n\n    .dataframe thead th {\n        text-align: right;\n    }\n</style>\n<table border=\"1\" class=\"dataframe\">\n  <thead>\n    <tr style=\"text-align: right;\">\n      <th></th>\n      <th>Day</th>\n      <th>Year</th>\n      <th>Customer_Age</th>\n      <th>Order_Quantity</th>\n      <th>Unit_Cost</th>\n      <th>Unit_Price</th>\n      <th>Profit</th>\n      <th>Cost</th>\n      <th>Revenue</th>\n    </tr>\n  </thead>\n  <tbody>\n    <tr>\n      <th>count</th>\n      <td>113036.000000</td>\n      <td>113036.000000</td>\n      <td>113036.000000</td>\n      <td>113036.000000</td>\n      <td>113036.000000</td>\n      <td>113036.000000</td>\n      <td>113036.000000</td>\n      <td>113036.000000</td>\n      <td>113036.000000</td>\n    </tr>\n    <tr>\n      <th>mean</th>\n      <td>15.665753</td>\n      <td>2014.401739</td>\n      <td>35.919212</td>\n      <td>11.901660</td>\n      <td>267.296366</td>\n      <td>452.938427</td>\n      <td>285.051665</td>\n      <td>469.318695</td>\n      <td>754.370360</td>\n    </tr>\n    <tr>\n      <th>std</th>\n      <td>8.781567</td>\n      <td>1.272510</td>\n      <td>11.021936</td>\n      <td>9.561857</td>\n      <td>549.835483</td>\n      <td>922.071219</td>\n      <td>453.887443</td>\n      <td>884.866118</td>\n      <td>1309.094674</td>\n    </tr>\n    <tr>\n      <th>min</th>\n      <td>1.000000</td>\n      <td>2011.000000</td>\n      <td>17.000000</td>\n      <td>1.000000</td>\n      <td>1.000000</td>\n      <td>2.000000</td>\n      <td>-30.000000</td>\n      <td>1.000000</td>\n      <td>2.000000</td>\n    </tr>\n    <tr>\n      <th>25%</th>\n      <td>8.000000</td>\n      <td>2013.000000</td>\n      <td>28.000000</td>\n      <td>2.000000</td>\n      <td>2.000000</td>\n      <td>5.000000</td>\n      <td>29.000000</td>\n      <td>28.000000</td>\n      <td>63.000000</td>\n    </tr>\n    <tr>\n      <th>50%</th>\n      <td>16.000000</td>\n      <td>2014.000000</td>\n      <td>35.000000</td>\n      <td>10.000000</td>\n      <td>9.000000</td>\n      <td>24.000000</td>\n      <td>101.000000</td>\n      <td>108.000000</td>\n      <td>223.000000</td>\n    </tr>\n    <tr>\n      <th>75%</th>\n      <td>23.000000</td>\n      <td>2016.000000</td>\n      <td>43.000000</td>\n      <td>20.000000</td>\n      <td>42.000000</td>\n      <td>70.000000</td>\n      <td>358.000000</td>\n      <td>432.000000</td>\n      <td>800.000000</td>\n    </tr>\n    <tr>\n      <th>max</th>\n      <td>31.000000</td>\n      <td>2016.000000</td>\n      <td>87.000000</td>\n      <td>32.000000</td>\n      <td>2171.000000</td>\n      <td>3578.000000</td>\n      <td>15096.000000</td>\n      <td>42978.000000</td>\n      <td>58074.000000</td>\n    </tr>\n  </tbody>\n</table>\n</div>"
     },
     "execution_count": 7,
     "metadata": {},
     "output_type": "execute_result"
    }
   ],
   "source": [
    "sales.describe()"
   ],
   "metadata": {
    "collapsed": false,
    "pycharm": {
     "name": "#%%\n"
    }
   }
  },
  {
   "cell_type": "code",
   "execution_count": 55,
   "outputs": [
    {
     "data": {
      "text/plain": "2034648"
     },
     "execution_count": 55,
     "metadata": {},
     "output_type": "execute_result"
    }
   ],
   "source": [
    "sales.size"
   ],
   "metadata": {
    "collapsed": false,
    "pycharm": {
     "name": "#%%\n"
    }
   }
  },
  {
   "cell_type": "code",
   "execution_count": 58,
   "outputs": [
    {
     "data": {
      "text/plain": "Date                datetime64[ns]\nDay                          int64\nMonth                       object\nYear                         int64\nCustomer_Age                 int64\nAge_Group                   object\nCustomer_Gender             object\nCountry                     object\nState                       object\nProduct_Category            object\nSub_Category                object\nProduct                     object\nOrder_Quantity               int64\nUnit_Cost                    int64\nUnit_Price                   int64\nProfit                       int64\nCost                         int64\nRevenue                    float64\ndtype: object"
     },
     "execution_count": 58,
     "metadata": {},
     "output_type": "execute_result"
    }
   ],
   "source": [
    "sales.dtypes"
   ],
   "metadata": {
    "collapsed": false,
    "pycharm": {
     "name": "#%%\n"
    }
   }
  },
  {
   "cell_type": "code",
   "execution_count": 61,
   "outputs": [
    {
     "data": {
      "text/plain": "object            8\nint64             8\nfloat64           1\ndatetime64[ns]    1\ndtype: int64"
     },
     "execution_count": 61,
     "metadata": {},
     "output_type": "execute_result"
    }
   ],
   "source": [
    "sales.dtypes.value_counts()"
   ],
   "metadata": {
    "collapsed": false,
    "pycharm": {
     "name": "#%%\n"
    }
   }
  },
  {
   "cell_type": "code",
   "execution_count": 9,
   "outputs": [
    {
     "data": {
      "text/plain": "count    113036.000000\nmean        267.296366\nstd         549.835483\nmin           1.000000\n25%           2.000000\n50%           9.000000\n75%          42.000000\nmax        2171.000000\nName: Unit_Cost, dtype: float64"
     },
     "execution_count": 9,
     "metadata": {},
     "output_type": "execute_result"
    }
   ],
   "source": [
    "sales['Unit_Cost'].describe()"
   ],
   "metadata": {
    "collapsed": false,
    "pycharm": {
     "name": "#%%\n"
    }
   }
  },
  {
   "cell_type": "code",
   "execution_count": 10,
   "outputs": [
    {
     "data": {
      "text/plain": "267.296365759581"
     },
     "execution_count": 10,
     "metadata": {},
     "output_type": "execute_result"
    }
   ],
   "source": [
    "sales['Unit_Cost'].mean()"
   ],
   "metadata": {
    "collapsed": false,
    "pycharm": {
     "name": "#%%\n"
    }
   }
  },
  {
   "cell_type": "code",
   "execution_count": 11,
   "outputs": [
    {
     "data": {
      "text/plain": "9.0"
     },
     "execution_count": 11,
     "metadata": {},
     "output_type": "execute_result"
    }
   ],
   "source": [
    "sales['Unit_Cost'].median()"
   ],
   "metadata": {
    "collapsed": false,
    "pycharm": {
     "name": "#%%\n"
    }
   }
  },
  {
   "cell_type": "code",
   "execution_count": 115,
   "outputs": [
    {
     "data": {
      "text/plain": "(1, 2171)"
     },
     "execution_count": 115,
     "metadata": {},
     "output_type": "execute_result"
    }
   ],
   "source": [
    "sales['Unit_Cost'].min(), sales['Unit_Cost'].max()"
   ],
   "metadata": {
    "collapsed": false,
    "pycharm": {
     "name": "#%%\n"
    }
   }
  },
  {
   "cell_type": "code",
   "execution_count": 116,
   "outputs": [
    {
     "data": {
      "text/plain": "549.8354831077943"
     },
     "execution_count": 116,
     "metadata": {},
     "output_type": "execute_result"
    }
   ],
   "source": [
    "sales['Unit_Cost'].std()"
   ],
   "metadata": {
    "collapsed": false,
    "pycharm": {
     "name": "#%%\n"
    }
   }
  },
  {
   "cell_type": "code",
   "execution_count": 117,
   "outputs": [
    {
     "data": {
      "text/plain": "2.0"
     },
     "execution_count": 117,
     "metadata": {},
     "output_type": "execute_result"
    }
   ],
   "source": [
    "sales['Unit_Cost'].quantile(0.25)"
   ],
   "metadata": {
    "collapsed": false,
    "pycharm": {
     "name": "#%%\n"
    }
   }
  },
  {
   "cell_type": "code",
   "execution_count": 118,
   "outputs": [
    {
     "data": {
      "text/plain": "0.2       2.0\n0.4       7.0\n0.6      13.0\n0.8     344.0\n1.0    2171.0\nName: Unit_Cost, dtype: float64"
     },
     "execution_count": 118,
     "metadata": {},
     "output_type": "execute_result"
    }
   ],
   "source": [
    "sales['Unit_Cost'].quantile([.2, .4, .6, .8, 1])"
   ],
   "metadata": {
    "collapsed": false,
    "pycharm": {
     "name": "#%%\n"
    }
   }
  },
  {
   "cell_type": "code",
   "execution_count": 13,
   "outputs": [
    {
     "data": {
      "text/plain": "Adults (35-64)          55824\nYoung Adults (25-34)    38654\nYouth (<25)             17828\nSeniors (64+)             730\nName: Age_Group, dtype: int64"
     },
     "execution_count": 13,
     "metadata": {},
     "output_type": "execute_result"
    }
   ],
   "source": [
    "sales['Age_Group'].value_counts()"
   ],
   "metadata": {
    "collapsed": false,
    "pycharm": {
     "name": "#%%\n"
    }
   }
  },
  {
   "cell_type": "code",
   "execution_count": 14,
   "outputs": [
    {
     "data": {
      "text/plain": "                     Day      Year  Customer_Age  Order_Quantity  Unit_Cost  \\\nDay             1.000000 -0.007635     -0.014296       -0.002412   0.003133   \nYear           -0.007635  1.000000      0.040994        0.123169  -0.217575   \nCustomer_Age   -0.014296  0.040994      1.000000        0.026887  -0.021374   \nOrder_Quantity -0.002412  0.123169      0.026887        1.000000  -0.515835   \nUnit_Cost       0.003133 -0.217575     -0.021374       -0.515835   1.000000   \nUnit_Price      0.003207 -0.213673     -0.020262       -0.515925   0.997894   \nProfit          0.004623 -0.181525      0.004319       -0.238863   0.741020   \nCost            0.003329 -0.215604     -0.016013       -0.340382   0.829869   \nRevenue         0.003853 -0.208673     -0.009326       -0.312895   0.817865   \n\n                Unit_Price    Profit      Cost   Revenue  \nDay               0.003207  0.004623  0.003329  0.003853  \nYear             -0.213673 -0.181525 -0.215604 -0.208673  \nCustomer_Age     -0.020262  0.004319 -0.016013 -0.009326  \nOrder_Quantity   -0.515925 -0.238863 -0.340382 -0.312895  \nUnit_Cost         0.997894  0.741020  0.829869  0.817865  \nUnit_Price        1.000000  0.749870  0.826301  0.818522  \nProfit            0.749870  1.000000  0.902233  0.956572  \nCost              0.826301  0.902233  1.000000  0.988758  \nRevenue           0.818522  0.956572  0.988758  1.000000  ",
      "text/html": "<div>\n<style scoped>\n    .dataframe tbody tr th:only-of-type {\n        vertical-align: middle;\n    }\n\n    .dataframe tbody tr th {\n        vertical-align: top;\n    }\n\n    .dataframe thead th {\n        text-align: right;\n    }\n</style>\n<table border=\"1\" class=\"dataframe\">\n  <thead>\n    <tr style=\"text-align: right;\">\n      <th></th>\n      <th>Day</th>\n      <th>Year</th>\n      <th>Customer_Age</th>\n      <th>Order_Quantity</th>\n      <th>Unit_Cost</th>\n      <th>Unit_Price</th>\n      <th>Profit</th>\n      <th>Cost</th>\n      <th>Revenue</th>\n    </tr>\n  </thead>\n  <tbody>\n    <tr>\n      <th>Day</th>\n      <td>1.000000</td>\n      <td>-0.007635</td>\n      <td>-0.014296</td>\n      <td>-0.002412</td>\n      <td>0.003133</td>\n      <td>0.003207</td>\n      <td>0.004623</td>\n      <td>0.003329</td>\n      <td>0.003853</td>\n    </tr>\n    <tr>\n      <th>Year</th>\n      <td>-0.007635</td>\n      <td>1.000000</td>\n      <td>0.040994</td>\n      <td>0.123169</td>\n      <td>-0.217575</td>\n      <td>-0.213673</td>\n      <td>-0.181525</td>\n      <td>-0.215604</td>\n      <td>-0.208673</td>\n    </tr>\n    <tr>\n      <th>Customer_Age</th>\n      <td>-0.014296</td>\n      <td>0.040994</td>\n      <td>1.000000</td>\n      <td>0.026887</td>\n      <td>-0.021374</td>\n      <td>-0.020262</td>\n      <td>0.004319</td>\n      <td>-0.016013</td>\n      <td>-0.009326</td>\n    </tr>\n    <tr>\n      <th>Order_Quantity</th>\n      <td>-0.002412</td>\n      <td>0.123169</td>\n      <td>0.026887</td>\n      <td>1.000000</td>\n      <td>-0.515835</td>\n      <td>-0.515925</td>\n      <td>-0.238863</td>\n      <td>-0.340382</td>\n      <td>-0.312895</td>\n    </tr>\n    <tr>\n      <th>Unit_Cost</th>\n      <td>0.003133</td>\n      <td>-0.217575</td>\n      <td>-0.021374</td>\n      <td>-0.515835</td>\n      <td>1.000000</td>\n      <td>0.997894</td>\n      <td>0.741020</td>\n      <td>0.829869</td>\n      <td>0.817865</td>\n    </tr>\n    <tr>\n      <th>Unit_Price</th>\n      <td>0.003207</td>\n      <td>-0.213673</td>\n      <td>-0.020262</td>\n      <td>-0.515925</td>\n      <td>0.997894</td>\n      <td>1.000000</td>\n      <td>0.749870</td>\n      <td>0.826301</td>\n      <td>0.818522</td>\n    </tr>\n    <tr>\n      <th>Profit</th>\n      <td>0.004623</td>\n      <td>-0.181525</td>\n      <td>0.004319</td>\n      <td>-0.238863</td>\n      <td>0.741020</td>\n      <td>0.749870</td>\n      <td>1.000000</td>\n      <td>0.902233</td>\n      <td>0.956572</td>\n    </tr>\n    <tr>\n      <th>Cost</th>\n      <td>0.003329</td>\n      <td>-0.215604</td>\n      <td>-0.016013</td>\n      <td>-0.340382</td>\n      <td>0.829869</td>\n      <td>0.826301</td>\n      <td>0.902233</td>\n      <td>1.000000</td>\n      <td>0.988758</td>\n    </tr>\n    <tr>\n      <th>Revenue</th>\n      <td>0.003853</td>\n      <td>-0.208673</td>\n      <td>-0.009326</td>\n      <td>-0.312895</td>\n      <td>0.817865</td>\n      <td>0.818522</td>\n      <td>0.956572</td>\n      <td>0.988758</td>\n      <td>1.000000</td>\n    </tr>\n  </tbody>\n</table>\n</div>"
     },
     "execution_count": 14,
     "metadata": {},
     "output_type": "execute_result"
    }
   ],
   "source": [
    "corr = sales.corr()\n",
    "corr"
   ],
   "metadata": {
    "collapsed": false,
    "pycharm": {
     "name": "#%%\n"
    }
   }
  },
  {
   "cell_type": "markdown",
   "source": [
    "![green-divider](https://user-images.githubusercontent.com/7065401/52071924-c003ad80-2562-11e9-8297-1c6595f8a7ff.png)\n",
    "# Column Wrangling & Feature Engineering"
   ],
   "metadata": {
    "collapsed": false
   }
  },
  {
   "cell_type": "code",
   "execution_count": 16,
   "outputs": [
    {
     "data": {
      "text/plain": "0    50.000000\n1    50.000000\n2    49.000000\n3    42.612245\n4     8.893617\nName: Revenue_per_Age, dtype: float64"
     },
     "execution_count": 16,
     "metadata": {},
     "output_type": "execute_result"
    }
   ],
   "source": [
    "sales['Revenue_per_Age'] = sales['Revenue'] / sales['Customer_Age']\n",
    "sales['Revenue_per_Age'].head()"
   ],
   "metadata": {
    "collapsed": false,
    "pycharm": {
     "name": "#%%\n"
    }
   }
  },
  {
   "cell_type": "code",
   "execution_count": 17,
   "outputs": [
    {
     "data": {
      "text/plain": "0     360\n1     360\n2    1035\n3     900\n4     180\nName: Calculated_Cost, dtype: int64"
     },
     "execution_count": 17,
     "metadata": {},
     "output_type": "execute_result"
    }
   ],
   "source": [
    "sales['Calculated_Cost'] = sales['Order_Quantity'] * sales['Unit_Cost']\n",
    "sales['Calculated_Cost'].head()"
   ],
   "metadata": {
    "collapsed": false,
    "pycharm": {
     "name": "#%%\n"
    }
   }
  },
  {
   "cell_type": "code",
   "execution_count": 19,
   "outputs": [
    {
     "data": {
      "text/plain": "0"
     },
     "execution_count": 19,
     "metadata": {},
     "output_type": "execute_result"
    }
   ],
   "source": [
    "(sales['Calculated_Cost'] != sales['Cost']).sum()"
   ],
   "metadata": {
    "collapsed": false,
    "pycharm": {
     "name": "#%%\n"
    }
   }
  },
  {
   "cell_type": "markdown",
   "source": [
    "![purple-divider](https://user-images.githubusercontent.com/7065401/52071927-c1cd7100-2562-11e9-908a-dde91ba14e59.png)\n",
    "\n",
    "## Modifying All"
   ],
   "metadata": {
    "collapsed": false
   }
  },
  {
   "cell_type": "code",
   "execution_count": 20,
   "outputs": [
    {
     "data": {
      "text/plain": "0     370.80\n1     370.80\n2    1066.05\n3     927.00\n4     185.40\nName: Calculated_Cost, dtype: float64"
     },
     "execution_count": 20,
     "metadata": {},
     "output_type": "execute_result"
    }
   ],
   "source": [
    "sales['Calculated_Cost'] *= 1.03\n",
    "sales['Calculated_Cost'].head()"
   ],
   "metadata": {
    "collapsed": false,
    "pycharm": {
     "name": "#%%\n"
    }
   }
  },
  {
   "cell_type": "markdown",
   "source": [
    "![green-divider](https://user-images.githubusercontent.com/7065401/52071924-c003ad80-2562-11e9-8297-1c6595f8a7ff.png)\n",
    "\n",
    "## Modify the `first appearance` of `Vision` to year 1964"
   ],
   "metadata": {
    "collapsed": false
   }
  },
  {
   "cell_type": "code",
   "execution_count": 232,
   "outputs": [],
   "source": [
    "marvel_df.loc['Vision', 'first_appearance'] = 1964\n",
    "marvel_df"
   ],
   "metadata": {
    "collapsed": false,
    "pycharm": {
     "name": "#%%\n"
    }
   }
  },
  {
   "cell_type": "code",
   "execution_count": 247,
   "outputs": [
    {
     "data": {
      "text/plain": "50        1047.497\n51        1047.497\n52        3935.767\n53        3794.681\n60         833.206\n            ...   \n112979    2289.320\n113000     491.139\n113001     572.330\n113034    1677.060\n113035    1606.517\nName: Revenue, Length: 10998, dtype: float64"
     },
     "execution_count": 247,
     "metadata": {},
     "output_type": "execute_result"
    }
   ],
   "source": [
    "sales.loc[sales['Country'] == 'France', 'Revenue'] *= 1.10\n",
    "sales.loc[sales['Country'] == 'France', 'Revenue']"
   ],
   "metadata": {
    "collapsed": false,
    "pycharm": {
     "name": "#%%\n"
    }
   }
  },
  {
   "cell_type": "code",
   "execution_count": 98,
   "outputs": [
    {
     "data": {
      "text/plain": "GDP   -1000000.0\nHDI         -0.3\ndtype: float64"
     },
     "execution_count": 98,
     "metadata": {},
     "output_type": "execute_result"
    }
   ],
   "source": [
    "crisis = pd.Series([-1_000_000, -0.3], index=['GDP', 'HDI'])\n",
    "crisis"
   ],
   "metadata": {
    "collapsed": false,
    "pycharm": {
     "name": "#%%\n"
    }
   }
  },
  {
   "cell_type": "code",
   "execution_count": 99,
   "outputs": [
    {
     "data": {
      "text/plain": "                     GDP    HDI\nCanada           1785387  0.913\nFrance           2833687  0.888\nGermany          3874437  0.916\nItaly            2167744  0.873\nJapan            4602367  0.891\nUnited Kingdom   2950039  0.907\nUnited States   17348075  0.915",
      "text/html": "<div>\n<style scoped>\n    .dataframe tbody tr th:only-of-type {\n        vertical-align: middle;\n    }\n\n    .dataframe tbody tr th {\n        vertical-align: top;\n    }\n\n    .dataframe thead th {\n        text-align: right;\n    }\n</style>\n<table border=\"1\" class=\"dataframe\">\n  <thead>\n    <tr style=\"text-align: right;\">\n      <th></th>\n      <th>GDP</th>\n      <th>HDI</th>\n    </tr>\n  </thead>\n  <tbody>\n    <tr>\n      <th>Canada</th>\n      <td>1785387</td>\n      <td>0.913</td>\n    </tr>\n    <tr>\n      <th>France</th>\n      <td>2833687</td>\n      <td>0.888</td>\n    </tr>\n    <tr>\n      <th>Germany</th>\n      <td>3874437</td>\n      <td>0.916</td>\n    </tr>\n    <tr>\n      <th>Italy</th>\n      <td>2167744</td>\n      <td>0.873</td>\n    </tr>\n    <tr>\n      <th>Japan</th>\n      <td>4602367</td>\n      <td>0.891</td>\n    </tr>\n    <tr>\n      <th>United Kingdom</th>\n      <td>2950039</td>\n      <td>0.907</td>\n    </tr>\n    <tr>\n      <th>United States</th>\n      <td>17348075</td>\n      <td>0.915</td>\n    </tr>\n  </tbody>\n</table>\n</div>"
     },
     "execution_count": 99,
     "metadata": {},
     "output_type": "execute_result"
    }
   ],
   "source": [
    "df[['GDP', 'HDI']]"
   ],
   "metadata": {
    "collapsed": false,
    "pycharm": {
     "name": "#%%\n"
    }
   }
  },
  {
   "cell_type": "code",
   "execution_count": 100,
   "outputs": [
    {
     "data": {
      "text/plain": "                       GDP    HDI\nCanada            785387.0  0.613\nFrance           1833687.0  0.588\nGermany          2874437.0  0.616\nItaly            1167744.0  0.573\nJapan            3602367.0  0.591\nUnited Kingdom   1950039.0  0.607\nUnited States   16348075.0  0.615",
      "text/html": "<div>\n<style scoped>\n    .dataframe tbody tr th:only-of-type {\n        vertical-align: middle;\n    }\n\n    .dataframe tbody tr th {\n        vertical-align: top;\n    }\n\n    .dataframe thead th {\n        text-align: right;\n    }\n</style>\n<table border=\"1\" class=\"dataframe\">\n  <thead>\n    <tr style=\"text-align: right;\">\n      <th></th>\n      <th>GDP</th>\n      <th>HDI</th>\n    </tr>\n  </thead>\n  <tbody>\n    <tr>\n      <th>Canada</th>\n      <td>785387.0</td>\n      <td>0.613</td>\n    </tr>\n    <tr>\n      <th>France</th>\n      <td>1833687.0</td>\n      <td>0.588</td>\n    </tr>\n    <tr>\n      <th>Germany</th>\n      <td>2874437.0</td>\n      <td>0.616</td>\n    </tr>\n    <tr>\n      <th>Italy</th>\n      <td>1167744.0</td>\n      <td>0.573</td>\n    </tr>\n    <tr>\n      <th>Japan</th>\n      <td>3602367.0</td>\n      <td>0.591</td>\n    </tr>\n    <tr>\n      <th>United Kingdom</th>\n      <td>1950039.0</td>\n      <td>0.607</td>\n    </tr>\n    <tr>\n      <th>United States</th>\n      <td>16348075.0</td>\n      <td>0.615</td>\n    </tr>\n  </tbody>\n</table>\n</div>"
     },
     "execution_count": 100,
     "metadata": {},
     "output_type": "execute_result"
    }
   ],
   "source": [
    "df[['GDP', 'HDI']] + crisis"
   ],
   "metadata": {
    "collapsed": false,
    "pycharm": {
     "name": "#%%\n"
    }
   }
  },
  {
   "cell_type": "markdown",
   "source": [
    "![purple-divider](https://user-images.githubusercontent.com/7065401/52071927-c1cd7100-2562-11e9-908a-dde91ba14e59.png)\n",
    "\n",
    "# Selecting, Indexing, Filtering & Slicing"
   ],
   "metadata": {
    "collapsed": false
   }
  },
  {
   "cell_type": "markdown",
   "source": [
    "![green-divider](https://user-images.githubusercontent.com/7065401/52071924-c003ad80-2562-11e9-8297-1c6595f8a7ff.png)\n",
    "# Filtering"
   ],
   "metadata": {
    "collapsed": false
   }
  },
  {
   "cell_type": "markdown",
   "source": [
    "#### Loc is useful for Filtering data where the second line is good for selecting data"
   ],
   "metadata": {
    "collapsed": false
   }
  },
  {
   "cell_type": "markdown",
   "source": [
    "#### Look for individual rows using the loc function"
   ],
   "metadata": {
    "collapsed": false
   }
  },
  {
   "cell_type": "code",
   "execution_count": 81,
   "outputs": [
    {
     "data": {
      "text/plain": "Population       35.467\nGDP             1785387\nSurface Area    9984670\nHDI               0.913\nContinent       America\nName: Canada, dtype: object"
     },
     "execution_count": 81,
     "metadata": {},
     "output_type": "execute_result"
    }
   ],
   "source": [
    "df.loc['Canada']"
   ],
   "metadata": {
    "collapsed": false,
    "pycharm": {
     "name": "#%%\n"
    }
   }
  },
  {
   "cell_type": "markdown",
   "source": [
    "#### select the last row by sequential position"
   ],
   "metadata": {
    "collapsed": false
   }
  },
  {
   "cell_type": "code",
   "source": [
    "df.iloc[-1]"
   ],
   "metadata": {
    "collapsed": false,
    "pycharm": {
     "name": "#%%\n"
    }
   },
   "execution_count": 75,
   "outputs": [
    {
     "data": {
      "text/plain": "Population       318.523\nGDP             17348075\nSurface Area     9525067\nHDI                0.915\nContinent        America\nName: 6, dtype: object"
     },
     "execution_count": 75,
     "metadata": {},
     "output_type": "execute_result"
    }
   ]
  },
  {
   "cell_type": "code",
   "execution_count": 70,
   "outputs": [
    {
     "data": {
      "text/plain": "0                 Canada\n1                 Canada\n2              Australia\n3              Australia\n4              Australia\n               ...      \n113031    United Kingdom\n113032         Australia\n113033         Australia\n113034            France\n113035            France\nName: Country, Length: 113036, dtype: object"
     },
     "execution_count": 70,
     "metadata": {},
     "output_type": "execute_result"
    }
   ],
   "source": [
    "sales['Country']"
   ],
   "metadata": {
    "collapsed": false,
    "pycharm": {
     "name": "#%%\n"
    }
   }
  },
  {
   "cell_type": "markdown",
   "source": [],
   "metadata": {
    "collapsed": false
   }
  },
  {
   "cell_type": "markdown",
   "source": [
    "![green-divider](https://user-images.githubusercontent.com/7065401/52071924-c003ad80-2562-11e9-8297-1c6595f8a7ff.png)\n",
    "## Retrieving Single and Multiple columns"
   ],
   "metadata": {
    "collapsed": false
   }
  },
  {
   "cell_type": "code",
   "execution_count": 236,
   "outputs": [
    {
     "data": {
      "text/plain": "                   Age_Group  Revenue\n0                Youth (<25)      950\n36      Young Adults (25-34)     2970\n46      Young Adults (25-34)     1426\n64      Young Adults (25-34)      832\n88            Adults (35-64)      588\n...                      ...      ...\n112880        Adults (35-64)     1647\n112896  Young Adults (25-34)     1106\n112922        Adults (35-64)     1756\n112938         Seniors (64+)      314\n112950        Adults (35-64)      607\n\n[4174 rows x 2 columns]",
      "text/html": "<div>\n<style scoped>\n    .dataframe tbody tr th:only-of-type {\n        vertical-align: middle;\n    }\n\n    .dataframe tbody tr th {\n        vertical-align: top;\n    }\n\n    .dataframe thead th {\n        text-align: right;\n    }\n</style>\n<table border=\"1\" class=\"dataframe\">\n  <thead>\n    <tr style=\"text-align: right;\">\n      <th></th>\n      <th>Age_Group</th>\n      <th>Revenue</th>\n    </tr>\n  </thead>\n  <tbody>\n    <tr>\n      <th>0</th>\n      <td>Youth (&lt;25)</td>\n      <td>950</td>\n    </tr>\n    <tr>\n      <th>36</th>\n      <td>Young Adults (25-34)</td>\n      <td>2970</td>\n    </tr>\n    <tr>\n      <th>46</th>\n      <td>Young Adults (25-34)</td>\n      <td>1426</td>\n    </tr>\n    <tr>\n      <th>64</th>\n      <td>Young Adults (25-34)</td>\n      <td>832</td>\n    </tr>\n    <tr>\n      <th>88</th>\n      <td>Adults (35-64)</td>\n      <td>588</td>\n    </tr>\n    <tr>\n      <th>...</th>\n      <td>...</td>\n      <td>...</td>\n    </tr>\n    <tr>\n      <th>112880</th>\n      <td>Adults (35-64)</td>\n      <td>1647</td>\n    </tr>\n    <tr>\n      <th>112896</th>\n      <td>Young Adults (25-34)</td>\n      <td>1106</td>\n    </tr>\n    <tr>\n      <th>112922</th>\n      <td>Adults (35-64)</td>\n      <td>1756</td>\n    </tr>\n    <tr>\n      <th>112938</th>\n      <td>Seniors (64+)</td>\n      <td>314</td>\n    </tr>\n    <tr>\n      <th>112950</th>\n      <td>Adults (35-64)</td>\n      <td>607</td>\n    </tr>\n  </tbody>\n</table>\n<p>4174 rows × 2 columns</p>\n</div>"
     },
     "execution_count": 236,
     "metadata": {},
     "output_type": "execute_result"
    }
   ],
   "source": [
    "sales.loc[(sales['Month'] == 'November') &\n",
    "          (sales['Year'] == 2013),\n",
    "          ['Age_Group','Revenue']\n",
    "]"
   ],
   "metadata": {
    "collapsed": false,
    "pycharm": {
     "name": "#%%\n"
    }
   }
  },
  {
   "cell_type": "code",
   "execution_count": 84,
   "outputs": [
    {
     "data": {
      "text/plain": "            Age_Group  Revenue\n156    Adults (35-64)    108.0\n157    Adults (35-64)    108.0\n23826  Adults (35-64)    238.0\n23827  Adults (35-64)    277.0\n31446  Adults (35-64)    914.0\n31447  Adults (35-64)    977.0\n79670  Adults (35-64)     54.0\n79671  Adults (35-64)    567.0\n79672  Adults (35-64)     27.0\n79673  Adults (35-64)    486.0",
      "text/html": "<div>\n<style scoped>\n    .dataframe tbody tr th:only-of-type {\n        vertical-align: middle;\n    }\n\n    .dataframe tbody tr th {\n        vertical-align: top;\n    }\n\n    .dataframe thead th {\n        text-align: right;\n    }\n</style>\n<table border=\"1\" class=\"dataframe\">\n  <thead>\n    <tr style=\"text-align: right;\">\n      <th></th>\n      <th>Age_Group</th>\n      <th>Revenue</th>\n    </tr>\n  </thead>\n  <tbody>\n    <tr>\n      <th>156</th>\n      <td>Adults (35-64)</td>\n      <td>108.0</td>\n    </tr>\n    <tr>\n      <th>157</th>\n      <td>Adults (35-64)</td>\n      <td>108.0</td>\n    </tr>\n    <tr>\n      <th>23826</th>\n      <td>Adults (35-64)</td>\n      <td>238.0</td>\n    </tr>\n    <tr>\n      <th>23827</th>\n      <td>Adults (35-64)</td>\n      <td>277.0</td>\n    </tr>\n    <tr>\n      <th>31446</th>\n      <td>Adults (35-64)</td>\n      <td>914.0</td>\n    </tr>\n    <tr>\n      <th>31447</th>\n      <td>Adults (35-64)</td>\n      <td>977.0</td>\n    </tr>\n    <tr>\n      <th>79670</th>\n      <td>Adults (35-64)</td>\n      <td>54.0</td>\n    </tr>\n    <tr>\n      <th>79671</th>\n      <td>Adults (35-64)</td>\n      <td>567.0</td>\n    </tr>\n    <tr>\n      <th>79672</th>\n      <td>Adults (35-64)</td>\n      <td>27.0</td>\n    </tr>\n    <tr>\n      <th>79673</th>\n      <td>Adults (35-64)</td>\n      <td>486.0</td>\n    </tr>\n  </tbody>\n</table>\n</div>"
     },
     "execution_count": 84,
     "metadata": {},
     "output_type": "execute_result"
    }
   ],
   "source": [
    "sales.loc[sales['State'] == 'Kentucky', ['Age_Group','Revenue']]"
   ],
   "metadata": {
    "collapsed": false,
    "pycharm": {
     "name": "#%%\n"
    }
   }
  },
  {
   "cell_type": "code",
   "execution_count": 90,
   "outputs": [
    {
     "data": {
      "text/plain": "         Population      GDP  Surface Area    HDI Continent\nFrance       63.951  2833687        640679  0.888    Europe\nGermany      80.940  3874437        357114  0.916    Europe\nItaly        60.665  2167744        301336  0.873    Europe",
      "text/html": "<div>\n<style scoped>\n    .dataframe tbody tr th:only-of-type {\n        vertical-align: middle;\n    }\n\n    .dataframe tbody tr th {\n        vertical-align: top;\n    }\n\n    .dataframe thead th {\n        text-align: right;\n    }\n</style>\n<table border=\"1\" class=\"dataframe\">\n  <thead>\n    <tr style=\"text-align: right;\">\n      <th></th>\n      <th>Population</th>\n      <th>GDP</th>\n      <th>Surface Area</th>\n      <th>HDI</th>\n      <th>Continent</th>\n    </tr>\n  </thead>\n  <tbody>\n    <tr>\n      <th>France</th>\n      <td>63.951</td>\n      <td>2833687</td>\n      <td>640679</td>\n      <td>0.888</td>\n      <td>Europe</td>\n    </tr>\n    <tr>\n      <th>Germany</th>\n      <td>80.940</td>\n      <td>3874437</td>\n      <td>357114</td>\n      <td>0.916</td>\n      <td>Europe</td>\n    </tr>\n    <tr>\n      <th>Italy</th>\n      <td>60.665</td>\n      <td>2167744</td>\n      <td>301336</td>\n      <td>0.873</td>\n      <td>Europe</td>\n    </tr>\n  </tbody>\n</table>\n</div>"
     },
     "execution_count": 90,
     "metadata": {},
     "output_type": "execute_result"
    }
   ],
   "source": [
    "df.loc['France': 'Italy']"
   ],
   "metadata": {
    "collapsed": false,
    "pycharm": {
     "name": "#%%\n"
    }
   }
  },
  {
   "cell_type": "code",
   "execution_count": 91,
   "outputs": [
    {
     "data": {
      "text/plain": "France     63.951\nGermany    80.940\nItaly      60.665\nName: Population, dtype: float64"
     },
     "execution_count": 91,
     "metadata": {},
     "output_type": "execute_result"
    }
   ],
   "source": [
    "df.loc['France': 'Italy', 'Population']"
   ],
   "metadata": {
    "collapsed": false,
    "pycharm": {
     "name": "#%%\n"
    }
   }
  },
  {
   "cell_type": "code",
   "execution_count": 92,
   "outputs": [
    {
     "data": {
      "text/plain": "         Population      GDP\nFrance       63.951  2833687\nGermany      80.940  3874437\nItaly        60.665  2167744",
      "text/html": "<div>\n<style scoped>\n    .dataframe tbody tr th:only-of-type {\n        vertical-align: middle;\n    }\n\n    .dataframe tbody tr th {\n        vertical-align: top;\n    }\n\n    .dataframe thead th {\n        text-align: right;\n    }\n</style>\n<table border=\"1\" class=\"dataframe\">\n  <thead>\n    <tr style=\"text-align: right;\">\n      <th></th>\n      <th>Population</th>\n      <th>GDP</th>\n    </tr>\n  </thead>\n  <tbody>\n    <tr>\n      <th>France</th>\n      <td>63.951</td>\n      <td>2833687</td>\n    </tr>\n    <tr>\n      <th>Germany</th>\n      <td>80.940</td>\n      <td>3874437</td>\n    </tr>\n    <tr>\n      <th>Italy</th>\n      <td>60.665</td>\n      <td>2167744</td>\n    </tr>\n  </tbody>\n</table>\n</div>"
     },
     "execution_count": 92,
     "metadata": {},
     "output_type": "execute_result"
    }
   ],
   "source": [
    "df.loc['France': 'Italy', ['Population', 'GDP']]"
   ],
   "metadata": {
    "collapsed": false,
    "pycharm": {
     "name": "#%%\n"
    }
   }
  },
  {
   "cell_type": "code",
   "execution_count": 86,
   "outputs": [
    {
     "data": {
      "text/plain": "2    2401.0\n3    2088.0\n4     418.0\n5     522.0\n6     379.0\nName: Revenue, dtype: float64"
     },
     "execution_count": 86,
     "metadata": {},
     "output_type": "execute_result"
    }
   ],
   "source": [
    "sales.loc[sales['Age_Group'] == 'Adults (35-64)', 'Revenue'].head()"
   ],
   "metadata": {
    "collapsed": false,
    "pycharm": {
     "name": "#%%\n"
    }
   }
  },
  {
   "cell_type": "markdown",
   "source": [
    "### Get the mean revenue of the `Adults (35-64)` sales group"
   ],
   "metadata": {
    "collapsed": false
   }
  },
  {
   "cell_type": "code",
   "execution_count": 29,
   "outputs": [
    {
     "data": {
      "text/plain": "762.8287654055604"
     },
     "execution_count": 29,
     "metadata": {},
     "output_type": "execute_result"
    }
   ],
   "source": [
    "sales.loc[sales['Age_Group']=='Adults (35-64)', 'Revenue'].mean()"
   ],
   "metadata": {
    "collapsed": false,
    "pycharm": {
     "name": "#%%\n"
    }
   }
  },
  {
   "cell_type": "markdown",
   "source": [
    "### How Many Records belong to Age Group `Youth (<25)` or `Adults 35-64`?"
   ],
   "metadata": {
    "collapsed": false,
    "pycharm": {
     "name": "#%% md\n"
    }
   }
  },
  {
   "cell_type": "code",
   "execution_count": 40,
   "outputs": [
    {
     "data": {
      "text/plain": "73652"
     },
     "execution_count": 40,
     "metadata": {},
     "output_type": "execute_result"
    }
   ],
   "source": [
    "sales.loc[(sales['Age_Group'] == 'Youth (<25)') | (sales['Age_Group'] == 'Adults (35-64)')].shape[0]"
   ],
   "metadata": {
    "collapsed": false,
    "pycharm": {
     "name": "#%%\n"
    }
   }
  },
  {
   "cell_type": "markdown",
   "source": [
    "### Get the mean revenue of the sales group `Adults (35-64)` in `United States`"
   ],
   "metadata": {
    "collapsed": false,
    "pycharm": {
     "name": "#%% md\n"
    }
   }
  },
  {
   "cell_type": "code",
   "execution_count": 43,
   "outputs": [
    {
     "data": {
      "text/plain": "726.7260473588342"
     },
     "execution_count": 43,
     "metadata": {},
     "output_type": "execute_result"
    }
   ],
   "source": [
    "sales.loc[(sales['Age_Group'] == 'Adults (35-64)') & (sales['Country'] == 'United States'), 'Revenue'].mean()"
   ],
   "metadata": {
    "collapsed": false,
    "pycharm": {
     "name": "#%%\n"
    }
   }
  },
  {
   "cell_type": "markdown",
   "source": [
    "### Increase the revenue by 10% to every sale made in France"
   ],
   "metadata": {
    "collapsed": false,
    "pycharm": {
     "name": "#%% md\n"
    }
   }
  },
  {
   "cell_type": "code",
   "execution_count": 50,
   "outputs": [
    {
     "data": {
      "text/plain": "50     787\n51     787\n52    2957\n53    2851\n60     626\nName: Revenue, dtype: int64"
     },
     "execution_count": 50,
     "metadata": {},
     "output_type": "execute_result"
    }
   ],
   "source": [
    "sales.loc[sales['Country'] == 'France', 'Revenue'].head()"
   ],
   "metadata": {
    "collapsed": false,
    "pycharm": {
     "name": "#%%\n"
    }
   }
  },
  {
   "cell_type": "markdown",
   "source": [
    "![purple-divider](https://user-images.githubusercontent.com/7065401/52071927-c1cd7100-2562-11e9-908a-dde91ba14e59.png)\n",
    "\n",
    "# Dropping Data"
   ],
   "metadata": {
    "collapsed": false
   }
  },
  {
   "cell_type": "code",
   "execution_count": null,
   "outputs": [],
   "source": [
    "df.drop('Canada')"
   ],
   "metadata": {
    "collapsed": false,
    "pycharm": {
     "name": "#%%\n"
    }
   }
  },
  {
   "cell_type": "code",
   "execution_count": null,
   "outputs": [],
   "source": [
    "df.drop(['Canada', 'Japan'])"
   ],
   "metadata": {
    "collapsed": false,
    "pycharm": {
     "name": "#%%\n"
    }
   }
  },
  {
   "cell_type": "code",
   "execution_count": null,
   "outputs": [],
   "source": [
    "df.drop(columns=['Population', 'HDI'])"
   ],
   "metadata": {
    "collapsed": false,
    "pycharm": {
     "name": "#%%\n"
    }
   }
  },
  {
   "cell_type": "markdown",
   "source": [
    "#### Drop rows using axis = 0 or rows"
   ],
   "metadata": {
    "collapsed": false
   }
  },
  {
   "cell_type": "code",
   "execution_count": 97,
   "outputs": [
    {
     "data": {
      "text/plain": "                Population       GDP  Surface Area    HDI Continent\nFrance              63.951   2833687        640679  0.888    Europe\nItaly               60.665   2167744        301336  0.873    Europe\nJapan              127.061   4602367        377930  0.891      Asia\nUnited Kingdom      64.511   2950039        242495  0.907    Europe\nUnited States      318.523  17348075       9525067  0.915   America",
      "text/html": "<div>\n<style scoped>\n    .dataframe tbody tr th:only-of-type {\n        vertical-align: middle;\n    }\n\n    .dataframe tbody tr th {\n        vertical-align: top;\n    }\n\n    .dataframe thead th {\n        text-align: right;\n    }\n</style>\n<table border=\"1\" class=\"dataframe\">\n  <thead>\n    <tr style=\"text-align: right;\">\n      <th></th>\n      <th>Population</th>\n      <th>GDP</th>\n      <th>Surface Area</th>\n      <th>HDI</th>\n      <th>Continent</th>\n    </tr>\n  </thead>\n  <tbody>\n    <tr>\n      <th>France</th>\n      <td>63.951</td>\n      <td>2833687</td>\n      <td>640679</td>\n      <td>0.888</td>\n      <td>Europe</td>\n    </tr>\n    <tr>\n      <th>Italy</th>\n      <td>60.665</td>\n      <td>2167744</td>\n      <td>301336</td>\n      <td>0.873</td>\n      <td>Europe</td>\n    </tr>\n    <tr>\n      <th>Japan</th>\n      <td>127.061</td>\n      <td>4602367</td>\n      <td>377930</td>\n      <td>0.891</td>\n      <td>Asia</td>\n    </tr>\n    <tr>\n      <th>United Kingdom</th>\n      <td>64.511</td>\n      <td>2950039</td>\n      <td>242495</td>\n      <td>0.907</td>\n      <td>Europe</td>\n    </tr>\n    <tr>\n      <th>United States</th>\n      <td>318.523</td>\n      <td>17348075</td>\n      <td>9525067</td>\n      <td>0.915</td>\n      <td>America</td>\n    </tr>\n  </tbody>\n</table>\n</div>"
     },
     "execution_count": 97,
     "metadata": {},
     "output_type": "execute_result"
    }
   ],
   "source": [
    "df.drop(['Canada', 'Germany'], axis=0)"
   ],
   "metadata": {
    "collapsed": false,
    "pycharm": {
     "name": "#%%\n"
    }
   }
  },
  {
   "cell_type": "code",
   "execution_count": 93,
   "outputs": [
    {
     "data": {
      "text/plain": "                Population       GDP  Surface Area    HDI Continent\nFrance              63.951   2833687        640679  0.888    Europe\nItaly               60.665   2167744        301336  0.873    Europe\nJapan              127.061   4602367        377930  0.891      Asia\nUnited Kingdom      64.511   2950039        242495  0.907    Europe\nUnited States      318.523  17348075       9525067  0.915   America",
      "text/html": "<div>\n<style scoped>\n    .dataframe tbody tr th:only-of-type {\n        vertical-align: middle;\n    }\n\n    .dataframe tbody tr th {\n        vertical-align: top;\n    }\n\n    .dataframe thead th {\n        text-align: right;\n    }\n</style>\n<table border=\"1\" class=\"dataframe\">\n  <thead>\n    <tr style=\"text-align: right;\">\n      <th></th>\n      <th>Population</th>\n      <th>GDP</th>\n      <th>Surface Area</th>\n      <th>HDI</th>\n      <th>Continent</th>\n    </tr>\n  </thead>\n  <tbody>\n    <tr>\n      <th>France</th>\n      <td>63.951</td>\n      <td>2833687</td>\n      <td>640679</td>\n      <td>0.888</td>\n      <td>Europe</td>\n    </tr>\n    <tr>\n      <th>Italy</th>\n      <td>60.665</td>\n      <td>2167744</td>\n      <td>301336</td>\n      <td>0.873</td>\n      <td>Europe</td>\n    </tr>\n    <tr>\n      <th>Japan</th>\n      <td>127.061</td>\n      <td>4602367</td>\n      <td>377930</td>\n      <td>0.891</td>\n      <td>Asia</td>\n    </tr>\n    <tr>\n      <th>United Kingdom</th>\n      <td>64.511</td>\n      <td>2950039</td>\n      <td>242495</td>\n      <td>0.907</td>\n      <td>Europe</td>\n    </tr>\n    <tr>\n      <th>United States</th>\n      <td>318.523</td>\n      <td>17348075</td>\n      <td>9525067</td>\n      <td>0.915</td>\n      <td>America</td>\n    </tr>\n  </tbody>\n</table>\n</div>"
     },
     "execution_count": 93,
     "metadata": {},
     "output_type": "execute_result"
    }
   ],
   "source": [
    "df.drop(['Canada', 'Germany'], axis='rows')"
   ],
   "metadata": {
    "collapsed": false,
    "pycharm": {
     "name": "#%%\n"
    }
   }
  },
  {
   "cell_type": "markdown",
   "source": [
    "#### Drop Columns using axis = 1 or columns"
   ],
   "metadata": {
    "collapsed": false
   }
  },
  {
   "cell_type": "code",
   "execution_count": 95,
   "outputs": [
    {
     "data": {
      "text/plain": "                     GDP  Surface Area Continent\nCanada           1785387       9984670   America\nFrance           2833687        640679    Europe\nGermany          3874437        357114    Europe\nItaly            2167744        301336    Europe\nJapan            4602367        377930      Asia\nUnited Kingdom   2950039        242495    Europe\nUnited States   17348075       9525067   America",
      "text/html": "<div>\n<style scoped>\n    .dataframe tbody tr th:only-of-type {\n        vertical-align: middle;\n    }\n\n    .dataframe tbody tr th {\n        vertical-align: top;\n    }\n\n    .dataframe thead th {\n        text-align: right;\n    }\n</style>\n<table border=\"1\" class=\"dataframe\">\n  <thead>\n    <tr style=\"text-align: right;\">\n      <th></th>\n      <th>GDP</th>\n      <th>Surface Area</th>\n      <th>Continent</th>\n    </tr>\n  </thead>\n  <tbody>\n    <tr>\n      <th>Canada</th>\n      <td>1785387</td>\n      <td>9984670</td>\n      <td>America</td>\n    </tr>\n    <tr>\n      <th>France</th>\n      <td>2833687</td>\n      <td>640679</td>\n      <td>Europe</td>\n    </tr>\n    <tr>\n      <th>Germany</th>\n      <td>3874437</td>\n      <td>357114</td>\n      <td>Europe</td>\n    </tr>\n    <tr>\n      <th>Italy</th>\n      <td>2167744</td>\n      <td>301336</td>\n      <td>Europe</td>\n    </tr>\n    <tr>\n      <th>Japan</th>\n      <td>4602367</td>\n      <td>377930</td>\n      <td>Asia</td>\n    </tr>\n    <tr>\n      <th>United Kingdom</th>\n      <td>2950039</td>\n      <td>242495</td>\n      <td>Europe</td>\n    </tr>\n    <tr>\n      <th>United States</th>\n      <td>17348075</td>\n      <td>9525067</td>\n      <td>America</td>\n    </tr>\n  </tbody>\n</table>\n</div>"
     },
     "execution_count": 95,
     "metadata": {},
     "output_type": "execute_result"
    }
   ],
   "source": [
    "df.drop(['Population', 'HDI'], axis=1)"
   ],
   "metadata": {
    "collapsed": false,
    "pycharm": {
     "name": "#%%\n"
    }
   }
  },
  {
   "cell_type": "code",
   "execution_count": 96,
   "outputs": [
    {
     "data": {
      "text/plain": "                     GDP  Surface Area Continent\nCanada           1785387       9984670   America\nFrance           2833687        640679    Europe\nGermany          3874437        357114    Europe\nItaly            2167744        301336    Europe\nJapan            4602367        377930      Asia\nUnited Kingdom   2950039        242495    Europe\nUnited States   17348075       9525067   America",
      "text/html": "<div>\n<style scoped>\n    .dataframe tbody tr th:only-of-type {\n        vertical-align: middle;\n    }\n\n    .dataframe tbody tr th {\n        vertical-align: top;\n    }\n\n    .dataframe thead th {\n        text-align: right;\n    }\n</style>\n<table border=\"1\" class=\"dataframe\">\n  <thead>\n    <tr style=\"text-align: right;\">\n      <th></th>\n      <th>GDP</th>\n      <th>Surface Area</th>\n      <th>Continent</th>\n    </tr>\n  </thead>\n  <tbody>\n    <tr>\n      <th>Canada</th>\n      <td>1785387</td>\n      <td>9984670</td>\n      <td>America</td>\n    </tr>\n    <tr>\n      <th>France</th>\n      <td>2833687</td>\n      <td>640679</td>\n      <td>Europe</td>\n    </tr>\n    <tr>\n      <th>Germany</th>\n      <td>3874437</td>\n      <td>357114</td>\n      <td>Europe</td>\n    </tr>\n    <tr>\n      <th>Italy</th>\n      <td>2167744</td>\n      <td>301336</td>\n      <td>Europe</td>\n    </tr>\n    <tr>\n      <th>Japan</th>\n      <td>4602367</td>\n      <td>377930</td>\n      <td>Asia</td>\n    </tr>\n    <tr>\n      <th>United Kingdom</th>\n      <td>2950039</td>\n      <td>242495</td>\n      <td>Europe</td>\n    </tr>\n    <tr>\n      <th>United States</th>\n      <td>17348075</td>\n      <td>9525067</td>\n      <td>America</td>\n    </tr>\n  </tbody>\n</table>\n</div>"
     },
     "execution_count": 96,
     "metadata": {},
     "output_type": "execute_result"
    }
   ],
   "source": [
    "df.drop(['Population', 'HDI'], axis='columns')"
   ],
   "metadata": {
    "collapsed": false,
    "pycharm": {
     "name": "#%%\n"
    }
   }
  },
  {
   "cell_type": "markdown",
   "source": [
    "![green-divider](https://user-images.githubusercontent.com/7065401/52071924-c003ad80-2562-11e9-8297-1c6595f8a7ff.png)\n",
    "\n",
    "# Modifying Dataframes"
   ],
   "metadata": {
    "collapsed": false
   }
  },
  {
   "cell_type": "code",
   "execution_count": 101,
   "outputs": [],
   "source": [
    "langs = pd.Series(\n",
    "    ['French', 'German', 'Italian'],\n",
    "    index=['France', 'Germany', 'Italy'],\n",
    "    name='Language'\n",
    ")"
   ],
   "metadata": {
    "collapsed": false,
    "pycharm": {
     "name": "#%%\n"
    }
   }
  },
  {
   "cell_type": "code",
   "execution_count": 102,
   "outputs": [
    {
     "data": {
      "text/plain": "France      French\nGermany     German\nItaly      Italian\nName: Language, dtype: object"
     },
     "execution_count": 102,
     "metadata": {},
     "output_type": "execute_result"
    }
   ],
   "source": [
    "langs"
   ],
   "metadata": {
    "collapsed": false,
    "pycharm": {
     "name": "#%%\n"
    }
   }
  },
  {
   "cell_type": "code",
   "execution_count": 103,
   "outputs": [
    {
     "data": {
      "text/plain": "                Population       GDP  Surface Area    HDI Continent Language\nCanada              35.467   1785387       9984670  0.913   America      NaN\nFrance              63.951   2833687        640679  0.888    Europe   French\nGermany             80.940   3874437        357114  0.916    Europe   German\nItaly               60.665   2167744        301336  0.873    Europe  Italian\nJapan              127.061   4602367        377930  0.891      Asia      NaN\nUnited Kingdom      64.511   2950039        242495  0.907    Europe      NaN\nUnited States      318.523  17348075       9525067  0.915   America      NaN",
      "text/html": "<div>\n<style scoped>\n    .dataframe tbody tr th:only-of-type {\n        vertical-align: middle;\n    }\n\n    .dataframe tbody tr th {\n        vertical-align: top;\n    }\n\n    .dataframe thead th {\n        text-align: right;\n    }\n</style>\n<table border=\"1\" class=\"dataframe\">\n  <thead>\n    <tr style=\"text-align: right;\">\n      <th></th>\n      <th>Population</th>\n      <th>GDP</th>\n      <th>Surface Area</th>\n      <th>HDI</th>\n      <th>Continent</th>\n      <th>Language</th>\n    </tr>\n  </thead>\n  <tbody>\n    <tr>\n      <th>Canada</th>\n      <td>35.467</td>\n      <td>1785387</td>\n      <td>9984670</td>\n      <td>0.913</td>\n      <td>America</td>\n      <td>NaN</td>\n    </tr>\n    <tr>\n      <th>France</th>\n      <td>63.951</td>\n      <td>2833687</td>\n      <td>640679</td>\n      <td>0.888</td>\n      <td>Europe</td>\n      <td>French</td>\n    </tr>\n    <tr>\n      <th>Germany</th>\n      <td>80.940</td>\n      <td>3874437</td>\n      <td>357114</td>\n      <td>0.916</td>\n      <td>Europe</td>\n      <td>German</td>\n    </tr>\n    <tr>\n      <th>Italy</th>\n      <td>60.665</td>\n      <td>2167744</td>\n      <td>301336</td>\n      <td>0.873</td>\n      <td>Europe</td>\n      <td>Italian</td>\n    </tr>\n    <tr>\n      <th>Japan</th>\n      <td>127.061</td>\n      <td>4602367</td>\n      <td>377930</td>\n      <td>0.891</td>\n      <td>Asia</td>\n      <td>NaN</td>\n    </tr>\n    <tr>\n      <th>United Kingdom</th>\n      <td>64.511</td>\n      <td>2950039</td>\n      <td>242495</td>\n      <td>0.907</td>\n      <td>Europe</td>\n      <td>NaN</td>\n    </tr>\n    <tr>\n      <th>United States</th>\n      <td>318.523</td>\n      <td>17348075</td>\n      <td>9525067</td>\n      <td>0.915</td>\n      <td>America</td>\n      <td>NaN</td>\n    </tr>\n  </tbody>\n</table>\n</div>"
     },
     "execution_count": 103,
     "metadata": {},
     "output_type": "execute_result"
    }
   ],
   "source": [
    "df['Language'] = langs\n",
    "df"
   ],
   "metadata": {
    "collapsed": false,
    "pycharm": {
     "name": "#%%\n"
    }
   }
  },
  {
   "cell_type": "code",
   "execution_count": 104,
   "outputs": [
    {
     "data": {
      "text/plain": "                Population       GDP  Surface Area    HDI Continent Language\nCanada              35.467   1785387       9984670  0.913   America  English\nFrance              63.951   2833687        640679  0.888    Europe  English\nGermany             80.940   3874437        357114  0.916    Europe  English\nItaly               60.665   2167744        301336  0.873    Europe  English\nJapan              127.061   4602367        377930  0.891      Asia  English\nUnited Kingdom      64.511   2950039        242495  0.907    Europe  English\nUnited States      318.523  17348075       9525067  0.915   America  English",
      "text/html": "<div>\n<style scoped>\n    .dataframe tbody tr th:only-of-type {\n        vertical-align: middle;\n    }\n\n    .dataframe tbody tr th {\n        vertical-align: top;\n    }\n\n    .dataframe thead th {\n        text-align: right;\n    }\n</style>\n<table border=\"1\" class=\"dataframe\">\n  <thead>\n    <tr style=\"text-align: right;\">\n      <th></th>\n      <th>Population</th>\n      <th>GDP</th>\n      <th>Surface Area</th>\n      <th>HDI</th>\n      <th>Continent</th>\n      <th>Language</th>\n    </tr>\n  </thead>\n  <tbody>\n    <tr>\n      <th>Canada</th>\n      <td>35.467</td>\n      <td>1785387</td>\n      <td>9984670</td>\n      <td>0.913</td>\n      <td>America</td>\n      <td>English</td>\n    </tr>\n    <tr>\n      <th>France</th>\n      <td>63.951</td>\n      <td>2833687</td>\n      <td>640679</td>\n      <td>0.888</td>\n      <td>Europe</td>\n      <td>English</td>\n    </tr>\n    <tr>\n      <th>Germany</th>\n      <td>80.940</td>\n      <td>3874437</td>\n      <td>357114</td>\n      <td>0.916</td>\n      <td>Europe</td>\n      <td>English</td>\n    </tr>\n    <tr>\n      <th>Italy</th>\n      <td>60.665</td>\n      <td>2167744</td>\n      <td>301336</td>\n      <td>0.873</td>\n      <td>Europe</td>\n      <td>English</td>\n    </tr>\n    <tr>\n      <th>Japan</th>\n      <td>127.061</td>\n      <td>4602367</td>\n      <td>377930</td>\n      <td>0.891</td>\n      <td>Asia</td>\n      <td>English</td>\n    </tr>\n    <tr>\n      <th>United Kingdom</th>\n      <td>64.511</td>\n      <td>2950039</td>\n      <td>242495</td>\n      <td>0.907</td>\n      <td>Europe</td>\n      <td>English</td>\n    </tr>\n    <tr>\n      <th>United States</th>\n      <td>318.523</td>\n      <td>17348075</td>\n      <td>9525067</td>\n      <td>0.915</td>\n      <td>America</td>\n      <td>English</td>\n    </tr>\n  </tbody>\n</table>\n</div>"
     },
     "execution_count": 104,
     "metadata": {},
     "output_type": "execute_result"
    }
   ],
   "source": [
    "df['Language'] = 'English'\n",
    "df"
   ],
   "metadata": {
    "collapsed": false,
    "pycharm": {
     "name": "#%%\n"
    }
   }
  },
  {
   "cell_type": "markdown",
   "source": [
    "![purple-divider](https://user-images.githubusercontent.com/7065401/52071927-c1cd7100-2562-11e9-908a-dde91ba14e59.png)\n",
    "\n",
    "## Renaming Columns"
   ],
   "metadata": {
    "collapsed": false
   }
  },
  {
   "cell_type": "code",
   "execution_count": 105,
   "outputs": [
    {
     "data": {
      "text/plain": "         Population       GDP  Surface Area  Human Development Index  \\\nCanada       35.467   1785387       9984670                    0.913   \nFrance       63.951   2833687        640679                    0.888   \nGermany      80.940   3874437        357114                    0.916   \nItaly        60.665   2167744        301336                    0.873   \nJapan       127.061   4602367        377930                    0.891   \nUK           64.511   2950039        242495                    0.907   \nUSA         318.523  17348075       9525067                    0.915   \n\n        Continent Language  \nCanada    America  English  \nFrance     Europe  English  \nGermany    Europe  English  \nItaly      Europe  English  \nJapan        Asia  English  \nUK         Europe  English  \nUSA       America  English  ",
      "text/html": "<div>\n<style scoped>\n    .dataframe tbody tr th:only-of-type {\n        vertical-align: middle;\n    }\n\n    .dataframe tbody tr th {\n        vertical-align: top;\n    }\n\n    .dataframe thead th {\n        text-align: right;\n    }\n</style>\n<table border=\"1\" class=\"dataframe\">\n  <thead>\n    <tr style=\"text-align: right;\">\n      <th></th>\n      <th>Population</th>\n      <th>GDP</th>\n      <th>Surface Area</th>\n      <th>Human Development Index</th>\n      <th>Continent</th>\n      <th>Language</th>\n    </tr>\n  </thead>\n  <tbody>\n    <tr>\n      <th>Canada</th>\n      <td>35.467</td>\n      <td>1785387</td>\n      <td>9984670</td>\n      <td>0.913</td>\n      <td>America</td>\n      <td>English</td>\n    </tr>\n    <tr>\n      <th>France</th>\n      <td>63.951</td>\n      <td>2833687</td>\n      <td>640679</td>\n      <td>0.888</td>\n      <td>Europe</td>\n      <td>English</td>\n    </tr>\n    <tr>\n      <th>Germany</th>\n      <td>80.940</td>\n      <td>3874437</td>\n      <td>357114</td>\n      <td>0.916</td>\n      <td>Europe</td>\n      <td>English</td>\n    </tr>\n    <tr>\n      <th>Italy</th>\n      <td>60.665</td>\n      <td>2167744</td>\n      <td>301336</td>\n      <td>0.873</td>\n      <td>Europe</td>\n      <td>English</td>\n    </tr>\n    <tr>\n      <th>Japan</th>\n      <td>127.061</td>\n      <td>4602367</td>\n      <td>377930</td>\n      <td>0.891</td>\n      <td>Asia</td>\n      <td>English</td>\n    </tr>\n    <tr>\n      <th>UK</th>\n      <td>64.511</td>\n      <td>2950039</td>\n      <td>242495</td>\n      <td>0.907</td>\n      <td>Europe</td>\n      <td>English</td>\n    </tr>\n    <tr>\n      <th>USA</th>\n      <td>318.523</td>\n      <td>17348075</td>\n      <td>9525067</td>\n      <td>0.915</td>\n      <td>America</td>\n      <td>English</td>\n    </tr>\n  </tbody>\n</table>\n</div>"
     },
     "execution_count": 105,
     "metadata": {},
     "output_type": "execute_result"
    }
   ],
   "source": [
    "df.rename(\n",
    "    columns={\n",
    "        'HDI': 'Human Development Index',\n",
    "        'Anual Popcorn Consumption': 'APC'\n",
    "    }, index={\n",
    "        'United States': 'USA',\n",
    "        'United Kingdom': 'UK',\n",
    "        'Argentina': 'AR'\n",
    "    })"
   ],
   "metadata": {
    "collapsed": false,
    "pycharm": {
     "name": "#%%\n"
    }
   }
  },
  {
   "cell_type": "code",
   "execution_count": 106,
   "outputs": [
    {
     "data": {
      "text/plain": "                Population       GDP  Surface Area    HDI Continent Language\nCANADA              35.467   1785387       9984670  0.913   America  English\nFRANCE              63.951   2833687        640679  0.888    Europe  English\nGERMANY             80.940   3874437        357114  0.916    Europe  English\nITALY               60.665   2167744        301336  0.873    Europe  English\nJAPAN              127.061   4602367        377930  0.891      Asia  English\nUNITED KINGDOM      64.511   2950039        242495  0.907    Europe  English\nUNITED STATES      318.523  17348075       9525067  0.915   America  English",
      "text/html": "<div>\n<style scoped>\n    .dataframe tbody tr th:only-of-type {\n        vertical-align: middle;\n    }\n\n    .dataframe tbody tr th {\n        vertical-align: top;\n    }\n\n    .dataframe thead th {\n        text-align: right;\n    }\n</style>\n<table border=\"1\" class=\"dataframe\">\n  <thead>\n    <tr style=\"text-align: right;\">\n      <th></th>\n      <th>Population</th>\n      <th>GDP</th>\n      <th>Surface Area</th>\n      <th>HDI</th>\n      <th>Continent</th>\n      <th>Language</th>\n    </tr>\n  </thead>\n  <tbody>\n    <tr>\n      <th>CANADA</th>\n      <td>35.467</td>\n      <td>1785387</td>\n      <td>9984670</td>\n      <td>0.913</td>\n      <td>America</td>\n      <td>English</td>\n    </tr>\n    <tr>\n      <th>FRANCE</th>\n      <td>63.951</td>\n      <td>2833687</td>\n      <td>640679</td>\n      <td>0.888</td>\n      <td>Europe</td>\n      <td>English</td>\n    </tr>\n    <tr>\n      <th>GERMANY</th>\n      <td>80.940</td>\n      <td>3874437</td>\n      <td>357114</td>\n      <td>0.916</td>\n      <td>Europe</td>\n      <td>English</td>\n    </tr>\n    <tr>\n      <th>ITALY</th>\n      <td>60.665</td>\n      <td>2167744</td>\n      <td>301336</td>\n      <td>0.873</td>\n      <td>Europe</td>\n      <td>English</td>\n    </tr>\n    <tr>\n      <th>JAPAN</th>\n      <td>127.061</td>\n      <td>4602367</td>\n      <td>377930</td>\n      <td>0.891</td>\n      <td>Asia</td>\n      <td>English</td>\n    </tr>\n    <tr>\n      <th>UNITED KINGDOM</th>\n      <td>64.511</td>\n      <td>2950039</td>\n      <td>242495</td>\n      <td>0.907</td>\n      <td>Europe</td>\n      <td>English</td>\n    </tr>\n    <tr>\n      <th>UNITED STATES</th>\n      <td>318.523</td>\n      <td>17348075</td>\n      <td>9525067</td>\n      <td>0.915</td>\n      <td>America</td>\n      <td>English</td>\n    </tr>\n  </tbody>\n</table>\n</div>"
     },
     "execution_count": 106,
     "metadata": {},
     "output_type": "execute_result"
    }
   ],
   "source": [
    "df.rename(index=str.upper)"
   ],
   "metadata": {
    "collapsed": false,
    "pycharm": {
     "name": "#%%\n"
    }
   }
  },
  {
   "cell_type": "code",
   "execution_count": 109,
   "outputs": [
    {
     "data": {
      "text/plain": "                Population       GDP  Surface Area    HDI Continent Language\ncanada              35.467   1785387       9984670  0.913   America  English\nfrance              63.951   2833687        640679  0.888    Europe  English\ngermany             80.940   3874437        357114  0.916    Europe  English\nitaly               60.665   2167744        301336  0.873    Europe  English\njapan              127.061   4602367        377930  0.891      Asia  English\nunited kingdom      64.511   2950039        242495  0.907    Europe  English\nunited states      318.523  17348075       9525067  0.915   America  English",
      "text/html": "<div>\n<style scoped>\n    .dataframe tbody tr th:only-of-type {\n        vertical-align: middle;\n    }\n\n    .dataframe tbody tr th {\n        vertical-align: top;\n    }\n\n    .dataframe thead th {\n        text-align: right;\n    }\n</style>\n<table border=\"1\" class=\"dataframe\">\n  <thead>\n    <tr style=\"text-align: right;\">\n      <th></th>\n      <th>Population</th>\n      <th>GDP</th>\n      <th>Surface Area</th>\n      <th>HDI</th>\n      <th>Continent</th>\n      <th>Language</th>\n    </tr>\n  </thead>\n  <tbody>\n    <tr>\n      <th>canada</th>\n      <td>35.467</td>\n      <td>1785387</td>\n      <td>9984670</td>\n      <td>0.913</td>\n      <td>America</td>\n      <td>English</td>\n    </tr>\n    <tr>\n      <th>france</th>\n      <td>63.951</td>\n      <td>2833687</td>\n      <td>640679</td>\n      <td>0.888</td>\n      <td>Europe</td>\n      <td>English</td>\n    </tr>\n    <tr>\n      <th>germany</th>\n      <td>80.940</td>\n      <td>3874437</td>\n      <td>357114</td>\n      <td>0.916</td>\n      <td>Europe</td>\n      <td>English</td>\n    </tr>\n    <tr>\n      <th>italy</th>\n      <td>60.665</td>\n      <td>2167744</td>\n      <td>301336</td>\n      <td>0.873</td>\n      <td>Europe</td>\n      <td>English</td>\n    </tr>\n    <tr>\n      <th>japan</th>\n      <td>127.061</td>\n      <td>4602367</td>\n      <td>377930</td>\n      <td>0.891</td>\n      <td>Asia</td>\n      <td>English</td>\n    </tr>\n    <tr>\n      <th>united kingdom</th>\n      <td>64.511</td>\n      <td>2950039</td>\n      <td>242495</td>\n      <td>0.907</td>\n      <td>Europe</td>\n      <td>English</td>\n    </tr>\n    <tr>\n      <th>united states</th>\n      <td>318.523</td>\n      <td>17348075</td>\n      <td>9525067</td>\n      <td>0.915</td>\n      <td>America</td>\n      <td>English</td>\n    </tr>\n  </tbody>\n</table>\n</div>"
     },
     "execution_count": 109,
     "metadata": {},
     "output_type": "execute_result"
    }
   ],
   "source": [
    "df.rename(index=str.lower)"
   ],
   "metadata": {
    "collapsed": false,
    "pycharm": {
     "name": "#%%\n"
    }
   }
  },
  {
   "cell_type": "markdown",
   "source": [
    "![green-divider](https://user-images.githubusercontent.com/7065401/52071924-c003ad80-2562-11e9-8297-1c6595f8a7ff.png)\n",
    "\n",
    "# Appending Values"
   ],
   "metadata": {
    "collapsed": false
   }
  },
  {
   "cell_type": "code",
   "execution_count": 110,
   "outputs": [
    {
     "data": {
      "text/plain": "                Population         GDP  Surface Area    HDI Continent Language\nCanada              35.467   1785387.0     9984670.0  0.913   America  English\nFrance              63.951   2833687.0      640679.0  0.888    Europe  English\nGermany             80.940   3874437.0      357114.0  0.916    Europe  English\nItaly               60.665   2167744.0      301336.0  0.873    Europe  English\nJapan              127.061   4602367.0      377930.0  0.891      Asia  English\nUnited Kingdom      64.511   2950039.0      242495.0  0.907    Europe  English\nUnited States      318.523  17348075.0     9525067.0  0.915   America  English\nChina                3.000         5.0           NaN    NaN       NaN      NaN",
      "text/html": "<div>\n<style scoped>\n    .dataframe tbody tr th:only-of-type {\n        vertical-align: middle;\n    }\n\n    .dataframe tbody tr th {\n        vertical-align: top;\n    }\n\n    .dataframe thead th {\n        text-align: right;\n    }\n</style>\n<table border=\"1\" class=\"dataframe\">\n  <thead>\n    <tr style=\"text-align: right;\">\n      <th></th>\n      <th>Population</th>\n      <th>GDP</th>\n      <th>Surface Area</th>\n      <th>HDI</th>\n      <th>Continent</th>\n      <th>Language</th>\n    </tr>\n  </thead>\n  <tbody>\n    <tr>\n      <th>Canada</th>\n      <td>35.467</td>\n      <td>1785387.0</td>\n      <td>9984670.0</td>\n      <td>0.913</td>\n      <td>America</td>\n      <td>English</td>\n    </tr>\n    <tr>\n      <th>France</th>\n      <td>63.951</td>\n      <td>2833687.0</td>\n      <td>640679.0</td>\n      <td>0.888</td>\n      <td>Europe</td>\n      <td>English</td>\n    </tr>\n    <tr>\n      <th>Germany</th>\n      <td>80.940</td>\n      <td>3874437.0</td>\n      <td>357114.0</td>\n      <td>0.916</td>\n      <td>Europe</td>\n      <td>English</td>\n    </tr>\n    <tr>\n      <th>Italy</th>\n      <td>60.665</td>\n      <td>2167744.0</td>\n      <td>301336.0</td>\n      <td>0.873</td>\n      <td>Europe</td>\n      <td>English</td>\n    </tr>\n    <tr>\n      <th>Japan</th>\n      <td>127.061</td>\n      <td>4602367.0</td>\n      <td>377930.0</td>\n      <td>0.891</td>\n      <td>Asia</td>\n      <td>English</td>\n    </tr>\n    <tr>\n      <th>United Kingdom</th>\n      <td>64.511</td>\n      <td>2950039.0</td>\n      <td>242495.0</td>\n      <td>0.907</td>\n      <td>Europe</td>\n      <td>English</td>\n    </tr>\n    <tr>\n      <th>United States</th>\n      <td>318.523</td>\n      <td>17348075.0</td>\n      <td>9525067.0</td>\n      <td>0.915</td>\n      <td>America</td>\n      <td>English</td>\n    </tr>\n    <tr>\n      <th>China</th>\n      <td>3.000</td>\n      <td>5.0</td>\n      <td>NaN</td>\n      <td>NaN</td>\n      <td>NaN</td>\n      <td>NaN</td>\n    </tr>\n  </tbody>\n</table>\n</div>"
     },
     "execution_count": 110,
     "metadata": {},
     "output_type": "execute_result"
    }
   ],
   "source": [
    "df.append(pd.Series({\n",
    "    'Population': 3,\n",
    "    'GDP': 5\n",
    "}, name='China'))"
   ],
   "metadata": {
    "collapsed": false,
    "pycharm": {
     "name": "#%%\n"
    }
   }
  },
  {
   "cell_type": "code",
   "execution_count": 111,
   "outputs": [
    {
     "data": {
      "text/plain": "                  Population         GDP  Surface Area    HDI Continent  \\\nCanada          3.546700e+01   1785387.0     9984670.0  0.913   America   \nFrance          6.395100e+01   2833687.0      640679.0  0.888    Europe   \nGermany         8.094000e+01   3874437.0      357114.0  0.916    Europe   \nItaly           6.066500e+01   2167744.0      301336.0  0.873    Europe   \nJapan           1.270610e+02   4602367.0      377930.0  0.891      Asia   \nUnited Kingdom  6.451100e+01   2950039.0      242495.0  0.907    Europe   \nUnited States   3.185230e+02  17348075.0     9525067.0  0.915   America   \nChina           1.400000e+09         NaN           NaN    NaN      Asia   \n\n               Language  \nCanada          English  \nFrance          English  \nGermany         English  \nItaly           English  \nJapan           English  \nUnited Kingdom  English  \nUnited States   English  \nChina               NaN  ",
      "text/html": "<div>\n<style scoped>\n    .dataframe tbody tr th:only-of-type {\n        vertical-align: middle;\n    }\n\n    .dataframe tbody tr th {\n        vertical-align: top;\n    }\n\n    .dataframe thead th {\n        text-align: right;\n    }\n</style>\n<table border=\"1\" class=\"dataframe\">\n  <thead>\n    <tr style=\"text-align: right;\">\n      <th></th>\n      <th>Population</th>\n      <th>GDP</th>\n      <th>Surface Area</th>\n      <th>HDI</th>\n      <th>Continent</th>\n      <th>Language</th>\n    </tr>\n  </thead>\n  <tbody>\n    <tr>\n      <th>Canada</th>\n      <td>3.546700e+01</td>\n      <td>1785387.0</td>\n      <td>9984670.0</td>\n      <td>0.913</td>\n      <td>America</td>\n      <td>English</td>\n    </tr>\n    <tr>\n      <th>France</th>\n      <td>6.395100e+01</td>\n      <td>2833687.0</td>\n      <td>640679.0</td>\n      <td>0.888</td>\n      <td>Europe</td>\n      <td>English</td>\n    </tr>\n    <tr>\n      <th>Germany</th>\n      <td>8.094000e+01</td>\n      <td>3874437.0</td>\n      <td>357114.0</td>\n      <td>0.916</td>\n      <td>Europe</td>\n      <td>English</td>\n    </tr>\n    <tr>\n      <th>Italy</th>\n      <td>6.066500e+01</td>\n      <td>2167744.0</td>\n      <td>301336.0</td>\n      <td>0.873</td>\n      <td>Europe</td>\n      <td>English</td>\n    </tr>\n    <tr>\n      <th>Japan</th>\n      <td>1.270610e+02</td>\n      <td>4602367.0</td>\n      <td>377930.0</td>\n      <td>0.891</td>\n      <td>Asia</td>\n      <td>English</td>\n    </tr>\n    <tr>\n      <th>United Kingdom</th>\n      <td>6.451100e+01</td>\n      <td>2950039.0</td>\n      <td>242495.0</td>\n      <td>0.907</td>\n      <td>Europe</td>\n      <td>English</td>\n    </tr>\n    <tr>\n      <th>United States</th>\n      <td>3.185230e+02</td>\n      <td>17348075.0</td>\n      <td>9525067.0</td>\n      <td>0.915</td>\n      <td>America</td>\n      <td>English</td>\n    </tr>\n    <tr>\n      <th>China</th>\n      <td>1.400000e+09</td>\n      <td>NaN</td>\n      <td>NaN</td>\n      <td>NaN</td>\n      <td>Asia</td>\n      <td>NaN</td>\n    </tr>\n  </tbody>\n</table>\n</div>"
     },
     "execution_count": 111,
     "metadata": {},
     "output_type": "execute_result"
    }
   ],
   "source": [
    "df.loc['China'] = pd.Series({'Population': 1_400_000_000, 'Continent': 'Asia'})\n",
    "df"
   ],
   "metadata": {
    "collapsed": false,
    "pycharm": {
     "name": "#%%\n"
    }
   }
  },
  {
   "cell_type": "code",
   "execution_count": 112,
   "outputs": [
    {
     "data": {
      "text/plain": "            index    Population         GDP  Surface Area    HDI Continent  \\\n0          Canada  3.546700e+01   1785387.0     9984670.0  0.913   America   \n1          France  6.395100e+01   2833687.0      640679.0  0.888    Europe   \n2         Germany  8.094000e+01   3874437.0      357114.0  0.916    Europe   \n3           Italy  6.066500e+01   2167744.0      301336.0  0.873    Europe   \n4           Japan  1.270610e+02   4602367.0      377930.0  0.891      Asia   \n5  United Kingdom  6.451100e+01   2950039.0      242495.0  0.907    Europe   \n6   United States  3.185230e+02  17348075.0     9525067.0  0.915   America   \n7           China  1.400000e+09         NaN           NaN    NaN      Asia   \n\n  Language  \n0  English  \n1  English  \n2  English  \n3  English  \n4  English  \n5  English  \n6  English  \n7      NaN  ",
      "text/html": "<div>\n<style scoped>\n    .dataframe tbody tr th:only-of-type {\n        vertical-align: middle;\n    }\n\n    .dataframe tbody tr th {\n        vertical-align: top;\n    }\n\n    .dataframe thead th {\n        text-align: right;\n    }\n</style>\n<table border=\"1\" class=\"dataframe\">\n  <thead>\n    <tr style=\"text-align: right;\">\n      <th></th>\n      <th>index</th>\n      <th>Population</th>\n      <th>GDP</th>\n      <th>Surface Area</th>\n      <th>HDI</th>\n      <th>Continent</th>\n      <th>Language</th>\n    </tr>\n  </thead>\n  <tbody>\n    <tr>\n      <th>0</th>\n      <td>Canada</td>\n      <td>3.546700e+01</td>\n      <td>1785387.0</td>\n      <td>9984670.0</td>\n      <td>0.913</td>\n      <td>America</td>\n      <td>English</td>\n    </tr>\n    <tr>\n      <th>1</th>\n      <td>France</td>\n      <td>6.395100e+01</td>\n      <td>2833687.0</td>\n      <td>640679.0</td>\n      <td>0.888</td>\n      <td>Europe</td>\n      <td>English</td>\n    </tr>\n    <tr>\n      <th>2</th>\n      <td>Germany</td>\n      <td>8.094000e+01</td>\n      <td>3874437.0</td>\n      <td>357114.0</td>\n      <td>0.916</td>\n      <td>Europe</td>\n      <td>English</td>\n    </tr>\n    <tr>\n      <th>3</th>\n      <td>Italy</td>\n      <td>6.066500e+01</td>\n      <td>2167744.0</td>\n      <td>301336.0</td>\n      <td>0.873</td>\n      <td>Europe</td>\n      <td>English</td>\n    </tr>\n    <tr>\n      <th>4</th>\n      <td>Japan</td>\n      <td>1.270610e+02</td>\n      <td>4602367.0</td>\n      <td>377930.0</td>\n      <td>0.891</td>\n      <td>Asia</td>\n      <td>English</td>\n    </tr>\n    <tr>\n      <th>5</th>\n      <td>United Kingdom</td>\n      <td>6.451100e+01</td>\n      <td>2950039.0</td>\n      <td>242495.0</td>\n      <td>0.907</td>\n      <td>Europe</td>\n      <td>English</td>\n    </tr>\n    <tr>\n      <th>6</th>\n      <td>United States</td>\n      <td>3.185230e+02</td>\n      <td>17348075.0</td>\n      <td>9525067.0</td>\n      <td>0.915</td>\n      <td>America</td>\n      <td>English</td>\n    </tr>\n    <tr>\n      <th>7</th>\n      <td>China</td>\n      <td>1.400000e+09</td>\n      <td>NaN</td>\n      <td>NaN</td>\n      <td>NaN</td>\n      <td>Asia</td>\n      <td>NaN</td>\n    </tr>\n  </tbody>\n</table>\n</div>"
     },
     "execution_count": 112,
     "metadata": {},
     "output_type": "execute_result"
    }
   ],
   "source": [
    "df.reset_index()"
   ],
   "metadata": {
    "collapsed": false,
    "pycharm": {
     "name": "#%%\n"
    }
   }
  },
  {
   "cell_type": "code",
   "execution_count": 113,
   "outputs": [
    {
     "data": {
      "text/plain": "                     GDP  Surface Area    HDI Continent Language\nPopulation                                                      \n3.546700e+01   1785387.0     9984670.0  0.913   America  English\n6.395100e+01   2833687.0      640679.0  0.888    Europe  English\n8.094000e+01   3874437.0      357114.0  0.916    Europe  English\n6.066500e+01   2167744.0      301336.0  0.873    Europe  English\n1.270610e+02   4602367.0      377930.0  0.891      Asia  English\n6.451100e+01   2950039.0      242495.0  0.907    Europe  English\n3.185230e+02  17348075.0     9525067.0  0.915   America  English\n1.400000e+09         NaN           NaN    NaN      Asia      NaN",
      "text/html": "<div>\n<style scoped>\n    .dataframe tbody tr th:only-of-type {\n        vertical-align: middle;\n    }\n\n    .dataframe tbody tr th {\n        vertical-align: top;\n    }\n\n    .dataframe thead th {\n        text-align: right;\n    }\n</style>\n<table border=\"1\" class=\"dataframe\">\n  <thead>\n    <tr style=\"text-align: right;\">\n      <th></th>\n      <th>GDP</th>\n      <th>Surface Area</th>\n      <th>HDI</th>\n      <th>Continent</th>\n      <th>Language</th>\n    </tr>\n    <tr>\n      <th>Population</th>\n      <th></th>\n      <th></th>\n      <th></th>\n      <th></th>\n      <th></th>\n    </tr>\n  </thead>\n  <tbody>\n    <tr>\n      <th>3.546700e+01</th>\n      <td>1785387.0</td>\n      <td>9984670.0</td>\n      <td>0.913</td>\n      <td>America</td>\n      <td>English</td>\n    </tr>\n    <tr>\n      <th>6.395100e+01</th>\n      <td>2833687.0</td>\n      <td>640679.0</td>\n      <td>0.888</td>\n      <td>Europe</td>\n      <td>English</td>\n    </tr>\n    <tr>\n      <th>8.094000e+01</th>\n      <td>3874437.0</td>\n      <td>357114.0</td>\n      <td>0.916</td>\n      <td>Europe</td>\n      <td>English</td>\n    </tr>\n    <tr>\n      <th>6.066500e+01</th>\n      <td>2167744.0</td>\n      <td>301336.0</td>\n      <td>0.873</td>\n      <td>Europe</td>\n      <td>English</td>\n    </tr>\n    <tr>\n      <th>1.270610e+02</th>\n      <td>4602367.0</td>\n      <td>377930.0</td>\n      <td>0.891</td>\n      <td>Asia</td>\n      <td>English</td>\n    </tr>\n    <tr>\n      <th>6.451100e+01</th>\n      <td>2950039.0</td>\n      <td>242495.0</td>\n      <td>0.907</td>\n      <td>Europe</td>\n      <td>English</td>\n    </tr>\n    <tr>\n      <th>3.185230e+02</th>\n      <td>17348075.0</td>\n      <td>9525067.0</td>\n      <td>0.915</td>\n      <td>America</td>\n      <td>English</td>\n    </tr>\n    <tr>\n      <th>1.400000e+09</th>\n      <td>NaN</td>\n      <td>NaN</td>\n      <td>NaN</td>\n      <td>Asia</td>\n      <td>NaN</td>\n    </tr>\n  </tbody>\n</table>\n</div>"
     },
     "execution_count": 113,
     "metadata": {},
     "output_type": "execute_result"
    }
   ],
   "source": [
    "df.set_index('Population')"
   ],
   "metadata": {
    "collapsed": false,
    "pycharm": {
     "name": "#%%\n"
    }
   }
  },
  {
   "cell_type": "markdown",
   "source": [
    "![purple-divider](https://user-images.githubusercontent.com/7065401/52071927-c1cd7100-2562-11e9-908a-dde91ba14e59.png)\n",
    "\n",
    "# Cleaning Data"
   ],
   "metadata": {
    "collapsed": false,
    "pycharm": {
     "name": "#%% md\n"
    }
   }
  },
  {
   "cell_type": "code",
   "execution_count": 146,
   "outputs": [
    {
     "data": {
      "text/plain": "True"
     },
     "execution_count": 146,
     "metadata": {},
     "output_type": "execute_result"
    }
   ],
   "source": [
    "pd.isnull(np.nan)"
   ],
   "metadata": {
    "collapsed": false,
    "pycharm": {
     "name": "#%%\n"
    }
   }
  },
  {
   "cell_type": "code",
   "execution_count": 147,
   "outputs": [
    {
     "data": {
      "text/plain": "True"
     },
     "execution_count": 147,
     "metadata": {},
     "output_type": "execute_result"
    }
   ],
   "source": [
    "pd.isnull(None)"
   ],
   "metadata": {
    "collapsed": false,
    "pycharm": {
     "name": "#%%\n"
    }
   }
  },
  {
   "cell_type": "code",
   "execution_count": 148,
   "outputs": [
    {
     "data": {
      "text/plain": "True"
     },
     "execution_count": 148,
     "metadata": {},
     "output_type": "execute_result"
    }
   ],
   "source": [
    "pd.isna(np.nan)"
   ],
   "metadata": {
    "collapsed": false,
    "pycharm": {
     "name": "#%%\n"
    }
   }
  },
  {
   "cell_type": "code",
   "execution_count": 149,
   "outputs": [
    {
     "data": {
      "text/plain": "True"
     },
     "execution_count": 149,
     "metadata": {},
     "output_type": "execute_result"
    }
   ],
   "source": [
    "pd.isna(None)"
   ],
   "metadata": {
    "collapsed": false,
    "pycharm": {
     "name": "#%%\n"
    }
   }
  },
  {
   "cell_type": "code",
   "execution_count": 150,
   "outputs": [
    {
     "data": {
      "text/plain": "False"
     },
     "execution_count": 150,
     "metadata": {},
     "output_type": "execute_result"
    }
   ],
   "source": [
    "pd.notnull(None)"
   ],
   "metadata": {
    "collapsed": false,
    "pycharm": {
     "name": "#%%\n"
    }
   }
  },
  {
   "cell_type": "code",
   "execution_count": 151,
   "outputs": [
    {
     "data": {
      "text/plain": "   Column A  Column B  Column C\n0     False      True      True\n1      True     False     False\n2     False     False      True",
      "text/html": "<div>\n<style scoped>\n    .dataframe tbody tr th:only-of-type {\n        vertical-align: middle;\n    }\n\n    .dataframe tbody tr th {\n        vertical-align: top;\n    }\n\n    .dataframe thead th {\n        text-align: right;\n    }\n</style>\n<table border=\"1\" class=\"dataframe\">\n  <thead>\n    <tr style=\"text-align: right;\">\n      <th></th>\n      <th>Column A</th>\n      <th>Column B</th>\n      <th>Column C</th>\n    </tr>\n  </thead>\n  <tbody>\n    <tr>\n      <th>0</th>\n      <td>False</td>\n      <td>True</td>\n      <td>True</td>\n    </tr>\n    <tr>\n      <th>1</th>\n      <td>True</td>\n      <td>False</td>\n      <td>False</td>\n    </tr>\n    <tr>\n      <th>2</th>\n      <td>False</td>\n      <td>False</td>\n      <td>True</td>\n    </tr>\n  </tbody>\n</table>\n</div>"
     },
     "execution_count": 151,
     "metadata": {},
     "output_type": "execute_result"
    }
   ],
   "source": [
    "pd.isnull(pd.DataFrame({\n",
    "    'Column A': [1, np.nan, 7],\n",
    "    'Column B': [np.nan, 2, 3],\n",
    "    'Column C': [np.nan, 2, np.nan]\n",
    "}))"
   ],
   "metadata": {
    "collapsed": false,
    "pycharm": {
     "name": "#%%\n"
    }
   }
  },
  {
   "cell_type": "code",
   "execution_count": 152,
   "outputs": [
    {
     "data": {
      "text/plain": "2"
     },
     "execution_count": 152,
     "metadata": {},
     "output_type": "execute_result"
    }
   ],
   "source": [
    "pd.Series([1, 2, np.nan]).count()"
   ],
   "metadata": {
    "collapsed": false,
    "pycharm": {
     "name": "#%%\n"
    }
   }
  },
  {
   "cell_type": "code",
   "execution_count": 153,
   "outputs": [
    {
     "data": {
      "text/plain": "3.0"
     },
     "execution_count": 153,
     "metadata": {},
     "output_type": "execute_result"
    }
   ],
   "source": [
    "pd.Series([1, 2, np.nan]).sum()"
   ],
   "metadata": {
    "collapsed": false,
    "pycharm": {
     "name": "#%%\n"
    }
   }
  },
  {
   "cell_type": "code",
   "execution_count": 154,
   "outputs": [
    {
     "data": {
      "text/plain": "2.0"
     },
     "execution_count": 154,
     "metadata": {},
     "output_type": "execute_result"
    }
   ],
   "source": [
    "pd.Series([2, 2, np.nan]).mean()"
   ],
   "metadata": {
    "collapsed": false,
    "pycharm": {
     "name": "#%%\n"
    }
   }
  },
  {
   "cell_type": "code",
   "execution_count": 155,
   "outputs": [],
   "source": [
    "s = pd.Series([1, 2, 3, np.nan, np.nan, 4])"
   ],
   "metadata": {
    "collapsed": false,
    "pycharm": {
     "name": "#%%\n"
    }
   }
  },
  {
   "cell_type": "code",
   "execution_count": 156,
   "outputs": [
    {
     "data": {
      "text/plain": "0     True\n1     True\n2     True\n3    False\n4    False\n5     True\ndtype: bool"
     },
     "execution_count": 156,
     "metadata": {},
     "output_type": "execute_result"
    }
   ],
   "source": [
    "pd.notnull(s)"
   ],
   "metadata": {
    "collapsed": false,
    "pycharm": {
     "name": "#%%\n"
    }
   }
  },
  {
   "cell_type": "code",
   "execution_count": 157,
   "outputs": [
    {
     "data": {
      "text/plain": "0    False\n1    False\n2    False\n3     True\n4     True\n5    False\ndtype: bool"
     },
     "execution_count": 157,
     "metadata": {},
     "output_type": "execute_result"
    }
   ],
   "source": [
    "pd.isnull(s)"
   ],
   "metadata": {
    "collapsed": false,
    "pycharm": {
     "name": "#%%\n"
    }
   }
  },
  {
   "cell_type": "code",
   "execution_count": 158,
   "outputs": [
    {
     "data": {
      "text/plain": "0    False\n1    False\n2    False\n3     True\n4     True\n5    False\ndtype: bool"
     },
     "execution_count": 158,
     "metadata": {},
     "output_type": "execute_result"
    }
   ],
   "source": [
    "s.isnull()"
   ],
   "metadata": {
    "collapsed": false,
    "pycharm": {
     "name": "#%%\n"
    }
   }
  },
  {
   "cell_type": "code",
   "execution_count": 159,
   "outputs": [
    {
     "data": {
      "text/plain": "0     True\n1     True\n2     True\n3    False\n4    False\n5     True\ndtype: bool"
     },
     "execution_count": 159,
     "metadata": {},
     "output_type": "execute_result"
    }
   ],
   "source": [
    "s.notnull()"
   ],
   "metadata": {
    "collapsed": false,
    "pycharm": {
     "name": "#%%\n"
    }
   }
  },
  {
   "cell_type": "code",
   "execution_count": 160,
   "outputs": [
    {
     "data": {
      "text/plain": "0    1.0\n1    2.0\n2    3.0\n5    4.0\ndtype: float64"
     },
     "execution_count": 160,
     "metadata": {},
     "output_type": "execute_result"
    }
   ],
   "source": [
    "s[s.notnull()]"
   ],
   "metadata": {
    "collapsed": false,
    "pycharm": {
     "name": "#%%\n"
    }
   }
  },
  {
   "cell_type": "code",
   "execution_count": 161,
   "outputs": [
    {
     "data": {
      "text/plain": "0    1.0\n1    2.0\n2    3.0\n3    NaN\n4    NaN\n5    4.0\ndtype: float64"
     },
     "execution_count": 161,
     "metadata": {},
     "output_type": "execute_result"
    }
   ],
   "source": [
    "s"
   ],
   "metadata": {
    "collapsed": false,
    "pycharm": {
     "name": "#%%\n"
    }
   }
  },
  {
   "cell_type": "code",
   "execution_count": 162,
   "outputs": [
    {
     "data": {
      "text/plain": "0    1.0\n1    2.0\n2    3.0\n5    4.0\ndtype: float64"
     },
     "execution_count": 162,
     "metadata": {},
     "output_type": "execute_result"
    }
   ],
   "source": [
    "s.dropna()"
   ],
   "metadata": {
    "collapsed": false,
    "pycharm": {
     "name": "#%%\n"
    }
   }
  },
  {
   "cell_type": "code",
   "execution_count": 164,
   "outputs": [
    {
     "data": {
      "text/plain": "   Column A  Column B  Column C  Column D\n0       1.0       2.0       NaN         5\n1       NaN       8.0       9.0         8\n2      30.0      31.0      32.0        34\n3       NaN       NaN     100.0       110",
      "text/html": "<div>\n<style scoped>\n    .dataframe tbody tr th:only-of-type {\n        vertical-align: middle;\n    }\n\n    .dataframe tbody tr th {\n        vertical-align: top;\n    }\n\n    .dataframe thead th {\n        text-align: right;\n    }\n</style>\n<table border=\"1\" class=\"dataframe\">\n  <thead>\n    <tr style=\"text-align: right;\">\n      <th></th>\n      <th>Column A</th>\n      <th>Column B</th>\n      <th>Column C</th>\n      <th>Column D</th>\n    </tr>\n  </thead>\n  <tbody>\n    <tr>\n      <th>0</th>\n      <td>1.0</td>\n      <td>2.0</td>\n      <td>NaN</td>\n      <td>5</td>\n    </tr>\n    <tr>\n      <th>1</th>\n      <td>NaN</td>\n      <td>8.0</td>\n      <td>9.0</td>\n      <td>8</td>\n    </tr>\n    <tr>\n      <th>2</th>\n      <td>30.0</td>\n      <td>31.0</td>\n      <td>32.0</td>\n      <td>34</td>\n    </tr>\n    <tr>\n      <th>3</th>\n      <td>NaN</td>\n      <td>NaN</td>\n      <td>100.0</td>\n      <td>110</td>\n    </tr>\n  </tbody>\n</table>\n</div>"
     },
     "execution_count": 164,
     "metadata": {},
     "output_type": "execute_result"
    }
   ],
   "source": [
    "df = pd.DataFrame({\n",
    "    'Column A': [1, np.nan, 30, np.nan],\n",
    "    'Column B': [2, 8, 31, np.nan],\n",
    "    'Column C': [np.nan, 9, 32, 100],\n",
    "    'Column D': [5, 8, 34, 110],\n",
    "})\n",
    "\n",
    "df"
   ],
   "metadata": {
    "collapsed": false,
    "pycharm": {
     "name": "#%%\n"
    }
   }
  },
  {
   "cell_type": "code",
   "execution_count": 167,
   "outputs": [
    {
     "name": "stdout",
     "output_type": "stream",
     "text": [
      "<class 'pandas.core.frame.DataFrame'>\n",
      "RangeIndex: 4 entries, 0 to 3\n",
      "Data columns (total 4 columns):\n",
      " #   Column    Non-Null Count  Dtype  \n",
      "---  ------    --------------  -----  \n",
      " 0   Column A  2 non-null      float64\n",
      " 1   Column B  3 non-null      float64\n",
      " 2   Column C  3 non-null      float64\n",
      " 3   Column D  4 non-null      int64  \n",
      "dtypes: float64(3), int64(1)\n",
      "memory usage: 256.0 bytes\n"
     ]
    }
   ],
   "source": [
    "df.info()"
   ],
   "metadata": {
    "collapsed": false,
    "pycharm": {
     "name": "#%%\n"
    }
   }
  },
  {
   "cell_type": "code",
   "execution_count": 168,
   "outputs": [
    {
     "data": {
      "text/plain": "Column A    2\nColumn B    1\nColumn C    1\nColumn D    0\ndtype: int64"
     },
     "execution_count": 168,
     "metadata": {},
     "output_type": "execute_result"
    }
   ],
   "source": [
    "df.isnull().sum()"
   ],
   "metadata": {
    "collapsed": false,
    "pycharm": {
     "name": "#%%\n"
    }
   }
  },
  {
   "cell_type": "code",
   "execution_count": 169,
   "outputs": [
    {
     "data": {
      "text/plain": "   Column A  Column B  Column C  Column D\n2      30.0      31.0      32.0        34",
      "text/html": "<div>\n<style scoped>\n    .dataframe tbody tr th:only-of-type {\n        vertical-align: middle;\n    }\n\n    .dataframe tbody tr th {\n        vertical-align: top;\n    }\n\n    .dataframe thead th {\n        text-align: right;\n    }\n</style>\n<table border=\"1\" class=\"dataframe\">\n  <thead>\n    <tr style=\"text-align: right;\">\n      <th></th>\n      <th>Column A</th>\n      <th>Column B</th>\n      <th>Column C</th>\n      <th>Column D</th>\n    </tr>\n  </thead>\n  <tbody>\n    <tr>\n      <th>2</th>\n      <td>30.0</td>\n      <td>31.0</td>\n      <td>32.0</td>\n      <td>34</td>\n    </tr>\n  </tbody>\n</table>\n</div>"
     },
     "execution_count": 169,
     "metadata": {},
     "output_type": "execute_result"
    }
   ],
   "source": [
    "df.dropna()"
   ],
   "metadata": {
    "collapsed": false,
    "pycharm": {
     "name": "#%%\n"
    }
   }
  },
  {
   "cell_type": "code",
   "execution_count": 170,
   "outputs": [
    {
     "data": {
      "text/plain": "   Column D\n0         5\n1         8\n2        34\n3       110",
      "text/html": "<div>\n<style scoped>\n    .dataframe tbody tr th:only-of-type {\n        vertical-align: middle;\n    }\n\n    .dataframe tbody tr th {\n        vertical-align: top;\n    }\n\n    .dataframe thead th {\n        text-align: right;\n    }\n</style>\n<table border=\"1\" class=\"dataframe\">\n  <thead>\n    <tr style=\"text-align: right;\">\n      <th></th>\n      <th>Column D</th>\n    </tr>\n  </thead>\n  <tbody>\n    <tr>\n      <th>0</th>\n      <td>5</td>\n    </tr>\n    <tr>\n      <th>1</th>\n      <td>8</td>\n    </tr>\n    <tr>\n      <th>2</th>\n      <td>34</td>\n    </tr>\n    <tr>\n      <th>3</th>\n      <td>110</td>\n    </tr>\n  </tbody>\n</table>\n</div>"
     },
     "execution_count": 170,
     "metadata": {},
     "output_type": "execute_result"
    }
   ],
   "source": [
    "df.dropna(axis=1)"
   ],
   "metadata": {
    "collapsed": false,
    "pycharm": {
     "name": "#%%\n"
    }
   }
  },
  {
   "cell_type": "markdown",
   "source": [
    "In this case, any row or column that contains **at least** one null value will be dropped. Which can be, depending on the case, too extreme. You can control this behavior with the `how` parameter. Can be either `'any'` or `'all'`:"
   ],
   "metadata": {
    "collapsed": false
   }
  },
  {
   "cell_type": "code",
   "execution_count": 173,
   "outputs": [
    {
     "data": {
      "text/plain": "   Column A  Column B  Column C\n0       1.0       2.0       NaN\n1       NaN       NaN       NaN\n2      30.0      31.0     100.0",
      "text/html": "<div>\n<style scoped>\n    .dataframe tbody tr th:only-of-type {\n        vertical-align: middle;\n    }\n\n    .dataframe tbody tr th {\n        vertical-align: top;\n    }\n\n    .dataframe thead th {\n        text-align: right;\n    }\n</style>\n<table border=\"1\" class=\"dataframe\">\n  <thead>\n    <tr style=\"text-align: right;\">\n      <th></th>\n      <th>Column A</th>\n      <th>Column B</th>\n      <th>Column C</th>\n    </tr>\n  </thead>\n  <tbody>\n    <tr>\n      <th>0</th>\n      <td>1.0</td>\n      <td>2.0</td>\n      <td>NaN</td>\n    </tr>\n    <tr>\n      <th>1</th>\n      <td>NaN</td>\n      <td>NaN</td>\n      <td>NaN</td>\n    </tr>\n    <tr>\n      <th>2</th>\n      <td>30.0</td>\n      <td>31.0</td>\n      <td>100.0</td>\n    </tr>\n  </tbody>\n</table>\n</div>"
     },
     "execution_count": 173,
     "metadata": {},
     "output_type": "execute_result"
    }
   ],
   "source": [
    "df2 = pd.DataFrame({\n",
    "    'Column A': [1, np.nan, 30],\n",
    "    'Column B': [2, np.nan, 31],\n",
    "    'Column C': [np.nan, np.nan, 100]\n",
    "})\n",
    "df2"
   ],
   "metadata": {
    "collapsed": false,
    "pycharm": {
     "name": "#%%\n"
    }
   }
  },
  {
   "cell_type": "code",
   "execution_count": 174,
   "outputs": [
    {
     "data": {
      "text/plain": "   Column A  Column B  Column C  Column D\n0       1.0       2.0       NaN         5\n1       NaN       8.0       9.0         8\n2      30.0      31.0      32.0        34\n3       NaN       NaN     100.0       110",
      "text/html": "<div>\n<style scoped>\n    .dataframe tbody tr th:only-of-type {\n        vertical-align: middle;\n    }\n\n    .dataframe tbody tr th {\n        vertical-align: top;\n    }\n\n    .dataframe thead th {\n        text-align: right;\n    }\n</style>\n<table border=\"1\" class=\"dataframe\">\n  <thead>\n    <tr style=\"text-align: right;\">\n      <th></th>\n      <th>Column A</th>\n      <th>Column B</th>\n      <th>Column C</th>\n      <th>Column D</th>\n    </tr>\n  </thead>\n  <tbody>\n    <tr>\n      <th>0</th>\n      <td>1.0</td>\n      <td>2.0</td>\n      <td>NaN</td>\n      <td>5</td>\n    </tr>\n    <tr>\n      <th>1</th>\n      <td>NaN</td>\n      <td>8.0</td>\n      <td>9.0</td>\n      <td>8</td>\n    </tr>\n    <tr>\n      <th>2</th>\n      <td>30.0</td>\n      <td>31.0</td>\n      <td>32.0</td>\n      <td>34</td>\n    </tr>\n    <tr>\n      <th>3</th>\n      <td>NaN</td>\n      <td>NaN</td>\n      <td>100.0</td>\n      <td>110</td>\n    </tr>\n  </tbody>\n</table>\n</div>"
     },
     "execution_count": 174,
     "metadata": {},
     "output_type": "execute_result"
    }
   ],
   "source": [
    "df.dropna(how='all') # if all columns have NA then drop"
   ],
   "metadata": {
    "collapsed": false,
    "pycharm": {
     "name": "#%%\n"
    }
   }
  },
  {
   "cell_type": "code",
   "execution_count": 176,
   "outputs": [
    {
     "data": {
      "text/plain": "   Column A  Column B  Column C  Column D\n2      30.0      31.0      32.0        34",
      "text/html": "<div>\n<style scoped>\n    .dataframe tbody tr th:only-of-type {\n        vertical-align: middle;\n    }\n\n    .dataframe tbody tr th {\n        vertical-align: top;\n    }\n\n    .dataframe thead th {\n        text-align: right;\n    }\n</style>\n<table border=\"1\" class=\"dataframe\">\n  <thead>\n    <tr style=\"text-align: right;\">\n      <th></th>\n      <th>Column A</th>\n      <th>Column B</th>\n      <th>Column C</th>\n      <th>Column D</th>\n    </tr>\n  </thead>\n  <tbody>\n    <tr>\n      <th>2</th>\n      <td>30.0</td>\n      <td>31.0</td>\n      <td>32.0</td>\n      <td>34</td>\n    </tr>\n  </tbody>\n</table>\n</div>"
     },
     "execution_count": 176,
     "metadata": {},
     "output_type": "execute_result"
    }
   ],
   "source": [
    "df.dropna(how = 'any') # default behavior"
   ],
   "metadata": {
    "collapsed": false,
    "pycharm": {
     "name": "#%%\n"
    }
   }
  },
  {
   "cell_type": "code",
   "execution_count": 177,
   "outputs": [
    {
     "data": {
      "text/plain": "   Column A  Column B  Column C  Column D\n0       1.0       2.0       NaN         5\n1       NaN       8.0       9.0         8\n2      30.0      31.0      32.0        34",
      "text/html": "<div>\n<style scoped>\n    .dataframe tbody tr th:only-of-type {\n        vertical-align: middle;\n    }\n\n    .dataframe tbody tr th {\n        vertical-align: top;\n    }\n\n    .dataframe thead th {\n        text-align: right;\n    }\n</style>\n<table border=\"1\" class=\"dataframe\">\n  <thead>\n    <tr style=\"text-align: right;\">\n      <th></th>\n      <th>Column A</th>\n      <th>Column B</th>\n      <th>Column C</th>\n      <th>Column D</th>\n    </tr>\n  </thead>\n  <tbody>\n    <tr>\n      <th>0</th>\n      <td>1.0</td>\n      <td>2.0</td>\n      <td>NaN</td>\n      <td>5</td>\n    </tr>\n    <tr>\n      <th>1</th>\n      <td>NaN</td>\n      <td>8.0</td>\n      <td>9.0</td>\n      <td>8</td>\n    </tr>\n    <tr>\n      <th>2</th>\n      <td>30.0</td>\n      <td>31.0</td>\n      <td>32.0</td>\n      <td>34</td>\n    </tr>\n  </tbody>\n</table>\n</div>"
     },
     "execution_count": 177,
     "metadata": {},
     "output_type": "execute_result"
    }
   ],
   "source": [
    "df.dropna(thresh=3) # if at least 3 values are NA"
   ],
   "metadata": {
    "collapsed": false,
    "pycharm": {
     "name": "#%%\n"
    }
   }
  },
  {
   "cell_type": "code",
   "execution_count": 178,
   "outputs": [
    {
     "data": {
      "text/plain": "   Column B  Column C  Column D\n0       2.0       NaN         5\n1       8.0       9.0         8\n2      31.0      32.0        34\n3       NaN     100.0       110",
      "text/html": "<div>\n<style scoped>\n    .dataframe tbody tr th:only-of-type {\n        vertical-align: middle;\n    }\n\n    .dataframe tbody tr th {\n        vertical-align: top;\n    }\n\n    .dataframe thead th {\n        text-align: right;\n    }\n</style>\n<table border=\"1\" class=\"dataframe\">\n  <thead>\n    <tr style=\"text-align: right;\">\n      <th></th>\n      <th>Column B</th>\n      <th>Column C</th>\n      <th>Column D</th>\n    </tr>\n  </thead>\n  <tbody>\n    <tr>\n      <th>0</th>\n      <td>2.0</td>\n      <td>NaN</td>\n      <td>5</td>\n    </tr>\n    <tr>\n      <th>1</th>\n      <td>8.0</td>\n      <td>9.0</td>\n      <td>8</td>\n    </tr>\n    <tr>\n      <th>2</th>\n      <td>31.0</td>\n      <td>32.0</td>\n      <td>34</td>\n    </tr>\n    <tr>\n      <th>3</th>\n      <td>NaN</td>\n      <td>100.0</td>\n      <td>110</td>\n    </tr>\n  </tbody>\n</table>\n</div>"
     },
     "execution_count": 178,
     "metadata": {},
     "output_type": "execute_result"
    }
   ],
   "source": [
    "df.dropna(thresh=3, axis='columns')"
   ],
   "metadata": {
    "collapsed": false,
    "pycharm": {
     "name": "#%%\n"
    }
   }
  },
  {
   "cell_type": "markdown",
   "source": [
    "![green-divider](https://user-images.githubusercontent.com/7065401/52071924-c003ad80-2562-11e9-8297-1c6595f8a7ff.png)\n",
    "\n",
    "## Filling Null values on Dataframes"
   ],
   "metadata": {
    "collapsed": false
   }
  },
  {
   "cell_type": "markdown",
   "source": [
    "Filling with preset numbers or the statistical measure"
   ],
   "metadata": {
    "collapsed": false
   }
  },
  {
   "cell_type": "code",
   "execution_count": 179,
   "outputs": [
    {
     "data": {
      "text/plain": "   Column A  Column B  Column C  Column D\n0       1.0       2.0      47.0         5\n1       0.0       8.0       9.0         8\n2      30.0      31.0      32.0        34\n3       0.0      99.0     100.0       110",
      "text/html": "<div>\n<style scoped>\n    .dataframe tbody tr th:only-of-type {\n        vertical-align: middle;\n    }\n\n    .dataframe tbody tr th {\n        vertical-align: top;\n    }\n\n    .dataframe thead th {\n        text-align: right;\n    }\n</style>\n<table border=\"1\" class=\"dataframe\">\n  <thead>\n    <tr style=\"text-align: right;\">\n      <th></th>\n      <th>Column A</th>\n      <th>Column B</th>\n      <th>Column C</th>\n      <th>Column D</th>\n    </tr>\n  </thead>\n  <tbody>\n    <tr>\n      <th>0</th>\n      <td>1.0</td>\n      <td>2.0</td>\n      <td>47.0</td>\n      <td>5</td>\n    </tr>\n    <tr>\n      <th>1</th>\n      <td>0.0</td>\n      <td>8.0</td>\n      <td>9.0</td>\n      <td>8</td>\n    </tr>\n    <tr>\n      <th>2</th>\n      <td>30.0</td>\n      <td>31.0</td>\n      <td>32.0</td>\n      <td>34</td>\n    </tr>\n    <tr>\n      <th>3</th>\n      <td>0.0</td>\n      <td>99.0</td>\n      <td>100.0</td>\n      <td>110</td>\n    </tr>\n  </tbody>\n</table>\n</div>"
     },
     "execution_count": 179,
     "metadata": {},
     "output_type": "execute_result"
    }
   ],
   "source": [
    "df.fillna({'Column A': 0, 'Column B': 99, 'Column C': df['Column C'].mean()})"
   ],
   "metadata": {
    "collapsed": false,
    "pycharm": {
     "name": "#%%\n"
    }
   }
  },
  {
   "cell_type": "markdown",
   "source": [
    "Forwards filling or backward filling"
   ],
   "metadata": {
    "collapsed": false
   }
  },
  {
   "cell_type": "code",
   "execution_count": 180,
   "outputs": [
    {
     "data": {
      "text/plain": "   Column A  Column B  Column C  Column D\n0       1.0       2.0       NaN         5\n1       1.0       8.0       9.0         8\n2      30.0      31.0      32.0        34\n3      30.0      31.0     100.0       110",
      "text/html": "<div>\n<style scoped>\n    .dataframe tbody tr th:only-of-type {\n        vertical-align: middle;\n    }\n\n    .dataframe tbody tr th {\n        vertical-align: top;\n    }\n\n    .dataframe thead th {\n        text-align: right;\n    }\n</style>\n<table border=\"1\" class=\"dataframe\">\n  <thead>\n    <tr style=\"text-align: right;\">\n      <th></th>\n      <th>Column A</th>\n      <th>Column B</th>\n      <th>Column C</th>\n      <th>Column D</th>\n    </tr>\n  </thead>\n  <tbody>\n    <tr>\n      <th>0</th>\n      <td>1.0</td>\n      <td>2.0</td>\n      <td>NaN</td>\n      <td>5</td>\n    </tr>\n    <tr>\n      <th>1</th>\n      <td>1.0</td>\n      <td>8.0</td>\n      <td>9.0</td>\n      <td>8</td>\n    </tr>\n    <tr>\n      <th>2</th>\n      <td>30.0</td>\n      <td>31.0</td>\n      <td>32.0</td>\n      <td>34</td>\n    </tr>\n    <tr>\n      <th>3</th>\n      <td>30.0</td>\n      <td>31.0</td>\n      <td>100.0</td>\n      <td>110</td>\n    </tr>\n  </tbody>\n</table>\n</div>"
     },
     "execution_count": 180,
     "metadata": {},
     "output_type": "execute_result"
    }
   ],
   "source": [
    "df.fillna(method='ffill', axis=0)"
   ],
   "metadata": {
    "collapsed": false,
    "pycharm": {
     "name": "#%%\n"
    }
   }
  },
  {
   "cell_type": "code",
   "execution_count": 181,
   "outputs": [
    {
     "data": {
      "text/plain": "   Column A  Column B  Column C  Column D\n0       1.0       2.0       9.0         5\n1      30.0       8.0       9.0         8\n2      30.0      31.0      32.0        34\n3       NaN       NaN     100.0       110",
      "text/html": "<div>\n<style scoped>\n    .dataframe tbody tr th:only-of-type {\n        vertical-align: middle;\n    }\n\n    .dataframe tbody tr th {\n        vertical-align: top;\n    }\n\n    .dataframe thead th {\n        text-align: right;\n    }\n</style>\n<table border=\"1\" class=\"dataframe\">\n  <thead>\n    <tr style=\"text-align: right;\">\n      <th></th>\n      <th>Column A</th>\n      <th>Column B</th>\n      <th>Column C</th>\n      <th>Column D</th>\n    </tr>\n  </thead>\n  <tbody>\n    <tr>\n      <th>0</th>\n      <td>1.0</td>\n      <td>2.0</td>\n      <td>9.0</td>\n      <td>5</td>\n    </tr>\n    <tr>\n      <th>1</th>\n      <td>30.0</td>\n      <td>8.0</td>\n      <td>9.0</td>\n      <td>8</td>\n    </tr>\n    <tr>\n      <th>2</th>\n      <td>30.0</td>\n      <td>31.0</td>\n      <td>32.0</td>\n      <td>34</td>\n    </tr>\n    <tr>\n      <th>3</th>\n      <td>NaN</td>\n      <td>NaN</td>\n      <td>100.0</td>\n      <td>110</td>\n    </tr>\n  </tbody>\n</table>\n</div>"
     },
     "execution_count": 181,
     "metadata": {},
     "output_type": "execute_result"
    }
   ],
   "source": [
    "df.fillna(method='bfill', axis=0)"
   ],
   "metadata": {
    "collapsed": false,
    "pycharm": {
     "name": "#%%\n"
    }
   }
  },
  {
   "cell_type": "code",
   "execution_count": 183,
   "outputs": [
    {
     "data": {
      "text/plain": "Column A    1\nColumn B    1\nColumn C    1\nColumn D    1\ndtype: int64"
     },
     "execution_count": 183,
     "metadata": {},
     "output_type": "execute_result"
    }
   ],
   "source": [
    "df.dropna().count()"
   ],
   "metadata": {
    "collapsed": false,
    "pycharm": {
     "name": "#%%\n"
    }
   }
  },
  {
   "cell_type": "code",
   "execution_count": 184,
   "outputs": [
    {
     "data": {
      "text/plain": "4"
     },
     "execution_count": 184,
     "metadata": {},
     "output_type": "execute_result"
    }
   ],
   "source": [
    "missing_values = len(s.dropna() != len(s))\n",
    "missing_values"
   ],
   "metadata": {
    "collapsed": false,
    "pycharm": {
     "name": "#%%\n"
    }
   }
  },
  {
   "cell_type": "code",
   "execution_count": 192,
   "outputs": [
    {
     "data": {
      "text/plain": "6"
     },
     "execution_count": 192,
     "metadata": {},
     "output_type": "execute_result"
    }
   ],
   "source": [
    "len(s)"
   ],
   "metadata": {
    "collapsed": false,
    "pycharm": {
     "name": "#%%\n"
    }
   }
  },
  {
   "cell_type": "code",
   "execution_count": 191,
   "outputs": [
    {
     "data": {
      "text/plain": "4"
     },
     "execution_count": 191,
     "metadata": {},
     "output_type": "execute_result"
    }
   ],
   "source": [
    "s.count()"
   ],
   "metadata": {
    "collapsed": false,
    "pycharm": {
     "name": "#%%\n"
    }
   }
  },
  {
   "cell_type": "markdown",
   "source": [
    "**More Pythonic solution `any`**\n",
    "The methods `any` and `all` check if either there's `any` True value in a Series or `all` the values are `True`. They work in the same way as in Python:"
   ],
   "metadata": {
    "collapsed": false
   }
  },
  {
   "cell_type": "code",
   "execution_count": 193,
   "outputs": [
    {
     "data": {
      "text/plain": "True"
     },
     "execution_count": 193,
     "metadata": {},
     "output_type": "execute_result"
    }
   ],
   "source": [
    "pd.Series([True, False, False]).any()"
   ],
   "metadata": {
    "collapsed": false,
    "pycharm": {
     "name": "#%%\n"
    }
   }
  },
  {
   "cell_type": "code",
   "execution_count": 194,
   "outputs": [
    {
     "data": {
      "text/plain": "False"
     },
     "execution_count": 194,
     "metadata": {},
     "output_type": "execute_result"
    }
   ],
   "source": [
    "pd.Series([True, False, False]).all()"
   ],
   "metadata": {
    "collapsed": false,
    "pycharm": {
     "name": "#%%\n"
    }
   }
  },
  {
   "cell_type": "code",
   "execution_count": 195,
   "outputs": [
    {
     "data": {
      "text/plain": "True"
     },
     "execution_count": 195,
     "metadata": {},
     "output_type": "execute_result"
    }
   ],
   "source": [
    "pd.Series([True, True, True]).all()"
   ],
   "metadata": {
    "collapsed": false,
    "pycharm": {
     "name": "#%%\n"
    }
   }
  },
  {
   "cell_type": "code",
   "execution_count": 196,
   "outputs": [
    {
     "data": {
      "text/plain": "0    False\n1    False\n2    False\n3     True\n4     True\n5    False\ndtype: bool"
     },
     "execution_count": 196,
     "metadata": {},
     "output_type": "execute_result"
    }
   ],
   "source": [
    "s.isnull()"
   ],
   "metadata": {
    "collapsed": false,
    "pycharm": {
     "name": "#%%\n"
    }
   }
  },
  {
   "cell_type": "markdown",
   "source": [
    "![green-divider](https://user-images.githubusercontent.com/7065401/52071924-c003ad80-2562-11e9-8297-1c6595f8a7ff.png)\n",
    "\n",
    "# Cleaning All Values"
   ],
   "metadata": {
    "collapsed": false
   }
  },
  {
   "cell_type": "markdown",
   "source": [
    "The previous `DataFrame` doesn't have any \"missing value\", but clearly has invalid data. `290` doesn't seem like a valid age, and `D` and `?` don't correspond with any known sex category. How can you clean these not-missing, but clearly invalid values then?"
   ],
   "metadata": {
    "collapsed": false
   }
  },
  {
   "cell_type": "code",
   "execution_count": 197,
   "outputs": [
    {
     "data": {
      "text/plain": "  Sex  Age\n0   M   29\n1   F   30\n2   F   24\n3   D  290\n4   ?   25",
      "text/html": "<div>\n<style scoped>\n    .dataframe tbody tr th:only-of-type {\n        vertical-align: middle;\n    }\n\n    .dataframe tbody tr th {\n        vertical-align: top;\n    }\n\n    .dataframe thead th {\n        text-align: right;\n    }\n</style>\n<table border=\"1\" class=\"dataframe\">\n  <thead>\n    <tr style=\"text-align: right;\">\n      <th></th>\n      <th>Sex</th>\n      <th>Age</th>\n    </tr>\n  </thead>\n  <tbody>\n    <tr>\n      <th>0</th>\n      <td>M</td>\n      <td>29</td>\n    </tr>\n    <tr>\n      <th>1</th>\n      <td>F</td>\n      <td>30</td>\n    </tr>\n    <tr>\n      <th>2</th>\n      <td>F</td>\n      <td>24</td>\n    </tr>\n    <tr>\n      <th>3</th>\n      <td>D</td>\n      <td>290</td>\n    </tr>\n    <tr>\n      <th>4</th>\n      <td>?</td>\n      <td>25</td>\n    </tr>\n  </tbody>\n</table>\n</div>"
     },
     "execution_count": 197,
     "metadata": {},
     "output_type": "execute_result"
    }
   ],
   "source": [
    "df = pd.DataFrame({\n",
    "    'Sex': ['M', 'F', 'F', 'D', '?'],\n",
    "    'Age': [29, 30, 24, 290, 25],\n",
    "})\n",
    "df"
   ],
   "metadata": {
    "collapsed": false,
    "pycharm": {
     "name": "#%%\n"
    }
   }
  },
  {
   "cell_type": "code",
   "execution_count": 201,
   "outputs": [
    {
     "data": {
      "text/plain": "0    M\n1    F\n2    F\n3    F\n4    ?\nName: Sex, dtype: object"
     },
     "execution_count": 201,
     "metadata": {},
     "output_type": "execute_result"
    }
   ],
   "source": [
    "df['Sex'].replace('D','F')"
   ],
   "metadata": {
    "collapsed": false,
    "pycharm": {
     "name": "#%%\n"
    }
   }
  },
  {
   "cell_type": "markdown",
   "source": [
    "It can accept a dictionary of values to replace. For example, they also told you that there might be a few `'N's`, that should actually be `'M's`:"
   ],
   "metadata": {
    "collapsed": false
   }
  },
  {
   "cell_type": "code",
   "execution_count": 202,
   "outputs": [
    {
     "data": {
      "text/plain": "0    M\n1    F\n2    F\n3    F\n4    ?\nName: Sex, dtype: object"
     },
     "execution_count": 202,
     "metadata": {},
     "output_type": "execute_result"
    }
   ],
   "source": [
    "df['Sex'].replace({'D': 'F', 'N': 'M'})"
   ],
   "metadata": {
    "collapsed": false,
    "pycharm": {
     "name": "#%%\n"
    }
   }
  },
  {
   "cell_type": "markdown",
   "source": [
    "If you have many columns to replace, you could apply it at “DataFrame level”:"
   ],
   "metadata": {
    "collapsed": false
   }
  },
  {
   "cell_type": "code",
   "execution_count": 203,
   "outputs": [
    {
     "data": {
      "text/plain": "  Sex  Age\n0   M   29\n1   F   30\n2   F   24\n3   F   29\n4   ?   25",
      "text/html": "<div>\n<style scoped>\n    .dataframe tbody tr th:only-of-type {\n        vertical-align: middle;\n    }\n\n    .dataframe tbody tr th {\n        vertical-align: top;\n    }\n\n    .dataframe thead th {\n        text-align: right;\n    }\n</style>\n<table border=\"1\" class=\"dataframe\">\n  <thead>\n    <tr style=\"text-align: right;\">\n      <th></th>\n      <th>Sex</th>\n      <th>Age</th>\n    </tr>\n  </thead>\n  <tbody>\n    <tr>\n      <th>0</th>\n      <td>M</td>\n      <td>29</td>\n    </tr>\n    <tr>\n      <th>1</th>\n      <td>F</td>\n      <td>30</td>\n    </tr>\n    <tr>\n      <th>2</th>\n      <td>F</td>\n      <td>24</td>\n    </tr>\n    <tr>\n      <th>3</th>\n      <td>F</td>\n      <td>29</td>\n    </tr>\n    <tr>\n      <th>4</th>\n      <td>?</td>\n      <td>25</td>\n    </tr>\n  </tbody>\n</table>\n</div>"
     },
     "execution_count": 203,
     "metadata": {},
     "output_type": "execute_result"
    }
   ],
   "source": [
    "df.replace({\n",
    "    'Sex': {\n",
    "        'D': 'F',\n",
    "        'N': 'M'\n",
    "    },\n",
    "    'Age': {\n",
    "        290: 29\n",
    "    }\n",
    "})"
   ],
   "metadata": {
    "collapsed": false,
    "pycharm": {
     "name": "#%%\n"
    }
   }
  },
  {
   "cell_type": "markdown",
   "source": [
    "![purple-divider](https://user-images.githubusercontent.com/7065401/52071927-c1cd7100-2562-11e9-908a-dde91ba14e59.png)\n",
    "\n",
    "# Dealing with Duplicates"
   ],
   "metadata": {
    "collapsed": false
   }
  },
  {
   "cell_type": "code",
   "execution_count": 204,
   "outputs": [],
   "source": [
    "ambassadors = pd.Series([\n",
    "    'France',\n",
    "    'United Kingdom',\n",
    "    'United Kingdom',\n",
    "    'Italy',\n",
    "    'Germany',\n",
    "    'Germany',\n",
    "    'Germany',\n",
    "], index=[\n",
    "    'Gérard Araud',\n",
    "    'Kim Darroch',\n",
    "    'Peter Westmacott',\n",
    "    'Armando Varricchio',\n",
    "    'Peter Wittig',\n",
    "    'Peter Ammon',\n",
    "    'Klaus Scharioth '\n",
    "])"
   ],
   "metadata": {
    "collapsed": false,
    "pycharm": {
     "name": "#%%\n"
    }
   }
  },
  {
   "cell_type": "code",
   "execution_count": 205,
   "outputs": [
    {
     "data": {
      "text/plain": "Gérard Araud                  France\nKim Darroch           United Kingdom\nPeter Westmacott      United Kingdom\nArmando Varricchio             Italy\nPeter Wittig                 Germany\nPeter Ammon                  Germany\nKlaus Scharioth              Germany\ndtype: object"
     },
     "execution_count": 205,
     "metadata": {},
     "output_type": "execute_result"
    }
   ],
   "source": [
    "ambassadors"
   ],
   "metadata": {
    "collapsed": false,
    "pycharm": {
     "name": "#%%\n"
    }
   }
  },
  {
   "cell_type": "code",
   "execution_count": 206,
   "outputs": [
    {
     "data": {
      "text/plain": "Gérard Araud          False\nKim Darroch           False\nPeter Westmacott       True\nArmando Varricchio    False\nPeter Wittig          False\nPeter Ammon            True\nKlaus Scharioth        True\ndtype: bool"
     },
     "execution_count": 206,
     "metadata": {},
     "output_type": "execute_result"
    }
   ],
   "source": [
    "ambassadors.duplicated()"
   ],
   "metadata": {
    "collapsed": false,
    "pycharm": {
     "name": "#%%\n"
    }
   }
  },
  {
   "cell_type": "markdown",
   "source": [
    "In this case `duplicated` didn't consider `'Kim Darroch'`, the first instance of the United Kingdom or `'Peter Wittig'` as duplicates. That's because, by default, it'll consider the first occurrence of the value as not-duplicate. You can change this behavior with the `keep` parameter:"
   ],
   "metadata": {
    "collapsed": false
   }
  },
  {
   "cell_type": "code",
   "execution_count": null,
   "outputs": [],
   "source": [
    "ambassadors.duplicated(keep='last')"
   ],
   "metadata": {
    "collapsed": false,
    "pycharm": {
     "name": "#%%\n"
    }
   }
  },
  {
   "cell_type": "markdown",
   "source": [
    "In this case, the result is \"flipped\", `'Kim Darroch'` and `'Peter Wittig'` (the first ambassadors of their countries) are considered duplicates, but `'Peter Westmacott'` and `'Klaus Scharioth'` are not duplicates. You can also choose to mark all of them as duplicates with `keep=False`:"
   ],
   "metadata": {
    "collapsed": false
   }
  },
  {
   "cell_type": "code",
   "execution_count": 207,
   "outputs": [
    {
     "data": {
      "text/plain": "Gérard Araud          False\nKim Darroch            True\nPeter Westmacott      False\nArmando Varricchio    False\nPeter Wittig           True\nPeter Ammon            True\nKlaus Scharioth       False\ndtype: bool"
     },
     "execution_count": 207,
     "metadata": {},
     "output_type": "execute_result"
    }
   ],
   "source": [
    "ambassadors.duplicated(keep=False)"
   ],
   "metadata": {
    "collapsed": false,
    "pycharm": {
     "name": "#%%\n"
    }
   }
  },
  {
   "cell_type": "markdown",
   "source": [
    "A similar method is `drop_duplicates`, which just excludes the duplicated values and also accepts the `keep` parameter:"
   ],
   "metadata": {
    "collapsed": false
   }
  },
  {
   "cell_type": "code",
   "execution_count": 208,
   "outputs": [
    {
     "data": {
      "text/plain": "Gérard Araud                  France\nPeter Westmacott      United Kingdom\nArmando Varricchio             Italy\nKlaus Scharioth              Germany\ndtype: object"
     },
     "execution_count": 208,
     "metadata": {},
     "output_type": "execute_result"
    }
   ],
   "source": [
    "ambassadors.drop_duplicates(keep='last')"
   ],
   "metadata": {
    "collapsed": false,
    "pycharm": {
     "name": "#%%\n"
    }
   }
  },
  {
   "cell_type": "code",
   "execution_count": 209,
   "outputs": [
    {
     "data": {
      "text/plain": "Gérard Araud          France\nArmando Varricchio     Italy\ndtype: object"
     },
     "execution_count": 209,
     "metadata": {},
     "output_type": "execute_result"
    }
   ],
   "source": [
    "ambassadors.drop_duplicates(keep=False)"
   ],
   "metadata": {
    "collapsed": false,
    "pycharm": {
     "name": "#%%\n"
    }
   }
  },
  {
   "cell_type": "markdown",
   "source": [
    "![green-divider](https://user-images.githubusercontent.com/7065401/52071924-c003ad80-2562-11e9-8297-1c6595f8a7ff.png)\n",
    "\n",
    "## Duplicates in DataFrames\n",
    "\n",
    "Conceptually speaking, duplicates in a DataFrame happen at \"row\" level. Two rows with exactly the same values are considered to be duplicates:"
   ],
   "metadata": {
    "collapsed": false
   }
  },
  {
   "cell_type": "code",
   "execution_count": 210,
   "outputs": [],
   "source": [
    "players = pd.DataFrame({\n",
    "    'Name': [\n",
    "        'Kobe Bryant',\n",
    "        'LeBron James',\n",
    "        'Kobe Bryant',\n",
    "        'Carmelo Anthony',\n",
    "        'Kobe Bryant',\n",
    "    ],\n",
    "    'Pos': [\n",
    "        'SG',\n",
    "        'SF',\n",
    "        'SG',\n",
    "        'SF',\n",
    "        'SF'\n",
    "    ]\n",
    "})"
   ],
   "metadata": {
    "collapsed": false,
    "pycharm": {
     "name": "#%%\n"
    }
   }
  },
  {
   "cell_type": "code",
   "execution_count": 211,
   "outputs": [
    {
     "data": {
      "text/plain": "              Name Pos\n0      Kobe Bryant  SG\n1     LeBron James  SF\n2      Kobe Bryant  SG\n3  Carmelo Anthony  SF\n4      Kobe Bryant  SF",
      "text/html": "<div>\n<style scoped>\n    .dataframe tbody tr th:only-of-type {\n        vertical-align: middle;\n    }\n\n    .dataframe tbody tr th {\n        vertical-align: top;\n    }\n\n    .dataframe thead th {\n        text-align: right;\n    }\n</style>\n<table border=\"1\" class=\"dataframe\">\n  <thead>\n    <tr style=\"text-align: right;\">\n      <th></th>\n      <th>Name</th>\n      <th>Pos</th>\n    </tr>\n  </thead>\n  <tbody>\n    <tr>\n      <th>0</th>\n      <td>Kobe Bryant</td>\n      <td>SG</td>\n    </tr>\n    <tr>\n      <th>1</th>\n      <td>LeBron James</td>\n      <td>SF</td>\n    </tr>\n    <tr>\n      <th>2</th>\n      <td>Kobe Bryant</td>\n      <td>SG</td>\n    </tr>\n    <tr>\n      <th>3</th>\n      <td>Carmelo Anthony</td>\n      <td>SF</td>\n    </tr>\n    <tr>\n      <th>4</th>\n      <td>Kobe Bryant</td>\n      <td>SF</td>\n    </tr>\n  </tbody>\n</table>\n</div>"
     },
     "execution_count": 211,
     "metadata": {},
     "output_type": "execute_result"
    }
   ],
   "source": [
    "players"
   ],
   "metadata": {
    "collapsed": false,
    "pycharm": {
     "name": "#%%\n"
    }
   }
  },
  {
   "cell_type": "code",
   "execution_count": 212,
   "outputs": [
    {
     "data": {
      "text/plain": "0    False\n1    False\n2     True\n3    False\n4    False\ndtype: bool"
     },
     "execution_count": 212,
     "metadata": {},
     "output_type": "execute_result"
    }
   ],
   "source": [
    "players.duplicated()"
   ],
   "metadata": {
    "collapsed": false,
    "pycharm": {
     "name": "#%%\n"
    }
   }
  },
  {
   "cell_type": "code",
   "execution_count": 213,
   "outputs": [
    {
     "data": {
      "text/plain": "0    False\n1    False\n2     True\n3    False\n4     True\ndtype: bool"
     },
     "execution_count": 213,
     "metadata": {},
     "output_type": "execute_result"
    }
   ],
   "source": [
    "players.duplicated(subset=['Name'])"
   ],
   "metadata": {
    "collapsed": false,
    "pycharm": {
     "name": "#%%\n"
    }
   }
  },
  {
   "cell_type": "code",
   "execution_count": 214,
   "outputs": [
    {
     "data": {
      "text/plain": "0     True\n1    False\n2     True\n3    False\n4    False\ndtype: bool"
     },
     "execution_count": 214,
     "metadata": {},
     "output_type": "execute_result"
    }
   ],
   "source": [
    "players.duplicated(subset=['Name'], keep='last')"
   ],
   "metadata": {
    "collapsed": false,
    "pycharm": {
     "name": "#%%\n"
    }
   }
  },
  {
   "cell_type": "code",
   "execution_count": 215,
   "outputs": [
    {
     "data": {
      "text/plain": "              Name Pos\n0      Kobe Bryant  SG\n1     LeBron James  SF\n3  Carmelo Anthony  SF\n4      Kobe Bryant  SF",
      "text/html": "<div>\n<style scoped>\n    .dataframe tbody tr th:only-of-type {\n        vertical-align: middle;\n    }\n\n    .dataframe tbody tr th {\n        vertical-align: top;\n    }\n\n    .dataframe thead th {\n        text-align: right;\n    }\n</style>\n<table border=\"1\" class=\"dataframe\">\n  <thead>\n    <tr style=\"text-align: right;\">\n      <th></th>\n      <th>Name</th>\n      <th>Pos</th>\n    </tr>\n  </thead>\n  <tbody>\n    <tr>\n      <th>0</th>\n      <td>Kobe Bryant</td>\n      <td>SG</td>\n    </tr>\n    <tr>\n      <th>1</th>\n      <td>LeBron James</td>\n      <td>SF</td>\n    </tr>\n    <tr>\n      <th>3</th>\n      <td>Carmelo Anthony</td>\n      <td>SF</td>\n    </tr>\n    <tr>\n      <th>4</th>\n      <td>Kobe Bryant</td>\n      <td>SF</td>\n    </tr>\n  </tbody>\n</table>\n</div>"
     },
     "execution_count": 215,
     "metadata": {},
     "output_type": "execute_result"
    }
   ],
   "source": [
    "players.drop_duplicates()"
   ],
   "metadata": {
    "collapsed": false,
    "pycharm": {
     "name": "#%%\n"
    }
   }
  },
  {
   "cell_type": "code",
   "execution_count": 216,
   "outputs": [
    {
     "data": {
      "text/plain": "              Name Pos\n0      Kobe Bryant  SG\n1     LeBron James  SF\n3  Carmelo Anthony  SF",
      "text/html": "<div>\n<style scoped>\n    .dataframe tbody tr th:only-of-type {\n        vertical-align: middle;\n    }\n\n    .dataframe tbody tr th {\n        vertical-align: top;\n    }\n\n    .dataframe thead th {\n        text-align: right;\n    }\n</style>\n<table border=\"1\" class=\"dataframe\">\n  <thead>\n    <tr style=\"text-align: right;\">\n      <th></th>\n      <th>Name</th>\n      <th>Pos</th>\n    </tr>\n  </thead>\n  <tbody>\n    <tr>\n      <th>0</th>\n      <td>Kobe Bryant</td>\n      <td>SG</td>\n    </tr>\n    <tr>\n      <th>1</th>\n      <td>LeBron James</td>\n      <td>SF</td>\n    </tr>\n    <tr>\n      <th>3</th>\n      <td>Carmelo Anthony</td>\n      <td>SF</td>\n    </tr>\n  </tbody>\n</table>\n</div>"
     },
     "execution_count": 216,
     "metadata": {},
     "output_type": "execute_result"
    }
   ],
   "source": [
    "players.drop_duplicates(subset=['Name'])"
   ],
   "metadata": {
    "collapsed": false,
    "pycharm": {
     "name": "#%%\n"
    }
   }
  },
  {
   "cell_type": "code",
   "execution_count": 217,
   "outputs": [
    {
     "data": {
      "text/plain": "              Name Pos\n1     LeBron James  SF\n3  Carmelo Anthony  SF\n4      Kobe Bryant  SF",
      "text/html": "<div>\n<style scoped>\n    .dataframe tbody tr th:only-of-type {\n        vertical-align: middle;\n    }\n\n    .dataframe tbody tr th {\n        vertical-align: top;\n    }\n\n    .dataframe thead th {\n        text-align: right;\n    }\n</style>\n<table border=\"1\" class=\"dataframe\">\n  <thead>\n    <tr style=\"text-align: right;\">\n      <th></th>\n      <th>Name</th>\n      <th>Pos</th>\n    </tr>\n  </thead>\n  <tbody>\n    <tr>\n      <th>1</th>\n      <td>LeBron James</td>\n      <td>SF</td>\n    </tr>\n    <tr>\n      <th>3</th>\n      <td>Carmelo Anthony</td>\n      <td>SF</td>\n    </tr>\n    <tr>\n      <th>4</th>\n      <td>Kobe Bryant</td>\n      <td>SF</td>\n    </tr>\n  </tbody>\n</table>\n</div>"
     },
     "execution_count": 217,
     "metadata": {},
     "output_type": "execute_result"
    }
   ],
   "source": [
    "players.drop_duplicates(subset=['Name'], keep='last')"
   ],
   "metadata": {
    "collapsed": false,
    "pycharm": {
     "name": "#%%\n"
    }
   }
  },
  {
   "cell_type": "code",
   "execution_count": null,
   "outputs": [],
   "source": [],
   "metadata": {
    "collapsed": false,
    "pycharm": {
     "name": "#%%\n"
    }
   }
  }
 ],
 "metadata": {
  "kernelspec": {
   "display_name": "Python 3",
   "language": "python",
   "name": "python3"
  },
  "language_info": {
   "codemirror_mode": {
    "name": "ipython",
    "version": 2
   },
   "file_extension": ".py",
   "mimetype": "text/x-python",
   "name": "python",
   "nbconvert_exporter": "python",
   "pygments_lexer": "ipython2",
   "version": "2.7.6"
  }
 },
 "nbformat": 4,
 "nbformat_minor": 0
}
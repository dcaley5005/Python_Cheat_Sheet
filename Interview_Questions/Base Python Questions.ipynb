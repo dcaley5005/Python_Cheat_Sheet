{
 "cells": [
  {
   "cell_type": "markdown",
   "source": [
    "# Base Python Questions"
   ],
   "metadata": {
    "collapsed": false
   }
  },
  {
   "cell_type": "markdown",
   "source": [
    "## Easy Problems"
   ],
   "metadata": {
    "collapsed": false
   }
  },
  {
   "cell_type": "markdown",
   "source": [
    "9.1 Amazon: Given two arrays, write a function to get the intersection of the two. For example, if A = [1, 2, 3, 4, 5], and B = [0, 1, 3, 7] then you should return [1, 3]"
   ],
   "metadata": {
    "collapsed": false
   }
  },
  {
   "cell_type": "code",
   "execution_count": 1,
   "outputs": [],
   "source": [
    "A = [1, 2, 3, 4, 5]\n",
    "B = [0, 1, 3, 5, 7]\n",
    "\n",
    "def intersection(A, B):\n",
    "    return list(set(A) & set(B))\n"
   ],
   "metadata": {
    "collapsed": false
   }
  },
  {
   "cell_type": "markdown",
   "source": [
    "9.2 D.E. Shaw: Given an integer array, return the maximum product of any three numbers in the array. For example, for A = [1, 3, 4, 5], you should return 60, while for B = [ -2, -4, 5, 3] you should return 40."
   ],
   "metadata": {
    "collapsed": false
   }
  },
  {
   "cell_type": "code",
   "execution_count": 9,
   "outputs": [],
   "source": [
    "A = [1, 3, 4, 5]\n",
    "B = [-2, -4, 5, 3]\n",
    "\n",
    "def max_triplet_product(arr):\n",
    "    arr.sort()\n",
    "    return max(arr[-1]*arr[-2]*arr[-3], arr[0]*arr[1]*arr[-1])"
   ],
   "metadata": {
    "collapsed": false
   }
  },
  {
   "cell_type": "code",
   "execution_count": 10,
   "outputs": [
    {
     "name": "stdout",
     "output_type": "stream",
     "text": [
      "60\n",
      "40\n"
     ]
    }
   ],
   "source": [
    "print(max_triplet_product(A))\n",
    "print(max_triplet_product(B))"
   ],
   "metadata": {
    "collapsed": false
   }
  },
  {
   "cell_type": "markdown",
   "source": [
    "9.3 Facebook: Given a list of coordinates, write a function to find the k closest points (measured by Euclidean distance) to the origin. For example, if k = 3, and\n",
    "the points are: [[2, -1], [3, 2], [4, 1], [-1, -1], [-2, 2]], then return [[-1, -1], [2, -1], [-2, 2]]."
   ],
   "metadata": {
    "collapsed": false
   }
  },
  {
   "cell_type": "markdown",
   "source": [
    "Answer: In this example, the function first calculates the Euclidean distance for each point in the points list using the distance formula sqrt(x^2 + y^2). Then it stores the distance and point as tuple in distances. Next it sorts the distances list by the distance element. Then, it returns the first k points from the sorted list."
   ],
   "metadata": {
    "collapsed": false
   }
  },
  {
   "cell_type": "code",
   "execution_count": 11,
   "outputs": [],
   "source": [
    "import math\n",
    "def k_closest_points(points, k):\n",
    "    # calculate the Euclidean distance for each point\n",
    "    distances = [(math.sqrt(point[0]**2 + point[1]**2), point) for point in points]\n",
    "    # sort the points by distance\n",
    "    distances.sort()\n",
    "    # return the first k k_closest_points\n",
    "    return [point for distance, point in distances[:k]]"
   ],
   "metadata": {
    "collapsed": false
   }
  },
  {
   "cell_type": "code",
   "execution_count": 12,
   "outputs": [
    {
     "name": "stdout",
     "output_type": "stream",
     "text": [
      "[[-1, -1], [2, -1], [-2, 2]]\n"
     ]
    }
   ],
   "source": [
    "points = [[2, -1], [3, 2], [4, 1], [-1, -1], [-2, 2]]\n",
    "k = 3\n",
    "print(k_closest_points(points, k))"
   ],
   "metadata": {
    "collapsed": false
   }
  },
  {
   "cell_type": "markdown",
   "source": [
    "9.4 Google: Say you have an n-by-n matrix of elements that are sorted in ascending order both in the columns and rows of the matrix. Return the k-th smallest element of the matrix. For example, consider the matrix below:\n",
    "\n",
    "\n",
    "| 1\t 4\t 7 |\n",
    "| 3\t 5\t 9 |\n",
    "| 6\t 8\t11 |\n"
   ],
   "metadata": {
    "collapsed": false
   }
  },
  {
   "cell_type": "markdown",
   "source": [
    "9.5 Akuna Capital: Given an integer array, find the sum of the largest contignous subarray within the array. For example, if the input is [-1, -3, 5, -4, 3, -6, 9, 2]. then return 11 (because of [9, 2]). Note that if all the elements are negative, you should return 0"
   ],
   "metadata": {
    "collapsed": false
   },
   "execution_count": 0
  },
  {
   "cell_type": "code",
   "execution_count": 13,
   "outputs": [],
   "source": [
    "def max_subarray(arr):\n",
    "    n = len(arr)\n",
    "    max_sum = arr[0] # max\n",
    "    curr_sum = 0 # current sum\n",
    "    for i in range(n) :\n",
    "        curr_sum += arr[i]\n",
    "        max_sum = max(max_sum, curr_sum) # get max\n",
    "        if curr_sum < 0: # reset\n",
    "            curr_sum = 0\n",
    "    return max_sum"
   ],
   "metadata": {
    "collapsed": false
   }
  },
  {
   "cell_type": "code",
   "execution_count": 15,
   "outputs": [
    {
     "data": {
      "text/plain": "11"
     },
     "execution_count": 15,
     "metadata": {},
     "output_type": "execute_result"
    }
   ],
   "source": [
    "arr = [-1, -3, 5, -4, 3, -6, 9, 2]\n",
    "max_subarray(arr)"
   ],
   "metadata": {
    "collapsed": false
   }
  },
  {
   "cell_type": "markdown",
   "source": [
    "9.6 Facebook: Given a binary tree, write a function to determine whether the tree is a mirror image of itself. Two trees are a mirror image of each other if their root values are the same and the left subtree is a mirror image of the right subtree."
   ],
   "metadata": {
    "collapsed": false
   }
  },
  {
   "cell_type": "code",
   "execution_count": null,
   "outputs": [],
   "source": [],
   "metadata": {
    "collapsed": false
   }
  }
 ],
 "metadata": {
  "kernelspec": {
   "display_name": "Python 3",
   "language": "python",
   "name": "python3"
  },
  "language_info": {
   "codemirror_mode": {
    "name": "ipython",
    "version": 2
   },
   "file_extension": ".py",
   "mimetype": "text/x-python",
   "name": "python",
   "nbconvert_exporter": "python",
   "pygments_lexer": "ipython2",
   "version": "2.7.6"
  }
 },
 "nbformat": 4,
 "nbformat_minor": 0
}

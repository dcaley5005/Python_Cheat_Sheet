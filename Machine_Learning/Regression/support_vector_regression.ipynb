{
 "nbformat": 4,
 "nbformat_minor": 0,
 "metadata": {
  "colab": {
   "name": "Copy of support_vector_regression.ipynb",
   "provenance": [],
   "collapsed_sections": [],
   "toc_visible": true,
   "authorship_tag": "ABX9TyN8qV84hNS/iSS/DanHSlLM"
  },
  "kernelspec": {
   "name": "python3",
   "display_name": "Python 3"
  }
 },
 "cells": [
  {
   "cell_type": "markdown",
   "metadata": {
    "id": "m3PAEPRDRLA3",
    "colab_type": "text"
   },
   "source": [
    "# Support Vector Regression (SVR)"
   ]
  },
  {
   "cell_type": "markdown",
   "metadata": {
    "id": "0VCUAVIjRdzZ",
    "colab_type": "text"
   },
   "source": [
    "## Importing the libraries"
   ]
  },
  {
   "cell_type": "code",
   "metadata": {
    "id": "56oRF-QfSDzC",
    "colab_type": "code",
    "colab": {}
   },
   "source": [
    "import numpy as np\n",
    "import matplotlib.pyplot as plt\n",
    "import pandas as pd\n",
    "import redshift_connector\n",
    "import keyring"
   ],
   "execution_count": 2,
   "outputs": []
  },
  {
   "cell_type": "markdown",
   "metadata": {
    "id": "fXVXoFWtSF4_",
    "colab_type": "text"
   },
   "source": [
    "## Importing the dataset"
   ]
  },
  {
   "cell_type": "code",
   "metadata": {
    "id": "xfoa8OSORfHQ",
    "colab_type": "code",
    "colab": {}
   },
   "source": [
    "### Importing via CSV\n",
    "### dataset = pd.read_csv('Data.csv')\n",
    "\n",
    "### Importing via Redshift\n",
    "pwd = keyring.get_password(\"redshift-production.db.customink.com\", \"dan.caley\")\n",
    "\n",
    "# Connecting to redshift\n",
    "# https://docs.aws.amazon.com/redshift/latest/mgmt/python-connect-examples.html#python-connect-query\n",
    "conn = redshift_connector.connect(\n",
    "    host='redshift-production.db.customink.com',\n",
    "    database='cink',\n",
    "    user='dan.caley',\n",
    "    password= pwd\n",
    ")\n",
    "\n",
    "# Reading SQL File\n",
    "open_file = open('sql_code.sql','r')\n",
    "sql_file = open_file.read()\n",
    "open_file.close()\n",
    "\n",
    "# Running Query from sql file\n",
    "dataset = pd.read_sql_query(sql_file, conn)\n",
    "\n",
    "# Removing Binary headers\n",
    "remove_binary = dataset.columns.astype(str).str.replace(\"'b\",'')\n",
    "dataset.columns = remove_binary\n"
   ],
   "execution_count": 24,
   "outputs": []
  },
  {
   "cell_type": "code",
   "metadata": {
    "id": "_8Ny1GfPiV3m",
    "colab_type": "code",
    "colab": {}
   },
   "source": [
    "dataset.describe()"
   ],
   "execution_count": 25,
   "outputs": [
    {
     "data": {
      "text/plain": "       days_deliverd     net_price   total_units  designs_prior_30  \\\ncount   70941.000000  70941.000000  70941.000000      70941.000000   \nmean       11.172312    598.665785     48.496032          2.536460   \nstd         6.040281    704.350811     92.846683          3.453797   \nmin         1.000000      0.200000      0.000000          0.000000   \n25%         8.000000    268.070000     13.000000          1.000000   \n50%        11.000000    399.040000     25.000000          1.000000   \n75%        13.000000    664.160000     50.000000          3.000000   \nmax       309.000000  31079.000000   5000.000000        137.000000   \n\n             errors    zip_wealth  sales_bulk_following_365  \ncount  70941.000000  7.094100e+04              70941.000000  \nmean       0.134732  2.407322e+09               1084.663598  \nstd        0.341439  1.872485e+09               2468.901342  \nmin        0.000000  0.000000e+00                  1.530000  \n25%        0.000000  1.025876e+09                264.780000  \n50%        0.000000  2.038128e+09                493.000000  \n75%        0.000000  3.338458e+09               1061.000000  \nmax        1.000000  1.608083e+10              90764.210000  ",
      "text/html": "<div>\n<style scoped>\n    .dataframe tbody tr th:only-of-type {\n        vertical-align: middle;\n    }\n\n    .dataframe tbody tr th {\n        vertical-align: top;\n    }\n\n    .dataframe thead th {\n        text-align: right;\n    }\n</style>\n<table border=\"1\" class=\"dataframe\">\n  <thead>\n    <tr style=\"text-align: right;\">\n      <th></th>\n      <th>days_deliverd</th>\n      <th>net_price</th>\n      <th>total_units</th>\n      <th>designs_prior_30</th>\n      <th>errors</th>\n      <th>zip_wealth</th>\n      <th>sales_bulk_following_365</th>\n    </tr>\n  </thead>\n  <tbody>\n    <tr>\n      <th>count</th>\n      <td>70941.000000</td>\n      <td>70941.000000</td>\n      <td>70941.000000</td>\n      <td>70941.000000</td>\n      <td>70941.000000</td>\n      <td>7.094100e+04</td>\n      <td>70941.000000</td>\n    </tr>\n    <tr>\n      <th>mean</th>\n      <td>11.172312</td>\n      <td>598.665785</td>\n      <td>48.496032</td>\n      <td>2.536460</td>\n      <td>0.134732</td>\n      <td>2.407322e+09</td>\n      <td>1084.663598</td>\n    </tr>\n    <tr>\n      <th>std</th>\n      <td>6.040281</td>\n      <td>704.350811</td>\n      <td>92.846683</td>\n      <td>3.453797</td>\n      <td>0.341439</td>\n      <td>1.872485e+09</td>\n      <td>2468.901342</td>\n    </tr>\n    <tr>\n      <th>min</th>\n      <td>1.000000</td>\n      <td>0.200000</td>\n      <td>0.000000</td>\n      <td>0.000000</td>\n      <td>0.000000</td>\n      <td>0.000000e+00</td>\n      <td>1.530000</td>\n    </tr>\n    <tr>\n      <th>25%</th>\n      <td>8.000000</td>\n      <td>268.070000</td>\n      <td>13.000000</td>\n      <td>1.000000</td>\n      <td>0.000000</td>\n      <td>1.025876e+09</td>\n      <td>264.780000</td>\n    </tr>\n    <tr>\n      <th>50%</th>\n      <td>11.000000</td>\n      <td>399.040000</td>\n      <td>25.000000</td>\n      <td>1.000000</td>\n      <td>0.000000</td>\n      <td>2.038128e+09</td>\n      <td>493.000000</td>\n    </tr>\n    <tr>\n      <th>75%</th>\n      <td>13.000000</td>\n      <td>664.160000</td>\n      <td>50.000000</td>\n      <td>3.000000</td>\n      <td>0.000000</td>\n      <td>3.338458e+09</td>\n      <td>1061.000000</td>\n    </tr>\n    <tr>\n      <th>max</th>\n      <td>309.000000</td>\n      <td>31079.000000</td>\n      <td>5000.000000</td>\n      <td>137.000000</td>\n      <td>1.000000</td>\n      <td>1.608083e+10</td>\n      <td>90764.210000</td>\n    </tr>\n  </tbody>\n</table>\n</div>"
     },
     "execution_count": 25,
     "metadata": {},
     "output_type": "execute_result"
    }
   ]
  },
  {
   "cell_type": "code",
   "execution_count": 26,
   "outputs": [
    {
     "data": {
      "text/plain": "customer_order_id            0\ndate_placed                  0\ndays_deliverd                0\nnet_price                    0\ntotal_units                  0\ndesigns_prior_30             0\nerrors                       0\nzip_wealth                   0\nsegment_name_uber            0\nsegment_name_ultra           0\nstyle_uber_category          0\nstyle_category_utlra         0\nuber_sales_channel_attr      0\nuber_sales_channel_placed    0\nsales_bulk_following_365     0\ndtype: int64"
     },
     "execution_count": 26,
     "metadata": {},
     "output_type": "execute_result"
    }
   ],
   "source": [
    "# Check NA's\n",
    "dataset.isna().sum()"
   ],
   "metadata": {
    "collapsed": false,
    "pycharm": {
     "name": "#%%\n"
    }
   }
  },
  {
   "cell_type": "markdown",
   "metadata": {
    "id": "6Vk3nNlrCVCN",
    "colab_type": "text"
   },
   "source": [
    "## Splitting the dataset into the Training set and Test set"
   ]
  },
  {
   "cell_type": "code",
   "execution_count": 27,
   "outputs": [],
   "source": [
    "data = dataset[['days_deliverd','net_price','total_units','designs_prior_30','errors','zip_wealth','sales_bulk_following_365']]\n",
    "### Breaking the Dependant and Independant Variables\n",
    "X = data.iloc[:, :-1].values\n",
    "y = data.iloc[:, -1].values\n",
    "y = y.reshape(len(y),1)"
   ],
   "metadata": {
    "collapsed": false,
    "pycharm": {
     "name": "#%%\n"
    }
   }
  },
  {
   "cell_type": "code",
   "metadata": {
    "id": "x_fXqrziCV3_",
    "colab_type": "code",
    "colab": {}
   },
   "source": [
    "from sklearn.model_selection import train_test_split\n",
    "X_train, X_test, y_train, y_test = train_test_split(X, y, test_size = 0.2, random_state = 0)"
   ],
   "execution_count": 28,
   "outputs": []
  },
  {
   "cell_type": "markdown",
   "metadata": {
    "id": "YS8FeLHYS-nI",
    "colab_type": "text"
   },
   "source": [
    "## Feature Scaling"
   ]
  },
  {
   "cell_type": "code",
   "metadata": {
    "id": "PGeAlD1HTDI1",
    "colab_type": "code",
    "colab": {}
   },
   "source": [
    "from sklearn.preprocessing import StandardScaler\n",
    "sc_X = StandardScaler()\n",
    "sc_y = StandardScaler()\n",
    "X_train = sc_X.fit_transform(X_train)\n",
    "y_train = sc_y.fit_transform(y_train)"
   ],
   "execution_count": 29,
   "outputs": []
  },
  {
   "cell_type": "markdown",
   "metadata": {
    "id": "eiU6D2QFRjxY",
    "colab_type": "text"
   },
   "source": [
    "## Training the SVR model on the Training set"
   ]
  },
  {
   "cell_type": "code",
   "metadata": {
    "id": "y6R4rt_GRz15",
    "colab_type": "code",
    "colab": {}
   },
   "source": [
    "from sklearn.svm import SVR\n",
    "regressor = SVR(kernel = 'rbf')\n",
    "regressor.fit(X_train, y_train)"
   ],
   "execution_count": 30,
   "outputs": [
    {
     "name": "stderr",
     "output_type": "stream",
     "text": [
      "C:\\Users\\dan.caley\\Anaconda3\\lib\\site-packages\\sklearn\\utils\\validation.py:63: DataConversionWarning: A column-vector y was passed when a 1d array was expected. Please change the shape of y to (n_samples, ), for example using ravel().\n",
      "  return f(*args, **kwargs)\n"
     ]
    },
    {
     "data": {
      "text/plain": "SVR()"
     },
     "execution_count": 30,
     "metadata": {},
     "output_type": "execute_result"
    }
   ]
  },
  {
   "cell_type": "markdown",
   "metadata": {
    "id": "aPYA5W1pDBOE",
    "colab_type": "text"
   },
   "source": [
    "## Predicting the Test set results"
   ]
  },
  {
   "cell_type": "code",
   "metadata": {
    "id": "vSqFVDYrDROW",
    "colab_type": "code",
    "colab": {}
   },
   "source": [
    "y_pred = sc_y.inverse_transform(regressor.predict(sc_X.transform(X_test)))\n",
    "np.set_printoptions(precision=2)\n",
    "print(np.concatenate((y_pred.reshape(len(y_pred),1), y_test.reshape(len(y_test),1)),1))"
   ],
   "execution_count": 31,
   "outputs": [
    {
     "name": "stdout",
     "output_type": "stream",
     "text": [
      "[[ 995.97 1940.66]\n",
      " [ 778.53 2113.72]\n",
      " [ 474.95  262.8 ]\n",
      " ...\n",
      " [ 552.54  390.21]\n",
      " [ 939.56 4423.17]\n",
      " [ 426.32  212.24]]\n"
     ]
    }
   ]
  },
  {
   "cell_type": "markdown",
   "metadata": {
    "id": "CMsYlps2DX1d",
    "colab_type": "text"
   },
   "source": [
    "## Evaluating the Model Performance"
   ]
  },
  {
   "cell_type": "code",
   "metadata": {
    "id": "HxsRWlURDr6S",
    "colab_type": "code",
    "colab": {},
    "pycharm": {
     "name": "#%%\n"
    }
   },
   "source": [
    "from sklearn.metrics import r2_score\n",
    "r2_score(y_test, y_pred)"
   ],
   "execution_count": 32,
   "outputs": [
    {
     "data": {
      "text/plain": "0.021730530175815277"
     },
     "execution_count": 32,
     "metadata": {},
     "output_type": "execute_result"
    }
   ]
  },
  {
   "cell_type": "code",
   "execution_count": null,
   "outputs": [],
   "source": [],
   "metadata": {
    "collapsed": false,
    "pycharm": {
     "name": "#%%\n"
    }
   }
  }
 ]
}
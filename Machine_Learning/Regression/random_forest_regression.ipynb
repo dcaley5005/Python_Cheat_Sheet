{
 "nbformat": 4,
 "nbformat_minor": 0,
 "metadata": {
  "colab": {
   "name": "random_forest_regression.ipynb",
   "provenance": [],
   "collapsed_sections": [],
   "toc_visible": true,
   "authorship_tag": "ABX9TyPkqeojsYLl5XoVP7LACyMP"
  },
  "kernelspec": {
   "name": "python3",
   "display_name": "Python 3"
  }
 },
 "cells": [
  {
   "cell_type": "markdown",
   "metadata": {
    "id": "LeamvpPVXuS_",
    "colab_type": "text"
   },
   "source": [
    "# Random Forest Regression"
   ]
  },
  {
   "cell_type": "markdown",
   "metadata": {
    "id": "O2wvZ7SKXzVC",
    "colab_type": "text"
   },
   "source": [
    "## Importing the libraries"
   ]
  },
  {
   "cell_type": "code",
   "metadata": {
    "id": "PVmESEFZX4Ig",
    "colab_type": "code",
    "colab": {}
   },
   "source": [
    "import numpy as np\n",
    "import matplotlib.pyplot as plt\n",
    "import pandas as pd\n",
    "import redshift_connector\n",
    "import keyring"
   ],
   "execution_count": 24,
   "outputs": []
  },
  {
   "cell_type": "markdown",
   "metadata": {
    "id": "zgbK_F8-X7em",
    "colab_type": "text"
   },
   "source": [
    "## Importing the dataset"
   ]
  },
  {
   "cell_type": "code",
   "metadata": {
    "id": "adBE4tjQX_Bh",
    "colab_type": "code",
    "colab": {}
   },
   "source": [
    "### Importing via Redshift\n",
    "pwd = keyring.get_password(\"redshift-production.db.customink.com\", \"dan.caley\")\n",
    "\n",
    "# Connecting to redshift\n",
    "# https://docs.aws.amazon.com/redshift/latest/mgmt/python-connect-examples.html#python-connect-query\n",
    "conn = redshift_connector.connect(\n",
    "    host='redshift-production.db.customink.com',\n",
    "    database='cink',\n",
    "    user='dan.caley',\n",
    "    password= pwd\n",
    ")\n",
    "\n",
    "# Reading SQL File\n",
    "open_file = open('sql_code.sql','r')\n",
    "sql_file = open_file.read()\n",
    "open_file.close()\n",
    "\n",
    "# Running Query from sql file\n",
    "dataset = pd.read_sql_query(sql_file, conn)\n",
    "\n",
    "# Removing Binary headers\n",
    "remove_binary = dataset.columns.astype(str).str.replace(\"'b\",'')\n",
    "dataset.columns = remove_binary\n",
    "\n"
   ],
   "execution_count": 25,
   "outputs": []
  },
  {
   "cell_type": "code",
   "execution_count": 26,
   "outputs": [
    {
     "data": {
      "text/plain": "       days_deliverd     net_price   total_units  designs_prior_30  \\\ncount   70941.000000  70941.000000  70941.000000      70941.000000   \nmean       11.172312    598.665785     48.496032          2.536460   \nstd         6.040281    704.350811     92.846683          3.453797   \nmin         1.000000      0.200000      0.000000          0.000000   \n25%         8.000000    268.070000     13.000000          1.000000   \n50%        11.000000    399.040000     25.000000          1.000000   \n75%        13.000000    664.160000     50.000000          3.000000   \nmax       309.000000  31079.000000   5000.000000        137.000000   \n\n             errors    zip_wealth  sales_bulk_following_365  \ncount  70941.000000  7.094100e+04              70941.000000  \nmean       0.134732  2.407322e+09               1084.663598  \nstd        0.341439  1.872485e+09               2468.901342  \nmin        0.000000  0.000000e+00                  1.530000  \n25%        0.000000  1.025876e+09                264.780000  \n50%        0.000000  2.038128e+09                493.000000  \n75%        0.000000  3.338458e+09               1061.000000  \nmax        1.000000  1.608083e+10              90764.210000  ",
      "text/html": "<div>\n<style scoped>\n    .dataframe tbody tr th:only-of-type {\n        vertical-align: middle;\n    }\n\n    .dataframe tbody tr th {\n        vertical-align: top;\n    }\n\n    .dataframe thead th {\n        text-align: right;\n    }\n</style>\n<table border=\"1\" class=\"dataframe\">\n  <thead>\n    <tr style=\"text-align: right;\">\n      <th></th>\n      <th>days_deliverd</th>\n      <th>net_price</th>\n      <th>total_units</th>\n      <th>designs_prior_30</th>\n      <th>errors</th>\n      <th>zip_wealth</th>\n      <th>sales_bulk_following_365</th>\n    </tr>\n  </thead>\n  <tbody>\n    <tr>\n      <th>count</th>\n      <td>70941.000000</td>\n      <td>70941.000000</td>\n      <td>70941.000000</td>\n      <td>70941.000000</td>\n      <td>70941.000000</td>\n      <td>7.094100e+04</td>\n      <td>70941.000000</td>\n    </tr>\n    <tr>\n      <th>mean</th>\n      <td>11.172312</td>\n      <td>598.665785</td>\n      <td>48.496032</td>\n      <td>2.536460</td>\n      <td>0.134732</td>\n      <td>2.407322e+09</td>\n      <td>1084.663598</td>\n    </tr>\n    <tr>\n      <th>std</th>\n      <td>6.040281</td>\n      <td>704.350811</td>\n      <td>92.846683</td>\n      <td>3.453797</td>\n      <td>0.341439</td>\n      <td>1.872485e+09</td>\n      <td>2468.901342</td>\n    </tr>\n    <tr>\n      <th>min</th>\n      <td>1.000000</td>\n      <td>0.200000</td>\n      <td>0.000000</td>\n      <td>0.000000</td>\n      <td>0.000000</td>\n      <td>0.000000e+00</td>\n      <td>1.530000</td>\n    </tr>\n    <tr>\n      <th>25%</th>\n      <td>8.000000</td>\n      <td>268.070000</td>\n      <td>13.000000</td>\n      <td>1.000000</td>\n      <td>0.000000</td>\n      <td>1.025876e+09</td>\n      <td>264.780000</td>\n    </tr>\n    <tr>\n      <th>50%</th>\n      <td>11.000000</td>\n      <td>399.040000</td>\n      <td>25.000000</td>\n      <td>1.000000</td>\n      <td>0.000000</td>\n      <td>2.038128e+09</td>\n      <td>493.000000</td>\n    </tr>\n    <tr>\n      <th>75%</th>\n      <td>13.000000</td>\n      <td>664.160000</td>\n      <td>50.000000</td>\n      <td>3.000000</td>\n      <td>0.000000</td>\n      <td>3.338458e+09</td>\n      <td>1061.000000</td>\n    </tr>\n    <tr>\n      <th>max</th>\n      <td>309.000000</td>\n      <td>31079.000000</td>\n      <td>5000.000000</td>\n      <td>137.000000</td>\n      <td>1.000000</td>\n      <td>1.608083e+10</td>\n      <td>90764.210000</td>\n    </tr>\n  </tbody>\n</table>\n</div>"
     },
     "execution_count": 26,
     "metadata": {},
     "output_type": "execute_result"
    }
   ],
   "source": [
    "dataset.describe()"
   ],
   "metadata": {
    "collapsed": false,
    "pycharm": {
     "name": "#%%\n"
    }
   }
  },
  {
   "cell_type": "code",
   "execution_count": 27,
   "outputs": [
    {
     "data": {
      "text/plain": "customer_order_id            0\ndate_placed                  0\ndays_deliverd                0\nnet_price                    0\ntotal_units                  0\ndesigns_prior_30             0\nerrors                       0\nzip_wealth                   0\nsegment_name_uber            0\nsegment_name_ultra           0\nstyle_uber_category          0\nstyle_category_utlra         0\nuber_sales_channel_attr      0\nuber_sales_channel_placed    0\nsales_bulk_following_365     0\ndtype: int64"
     },
     "execution_count": 27,
     "metadata": {},
     "output_type": "execute_result"
    }
   ],
   "source": [
    "# Check NA's\n",
    "dataset.isna().sum()"
   ],
   "metadata": {
    "collapsed": false,
    "pycharm": {
     "name": "#%%\n"
    }
   }
  },
  {
   "cell_type": "code",
   "execution_count": 28,
   "outputs": [],
   "source": [
    "# Importing CSV\n",
    "#dataset = pd.read_csv('Data.csv')\n",
    "data = dataset[['days_deliverd','net_price','total_units','designs_prior_30','errors','zip_wealth','sales_bulk_following_365']]\n",
    "X = data.iloc[:, :-1].values\n",
    "y = data.iloc[:, -1].values"
   ],
   "metadata": {
    "collapsed": false,
    "pycharm": {
     "name": "#%%\n"
    }
   }
  },
  {
   "cell_type": "markdown",
   "metadata": {
    "id": "ptNjcy7bOBlD",
    "colab_type": "text"
   },
   "source": [
    "## Splitting the dataset into the Training set and Test set"
   ]
  },
  {
   "cell_type": "code",
   "metadata": {
    "id": "C7NdofoCOFQF",
    "colab_type": "code",
    "colab": {}
   },
   "source": [
    "from sklearn.model_selection import train_test_split\n",
    "X_train, X_test, y_train, y_test = train_test_split(X, y, test_size = 0.2, random_state = 0)"
   ],
   "execution_count": 29,
   "outputs": []
  },
  {
   "cell_type": "markdown",
   "metadata": {
    "id": "v4S2fyIBYDcu",
    "colab_type": "text"
   },
   "source": [
    "## Training the Random Forest Regression model on the whole dataset"
   ]
  },
  {
   "cell_type": "code",
   "metadata": {
    "id": "o8dOCoJ1YKMc",
    "colab_type": "code",
    "colab": {}
   },
   "source": [
    "from sklearn.ensemble import RandomForestRegressor\n",
    "regressor = RandomForestRegressor(n_estimators = 10, random_state = 0)\n",
    "regressor.fit(X_train, y_train)"
   ],
   "execution_count": 30,
   "outputs": [
    {
     "data": {
      "text/plain": "RandomForestRegressor(n_estimators=10, random_state=0)"
     },
     "execution_count": 30,
     "metadata": {},
     "output_type": "execute_result"
    }
   ]
  },
  {
   "cell_type": "markdown",
   "metadata": {
    "id": "DM_jh0frOPKE",
    "colab_type": "text"
   },
   "source": [
    "## Predicting the Test set results"
   ]
  },
  {
   "cell_type": "code",
   "metadata": {
    "id": "JGa9ZfM4OTNw",
    "colab_type": "code",
    "colab": {}
   },
   "source": [
    "y_pred = regressor.predict(X_test)\n",
    "np.set_printoptions(precision=2)\n",
    "print(np.concatenate((y_pred.reshape(len(y_pred),1), y_test.reshape(len(y_test),1)),1))"
   ],
   "execution_count": 31,
   "outputs": [
    {
     "name": "stdout",
     "output_type": "stream",
     "text": [
      "[[ 954.67   37.58]\n",
      " [ 611.15  885.6 ]\n",
      " [ 739.92 2427.83]\n",
      " ...\n",
      " [ 420.44  432.52]\n",
      " [1148.91  263.04]\n",
      " [ 224.05 2279.18]]\n"
     ]
    }
   ]
  },
  {
   "cell_type": "markdown",
   "metadata": {
    "id": "Cd8VZM5POWXN",
    "colab_type": "text"
   },
   "source": [
    "## Evaluating the Model Performance"
   ]
  },
  {
   "cell_type": "code",
   "metadata": {
    "id": "a7y1rXlfOZJo",
    "colab_type": "code",
    "colab": {}
   },
   "source": [
    "from sklearn.metrics import r2_score\n",
    "r2_score(y_test, y_pred)"
   ],
   "execution_count": 32,
   "outputs": [
    {
     "data": {
      "text/plain": "0.023098762076678825"
     },
     "execution_count": 32,
     "metadata": {},
     "output_type": "execute_result"
    }
   ]
  },
  {
   "cell_type": "code",
   "execution_count": null,
   "outputs": [],
   "source": [],
   "metadata": {
    "collapsed": false,
    "pycharm": {
     "name": "#%%\n"
    }
   }
  }
 ]
}
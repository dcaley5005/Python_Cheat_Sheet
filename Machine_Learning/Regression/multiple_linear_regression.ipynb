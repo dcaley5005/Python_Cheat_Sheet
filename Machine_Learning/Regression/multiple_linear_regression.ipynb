{
 "cells": [
  {
   "cell_type": "markdown",
   "metadata": {
    "collapsed": true,
    "pycharm": {
     "name": "#%% md\n"
    }
   },
   "source": [
    "# All Regression Models"
   ]
  },
  {
   "cell_type": "markdown",
   "source": [
    "## Initial Setup"
   ],
   "metadata": {
    "collapsed": false
   }
  },
  {
   "cell_type": "markdown",
   "source": [
    "### Importing Libraries"
   ],
   "metadata": {
    "collapsed": false
   }
  },
  {
   "cell_type": "code",
   "execution_count": 42,
   "outputs": [],
   "source": [
    "import math\n",
    "import redshift_connector\n",
    "import pandas as pd\n",
    "import keyring\n",
    "import numpy as np\n",
    "import matplotlib.pyplot as plt"
   ],
   "metadata": {
    "collapsed": false,
    "pycharm": {
     "name": "#%%\n"
    }
   }
  },
  {
   "cell_type": "markdown",
   "source": [
    "### Importing Dataset"
   ],
   "metadata": {
    "collapsed": false
   }
  },
  {
   "cell_type": "code",
   "execution_count": 174,
   "outputs": [],
   "source": [
    "### Importing via CSV\n",
    "### dataset = pd.read_csv('Data.csv')\n",
    "\n",
    "### Importing via Redshift\n",
    "pwd = keyring.get_password(\"redshift-production.db.customink.com\", \"dan.caley\")\n",
    "\n",
    "# Connecting to redshift\n",
    "# https://docs.aws.amazon.com/redshift/latest/mgmt/python-connect-examples.html#python-connect-query\n",
    "conn = redshift_connector.connect(\n",
    "    host='redshift-production.db.customink.com',\n",
    "    database='cink',\n",
    "    user='dan.caley',\n",
    "    password= pwd\n",
    ")\n",
    "\n",
    "# Reading SQL File\n",
    "open_file = open('sql_code.sql','r')\n",
    "sql_file = open_file.read()\n",
    "open_file.close()\n",
    "\n",
    "# Running Query from sql file\n",
    "dataset = pd.read_sql_query(sql_file, conn)\n",
    "\n",
    "# Removing Binary headers\n",
    "remove_binary = dataset.columns.astype(str).str.replace(\"'b\",'')\n",
    "dataset.columns = remove_binary\n"
   ],
   "metadata": {
    "collapsed": false,
    "pycharm": {
     "name": "#%%\n"
    }
   }
  },
  {
   "cell_type": "code",
   "execution_count": 175,
   "outputs": [
    {
     "data": {
      "text/plain": "       customer_account_id  days_deliverd     net_price   total_units  \\\ncount         7.094100e+04   70941.000000  70941.000000  70941.000000   \nmean          2.746678e+07      11.172312    598.665785     48.496032   \nstd           5.805846e+06       6.040281    704.350811     92.846683   \nmin           2.082000e+03       1.000000      0.200000      0.000000   \n25%           2.813354e+07       8.000000    268.070000     13.000000   \n50%           2.935884e+07      11.000000    399.040000     25.000000   \n75%           3.049192e+07      13.000000    664.160000     50.000000   \nmax           4.195886e+07     309.000000  31079.000000   5000.000000   \n\n       designs_prior_30        errors  median_household_income     population  \\\ncount      70941.000000  70941.000000             70941.000000   70941.000000   \nmean           2.536460      0.134732             80466.111994   29655.573730   \nstd            3.453797      0.341439             35566.018544   19316.695875   \nmin            0.000000      0.000000                 0.000000       0.000000   \n25%            1.000000      0.000000             54653.000000   15094.000000   \n50%            1.000000      0.000000             74187.000000   27562.000000   \n75%            3.000000      0.000000            100909.000000   40770.000000   \nmax          137.000000      1.000000            250001.000000  128294.000000   \n\n       segment_rank_ultra  uber_channel_attr_rank  purchase_days  \\\ncount        70941.000000                 70941.0   70941.000000   \nmean             2.188269                     1.0      19.273833   \nstd              0.828699                     0.0      26.094422   \nmin              1.000000                     1.0       0.000000   \n25%              1.000000                     1.0       0.000000   \n50%              2.000000                     1.0       3.000000   \n75%              3.000000                     1.0      33.000000   \nmax              3.000000                     1.0      90.000000   \n\n             palive      sales_90d        orders  sales_bulk_following_365  \ncount  70941.000000   70941.000000  70941.000000              70941.000000  \nmean       0.195373    1115.206883      0.801511                333.979086  \nstd        0.274609    9467.560621      1.704437               1896.062144  \nmin        0.000000       0.000000      0.000000                  0.000000  \n25%        0.000000       0.000000      0.000000                  0.000000  \n50%        0.022000     198.590000      1.000000                  0.000000  \n75%        0.322000     646.170000      1.000000                  0.000000  \nmax        1.000000  369616.800000     94.000000              68180.050000  ",
      "text/html": "<div>\n<style scoped>\n    .dataframe tbody tr th:only-of-type {\n        vertical-align: middle;\n    }\n\n    .dataframe tbody tr th {\n        vertical-align: top;\n    }\n\n    .dataframe thead th {\n        text-align: right;\n    }\n</style>\n<table border=\"1\" class=\"dataframe\">\n  <thead>\n    <tr style=\"text-align: right;\">\n      <th></th>\n      <th>customer_account_id</th>\n      <th>days_deliverd</th>\n      <th>net_price</th>\n      <th>total_units</th>\n      <th>designs_prior_30</th>\n      <th>errors</th>\n      <th>median_household_income</th>\n      <th>population</th>\n      <th>segment_rank_ultra</th>\n      <th>uber_channel_attr_rank</th>\n      <th>purchase_days</th>\n      <th>palive</th>\n      <th>sales_90d</th>\n      <th>orders</th>\n      <th>sales_bulk_following_365</th>\n    </tr>\n  </thead>\n  <tbody>\n    <tr>\n      <th>count</th>\n      <td>7.094100e+04</td>\n      <td>70941.000000</td>\n      <td>70941.000000</td>\n      <td>70941.000000</td>\n      <td>70941.000000</td>\n      <td>70941.000000</td>\n      <td>70941.000000</td>\n      <td>70941.000000</td>\n      <td>70941.000000</td>\n      <td>70941.0</td>\n      <td>70941.000000</td>\n      <td>70941.000000</td>\n      <td>70941.000000</td>\n      <td>70941.000000</td>\n      <td>70941.000000</td>\n    </tr>\n    <tr>\n      <th>mean</th>\n      <td>2.746678e+07</td>\n      <td>11.172312</td>\n      <td>598.665785</td>\n      <td>48.496032</td>\n      <td>2.536460</td>\n      <td>0.134732</td>\n      <td>80466.111994</td>\n      <td>29655.573730</td>\n      <td>2.188269</td>\n      <td>1.0</td>\n      <td>19.273833</td>\n      <td>0.195373</td>\n      <td>1115.206883</td>\n      <td>0.801511</td>\n      <td>333.979086</td>\n    </tr>\n    <tr>\n      <th>std</th>\n      <td>5.805846e+06</td>\n      <td>6.040281</td>\n      <td>704.350811</td>\n      <td>92.846683</td>\n      <td>3.453797</td>\n      <td>0.341439</td>\n      <td>35566.018544</td>\n      <td>19316.695875</td>\n      <td>0.828699</td>\n      <td>0.0</td>\n      <td>26.094422</td>\n      <td>0.274609</td>\n      <td>9467.560621</td>\n      <td>1.704437</td>\n      <td>1896.062144</td>\n    </tr>\n    <tr>\n      <th>min</th>\n      <td>2.082000e+03</td>\n      <td>1.000000</td>\n      <td>0.200000</td>\n      <td>0.000000</td>\n      <td>0.000000</td>\n      <td>0.000000</td>\n      <td>0.000000</td>\n      <td>0.000000</td>\n      <td>1.000000</td>\n      <td>1.0</td>\n      <td>0.000000</td>\n      <td>0.000000</td>\n      <td>0.000000</td>\n      <td>0.000000</td>\n      <td>0.000000</td>\n    </tr>\n    <tr>\n      <th>25%</th>\n      <td>2.813354e+07</td>\n      <td>8.000000</td>\n      <td>268.070000</td>\n      <td>13.000000</td>\n      <td>1.000000</td>\n      <td>0.000000</td>\n      <td>54653.000000</td>\n      <td>15094.000000</td>\n      <td>1.000000</td>\n      <td>1.0</td>\n      <td>0.000000</td>\n      <td>0.000000</td>\n      <td>0.000000</td>\n      <td>0.000000</td>\n      <td>0.000000</td>\n    </tr>\n    <tr>\n      <th>50%</th>\n      <td>2.935884e+07</td>\n      <td>11.000000</td>\n      <td>399.040000</td>\n      <td>25.000000</td>\n      <td>1.000000</td>\n      <td>0.000000</td>\n      <td>74187.000000</td>\n      <td>27562.000000</td>\n      <td>2.000000</td>\n      <td>1.0</td>\n      <td>3.000000</td>\n      <td>0.022000</td>\n      <td>198.590000</td>\n      <td>1.000000</td>\n      <td>0.000000</td>\n    </tr>\n    <tr>\n      <th>75%</th>\n      <td>3.049192e+07</td>\n      <td>13.000000</td>\n      <td>664.160000</td>\n      <td>50.000000</td>\n      <td>3.000000</td>\n      <td>0.000000</td>\n      <td>100909.000000</td>\n      <td>40770.000000</td>\n      <td>3.000000</td>\n      <td>1.0</td>\n      <td>33.000000</td>\n      <td>0.322000</td>\n      <td>646.170000</td>\n      <td>1.000000</td>\n      <td>0.000000</td>\n    </tr>\n    <tr>\n      <th>max</th>\n      <td>4.195886e+07</td>\n      <td>309.000000</td>\n      <td>31079.000000</td>\n      <td>5000.000000</td>\n      <td>137.000000</td>\n      <td>1.000000</td>\n      <td>250001.000000</td>\n      <td>128294.000000</td>\n      <td>3.000000</td>\n      <td>1.0</td>\n      <td>90.000000</td>\n      <td>1.000000</td>\n      <td>369616.800000</td>\n      <td>94.000000</td>\n      <td>68180.050000</td>\n    </tr>\n  </tbody>\n</table>\n</div>"
     },
     "execution_count": 175,
     "metadata": {},
     "output_type": "execute_result"
    }
   ],
   "source": [
    "dataset.describe()"
   ],
   "metadata": {
    "collapsed": false,
    "pycharm": {
     "name": "#%%\n"
    }
   }
  },
  {
   "cell_type": "code",
   "execution_count": 177,
   "outputs": [
    {
     "data": {
      "text/plain": "customer_order_id            0\ncustomer_account_id          0\ndate_placed                  0\ndays_deliverd                0\nnet_price                    0\ntotal_units                  0\ndesigns_prior_30             0\nerrors                       0\nmedian_household_income      0\npopulation                   0\nsegment_name_uber            0\nsegment_name_ultra           0\nsegment_rank_ultra           0\nstyle_uber_category          0\nstyle_category_utlra         0\nuber_sales_channel_attr      0\nuber_channel_attr_rank       0\nuber_sales_channel_placed    0\npurchase_days                0\npalive                       0\nsales_90d                    0\norders                       0\nsales_bulk_following_365     0\ndtype: int64"
     },
     "execution_count": 177,
     "metadata": {},
     "output_type": "execute_result"
    }
   ],
   "source": [
    "# Check NA's\n",
    "dataset.isna().sum()"
   ],
   "metadata": {
    "collapsed": false,
    "pycharm": {
     "name": "#%%\n"
    }
   }
  },
  {
   "cell_type": "markdown",
   "source": [
    "## Multiple Linear Regression"
   ],
   "metadata": {
    "collapsed": false
   }
  },
  {
   "cell_type": "markdown",
   "source": [
    "### Finding the Best Model"
   ],
   "metadata": {
    "collapsed": false
   }
  },
  {
   "cell_type": "code",
   "execution_count": 178,
   "outputs": [],
   "source": [
    "import statsmodels.api as sm"
   ],
   "metadata": {
    "collapsed": false,
    "pycharm": {
     "name": "#%%\n"
    }
   }
  },
  {
   "cell_type": "code",
   "execution_count": 179,
   "outputs": [],
   "source": [
    "dataset['sales_bulk_following_365'] = dataset['sales_bulk_following_365']\n",
    "dataset['net_price'] = dataset['net_price']\n",
    "dataset['zip_wealth'] = dataset['population'] * dataset['median_household_income']"
   ],
   "metadata": {
    "collapsed": false,
    "pycharm": {
     "name": "#%%\n"
    }
   }
  },
  {
   "cell_type": "code",
   "execution_count": 182,
   "outputs": [],
   "source": [
    "data = dataset[['total_units','net_price','designs_prior_30','errors','zip_wealth','sales_90d','palive','sales_bulk_following_365']]\n",
    "#data = pd.get_dummies(data, columns=['segment_name_uber'], drop_first=True)"
   ],
   "metadata": {
    "collapsed": false,
    "pycharm": {
     "name": "#%%\n"
    }
   }
  },
  {
   "cell_type": "code",
   "execution_count": 183,
   "outputs": [],
   "source": [
    "### Breaking the Dependant and Independant Variables\n",
    "X = data.iloc[:, :-1]\n",
    "y = data.iloc[:, -1]"
   ],
   "metadata": {
    "collapsed": false,
    "pycharm": {
     "name": "#%%\n"
    }
   }
  },
  {
   "cell_type": "code",
   "execution_count": 184,
   "outputs": [
    {
     "data": {
      "text/plain": "   total_units  net_price  designs_prior_30  errors  zip_wealth  sales_90d  \\\n0         11.0     700.48                 2       0  3053451940     700.48   \n1         34.0     494.06                 1       0   323131066     494.06   \n2          6.0     209.52                 5       0   699209720     209.52   \n3         20.0     532.80                 7       0   114061272     532.80   \n4         20.0     555.00                 3       0   644308746       0.00   \n\n   palive  sales_bulk_following_365  \n0   0.711                    597.26  \n1   0.589                      0.00  \n2   0.022                      0.00  \n3   0.389                   2016.17  \n4   0.000                      0.00  ",
      "text/html": "<div>\n<style scoped>\n    .dataframe tbody tr th:only-of-type {\n        vertical-align: middle;\n    }\n\n    .dataframe tbody tr th {\n        vertical-align: top;\n    }\n\n    .dataframe thead th {\n        text-align: right;\n    }\n</style>\n<table border=\"1\" class=\"dataframe\">\n  <thead>\n    <tr style=\"text-align: right;\">\n      <th></th>\n      <th>total_units</th>\n      <th>net_price</th>\n      <th>designs_prior_30</th>\n      <th>errors</th>\n      <th>zip_wealth</th>\n      <th>sales_90d</th>\n      <th>palive</th>\n      <th>sales_bulk_following_365</th>\n    </tr>\n  </thead>\n  <tbody>\n    <tr>\n      <th>0</th>\n      <td>11.0</td>\n      <td>700.48</td>\n      <td>2</td>\n      <td>0</td>\n      <td>3053451940</td>\n      <td>700.48</td>\n      <td>0.711</td>\n      <td>597.26</td>\n    </tr>\n    <tr>\n      <th>1</th>\n      <td>34.0</td>\n      <td>494.06</td>\n      <td>1</td>\n      <td>0</td>\n      <td>323131066</td>\n      <td>494.06</td>\n      <td>0.589</td>\n      <td>0.00</td>\n    </tr>\n    <tr>\n      <th>2</th>\n      <td>6.0</td>\n      <td>209.52</td>\n      <td>5</td>\n      <td>0</td>\n      <td>699209720</td>\n      <td>209.52</td>\n      <td>0.022</td>\n      <td>0.00</td>\n    </tr>\n    <tr>\n      <th>3</th>\n      <td>20.0</td>\n      <td>532.80</td>\n      <td>7</td>\n      <td>0</td>\n      <td>114061272</td>\n      <td>532.80</td>\n      <td>0.389</td>\n      <td>2016.17</td>\n    </tr>\n    <tr>\n      <th>4</th>\n      <td>20.0</td>\n      <td>555.00</td>\n      <td>3</td>\n      <td>0</td>\n      <td>644308746</td>\n      <td>0.00</td>\n      <td>0.000</td>\n      <td>0.00</td>\n    </tr>\n  </tbody>\n</table>\n</div>"
     },
     "execution_count": 184,
     "metadata": {},
     "output_type": "execute_result"
    }
   ],
   "source": [
    "data.head()"
   ],
   "metadata": {
    "collapsed": false,
    "pycharm": {
     "name": "#%%\n"
    }
   }
  },
  {
   "cell_type": "code",
   "execution_count": 185,
   "outputs": [
    {
     "name": "stdout",
     "output_type": "stream",
     "text": [
      "                                    OLS Regression Results                                   \n",
      "=============================================================================================\n",
      "Dep. Variable:     sales_bulk_following_365   R-squared (uncentered):                   0.260\n",
      "Model:                                  OLS   Adj. R-squared (uncentered):              0.260\n",
      "Method:                       Least Squares   F-statistic:                              3555.\n",
      "Date:                      Sun, 06 Mar 2022   Prob (F-statistic):                        0.00\n",
      "Time:                              21:24:26   Log-Likelihood:                     -6.2651e+05\n",
      "No. Observations:                     70941   AIC:                                  1.253e+06\n",
      "Df Residuals:                         70934   BIC:                                  1.253e+06\n",
      "Df Model:                                 7                                                  \n",
      "Covariance Type:                  nonrobust                                                  \n",
      "====================================================================================\n",
      "                       coef    std err          t      P>|t|      [0.025      0.975]\n",
      "------------------------------------------------------------------------------------\n",
      "total_units          1.3547      0.084     16.116      0.000       1.190       1.519\n",
      "net_price            0.1242      0.011     11.688      0.000       0.103       0.145\n",
      "designs_prior_30    -5.1833      1.721     -3.013      0.003      -8.555      -1.811\n",
      "errors            -138.6357     18.160     -7.634      0.000    -174.230    -103.042\n",
      "zip_wealth       -7.914e-09   2.63e-09     -3.007      0.003   -1.31e-08   -2.76e-09\n",
      "sales_90d            0.0866      0.001    128.766      0.000       0.085       0.088\n",
      "palive             860.3506     21.500     40.017      0.000     818.211     902.490\n",
      "==============================================================================\n",
      "Omnibus:                   123744.012   Durbin-Watson:                   1.359\n",
      "Prob(Omnibus):                  0.000   Jarque-Bera (JB):        329051245.871\n",
      "Skew:                          12.007   Prob(JB):                         0.00\n",
      "Kurtosis:                     335.783   Cond. No.                     1.06e+10\n",
      "==============================================================================\n",
      "\n",
      "Notes:\n",
      "[1] R² is computed without centering (uncentered) since the model does not contain a constant.\n",
      "[2] Standard Errors assume that the covariance matrix of the errors is correctly specified.\n",
      "[3] The condition number is large, 1.06e+10. This might indicate that there are\n",
      "strong multicollinearity or other numerical problems.\n"
     ]
    },
    {
     "name": "stderr",
     "output_type": "stream",
     "text": [
      "C:\\Users\\dan.caley\\Anaconda3\\lib\\site-packages\\statsmodels\\tsa\\tsatools.py:142: FutureWarning: In a future version of pandas all arguments of concat except for the argument 'objs' will be keyword-only\n",
      "  x = pd.concat(x[::order], 1)\n"
     ]
    }
   ],
   "source": [
    "X_const = sm.add_constant(X) # adding a constant\n",
    "model = sm.OLS(y, X).fit()\n",
    "print(model.summary())"
   ],
   "metadata": {
    "collapsed": false,
    "pycharm": {
     "name": "#%%\n"
    }
   }
  },
  {
   "cell_type": "code",
   "execution_count": 186,
   "outputs": [],
   "source": [
    "ypred = model.predict(X)\n"
   ],
   "metadata": {
    "collapsed": false,
    "pycharm": {
     "name": "#%%\n"
    }
   }
  },
  {
   "cell_type": "code",
   "execution_count": 187,
   "outputs": [],
   "source": [
    "from sklearn import metrics\n",
    "import math"
   ],
   "metadata": {
    "collapsed": false,
    "pycharm": {
     "name": "#%%\n"
    }
   }
  },
  {
   "cell_type": "code",
   "execution_count": 188,
   "outputs": [
    {
     "name": "stdout",
     "output_type": "stream",
     "text": [
      "1656.4500128531063\n"
     ]
    }
   ],
   "source": [
    "\n",
    "mse = metrics.mean_squared_error(y, ypred)\n",
    "rmse = math.sqrt(mse)\n",
    "print(rmse)"
   ],
   "metadata": {
    "collapsed": false,
    "pycharm": {
     "name": "#%%\n"
    }
   }
  },
  {
   "cell_type": "code",
   "execution_count": 189,
   "outputs": [
    {
     "name": "stderr",
     "output_type": "stream",
     "text": [
      "C:\\Users\\DAN~1.CAL\\AppData\\Local\\Temp/ipykernel_282152/3732353334.py:1: RuntimeWarning: overflow encountered in exp\n",
      "  rmse2 = np.exp(rmse)\n"
     ]
    },
    {
     "data": {
      "text/plain": "inf"
     },
     "execution_count": 189,
     "metadata": {},
     "output_type": "execute_result"
    }
   ],
   "source": [
    "rmse2 = np.exp(rmse)\n",
    "rmse2"
   ],
   "metadata": {
    "collapsed": false,
    "pycharm": {
     "name": "#%%\n"
    }
   }
  },
  {
   "cell_type": "code",
   "execution_count": 190,
   "outputs": [],
   "source": [
    "#dataset['prediction'] = np.exp(ypred)\n",
    "#dataset['sales_bulk_following_365'] = np.exp(dataset['sales_bulk_following_365'])\n",
    "#dataset['accuracy'] = np.where(abs(dataset['sales_bulk_following_365'] - dataset['prediction'])<=rmse2,1,0)\n"
   ],
   "metadata": {
    "collapsed": false,
    "pycharm": {
     "name": "#%%\n"
    }
   }
  },
  {
   "cell_type": "code",
   "execution_count": 117,
   "outputs": [],
   "source": [
    "#dataset['variance'] = abs(dataset['sales_bulk_following_365'] - dataset['prediction']) / dataset['sales_bulk_following_365']"
   ],
   "metadata": {
    "collapsed": false,
    "pycharm": {
     "name": "#%%\n"
    }
   }
  },
  {
   "cell_type": "code",
   "execution_count": 118,
   "outputs": [],
   "source": [
    "#dataset"
   ],
   "metadata": {
    "collapsed": false,
    "pycharm": {
     "name": "#%%\n"
    }
   }
  },
  {
   "cell_type": "markdown",
   "source": [
    "### Dealing with Dummy Variables"
   ],
   "metadata": {
    "collapsed": false
   }
  },
  {
   "cell_type": "code",
   "execution_count": 125,
   "outputs": [],
   "source": [
    "data = dataset[['days_deliverd','net_price','total_units','designs_prior_30','errors','zip_wealth','segment_name_ultra','palive','sales_bulk_following_365']]"
   ],
   "metadata": {
    "collapsed": false,
    "pycharm": {
     "name": "#%%\n"
    }
   }
  },
  {
   "cell_type": "code",
   "execution_count": 126,
   "outputs": [
    {
     "data": {
      "text/plain": "       days_deliverd  net_price  total_units  designs_prior_30  errors  \\\n0                  9     151.26          6.0                 1       0   \n1                  4     516.45         25.0                 2       0   \n2                 10      41.99          1.0                 3       0   \n3                  5     561.66         40.0                 1       0   \n4                 15     439.00         50.0                 2       0   \n...              ...        ...          ...               ...     ...   \n70936             14     248.00        100.0                 1       0   \n70937             13     324.22         18.0                 2       0   \n70938             12     243.36          6.0                 1       0   \n70939              3     279.74          7.0                 1       1   \n70940             11     288.45         15.0                 1       0   \n\n       segment_name_ultra_Family, Org, & Athletics  \\\n0                                                0   \n1                                                0   \n2                                                0   \n3                                                0   \n4                                                0   \n...                                            ...   \n70936                                            0   \n70937                                            0   \n70938                                            0   \n70939                                            1   \n70940                                            0   \n\n       segment_name_ultra_Students & Schools  palive  sales_bulk_following_365  \n0                                          0  0.0000                       0.0  \n1                                          1  0.1333                       0.0  \n2                                          1  0.0000                       0.0  \n3                                          0  0.0000                       0.0  \n4                                          0  0.0000                       0.0  \n...                                      ...     ...                       ...  \n70936                                      0  0.8000                       0.0  \n70937                                      1  0.4666                       0.0  \n70938                                      0  0.0000                       0.0  \n70939                                      0  0.0000                       0.0  \n70940                                      0  0.0000                       0.0  \n\n[70941 rows x 9 columns]",
      "text/html": "<div>\n<style scoped>\n    .dataframe tbody tr th:only-of-type {\n        vertical-align: middle;\n    }\n\n    .dataframe tbody tr th {\n        vertical-align: top;\n    }\n\n    .dataframe thead th {\n        text-align: right;\n    }\n</style>\n<table border=\"1\" class=\"dataframe\">\n  <thead>\n    <tr style=\"text-align: right;\">\n      <th></th>\n      <th>days_deliverd</th>\n      <th>net_price</th>\n      <th>total_units</th>\n      <th>designs_prior_30</th>\n      <th>errors</th>\n      <th>segment_name_ultra_Family, Org, &amp; Athletics</th>\n      <th>segment_name_ultra_Students &amp; Schools</th>\n      <th>palive</th>\n      <th>sales_bulk_following_365</th>\n    </tr>\n  </thead>\n  <tbody>\n    <tr>\n      <th>0</th>\n      <td>9</td>\n      <td>151.26</td>\n      <td>6.0</td>\n      <td>1</td>\n      <td>0</td>\n      <td>0</td>\n      <td>0</td>\n      <td>0.0000</td>\n      <td>0.0</td>\n    </tr>\n    <tr>\n      <th>1</th>\n      <td>4</td>\n      <td>516.45</td>\n      <td>25.0</td>\n      <td>2</td>\n      <td>0</td>\n      <td>0</td>\n      <td>1</td>\n      <td>0.1333</td>\n      <td>0.0</td>\n    </tr>\n    <tr>\n      <th>2</th>\n      <td>10</td>\n      <td>41.99</td>\n      <td>1.0</td>\n      <td>3</td>\n      <td>0</td>\n      <td>0</td>\n      <td>1</td>\n      <td>0.0000</td>\n      <td>0.0</td>\n    </tr>\n    <tr>\n      <th>3</th>\n      <td>5</td>\n      <td>561.66</td>\n      <td>40.0</td>\n      <td>1</td>\n      <td>0</td>\n      <td>0</td>\n      <td>0</td>\n      <td>0.0000</td>\n      <td>0.0</td>\n    </tr>\n    <tr>\n      <th>4</th>\n      <td>15</td>\n      <td>439.00</td>\n      <td>50.0</td>\n      <td>2</td>\n      <td>0</td>\n      <td>0</td>\n      <td>0</td>\n      <td>0.0000</td>\n      <td>0.0</td>\n    </tr>\n    <tr>\n      <th>...</th>\n      <td>...</td>\n      <td>...</td>\n      <td>...</td>\n      <td>...</td>\n      <td>...</td>\n      <td>...</td>\n      <td>...</td>\n      <td>...</td>\n      <td>...</td>\n    </tr>\n    <tr>\n      <th>70936</th>\n      <td>14</td>\n      <td>248.00</td>\n      <td>100.0</td>\n      <td>1</td>\n      <td>0</td>\n      <td>0</td>\n      <td>0</td>\n      <td>0.8000</td>\n      <td>0.0</td>\n    </tr>\n    <tr>\n      <th>70937</th>\n      <td>13</td>\n      <td>324.22</td>\n      <td>18.0</td>\n      <td>2</td>\n      <td>0</td>\n      <td>0</td>\n      <td>1</td>\n      <td>0.4666</td>\n      <td>0.0</td>\n    </tr>\n    <tr>\n      <th>70938</th>\n      <td>12</td>\n      <td>243.36</td>\n      <td>6.0</td>\n      <td>1</td>\n      <td>0</td>\n      <td>0</td>\n      <td>0</td>\n      <td>0.0000</td>\n      <td>0.0</td>\n    </tr>\n    <tr>\n      <th>70939</th>\n      <td>3</td>\n      <td>279.74</td>\n      <td>7.0</td>\n      <td>1</td>\n      <td>1</td>\n      <td>1</td>\n      <td>0</td>\n      <td>0.0000</td>\n      <td>0.0</td>\n    </tr>\n    <tr>\n      <th>70940</th>\n      <td>11</td>\n      <td>288.45</td>\n      <td>15.0</td>\n      <td>1</td>\n      <td>0</td>\n      <td>0</td>\n      <td>0</td>\n      <td>0.0000</td>\n      <td>0.0</td>\n    </tr>\n  </tbody>\n</table>\n<p>70941 rows × 9 columns</p>\n</div>"
     },
     "execution_count": 126,
     "metadata": {},
     "output_type": "execute_result"
    }
   ],
   "source": [
    "data = pd.get_dummies(data, columns=['segment_name_ultra'], drop_first=True)\n",
    "data = data[['days_deliverd','net_price','total_units','designs_prior_30','errors','segment_name_ultra_Family, Org, & Athletics',\n",
    "             'segment_name_ultra_Students & Schools','palive','sales_bulk_following_365']]\n",
    "data"
   ],
   "metadata": {
    "collapsed": false,
    "pycharm": {
     "name": "#%%\n"
    }
   }
  },
  {
   "cell_type": "code",
   "execution_count": 127,
   "outputs": [
    {
     "data": {
      "text/plain": "   days_deliverd  net_price  total_units  designs_prior_30  errors  \\\n0              9     151.26          6.0                 1       0   \n1              4     516.45         25.0                 2       0   \n2             10      41.99          1.0                 3       0   \n3              5     561.66         40.0                 1       0   \n4             15     439.00         50.0                 2       0   \n\n   segment_name_ultra_Family, Org, & Athletics  \\\n0                                            0   \n1                                            0   \n2                                            0   \n3                                            0   \n4                                            0   \n\n   segment_name_ultra_Students & Schools  palive  sales_bulk_following_365  \n0                                      0  0.0000                       0.0  \n1                                      1  0.1333                       0.0  \n2                                      1  0.0000                       0.0  \n3                                      0  0.0000                       0.0  \n4                                      0  0.0000                       0.0  ",
      "text/html": "<div>\n<style scoped>\n    .dataframe tbody tr th:only-of-type {\n        vertical-align: middle;\n    }\n\n    .dataframe tbody tr th {\n        vertical-align: top;\n    }\n\n    .dataframe thead th {\n        text-align: right;\n    }\n</style>\n<table border=\"1\" class=\"dataframe\">\n  <thead>\n    <tr style=\"text-align: right;\">\n      <th></th>\n      <th>days_deliverd</th>\n      <th>net_price</th>\n      <th>total_units</th>\n      <th>designs_prior_30</th>\n      <th>errors</th>\n      <th>segment_name_ultra_Family, Org, &amp; Athletics</th>\n      <th>segment_name_ultra_Students &amp; Schools</th>\n      <th>palive</th>\n      <th>sales_bulk_following_365</th>\n    </tr>\n  </thead>\n  <tbody>\n    <tr>\n      <th>0</th>\n      <td>9</td>\n      <td>151.26</td>\n      <td>6.0</td>\n      <td>1</td>\n      <td>0</td>\n      <td>0</td>\n      <td>0</td>\n      <td>0.0000</td>\n      <td>0.0</td>\n    </tr>\n    <tr>\n      <th>1</th>\n      <td>4</td>\n      <td>516.45</td>\n      <td>25.0</td>\n      <td>2</td>\n      <td>0</td>\n      <td>0</td>\n      <td>1</td>\n      <td>0.1333</td>\n      <td>0.0</td>\n    </tr>\n    <tr>\n      <th>2</th>\n      <td>10</td>\n      <td>41.99</td>\n      <td>1.0</td>\n      <td>3</td>\n      <td>0</td>\n      <td>0</td>\n      <td>1</td>\n      <td>0.0000</td>\n      <td>0.0</td>\n    </tr>\n    <tr>\n      <th>3</th>\n      <td>5</td>\n      <td>561.66</td>\n      <td>40.0</td>\n      <td>1</td>\n      <td>0</td>\n      <td>0</td>\n      <td>0</td>\n      <td>0.0000</td>\n      <td>0.0</td>\n    </tr>\n    <tr>\n      <th>4</th>\n      <td>15</td>\n      <td>439.00</td>\n      <td>50.0</td>\n      <td>2</td>\n      <td>0</td>\n      <td>0</td>\n      <td>0</td>\n      <td>0.0000</td>\n      <td>0.0</td>\n    </tr>\n  </tbody>\n</table>\n</div>"
     },
     "execution_count": 127,
     "metadata": {},
     "output_type": "execute_result"
    }
   ],
   "source": [
    "### Breaking the Dependant and Independant Variables\n",
    "X = data.iloc[:, :-1]\n",
    "y = data.iloc[:, -1]\n",
    "data.head()"
   ],
   "metadata": {
    "collapsed": false,
    "pycharm": {
     "name": "#%%\n"
    }
   }
  },
  {
   "cell_type": "code",
   "execution_count": 128,
   "outputs": [
    {
     "name": "stdout",
     "output_type": "stream",
     "text": [
      "                                    OLS Regression Results                                   \n",
      "=============================================================================================\n",
      "Dep. Variable:     sales_bulk_following_365   R-squared (uncentered):                   0.066\n",
      "Model:                                  OLS   Adj. R-squared (uncentered):              0.066\n",
      "Method:                       Least Squares   F-statistic:                              627.9\n",
      "Date:                      Sun, 06 Mar 2022   Prob (F-statistic):                        0.00\n",
      "Time:                              19:34:00   Log-Likelihood:                     -6.1232e+05\n",
      "No. Observations:                     70941   AIC:                                  1.225e+06\n",
      "Df Residuals:                         70933   BIC:                                  1.225e+06\n",
      "Df Model:                                 8                                                  \n",
      "Covariance Type:                  nonrobust                                                  \n",
      "===============================================================================================================\n",
      "                                                  coef    std err          t      P>|t|      [0.025      0.975]\n",
      "---------------------------------------------------------------------------------------------------------------\n",
      "days_deliverd                                  -0.2788      0.648     -0.430      0.667      -1.549       0.992\n",
      "net_price                                       0.1422      0.009     15.844      0.000       0.125       0.160\n",
      "total_units                                     0.3410      0.069      4.966      0.000       0.206       0.476\n",
      "designs_prior_30                               24.8886      1.441     17.270      0.000      22.064      27.713\n",
      "errors                                        -89.1849     15.016     -5.939      0.000    -118.617     -59.753\n",
      "segment_name_ultra_Family, Org, & Athletics  -170.4369     11.454    -14.881      0.000    -192.886    -147.988\n",
      "segment_name_ultra_Students & Schools        -134.5858     11.635    -11.567      0.000    -157.391    -111.780\n",
      "palive                                        897.6302     18.454     48.642      0.000     861.460     933.800\n",
      "==============================================================================\n",
      "Omnibus:                   160717.962   Durbin-Watson:                   1.996\n",
      "Prob(Omnibus):                  0.000   Jarque-Bera (JB):       1541571505.011\n",
      "Skew:                          21.619   Prob(JB):                         0.00\n",
      "Kurtosis:                     723.873   Cond. No.                     3.39e+03\n",
      "==============================================================================\n",
      "\n",
      "Notes:\n",
      "[1] R² is computed without centering (uncentered) since the model does not contain a constant.\n",
      "[2] Standard Errors assume that the covariance matrix of the errors is correctly specified.\n",
      "[3] The condition number is large, 3.39e+03. This might indicate that there are\n",
      "strong multicollinearity or other numerical problems.\n"
     ]
    },
    {
     "name": "stderr",
     "output_type": "stream",
     "text": [
      "C:\\Users\\dan.caley\\Anaconda3\\lib\\site-packages\\statsmodels\\tsa\\tsatools.py:142: FutureWarning: In a future version of pandas all arguments of concat except for the argument 'objs' will be keyword-only\n",
      "  x = pd.concat(x[::order], 1)\n"
     ]
    }
   ],
   "source": [
    "X_const = sm.add_constant(X) # adding a constant\n",
    "model = sm.OLS(y, X).fit()\n",
    "print(model.summary())"
   ],
   "metadata": {
    "collapsed": false,
    "pycharm": {
     "name": "#%%\n"
    }
   }
  },
  {
   "cell_type": "markdown",
   "source": [
    "### Linear Regression Sckit Learn"
   ],
   "metadata": {
    "collapsed": false
   }
  },
  {
   "cell_type": "markdown",
   "source": [
    "### Splitting the dataset into the Training set and Test set"
   ],
   "metadata": {
    "collapsed": false
   }
  },
  {
   "cell_type": "code",
   "execution_count": 24,
   "outputs": [],
   "source": [
    "### Adding Dummy Variables\n",
    "#data = dataset[['days_deliverd','net_price','total_units','designs_prior_30','errors','segment_name_ultra','sales_bulk_following_365']]\n",
    "#data = pd.get_dummies(data, columns=['segment_name_ultra'], drop_first=True)\n",
    "#data = data[['days_deliverd','net_price','total_units','designs_prior_30','errors','segment_name_ultra_Family, Org, & Athletics',\n",
    "#             'segment_name_ultra_Students & Schools','sales_bulk_following_365']]\n",
    "#X = data.iloc[:, :-1]\n",
    "#y = data.iloc[:, -1]"
   ],
   "metadata": {
    "collapsed": false,
    "pycharm": {
     "name": "#%%\n"
    }
   }
  },
  {
   "cell_type": "code",
   "execution_count": 37,
   "outputs": [],
   "source": [
    "data = dataset[['days_deliverd','net_price','designs_prior_30','errors','zip_wealth','sales_bulk_following_365']]\n",
    "#data['sales_bulk_following_365'] = np.log(data['sales_bulk_following_365'])\n",
    "#data['net_price'] = np.log(data['net_price'])\n",
    "### Breaking the Dependant and Independant Variables\n",
    "X = data.iloc[:, :-1]\n",
    "y = data.iloc[:, -1]"
   ],
   "metadata": {
    "collapsed": false,
    "pycharm": {
     "name": "#%%\n"
    }
   }
  },
  {
   "cell_type": "code",
   "execution_count": 38,
   "outputs": [],
   "source": [
    "from sklearn.model_selection import train_test_split\n",
    "X_train, X_test, y_train, y_test = train_test_split(X, y, test_size = 0.2, random_state = 0)"
   ],
   "metadata": {
    "collapsed": false,
    "pycharm": {
     "name": "#%%\n"
    }
   }
  },
  {
   "cell_type": "markdown",
   "source": [
    "### Training the Multiple Linear Regression model on the Training set"
   ],
   "metadata": {
    "collapsed": false
   }
  },
  {
   "cell_type": "code",
   "execution_count": 39,
   "outputs": [
    {
     "data": {
      "text/plain": "LinearRegression()"
     },
     "execution_count": 39,
     "metadata": {},
     "output_type": "execute_result"
    }
   ],
   "source": [
    "from sklearn.linear_model import LinearRegression\n",
    "regressor = LinearRegression()\n",
    "regressor.fit(X_train, y_train)"
   ],
   "metadata": {
    "collapsed": false,
    "pycharm": {
     "name": "#%%\n"
    }
   }
  },
  {
   "cell_type": "markdown",
   "source": [
    "### Predicting the Test set results"
   ],
   "metadata": {
    "collapsed": false
   }
  },
  {
   "cell_type": "code",
   "execution_count": 40,
   "outputs": [],
   "source": [
    "y_pred = regressor.predict(X_test)\n",
    "#np.set_printoptions(precision=2)"
   ],
   "metadata": {
    "collapsed": false,
    "pycharm": {
     "name": "#%%\n"
    }
   }
  },
  {
   "cell_type": "markdown",
   "source": [
    "### Evaluating the Model Performance"
   ],
   "metadata": {
    "collapsed": false
   }
  },
  {
   "cell_type": "code",
   "execution_count": 41,
   "outputs": [
    {
     "data": {
      "text/plain": "0.07857580513623186"
     },
     "execution_count": 41,
     "metadata": {},
     "output_type": "execute_result"
    }
   ],
   "source": [
    "from sklearn.metrics import r2_score\n",
    "r2_score(y_test, y_pred)"
   ],
   "metadata": {
    "collapsed": false,
    "pycharm": {
     "name": "#%%\n"
    }
   }
  },
  {
   "cell_type": "code",
   "execution_count": null,
   "outputs": [],
   "source": [],
   "metadata": {
    "collapsed": false,
    "pycharm": {
     "name": "#%%\n"
    }
   }
  }
 ],
 "metadata": {
  "kernelspec": {
   "display_name": "Python 3",
   "language": "python",
   "name": "python3"
  },
  "language_info": {
   "codemirror_mode": {
    "name": "ipython",
    "version": 2
   },
   "file_extension": ".py",
   "mimetype": "text/x-python",
   "name": "python",
   "nbconvert_exporter": "python",
   "pygments_lexer": "ipython2",
   "version": "2.7.6"
  }
 },
 "nbformat": 4,
 "nbformat_minor": 0
}
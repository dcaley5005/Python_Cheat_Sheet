{
 "cells": [
  {
   "cell_type": "markdown",
   "metadata": {
    "collapsed": true
   },
   "source": [
    "# Data Science Toolbox"
   ]
  },
  {
   "cell_type": "markdown",
   "source": [
    "## Functions"
   ],
   "metadata": {
    "collapsed": false
   }
  },
  {
   "cell_type": "code",
   "execution_count": 7,
   "outputs": [
    {
     "name": "stdout",
     "output_type": "stream",
     "text": [
      "(4.5, 45.0)\n"
     ]
    }
   ],
   "source": [
    "def mean2(*x):\n",
    "# returns the mean of all numbers\n",
    "    total_sum = 0\n",
    "    n = len(x)\n",
    "    for i in x:\n",
    "        total_sum = total_sum + i\n",
    "    return total_sum / n\n",
    "\n",
    "print((mean2(4, 5), mean2(40, 45, 50)))"
   ],
   "metadata": {
    "collapsed": false
   }
  },
  {
   "cell_type": "code",
   "execution_count": 8,
   "outputs": [
    {
     "data": {
      "text/plain": "18.333333333333332"
     },
     "execution_count": 8,
     "metadata": {},
     "output_type": "execute_result"
    }
   ],
   "source": [
    "def celsius(x):\n",
    "    y = (x - 32) * 5/9\n",
    "    return y\n",
    "\n",
    "celsius(65)"
   ],
   "metadata": {
    "collapsed": false
   }
  },
  {
   "cell_type": "code",
   "execution_count": 9,
   "outputs": [
    {
     "data": {
      "text/plain": "670.0"
     },
     "execution_count": 9,
     "metadata": {},
     "output_type": "execute_result"
    }
   ],
   "source": [
    "def net_price(full_price, discount, coupon):\n",
    "## Return the final price paid after discount (float < 0.5) and coupon (int < 40)\n",
    "    discount_diff = 1 - discount\n",
    "    discounted = full_price * discount_diff\n",
    "    final_price = discounted - coupon\n",
    "    return final_price\n",
    "\n",
    "net_price(900, 0.20, 50)"
   ],
   "metadata": {
    "collapsed": false
   }
  },
  {
   "cell_type": "code",
   "execution_count": 11,
   "outputs": [
    {
     "data": {
      "text/plain": "230.0"
     },
     "execution_count": 11,
     "metadata": {},
     "output_type": "execute_result"
    }
   ],
   "source": [
    "def money_off(full_price, discount, coupon):\n",
    "## returns the total discounts from the sale price\n",
    "    discounted = full_price * discount\n",
    "    total_discounts = discounted + coupon\n",
    "    return total_discounts\n",
    "\n",
    "money_off(900, 0.20, 50)"
   ],
   "metadata": {
    "collapsed": false
   }
  },
  {
   "cell_type": "code",
   "execution_count": 14,
   "outputs": [
    {
     "name": "stdout",
     "output_type": "stream",
     "text": [
      "[0, 0, 2, 1]\n"
     ]
    }
   ],
   "source": [
    "x = ['cry', 'myth', 'aqua', 'ciao']\n",
    "n_vowel = map(lambda w: w.count('a'), x)\n",
    "print(list(n_vowel))"
   ],
   "metadata": {
    "collapsed": false
   }
  },
  {
   "cell_type": "code",
   "execution_count": 17,
   "outputs": [
    {
     "name": "stdout",
     "output_type": "stream",
     "text": [
      "s can not be a string\n",
      "None\n",
      "(25, 20)\n"
     ]
    }
   ],
   "source": [
    "def square(s):\n",
    "### Return area & perimeter of a square\n",
    "    try:\n",
    "        a = s * s\n",
    "        p = 4 * s\n",
    "        return a, p\n",
    "    except TypeError:\n",
    "        print('s can not be a string')\n",
    "\n",
    "print(square('5'))\n",
    "print(square(5))"
   ],
   "metadata": {
    "collapsed": false
   }
  },
  {
   "cell_type": "code",
   "execution_count": 20,
   "outputs": [
    {
     "name": "stdout",
     "output_type": "stream",
     "text": [
      "15\n",
      "59.0\n"
     ]
    }
   ],
   "source": [
    "temp = 15\n",
    "\n",
    "def convert_temp(x):\n",
    "    ### Converts the temperature from Celsius to Farenheit\n",
    "    global temp\n",
    "    temp = (x * 1.8) + 32\n",
    "\n",
    "print(temp)\n",
    "convert_temp(temp)\n",
    "print(temp)"
   ],
   "metadata": {
    "collapsed": false
   }
  }
 ],
 "metadata": {
  "kernelspec": {
   "display_name": "Python 3",
   "language": "python",
   "name": "python3"
  },
  "language_info": {
   "codemirror_mode": {
    "name": "ipython",
    "version": 2
   },
   "file_extension": ".py",
   "mimetype": "text/x-python",
   "name": "python",
   "nbconvert_exporter": "python",
   "pygments_lexer": "ipython2",
   "version": "2.7.6"
  }
 },
 "nbformat": 4,
 "nbformat_minor": 0
}
